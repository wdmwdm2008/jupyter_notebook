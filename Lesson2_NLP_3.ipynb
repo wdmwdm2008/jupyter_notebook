{
 "cells": [
  {
   "cell_type": "code",
   "execution_count": 6,
   "metadata": {},
   "outputs": [],
   "source": [
    "from sklearn.datasets import load_boston"
   ]
  },
  {
   "cell_type": "code",
   "execution_count": 7,
   "metadata": {},
   "outputs": [],
   "source": [
    "data = load_boston()"
   ]
  },
  {
   "cell_type": "code",
   "execution_count": 5,
   "metadata": {},
   "outputs": [
    {
     "data": {
      "text/plain": [
       "506"
      ]
     },
     "execution_count": 5,
     "metadata": {},
     "output_type": "execute_result"
    }
   ],
   "source": [
    "len(x[:,5])"
   ]
  },
  {
   "cell_type": "code",
   "execution_count": 55,
   "metadata": {},
   "outputs": [
    {
     "data": {
      "text/plain": [
       "506"
      ]
     },
     "execution_count": 55,
     "metadata": {},
     "output_type": "execute_result"
    }
   ],
   "source": [
    "len(y)"
   ]
  },
  {
   "cell_type": "code",
   "execution_count": 19,
   "metadata": {},
   "outputs": [
    {
     "data": {
      "text/plain": [
       "array([6.320e-03, 1.800e+01, 2.310e+00, 0.000e+00, 5.380e-01, 6.575e+00,\n",
       "       6.520e+01, 4.090e+00, 1.000e+00, 2.960e+02, 1.530e+01, 3.969e+02,\n",
       "       4.980e+00])"
      ]
     },
     "execution_count": 19,
     "metadata": {},
     "output_type": "execute_result"
    }
   ],
   "source": [
    "x[0]"
   ]
  },
  {
   "cell_type": "code",
   "execution_count": 15,
   "metadata": {},
   "outputs": [
    {
     "data": {
      "text/plain": [
       "24.0"
      ]
     },
     "execution_count": 15,
     "metadata": {},
     "output_type": "execute_result"
    }
   ],
   "source": [
    "y[0]"
   ]
  },
  {
   "cell_type": "code",
   "execution_count": 4,
   "metadata": {},
   "outputs": [],
   "source": [
    "x, y = data['data'], data['target']"
   ]
  },
  {
   "cell_type": "code",
   "execution_count": 27,
   "metadata": {},
   "outputs": [],
   "source": [
    "%matplotlib inline\n",
    "import matplotlib.pyplot as plt"
   ]
  },
  {
   "cell_type": "code",
   "execution_count": 30,
   "metadata": {},
   "outputs": [],
   "source": [
    "def draw_rm_and_price():\n",
    "    plt.scatter(x[:, 5], y)"
   ]
  },
  {
   "cell_type": "code",
   "execution_count": 31,
   "metadata": {},
   "outputs": [
    {
     "data": {
      "image/png": "[encoded data removed]",
      "text/plain": [
       "<Figure size 432x288 with 1 Axes>"
      ]
     },
     "metadata": {
      "needs_background": "light"
     },
     "output_type": "display_data"
    }
   ],
   "source": [
    "draw_rm_and_price()"
   ]
  },
  {
   "cell_type": "code",
   "execution_count": 34,
   "metadata": {},
   "outputs": [],
   "source": [
    "import random "
   ]
  },
  {
   "cell_type": "code",
   "execution_count": 35,
   "metadata": {},
   "outputs": [],
   "source": [
    "def price(rm, k, b):\n",
    "    return k * rm + b"
   ]
  },
  {
   "cell_type": "code",
   "execution_count": 52,
   "metadata": {},
   "outputs": [
    {
     "data": {
      "text/plain": [
       "<matplotlib.collections.PathCollection at 0xd039e70>"
      ]
     },
     "execution_count": 52,
     "metadata": {},
     "output_type": "execute_result"
    },
    {
     "data": {
      "image/png": "[encoded data removed]",
      "text/plain": [
       "<Figure size 432x288 with 1 Axes>"
      ]
     },
     "metadata": {
      "needs_background": "light"
     },
     "output_type": "display_data"
    }
   ],
   "source": [
    "x_rm = x[:, 5]\n",
    "k = random.randint(-100, 100)\n",
    "b = random.randint(-100, 100)\n",
    "draw_rm_and_price()\n",
    "price_by_random_k_and_b = [price(r, k, b) for r in x_rm]\n",
    "plt.scatter(x_rm, price_by_random_k_and_b)"
   ]
  },
  {
   "cell_type": "code",
   "execution_count": 54,
   "metadata": {},
   "outputs": [],
   "source": [
    "def loss(y, y_hat):\n",
    "    return sum((y_i - y_hat_i) ** 2 for y_i, y_hat_i in zip(list(y), list(y_hat))) / len(list(y))"
   ]
  },
  {
   "cell_type": "markdown",
   "metadata": {},
   "source": [
    "############# Method 1: Random k and b ###############################"
   ]
  },
  {
   "cell_type": "code",
   "execution_count": 125,
   "metadata": {},
   "outputs": [
    {
     "name": "stdout",
     "output_type": "stream",
     "text": [
      "When time is : 0, get best_k: 91.63354282374499 best_b: -49.314059626467134, and the loss is: 257452.30448791257\n",
      "When time is : 2, get best_k: 55.01001903412387 best_b: 29.74062640501728, and the loss is: 125638.50729211852\n",
      "When time is : 3, get best_k: 19.672603303690337 best_b: -53.07746108962388, and the loss is: 2405.038414457395\n",
      "When time is : 44, get best_k: -1.7549555610767698 best_b: 50.838159278652, and the loss is: 400.1410121549869\n",
      "When time is : 81, get best_k: 7.155159543755602 best_b: -18.649264117270548, and the loss is: 59.798112412652685\n",
      "When time is : 1177, get best_k: 5.363848714311544 best_b: -10.002823366656116, and the loss is: 51.864507178053685\n",
      "When time is : 1969, get best_k: 9.765895812689337 best_b: -39.98942026597388, and the loss is: 45.133574303512624\n"
     ]
    }
   ],
   "source": [
    "trying_times = 2000\n",
    "min_loss = float('inf')\n",
    "best_k, best_b = None, None\n",
    "\n",
    "for i in range(trying_times):\n",
    "    k = random.random() * 200 - 100\n",
    "    b = random.random() * 200 - 100\n",
    "    price_by_random_k_and_b = [price(r, k, b) for r in x_rm]\n",
    "\n",
    "    current_loss = loss(y, price_by_random_k_and_b)\n",
    "    \n",
    "    if current_loss < min_loss:\n",
    "        min_loss = current_loss\n",
    "        best_k, best_b = k, b\n",
    "        print('When time is : {}, get best_k: {} best_b: {}, and the loss is: {}'.format(i, best_k, best_b, min_loss))"
   ]
  },
  {
   "cell_type": "code",
   "execution_count": 123,
   "metadata": {},
   "outputs": [
    {
     "data": {
      "text/plain": [
       "0.9318193537804461"
      ]
     },
     "execution_count": 123,
     "metadata": {},
     "output_type": "execute_result"
    }
   ],
   "source": [
    "random.random()"
   ]
  },
  {
   "cell_type": "markdown",
   "metadata": {},
   "source": [
    "\n",
    "########################### Method 2: Direction Adjusting #########################################\n"
   ]
  },
  {
   "cell_type": "code",
   "execution_count": 159,
   "metadata": {},
   "outputs": [
    {
     "name": "stdout",
     "output_type": "stream",
     "text": [
      "when time is 0, get best_k: -58.13299810969884 best_b: -32.97514915806378, and the loss is: 179387.76490226283\n",
      "when time is 10, get best_k: -57.33299810969883 best_b: -33.77514915806379, and the loss is: 175794.46812484603\n",
      "when time is 20, get best_k: -56.33299810969881 best_b: -34.775149158063805, and the loss is: 171354.00325355754\n",
      "when time is 30, get best_k: -55.3329981096988 best_b: -35.77514915806382, and the loss is: 166970.3784939178\n",
      "when time is 40, get best_k: -54.332998109698785 best_b: -36.77514915806383, and the loss is: 162643.59384592608\n",
      "when time is 50, get best_k: -53.33299810969877 best_b: -37.77514915806385, and the loss is: 158373.64930958298\n",
      "when time is 60, get best_k: -52.33299810969876 best_b: -38.77514915806386, and the loss is: 154160.54488488773\n",
      "when time is 70, get best_k: -51.33299810969874 best_b: -39.775149158063876, and the loss is: 150004.2805718408\n",
      "when time is 80, get best_k: -50.33299810969873 best_b: -40.77514915806389, and the loss is: 145904.8563704419\n",
      "when time is 90, get best_k: -49.332998109698714 best_b: -41.775149158063904, and the loss is: 141862.27228069163\n",
      "when time is 100, get best_k: -48.3329981096987 best_b: -42.77514915806392, and the loss is: 137876.52830258937\n",
      "when time is 110, get best_k: -47.332998109698686 best_b: -43.77514915806393, and the loss is: 133947.6244361352\n",
      "when time is 120, get best_k: -46.33299810969867 best_b: -44.77514915806395, and the loss is: 130075.56068132931\n",
      "when time is 130, get best_k: -45.33299810969866 best_b: -45.77514915806396, and the loss is: 126260.33703817164\n",
      "when time is 140, get best_k: -44.33299810969864 best_b: -46.775149158063975, and the loss is: 122501.95350666228\n",
      "when time is 150, get best_k: -43.33299810969863 best_b: -47.77514915806399, and the loss is: 118800.4100868013\n",
      "when time is 160, get best_k: -42.332998109698615 best_b: -48.775149158064, and the loss is: 115155.7067785883\n",
      "when time is 170, get best_k: -41.3329981096986 best_b: -49.77514915806402, and the loss is: 111567.84358202355\n",
      "when time is 180, get best_k: -40.332998109698586 best_b: -50.77514915806403, and the loss is: 108036.82049710712\n",
      "when time is 190, get best_k: -39.33299810969857 best_b: -51.775149158064046, and the loss is: 104562.63752383878\n",
      "when time is 200, get best_k: -38.33299810969856 best_b: -52.77514915806406, and the loss is: 101145.29466221866\n",
      "when time is 210, get best_k: -37.33299810969854 best_b: -53.775149158064075, and the loss is: 97784.79191224695\n",
      "when time is 220, get best_k: -36.33299810969853 best_b: -54.77514915806409, and the loss is: 94481.12927392333\n",
      "when time is 230, get best_k: -35.332998109698515 best_b: -55.7751491580641, and the loss is: 91234.30674724799\n",
      "when time is 240, get best_k: -34.3329981096985 best_b: -56.77514915806412, and the loss is: 88044.32433222083\n",
      "when time is 250, get best_k: -33.33299810969849 best_b: -57.77514915806413, and the loss is: 84911.18202884187\n",
      "when time is 260, get best_k: -32.33299810969847 best_b: -58.775149158064146, and the loss is: 81834.8798371111\n",
      "when time is 270, get best_k: -31.332998109698458 best_b: -59.77514915806416, and the loss is: 78815.41775702866\n",
      "when time is 280, get best_k: -30.332998109698444 best_b: -60.775149158064174, and the loss is: 75852.79578859435\n",
      "when time is 290, get best_k: -29.33299810969843 best_b: -61.77514915806419, and the loss is: 72947.01393180832\n",
      "when time is 300, get best_k: -28.332998109698416 best_b: -62.7751491580642, and the loss is: 70098.07218667059\n",
      "when time is 310, get best_k: -27.3329981096984 best_b: -63.77514915806422, and the loss is: 67305.97055318096\n",
      "when time is 320, get best_k: -26.332998109698387 best_b: -64.77514915806418, and the loss is: 64570.70903133962\n",
      "when time is 330, get best_k: -25.332998109698373 best_b: -65.77514915806412, and the loss is: 61892.2876211463\n",
      "when time is 340, get best_k: -24.33299810969836 best_b: -66.77514915806407, and the loss is: 59270.70632260146\n",
      "when time is 350, get best_k: -23.332998109698345 best_b: -67.77514915806401, and the loss is: 56705.965135704726\n",
      "when time is 360, get best_k: -22.33299810969833 best_b: -68.77514915806395, and the loss is: 54198.06406045616\n",
      "when time is 370, get best_k: -21.332998109698316 best_b: -69.7751491580639, and the loss is: 51747.003096855966\n",
      "when time is 380, get best_k: -20.332998109698302 best_b: -70.77514915806384, and the loss is: 49352.78224490388\n",
      "when time is 390, get best_k: -19.332998109698288 best_b: -71.77514915806378, and the loss is: 47015.40150460003\n",
      "when time is 400, get best_k: -18.332998109698273 best_b: -72.77514915806373, and the loss is: 44734.86087594444\n",
      "when time is 410, get best_k: -17.33299810969826 best_b: -73.77514915806367, and the loss is: 42511.16035893699\n",
      "when time is 420, get best_k: -16.332998109698245 best_b: -74.77514915806361, and the loss is: 40344.29995357789\n",
      "when time is 430, get best_k: -15.332998109698243 best_b: -75.77514915806356, and the loss is: 38234.27965986696\n",
      "when time is 440, get best_k: -14.332998109698247 best_b: -76.7751491580635, and the loss is: 36181.09947780425\n",
      "when time is 450, get best_k: -13.33299810969825 best_b: -77.77514915806344, and the loss is: 34184.75940738982\n",
      "when time is 460, get best_k: -12.332998109698254 best_b: -78.77514915806339, and the loss is: 32245.259448623638\n",
      "when time is 470, get best_k: -11.332998109698257 best_b: -79.77514915806333, and the loss is: 30362.599601505623\n",
      "when time is 480, get best_k: -10.332998109698261 best_b: -80.77514915806327, and the loss is: 28536.77986603585\n",
      "when time is 490, get best_k: -9.332998109698265 best_b: -81.77514915806321, and the loss is: 26767.800242214296\n",
      "when time is 500, get best_k: -8.332998109698268 best_b: -82.77514915806316, and the loss is: 25055.660730040963\n",
      "when time is 510, get best_k: -7.332998109698272 best_b: -83.7751491580631, and the loss is: 23400.361329515817\n",
      "when time is 520, get best_k: -6.332998109698275 best_b: -84.77514915806304, and the loss is: 21801.90204063891\n",
      "when time is 530, get best_k: -5.332998109698279 best_b: -85.77514915806299, and the loss is: 20260.282863410263\n",
      "when time is 540, get best_k: -4.332998109698282 best_b: -86.77514915806293, and the loss is: 18775.50379782979\n",
      "when time is 550, get best_k: -3.332998109698283 best_b: -87.77514915806287, and the loss is: 17347.56484389757\n",
      "when time is 560, get best_k: -2.332998109698282 best_b: -88.77514915806282, and the loss is: 15976.46600161357\n",
      "when time is 570, get best_k: -1.332998109698281 best_b: -89.77514915806276, and the loss is: 14662.207270977795\n",
      "when time is 580, get best_k: -0.3329981096982809 best_b: -90.7751491580627, and the loss is: 13404.788651990226\n",
      "when time is 590, get best_k: 0.6670018903017191 best_b: -91.77514915806265, and the loss is: 12204.21014465087\n",
      "when time is 600, get best_k: 1.6670018903017196 best_b: -92.77514915806259, and the loss is: 11060.471748959755\n",
      "when time is 610, get best_k: 2.6670018903017203 best_b: -93.77514915806253, and the loss is: 9973.573464916846\n",
      "when time is 620, get best_k: 3.667001890301721 best_b: -94.77514915806248, and the loss is: 8943.515292522176\n",
      "when time is 630, get best_k: 4.667001890301719 best_b: -95.77514915806242, and the loss is: 7970.297231775729\n",
      "when time is 640, get best_k: 5.667001890301716 best_b: -96.77514915806236, and the loss is: 7053.9192826775015\n",
      "when time is 650, get best_k: 6.667001890301712 best_b: -97.7751491580623, and the loss is: 6194.38144522749\n",
      "when time is 660, get best_k: 7.667001890301709 best_b: -98.77514915806225, and the loss is: 5391.683719425711\n",
      "when time is 670, get best_k: 8.667001890301705 best_b: -99.77514915806219, and the loss is: 4645.826105272152\n",
      "when time is 680, get best_k: 9.667001890301702 best_b: -100.77514915806213, and the loss is: 3956.8086027668137\n",
      "when time is 690, get best_k: 10.667001890301698 best_b: -101.77514915806208, and the loss is: 3324.6312119097015\n",
      "when time is 700, get best_k: 11.667001890301695 best_b: -102.77514915806202, and the loss is: 2749.2939327008044\n",
      "when time is 710, get best_k: 12.667001890301691 best_b: -103.77514915806196, and the loss is: 2230.7967651401364\n",
      "when time is 720, get best_k: 13.667001890301687 best_b: -104.77514915806191, and the loss is: 1769.1397092276852\n",
      "when time is 730, get best_k: 14.667001890301684 best_b: -105.77514915806185, and the loss is: 1364.3227649634568\n",
      "when time is 740, get best_k: 15.66700189030168 best_b: -106.7751491580618, and the loss is: 1016.3459323474525\n",
      "when time is 750, get best_k: 16.667001890301687 best_b: -107.77514915806174, and the loss is: 725.2092113796657\n",
      "when time is 760, get best_k: 17.6670018903017 best_b: -108.77514915806168, and the loss is: 490.9126020601004\n",
      "when time is 770, get best_k: 18.667001890301716 best_b: -109.77514915806162, and the loss is: 313.45610438876065\n",
      "when time is 780, get best_k: 19.66700189030173 best_b: -110.77514915806157, and the loss is: 192.83971836564427\n",
      "when time is 790, get best_k: 20.667001890301744 best_b: -111.77514915806151, and the loss is: 129.06344399075294\n"
     ]
    }
   ],
   "source": [
    "directions = [\n",
    "    (+1, +1),\n",
    "    (+1, -1),\n",
    "    (-1, +1),\n",
    "    (-1, -1),\n",
    "]\n",
    "trying_times2 = 1000\n",
    "best_value = float('inf')\n",
    "best_k = random.random() * 200 - 100\n",
    "best_b = random.random() * 200 - 100\n",
    "next_direction = random.choice(directions)\n",
    "scalar = 0.1\n",
    "\n",
    "for i in range(trying_times2):\n",
    "    k_direction, b_direction = next_direction\n",
    "    current_k = best_k + k_direction * scalar\n",
    "    current_b = best_b + b_direction * scalar\n",
    "    x_rm = x[:, 5]\n",
    "    y_k_and_b = loss(y, [price(rm, current_k, current_b) for rm in x_rm])\n",
    "    \n",
    "    if y_k_and_b < best_value:\n",
    "        best_value = y_k_and_b\n",
    "        best_k, best_b = current_k, current_b\n",
    "        if i % 10 == 0:\n",
    "            print('when time is {}, get best_k: {} best_b: {}, and the loss is: {}'.format(i, best_k, best_b, best_value))\n",
    "    else:\n",
    "        next_direction = random.choice(directions)"
   ]
  },
  {
   "cell_type": "code",
   "execution_count": 149,
   "metadata": {},
   "outputs": [
    {
     "data": {
      "text/plain": [
       "0.4274786077426411"
      ]
     },
     "execution_count": 149,
     "metadata": {},
     "output_type": "execute_result"
    }
   ],
   "source": [
    "random.random()"
   ]
  },
  {
   "cell_type": "markdown",
   "metadata": {},
   "source": [
    "\n",
    "####################################################\n"
   ]
  },
  {
   "cell_type": "code",
   "execution_count": 12,
   "metadata": {},
   "outputs": [
    {
     "name": "stdout",
     "output_type": "stream",
     "text": [
      "When time is : 0, get best_k: -99.04123482834095 best_b: -99.19545650280594, and the loss is: 744.1662129948902\n",
      "When time is : 50, get best_k: -95.89891763466511 best_b: -98.69545650280568, and the loss is: 723.9178983035488\n",
      "When time is : 100, get best_k: -92.75660044098927 best_b: -98.19545650280543, and the loss is: 703.6695836122068\n",
      "When time is : 150, get best_k: -89.61428324731344 best_b: -97.69545650280517, and the loss is: 683.4212689208657\n",
      "When time is : 200, get best_k: -86.4719660536376 best_b: -97.19545650280492, and the loss is: 663.172954229522\n",
      "When time is : 250, get best_k: -83.32964885996176 best_b: -96.69545650280466, and the loss is: 642.9246395381801\n",
      "When time is : 300, get best_k: -80.18733166628593 best_b: -96.1954565028044, and the loss is: 622.6763248468384\n",
      "When time is : 350, get best_k: -77.04501447261009 best_b: -95.69545650280415, and the loss is: 602.4280101554954\n",
      "When time is : 400, get best_k: -73.90269727893426 best_b: -95.19545650280389, and the loss is: 582.1796954641544\n",
      "When time is : 450, get best_k: -70.76038008525842 best_b: -94.69545650280364, and the loss is: 561.9313807728112\n",
      "When time is : 500, get best_k: -67.61806289158258 best_b: -94.19545650280338, and the loss is: 541.6830660814687\n",
      "When time is : 550, get best_k: -64.47574569790675 best_b: -93.69545650280313, and the loss is: 521.4347513901273\n",
      "When time is : 600, get best_k: -61.33342850423091 best_b: -93.19545650280287, and the loss is: 501.1864366987851\n",
      "When time is : 650, get best_k: -58.19111131055507 best_b: -92.69545650280261, and the loss is: 480.93812200744253\n",
      "When time is : 700, get best_k: -55.048794116879236 best_b: -92.19545650280236, and the loss is: 460.68980731610077\n",
      "When time is : 750, get best_k: -51.9064769232034 best_b: -91.6954565028021, and the loss is: 440.4414926247584\n",
      "When time is : 800, get best_k: -48.76415972952756 best_b: -91.19545650280185, and the loss is: 420.19317793341656\n",
      "When time is : 850, get best_k: -45.62184253585173 best_b: -90.69545650280159, and the loss is: 399.94486324207475\n",
      "When time is : 900, get best_k: -42.47952534217589 best_b: -90.19545650280133, and the loss is: 379.69654855073185\n",
      "When time is : 950, get best_k: -39.33720814850005 best_b: -89.69545650280108, and the loss is: 359.4482338593897\n",
      "When time is : 1000, get best_k: -36.19489095482422 best_b: -89.19545650280082, and the loss is: 339.1999191680476\n",
      "When time is : 1050, get best_k: -33.05257376114838 best_b: -88.69545650280057, and the loss is: 318.9516044767058\n",
      "When time is : 1100, get best_k: -29.910256567472544 best_b: -88.19545650280031, and the loss is: 298.7032897853632\n",
      "When time is : 1150, get best_k: -26.767939373796708 best_b: -87.69545650280006, and the loss is: 278.45497509402094\n",
      "When time is : 1200, get best_k: -23.62562218012087 best_b: -87.1954565027998, and the loss is: 258.206660402679\n",
      "When time is : 1250, get best_k: -20.483304986445035 best_b: -86.69545650279954, and the loss is: 237.95834571133696\n",
      "When time is : 1300, get best_k: -17.340987792769198 best_b: -86.19545650279929, and the loss is: 217.71003101999466\n",
      "When time is : 1350, get best_k: -14.19867059909331 best_b: -85.69545650279903, and the loss is: 197.46171632865216\n",
      "When time is : 1400, get best_k: -11.056353405417385 best_b: -85.19545650279878, and the loss is: 177.21340163730952\n",
      "When time is : 1450, get best_k: -7.914036211741461 best_b: -84.69545650279852, and the loss is: 156.9650869459667\n",
      "When time is : 1500, get best_k: -4.77171901806558 best_b: -84.19545650279827, and the loss is: 136.71677225462443\n",
      "When time is : 1550, get best_k: -1.6294018243896837 best_b: -83.69545650279801, and the loss is: 116.46845756328183\n",
      "When time is : 1600, get best_k: 1.5129153692862085 best_b: -83.19545650279775, and the loss is: 96.22014287193925\n",
      "When time is : 1650, get best_k: 4.655232562962105 best_b: -82.6954565027975, and the loss is: 75.97182818059687\n",
      "When time is : 1700, get best_k: 7.797549756637986 best_b: -82.19545650279724, and the loss is: 55.723513489254394\n",
      "When time is : 1750, get best_k: 10.939866950313908 best_b: -81.69545650279699, and the loss is: 35.47519879791161\n",
      "When time is : 1800, get best_k: 14.04899402541274 best_b: -81.19984385457558, and the loss is: 15.65869990379409\n",
      "When time is : 1850, get best_k: 16.122611574819857 best_b: -80.85877666089964, and the loss is: 5.935753383394335\n",
      "When time is : 1900, get best_k: 16.394141416717087 best_b: -80.79102962532657, and the loss is: 5.674387562135662\n",
      "When time is : 1950, get best_k: 16.400906120274428 best_b: -80.76458693757937, and the loss is: 5.6728227089410375\n"
     ]
    }
   ],
   "source": [
    "from sklearn.datasets import load_boston\n",
    "import random\n",
    "\n",
    "data = load_boston()\n",
    "x, y = data['data'], data['target']\n",
    "x_rm = x[:, 5]\n",
    "\n",
    "trying_times = 2000\n",
    "learning_rate = 0.01\n",
    "min_loss = float('inf')\n",
    "current_k = random.random() - 200 + 100\n",
    "current_b = random.random() - 200 + 100\n",
    "\n",
    "for i in range(trying_times):\n",
    "    y_hat = [price(rm, current_k, current_b) for rm in x_rm]\n",
    "#     current_loss = loss(y, y_hat)\n",
    "    current_loss = loss_one_order(y, y_hat)\n",
    "    if current_loss < min_loss: # performance became better\n",
    "        min_loss = current_loss\n",
    "        \n",
    "        if i % 50 == 0: \n",
    "            print('When time is : {}, get best_k: {} best_b: {}, and the loss is: {}'.format(i, current_k, current_b, min_loss))\n",
    "    current_k -= partial_k_one_order(x_rm, y, y_hat) * learning_rate\n",
    "    current_b -= partial_b_one_order(x_rm, y, y_hat) * learning_rate\n",
    "#     current_k -= partial_k(x_rm, y, y_hat) * learning_rate\n",
    "#     current_b -= partial_b(x_rm, y, y_hat) * learning_rate"
   ]
  },
  {
   "cell_type": "code",
   "execution_count": 8,
   "metadata": {},
   "outputs": [],
   "source": [
    "def price(rm, k, b):\n",
    "    return k * rm + b\n",
    "\n",
    "def loss(y, y_hat):\n",
    "    return sum([(y_i - y_hat_i) ** 2 for y_i, y_hat_i in zip(y, y_hat)])/len(y)\n",
    "\n",
    "def loss_one_order(y, y_hat):\n",
    "    return sum([abs(y_i - y_hat_i) for y_i, y_hat_i in zip(y, y_hat)])/len(y)\n",
    "\n",
    "def partial_k(x, y, y_hat):\n",
    "    return -2 * sum([(y_i - y_hat_i) * x_i for (y_i, y_hat_i, x_i) in zip(y, y_hat, x)]) / len(y)\n",
    "\n",
    "def partial_b(x, y, y_hat):\n",
    "    return -2 * sum([(y_i - y_hat_i) for (y_i, y_hat_i) in zip(y, y_hat)]) / len(y)\n",
    "\n",
    "def partial_k_one_order(x, y, y_hat):\n",
    "    n = len(y)\n",
    "    gradient = 0\n",
    "    for (x_i, y_i, y_hat_i) in zip(x, y, y_hat):\n",
    "        if y_i > y_hat_i:\n",
    "            gradient -= x_i\n",
    "        else:\n",
    "            gradient += x_i\n",
    "    return gradient / n\n",
    "\n",
    "def partial_b_one_order(x, y, y_hat):\n",
    "    n = len(y)\n",
    "    gradient = 0\n",
    "    for (y_i, y_hat_i) in zip(y, y_hat):\n",
    "        if y_i > y_hat_i:\n",
    "            gradient -= 1\n",
    "        else:\n",
    "            gradient += 1\n",
    "    return gradient / n\n",
    "\n",
    "# def partial_k(x, y, y_hat):\n",
    "#     n = len(y)\n",
    "\n",
    "#     gradient = 0\n",
    "    \n",
    "#     for x_i, y_i, y_hat_i in zip(list(x), list(y), list(y_hat)):\n",
    "#         gradient += (y_i - y_hat_i) * x_i\n",
    "    \n",
    "#     return -2 / n * gradient\n",
    "\n",
    "\n",
    "# def partial_b(x, y, y_hat):\n",
    "#     n = len(y)\n",
    "\n",
    "#     gradient = 0\n",
    "    \n",
    "#     for y_i, y_hat_i in zip(list(y), list(y_hat)):\n",
    "#         gradient += (y_i - y_hat_i)\n",
    "    \n",
    "#     return -2 / n * gradient"
   ]
  },
  {
   "cell_type": "code",
   "execution_count": 1,
   "metadata": {},
   "outputs": [
    {
     "name": "stdout",
     "output_type": "stream",
     "text": [
      "(1, 3)\n",
      "1\n",
      "(2, 4)\n",
      "2\n"
     ]
    }
   ],
   "source": [
    "test_x = [1,2]\n",
    "test_y = [3, 4]\n",
    "for i in zip(test_x, test_y):\n",
    "    print(i)\n",
    "    print(i[0])"
   ]
  },
  {
   "cell_type": "markdown",
   "metadata": {},
   "source": [
    "$$ \\frac{\\partial{loss}}{\\partial{k}}= \\frac{2}{n}(k_i*x_i  + b_i)x_i $$"
   ]
  },
  {
   "cell_type": "code",
   "execution_count": 4,
   "metadata": {},
   "outputs": [
    {
     "data": {
      "text/plain": [
       "2.5"
      ]
     },
     "execution_count": 4,
     "metadata": {},
     "output_type": "execute_result"
    }
   ],
   "source": [
    "abs(-2.5)"
   ]
  },
  {
   "cell_type": "code",
   "execution_count": null,
   "metadata": {},
   "outputs": [],
   "source": []
  }
 ],
 "metadata": {
  "kernelspec": {
   "display_name": "Python 3",
   "language": "python",
   "name": "python3"
  },
  "language_info": {
   "codemirror_mode": {
    "name": "ipython",
    "version": 3
   },
   "file_extension": ".py",
   "mimetype": "text/x-python",
   "name": "python",
   "nbconvert_exporter": "python",
   "pygments_lexer": "ipython3",
   "version": "3.7.1"
  }
 },
 "nbformat": 4,
 "nbformat_minor": 2
}
