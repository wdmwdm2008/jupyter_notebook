{
 "cells": [
  {
   "cell_type": "code",
   "execution_count": 2,
   "metadata": {},
   "outputs": [
    {
     "name": "stderr",
     "output_type": "stream",
     "text": [
      "C:\\Users\\WDMWDL\\Anaconda3\\lib\\site-packages\\bs4\\element.py:16: UserWarning: The soupsieve package is not installed. CSS selectors cannot be used.\n",
      "  'The soupsieve package is not installed. CSS selectors cannot be used.'\n"
     ]
    }
   ],
   "source": [
    "import re\n",
    "import requests\n",
    "import networkx as nx\n",
    "from bs4 import BeautifulSoup\n",
    "from collections import defaultdict"
   ]
  },
  {
   "cell_type": "code",
   "execution_count": 3,
   "metadata": {},
   "outputs": [],
   "source": [
    "filter_station_pattern = re.compile(r'\\w+')\n",
    "def getStations(trs):\n",
    "    res = []\n",
    "    title = trs[0].find_all('th')\n",
    "    if title[0].text.strip() == \"车站名称\":\n",
    "        index = 0\n",
    "    elif title[1].text.strip() == \"车站名称\" and len(trs[1].find_all('th')) != 0:\n",
    "        index = 0\n",
    "    else:\n",
    "        index = 1\n",
    "    for tr in trs[1:]:\n",
    "        tds = tr.find_all(\"td\")\n",
    "        if len(tds) > 1:\n",
    "            res += [filter_station_pattern.findall(tds[index].text)[0]]\n",
    "    return res"
   ]
  },
  {
   "cell_type": "code",
   "execution_count": 6,
   "metadata": {},
   "outputs": [
    {
     "name": "stderr",
     "output_type": "stream",
     "text": [
      "C:\\Users\\WDMWDL\\Anaconda3\\lib\\site-packages\\bs4\\__init__.py:177: UserWarning: You provided Unicode markup but also provided a value for from_encoding. Your from_encoding will be ignored.\n",
      "  warnings.warn(\"You provided Unicode markup but also provided a value for from_encoding. Your from_encoding will be ignored.\")\n"
     ]
    },
    {
     "ename": "KeyError",
     "evalue": "'T2航站楼站'",
     "output_type": "error",
     "traceback": [
      "\u001b[1;31m---------------------------------------------------------------------------\u001b[0m",
      "\u001b[1;31mKeyError\u001b[0m                                  Traceback (most recent call last)",
      "\u001b[1;32m<ipython-input-6-b713e7a6780d>\u001b[0m in \u001b[0;36m<module>\u001b[1;34m\u001b[0m\n\u001b[0;32m     52\u001b[0m \u001b[1;33m\u001b[0m\u001b[0m\n\u001b[0;32m     53\u001b[0m \u001b[0mstation_coordinate_location\u001b[0m\u001b[1;33m[\u001b[0m\u001b[1;34m'2号航站楼站'\u001b[0m\u001b[1;33m]\u001b[0m \u001b[1;33m=\u001b[0m \u001b[0mstation_coordinate_location\u001b[0m\u001b[1;33m.\u001b[0m\u001b[0mget\u001b[0m\u001b[1;33m(\u001b[0m\u001b[1;34m\"T2航站楼站\"\u001b[0m\u001b[1;33m)\u001b[0m\u001b[1;33m\u001b[0m\u001b[1;33m\u001b[0m\u001b[0m\n\u001b[1;32m---> 54\u001b[1;33m \u001b[0mstation_coordinate_location\u001b[0m\u001b[1;33m.\u001b[0m\u001b[0mpop\u001b[0m\u001b[1;33m(\u001b[0m\u001b[1;34m\"T2航站楼站\"\u001b[0m\u001b[1;33m)\u001b[0m\u001b[1;33m\u001b[0m\u001b[1;33m\u001b[0m\u001b[0m\n\u001b[0m\u001b[0;32m     55\u001b[0m \u001b[0mstation_coordinate_location\u001b[0m\u001b[1;33m[\u001b[0m\u001b[1;34m'3号航站楼站'\u001b[0m\u001b[1;33m]\u001b[0m \u001b[1;33m=\u001b[0m \u001b[0mstation_coordinate_location\u001b[0m\u001b[1;33m.\u001b[0m\u001b[0mget\u001b[0m\u001b[1;33m(\u001b[0m\u001b[1;34m\"T3航站楼站\"\u001b[0m\u001b[1;33m)\u001b[0m\u001b[1;33m\u001b[0m\u001b[1;33m\u001b[0m\u001b[0m\n\u001b[0;32m     56\u001b[0m \u001b[0mstation_coordinate_location\u001b[0m\u001b[1;33m.\u001b[0m\u001b[0mpop\u001b[0m\u001b[1;33m(\u001b[0m\u001b[1;34m\"T3航站楼站\"\u001b[0m\u001b[1;33m)\u001b[0m\u001b[1;33m\u001b[0m\u001b[1;33m\u001b[0m\u001b[0m\n",
      "\u001b[1;31mKeyError\u001b[0m: 'T2航站楼站'"
     ]
    }
   ],
   "source": [
    "common_link = \"https://baike.baidu.com\"\n",
    "url = 'https://baike.baidu.com/item/%E5%8C%97%E4%BA%AC%E5%9C%B0%E9%93%81/408485'\n",
    "\n",
    "# Getting url response\n",
    "headers = {\"User-Agent\": \"User-Agent:Mozilla/5.0 (compatible; MSIE 9.0; Windows NT 6.1; Trident/5.0;\"}\n",
    "response = requests.get(url, headers=headers, allow_redirects=False)\n",
    "# response.apparent_encoding  for getting 编码方式\n",
    "response.encoding = \"utf-8\"\n",
    "html = response.text\n",
    "\n",
    "# Getting all train routes\n",
    "soup = BeautifulSoup(html)\n",
    "caption = soup.find('caption')\n",
    "contents = caption.next_sibling.find_all('a')\n",
    "pattern = re.compile(r'href=\\\"(.*)\\\" ')\n",
    "temp = [''.join(pattern.findall(str(content))) for content in contents]\n",
    "router_links = sorted(list(set(temp)))\n",
    "\n",
    "#Getting all stations with extra invalid stations\n",
    "train_station_T = defaultdict(list)\n",
    "pattern1 = re.compile(r'\\w+站')\n",
    "for router_link in router_links:\n",
    "    respond_link = requests.get(common_link + router_link, headers=headers, allow_redirects=False)\n",
    "    respond_link.encoding = \"utf-8\"\n",
    "    soup1 = BeautifulSoup(respond_link.text)\n",
    "    for a in soup1.find_all(\"caption\"):\n",
    "        if re.findall(\"车站列表\", a.text):\n",
    "            find_station_list = a\n",
    "            break\n",
    "        elif re.findall(\"车站信息\", a.text):\n",
    "            find_station_list = a\n",
    "    next_siblings = find_station_list.next_sibling.find_all(\"tr\")\n",
    "    stations = getStations(next_siblings)\n",
    "    train_station_T[find_station_list.text] = stations\n",
    "\n",
    "#################################北京地铁站坐标#################################\n",
    "\n",
    "coordinate_location_url = \"http://ifamily.wang/2018/06/21/2018-06-20/\"\n",
    "res_coordinate_location = requests.get(coordinate_location_url)\n",
    "\n",
    "html_coordinate_location = res_coordinate_location.text\n",
    "res_coordinate_location.encoding = \"utf-8\"\n",
    "soup = BeautifulSoup(html_coordinate_location, from_encoding=\"utf8\")\n",
    "station_coordinate_location = defaultdict(list)\n",
    "station_name_pattern = re.compile(r'\\w+')\n",
    "for tr in soup.find_all('tr')[1:]:\n",
    "    tds = tr.find_all(\"td\")\n",
    "    name = station_name_pattern.findall(tds[1].text)[0]\n",
    "    if name[-1] == \"站\":\n",
    "        name = name[:-1]\n",
    "    station_coordinate_location[name + \"站\"] = (float(tds[-2].text), float(tds[-1].text))\n",
    "\n",
    "station_coordinate_location['2号航站楼站'] = station_coordinate_location.get(\"T2航站楼站\")\n",
    "station_coordinate_location.pop(\"T2航站楼站\")\n",
    "station_coordinate_location['3号航站楼站'] = station_coordinate_location.get(\"T3航站楼站\")\n",
    "station_coordinate_location.pop(\"T3航站楼站\")\n",
    "\n",
    "#################################Matching all train stations with station coordinate #################################\n",
    "\n",
    "station_coordinate_locationTT = {}\n",
    "station_connection = defaultdict(list)\n",
    "\n",
    "for key, value in station_coordinate_location.items():\n",
    "    if value != []:\n",
    "        station_coordinate_locationTT[key] = value\n",
    "\n",
    "for key, values in train_station_T.items():\n",
    "    for value in values:\n",
    "        if station_coordinate_locationTT.get(value) == None:\n",
    "            print(value)\n",
    "            train_station_T[key].remove(value)\n",
    "\n",
    "for key, values in train_station_T.items():\n",
    "    for index, value in enumerate(values[:-1]):\n",
    "        station_connection[value].append(values[index + 1])\n",
    "        station_connection[values[index + 1]].append(value)\n",
    "\n",
    "################################# Ploting train staions and their edges #################################\n",
    "station_location2 = nx.Graph(station_connection)\n",
    "nx.draw(station_location2, station_coordinate_locationTT, with_labels=False, node_size=10)"
   ]
  },
  {
   "cell_type": "code",
   "execution_count": 21,
   "metadata": {},
   "outputs": [],
   "source": [
    "def geo_distance(origin, destination):\n",
    "    \"\"\"\n",
    "    Calculate the Haversine distance.\n",
    "\n",
    "    Parameters\n",
    "    ----------\n",
    "    origin : tuple of float\n",
    "        (lat, long)\n",
    "    destination : tuple of float\n",
    "        (lat, long)\n",
    "\n",
    "    Returns\n",
    "    -------\n",
    "    distance_in_km : float\n",
    "\n",
    "    Examples\n",
    "    --------\n",
    "    >>> origin = (48.1372, 11.5756)  # Munich\n",
    "    >>> destination = (52.5186, 13.4083)  # Berlin\n",
    "    >>> round(distance(origin, destination), 1)\n",
    "    504.2\n",
    "    \"\"\"\n",
    "    lat1, lon1 = origin\n",
    "    lat2, lon2 = destination\n",
    "    radius = 6371  # km\n",
    "\n",
    "    dlat = math.radians(lat2 - lat1)\n",
    "    dlon = math.radians(lon2 - lon1)\n",
    "    a = (math.sin(dlat / 2) * math.sin(dlat / 2) +\n",
    "         math.cos(math.radians(lat1)) * math.cos(math.radians(lat2)) *\n",
    "         math.sin(dlon / 2) * math.sin(dlon / 2))\n",
    "    c = 2 * math.atan2(math.sqrt(a), math.sqrt(1 - a))\n",
    "    d = radius * c\n",
    "\n",
    "    return d\n",
    "\n",
    "\n",
    "def bfs(graph, start):\n",
    "    visited= [start]\n",
    "    seen = set()\n",
    "    while visited:\n",
    "        frontier = visited.pop()\n",
    "        if frontier in seen:\n",
    "            continue\n",
    "        for successor in graph[frontier]:\n",
    "            if successor in seen:\n",
    "                continue\n",
    "            visited = [successor] + visited   # 广义优先搜素(用队列来进行)\n",
    "            # visited = visited + successor   # 深度优先搜素(用栈来进行)\n",
    "        seen.add(frontier)\n",
    "    return seen\n",
    "\n",
    "\n",
    "def search(start, destination, graph, sort_candidate):\n",
    "    pathes = [[start]]\n",
    "    visited = set()\n",
    "    while pathes:\n",
    "        path = pathes.pop(0)\n",
    "        frontier = path[-1]\n",
    "        if frontier in visited:\n",
    "            continue\n",
    "        for city in graph[frontier]:\n",
    "            if city in path: continue\n",
    "            new_path = path +[city]\n",
    "            pathes.append(new_path)\n",
    "            if city == destination:\n",
    "                print(new_path)\n",
    "                return new_path\n",
    "        visited.add(frontier)\n",
    "        pathes = sort_candidate(pathes)  # sort function for controlling serarch strategy\n",
    "\n",
    "\n",
    "def get_geo_distance(origin, destination):\n",
    "    return geo_distance(station_coordinate_locationTT[origin], station_coordinate_locationTT[destination])\n",
    "\n",
    "\n",
    "def get_path_distance(path):\n",
    "    distance = 0\n",
    "    for i, station in path[:-1]:\n",
    "        distance += get_geo_distance(station, path[i+1])\n",
    "    return distance\n",
    "\n",
    "\n",
    "def transfer_station_first(pathes):\n",
    "    return sorted(pathes, key=len)\n",
    "\n",
    "\n",
    "def transfer_as_much_as_possible(pathes):\n",
    "    return sorted(pathes, key=len, reverse=True)\n",
    "\n",
    "\n",
    "def shortest_path_first(pathes):\n",
    "    return sorted(pathes, key=get_path_distance)"
   ]
  },
  {
   "cell_type": "code",
   "execution_count": 20,
   "metadata": {},
   "outputs": [
    {
     "name": "stderr",
     "output_type": "stream",
     "text": [
      "C:\\Users\\WDMWDL\\Anaconda3\\lib\\site-packages\\networkx\\drawing\\nx_pylab.py:611: MatplotlibDeprecationWarning: isinstance(..., numbers.Number)\n",
      "  if cb.is_numlike(alpha):\n"
     ]
    },
    {
     "data": {
      "image/png": "[encoded data removed]",
      "text/plain": [
       "<Figure size 432x288 with 1 Axes>"
      ]
     },
     "metadata": {},
     "output_type": "display_data"
    }
   ],
   "source": [
    "#################################Matching all train stations with station coordinate #################################\n",
    "\n",
    "station_coordinate_locationTT = {}\n",
    "station_connection = defaultdict(list)\n",
    "\n",
    "for key, value in station_coordinate_location.items():\n",
    "    if value != []:\n",
    "        station_coordinate_locationTT[key] = value\n",
    "\n",
    "for key, values in train_station_T.items():\n",
    "    for value in values:\n",
    "        if station_coordinate_locationTT.get(value) == None:\n",
    "            train_station_T[key].remove(value)\n",
    "\n",
    "for key, values in train_station_T.items():\n",
    "    for index, value in enumerate(values[:-1]):\n",
    "        station_connection[value].append(values[index + 1])\n",
    "        station_connection[values[index + 1]].append(value)\n",
    "\n",
    "################################# Ploting train staions and their edges #################################\n",
    "station_location2 = nx.Graph(station_connection)\n",
    "nx.draw(station_location2, station_coordinate_locationTT, with_labels=False, node_size=10)"
   ]
  },
  {
   "cell_type": "code",
   "execution_count": 25,
   "metadata": {},
   "outputs": [
    {
     "name": "stdout",
     "output_type": "stream",
     "text": [
      "['天通苑站', '天通苑南站', '立水桥站', '北苑路北站', '大屯路东站', '惠新西街北口站', '惠新西街南口站', '芍药居站', '太阳宫站', '三元桥站', '3号航站楼站', '2号航站楼站']\n"
     ]
    },
    {
     "data": {
      "text/plain": [
       "['天通苑站',\n",
       " '天通苑南站',\n",
       " '立水桥站',\n",
       " '北苑路北站',\n",
       " '大屯路东站',\n",
       " '惠新西街北口站',\n",
       " '惠新西街南口站',\n",
       " '芍药居站',\n",
       " '太阳宫站',\n",
       " '三元桥站',\n",
       " '3号航站楼站',\n",
       " '2号航站楼站']"
      ]
     },
     "execution_count": 25,
     "metadata": {},
     "output_type": "execute_result"
    }
   ],
   "source": [
    "search('天通苑站', '2号航站楼站', station_connection, sort_candidate=transfer_station_first)"
   ]
  },
  {
   "cell_type": "markdown",
   "metadata": {},
   "source": [
    "\n",
    "##################梯度下降算法###################################\n"
   ]
  },
  {
   "cell_type": "code",
   "execution_count": null,
   "metadata": {},
   "outputs": [],
   "source": []
  }
 ],
 "metadata": {
  "kernelspec": {
   "display_name": "Python 3",
   "language": "python",
   "name": "python3"
  }
 },
 "nbformat": 4,
 "nbformat_minor": 2
}
