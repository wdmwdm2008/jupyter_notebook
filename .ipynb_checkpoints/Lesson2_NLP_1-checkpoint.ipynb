{
 "cells": [
  {
   "cell_type": "code",
   "execution_count": 102,
   "metadata": {},
   "outputs": [
    {
     "name": "stdout",
     "output_type": "stream",
     "text": [
      "['C:\\\\Users\\\\WDMWDL\\\\Anaconda3\\\\lib\\\\site-packages\\\\matplotlib']\n"
     ]
    }
   ],
   "source": [
    "import matplotlib\n",
    "print(matplotlib.__path__)"
   ]
  },
  {
   "cell_type": "code",
   "execution_count": 86,
   "metadata": {},
   "outputs": [],
   "source": [
    "coordination_source = \"\"\"\n",
    "{name:'兰州', geoCoord:[103.73, 36.03]},\n",
    "{name:'嘉峪关', geoCoord:[98.17, 39.47]},\n",
    "{name:'西宁', geoCoord:[101.74, 36.56]},\n",
    "{name:'成都', geoCoord:[104.06, 30.67]},\n",
    "{name:'石家庄', geoCoord:[114.48, 38.03]},\n",
    "{name:'拉萨', geoCoord:[102.73, 25.04]},\n",
    "{name:'贵阳', geoCoord:[106.71, 26.57]},\n",
    "{name:'武汉', geoCoord:[114.31, 30.52]},\n",
    "{name:'郑州', geoCoord:[113.65, 34.76]},\n",
    "{name:'济南', geoCoord:[117, 36.65]},\n",
    "{name:'南京', geoCoord:[118.78, 32.04]},\n",
    "{name:'合肥', geoCoord:[117.27, 31.86]},\n",
    "{name:'杭州', geoCoord:[120.19, 30.26]},\n",
    "{name:'南昌', geoCoord:[115.89, 28.68]},\n",
    "{name:'福州', geoCoord:[119.3, 26.08]},\n",
    "{name:'广州', geoCoord:[113.23, 23.16]},\n",
    "{name:'长沙', geoCoord:[113, 28.21]},\n",
    "//{name:'海口', geoCoord:[110.35, 20.02]},\n",
    "{name:'沈阳', geoCoord:[123.38, 41.8]},\n",
    "{name:'长春', geoCoord:[125.35, 43.88]},\n",
    "{name:'哈尔滨', geoCoord:[126.63, 45.75]},\n",
    "{name:'太原', geoCoord:[112.53, 37.87]},\n",
    "{name:'西安', geoCoord:[108.95, 34.27]},\n",
    "//{name:'台湾', geoCoord:[121.30, 25.03]},\n",
    "{name:'北京', geoCoord:[116.46, 39.92]},\n",
    "{name:'上海', geoCoord:[121.48, 31.22]},\n",
    "{name:'重庆', geoCoord:[106.54, 29.59]},\n",
    "{name:'天津', geoCoord:[117.2, 39.13]},\n",
    "{name:'呼和浩特', geoCoord:[111.65, 40.82]},\n",
    "{name:'南宁', geoCoord:[108.33, 22.84]},\n",
    "//{name:'西藏', geoCoord:[91.11, 29.97]},\n",
    "{name:'银川', geoCoord:[106.27, 38.47]},\n",
    "{name:'乌鲁木齐', geoCoord:[87.68, 43.77]},\n",
    "{name:'香港', geoCoord:[114.17, 22.28]},\n",
    "{name:'澳门', geoCoord:[113.54, 22.19]}\n",
    "\"\"\""
   ]
  },
  {
   "cell_type": "code",
   "execution_count": 40,
   "metadata": {},
   "outputs": [],
   "source": [
    "import re"
   ]
  },
  {
   "cell_type": "code",
   "execution_count": 89,
   "metadata": {},
   "outputs": [],
   "source": [
    "pattern = re.compile(r\"name:'(\\w+)', geoCoord:\\[(\\d+.\\d+), (\\d+.\\d+)\\]\")"
   ]
  },
  {
   "cell_type": "code",
   "execution_count": 90,
   "metadata": {},
   "outputs": [],
   "source": [
    "city_location = {city : (float(long), float(lat)) for city, long, lat in pattern.findall(coordination_source)}"
   ]
  },
  {
   "cell_type": "code",
   "execution_count": 91,
   "metadata": {},
   "outputs": [
    {
     "data": {
      "text/plain": [
       "{'兰州': (103.73, 36.03),\n",
       " '嘉峪关': (98.17, 39.47),\n",
       " '西宁': (101.74, 36.56),\n",
       " '成都': (104.06, 30.67),\n",
       " '石家庄': (114.48, 38.03),\n",
       " '拉萨': (102.73, 25.04),\n",
       " '贵阳': (106.71, 26.57),\n",
       " '武汉': (114.31, 30.52),\n",
       " '郑州': (113.65, 34.76),\n",
       " '济南': (117.0, 36.65),\n",
       " '南京': (118.78, 32.04),\n",
       " '合肥': (117.27, 31.86),\n",
       " '杭州': (120.19, 30.26),\n",
       " '南昌': (115.89, 28.68),\n",
       " '福州': (119.3, 26.08),\n",
       " '广州': (113.23, 23.16),\n",
       " '长沙': (113.0, 28.21),\n",
       " '海口': (110.35, 20.02),\n",
       " '沈阳': (123.38, 41.8),\n",
       " '长春': (125.35, 43.88),\n",
       " '哈尔滨': (126.63, 45.75),\n",
       " '太原': (112.53, 37.87),\n",
       " '西安': (108.95, 34.27),\n",
       " '台湾': (121.3, 25.03),\n",
       " '北京': (116.46, 39.92),\n",
       " '上海': (121.48, 31.22),\n",
       " '重庆': (106.54, 29.59),\n",
       " '天津': (117.2, 39.13),\n",
       " '呼和浩特': (111.65, 40.82),\n",
       " '南宁': (108.33, 22.84),\n",
       " '西藏': (91.11, 29.97),\n",
       " '银川': (106.27, 38.47),\n",
       " '乌鲁木齐': (87.68, 43.77),\n",
       " '香港': (114.17, 22.28),\n",
       " '澳门': (113.54, 22.19)}"
      ]
     },
     "execution_count": 91,
     "metadata": {},
     "output_type": "execute_result"
    }
   ],
   "source": [
    "city_location"
   ]
  },
  {
   "cell_type": "code",
   "execution_count": 92,
   "metadata": {},
   "outputs": [],
   "source": [
    "def geo_distance(origin, destination):\n",
    "    \"\"\"\n",
    "    Calculate the Haversine distance.\n",
    "\n",
    "    Parameters\n",
    "    ----------\n",
    "    origin : tuple of float\n",
    "        (lat, long)\n",
    "    destination : tuple of float\n",
    "        (lat, long)\n",
    "\n",
    "    Returns\n",
    "    -------\n",
    "    distance_in_km : float\n",
    "\n",
    "    Examples\n",
    "    --------\n",
    "    >>> origin = (48.1372, 11.5756)  # Munich\n",
    "    >>> destination = (52.5186, 13.4083)  # Berlin\n",
    "    >>> round(distance(origin, destination), 1)\n",
    "    504.2\n",
    "    \"\"\"\n",
    "    lat1, lon1 = origin\n",
    "    lat2, lon2 = destination\n",
    "    radius = 6371  # km\n",
    "\n",
    "    dlat = math.radians(lat2 - lat1)\n",
    "    dlon = math.radians(lon2 - lon1)\n",
    "    a = (math.sin(dlat / 2) * math.sin(dlat / 2) +\n",
    "         math.cos(math.radians(lat1)) * math.cos(math.radians(lat2)) *\n",
    "         math.sin(dlon / 2) * math.sin(dlon / 2))\n",
    "    c = 2 * math.atan2(math.sqrt(a), math.sqrt(1 - a))\n",
    "    d = radius * c\n",
    "\n",
    "    return d"
   ]
  },
  {
   "cell_type": "code",
   "execution_count": 93,
   "metadata": {},
   "outputs": [],
   "source": [
    "import math"
   ]
  },
  {
   "cell_type": "code",
   "execution_count": 94,
   "metadata": {},
   "outputs": [],
   "source": [
    "def get_geo_distance(origin, destination):\n",
    "    return geo_distance(city_location[origin],city_location[destination])"
   ]
  },
  {
   "cell_type": "code",
   "execution_count": 95,
   "metadata": {},
   "outputs": [
    {
     "data": {
      "text/plain": [
       "153.5185697155768"
      ]
     },
     "execution_count": 95,
     "metadata": {},
     "output_type": "execute_result"
    }
   ],
   "source": [
    "get_geo_distance(\"上海\", \"杭州\")"
   ]
  },
  {
   "cell_type": "code",
   "execution_count": 104,
   "metadata": {},
   "outputs": [],
   "source": [
    "import networkx as nx"
   ]
  },
  {
   "cell_type": "code",
   "execution_count": 109,
   "metadata": {},
   "outputs": [],
   "source": [
    "city_graph = nx.Graph()"
   ]
  },
  {
   "cell_type": "code",
   "execution_count": 110,
   "metadata": {},
   "outputs": [],
   "source": [
    "city_graph.add_nodes_from(list(city_location.keys()))"
   ]
  },
  {
   "cell_type": "code",
   "execution_count": 103,
   "metadata": {},
   "outputs": [],
   "source": [
    "%matplotlib inline"
   ]
  },
  {
   "cell_type": "code",
   "execution_count": 106,
   "metadata": {},
   "outputs": [],
   "source": [
    "import matplotlib.pyplot as plt"
   ]
  },
  {
   "cell_type": "code",
   "execution_count": 113,
   "metadata": {},
   "outputs": [],
   "source": [
    "plt.rcParams['font.sans-serif']=[u'SimHei']\n",
    "plt.rcParams['axes.unicode_minus']=False"
   ]
  },
  {
   "cell_type": "code",
   "execution_count": 114,
   "metadata": {},
   "outputs": [
    {
     "data": {
      "image/png": "[encoded data removed]",
      "text/plain": [
       "<Figure size 432x288 with 1 Axes>"
      ]
     },
     "metadata": {},
     "output_type": "display_data"
    }
   ],
   "source": [
    "nx.draw(city_graph, city_location, with_labels=True, node_size=30)"
   ]
  },
  {
   "cell_type": "code",
   "execution_count": 81,
   "metadata": {},
   "outputs": [],
   "source": [
    "threshold = 300\n",
    "from collections import defaultdict\n",
    "city_connection = defaultdict(list)"
   ]
  },
  {
   "cell_type": "code",
   "execution_count": 24,
   "metadata": {},
   "outputs": [],
   "source": [
    "for c1 in city_location:\n",
    "    for c2 in city_location:\n",
    "        if c1 == c2: continue\n",
    "        distance = get_geo_distance(c1, c2)\n",
    "        if distance < threshold:\n",
    "            city_connection[c1].append(c2)"
   ]
  },
  {
   "cell_type": "code",
   "execution_count": 42,
   "metadata": {},
   "outputs": [
    {
     "data": {
      "text/plain": [
       "defaultdict(list,\n",
       "            {'兰州': ['西宁', '成都', '银川'],\n",
       "             '西宁': ['兰州', '成都', '拉萨'],\n",
       "             '成都': ['兰州', '西宁', '拉萨', '重庆'],\n",
       "             '石家庄': ['郑州', '济南', '太原', '北京'],\n",
       "             '拉萨': ['西宁', '成都'],\n",
       "             '贵阳': ['重庆', '南宁'],\n",
       "             '武汉': ['郑州', '南昌', '长沙'],\n",
       "             '郑州': ['石家庄', '武汉', '长沙', '太原'],\n",
       "             '济南': ['石家庄', '合肥', '北京', '天津'],\n",
       "             '南京': ['合肥', '杭州'],\n",
       "             '合肥': ['济南', '南京', '南昌'],\n",
       "             '杭州': ['南京', '福州', '上海'],\n",
       "             '南昌': ['武汉', '合肥'],\n",
       "             '福州': ['杭州', '台湾'],\n",
       "             '广州': ['长沙', '香港', '澳门'],\n",
       "             '长沙': ['武汉', '郑州', '广州', '香港', '澳门'],\n",
       "             '海口': ['南宁'],\n",
       "             '沈阳': ['长春'],\n",
       "             '长春': ['沈阳', '哈尔滨'],\n",
       "             '哈尔滨': ['长春'],\n",
       "             '太原': ['石家庄', '郑州', '呼和浩特'],\n",
       "             '台湾': ['福州'],\n",
       "             '北京': ['石家庄', '济南', '天津'],\n",
       "             '上海': ['杭州'],\n",
       "             '重庆': ['成都', '贵阳', '银川'],\n",
       "             '天津': ['济南', '北京'],\n",
       "             '呼和浩特': ['太原'],\n",
       "             '南宁': ['贵阳', '海口'],\n",
       "             '银川': ['兰州', '重庆'],\n",
       "             '香港': ['广州', '长沙', '澳门'],\n",
       "             '澳门': ['广州', '长沙', '香港']})"
      ]
     },
     "execution_count": 42,
     "metadata": {},
     "output_type": "execute_result"
    }
   ],
   "source": [
    "city_connection"
   ]
  },
  {
   "cell_type": "code",
   "execution_count": 43,
   "metadata": {},
   "outputs": [],
   "source": [
    "with_routes_city_graph = nx.Graph(city_connection)"
   ]
  },
  {
   "cell_type": "code",
   "execution_count": 118,
   "metadata": {},
   "outputs": [
    {
     "ename": "NameError",
     "evalue": "name 'with_routes_city_graph' is not defined",
     "output_type": "error",
     "traceback": [
      "\u001b[1;31m---------------------------------------------------------------------------\u001b[0m",
      "\u001b[1;31mNameError\u001b[0m                                 Traceback (most recent call last)",
      "\u001b[1;32m<ipython-input-118-f351501f1463>\u001b[0m in \u001b[0;36m<module>\u001b[1;34m\u001b[0m\n\u001b[1;32m----> 1\u001b[1;33m \u001b[0mnx\u001b[0m\u001b[1;33m.\u001b[0m\u001b[0mdraw\u001b[0m\u001b[1;33m(\u001b[0m\u001b[0mwith_routes_city_graph\u001b[0m\u001b[1;33m,\u001b[0m \u001b[0mcity_location\u001b[0m\u001b[1;33m,\u001b[0m \u001b[0mwith_labels\u001b[0m\u001b[1;33m=\u001b[0m\u001b[1;32mTrue\u001b[0m\u001b[1;33m,\u001b[0m \u001b[0mnode_size\u001b[0m\u001b[1;33m=\u001b[0m\u001b[1;36m30\u001b[0m\u001b[1;33m)\u001b[0m\u001b[1;33m\u001b[0m\u001b[1;33m\u001b[0m\u001b[0m\n\u001b[0m",
      "\u001b[1;31mNameError\u001b[0m: name 'with_routes_city_graph' is not defined"
     ]
    }
   ],
   "source": [
    "nx.draw(with_routes_city_graph, city_location, with_labels=True, node_size=30) "
   ]
  },
  {
   "cell_type": "code",
   "execution_count": 36,
   "metadata": {},
   "outputs": [],
   "source": [
    "def bfs(graph, start):\n",
    "    visited= [start]\n",
    "    seen = set()\n",
    "    while visited:\n",
    "        frontier = visited.pop()\n",
    "        if frontier in seen:\n",
    "            continue\n",
    "        for successor in graph[frontier]:\n",
    "            if successor in seen:\n",
    "                continue\n",
    "            visited = [successor] + visited   # 广义优先搜素(用队列来进行)\n",
    "            # visited = visited + successor   # 深度优先搜素(用栈来进行)\n",
    "        print(frontier)\n",
    "        seen.add(frontier)\n",
    "    return seen"
   ]
  },
  {
   "cell_type": "code",
   "execution_count": 37,
   "metadata": {},
   "outputs": [],
   "source": [
    "number_grpah = defaultdict(list)\n",
    "\n",
    "number_grpah.update({\n",
    "    1: [2, 3],\n",
    "    2: [1, 4], \n",
    "    3: [1, 5],\n",
    "    4: [2, 6], \n",
    "    5: [3, 7],\n",
    "    7: [5, 8]\n",
    "})"
   ]
  },
  {
   "cell_type": "code",
   "execution_count": 38,
   "metadata": {},
   "outputs": [
    {
     "name": "stdout",
     "output_type": "stream",
     "text": [
      "1\n",
      "2\n",
      "3\n",
      "4\n",
      "5\n",
      "6\n",
      "7\n",
      "8\n"
     ]
    },
    {
     "data": {
      "text/plain": [
       "{1, 2, 3, 4, 5, 6, 7, 8}"
      ]
     },
     "execution_count": 38,
     "metadata": {},
     "output_type": "execute_result"
    }
   ],
   "source": [
    "bfs(number_grpah, 1)"
   ]
  },
  {
   "cell_type": "code",
   "execution_count": 53,
   "metadata": {},
   "outputs": [],
   "source": [
    "def search(start, destination, graph, sort_candidate):\n",
    "    pathes = [[start]]\n",
    "    visited = set()\n",
    "    while pathes:  \n",
    "        print(pathes)\n",
    "        path = pathes.pop(0)\n",
    "        frontier = path[-1]\n",
    "        if frontier in visited:\n",
    "            continue\n",
    "        for city in graph[frontier]:\n",
    "            if city in path: continue\n",
    "            new_path = path +[city]\n",
    "            pathes.append(new_path)\n",
    "            if city == destination:\n",
    "                print(new_path)\n",
    "                return new_path\n",
    "        visited.add(frontier)\n",
    "        pathes = sort_candidate(pathes)  # sort function for controlling serarch strategy"
   ]
  },
  {
   "cell_type": "code",
   "execution_count": 2,
   "metadata": {},
   "outputs": [],
   "source": [
    "def transfer_station_first(pathes):\n",
    "    return sorted(pathes, key=len)"
   ]
  },
  {
   "cell_type": "code",
   "execution_count": 3,
   "metadata": {},
   "outputs": [],
   "source": [
    "def transfer_as_much_as_possible(pathes):\n",
    "    return sorted(pathes, key=len, reverse=True)"
   ]
  },
  {
   "cell_type": "code",
   "execution_count": 4,
   "metadata": {},
   "outputs": [],
   "source": [
    "def shortest_path_first(pathes):\n",
    "    return sorted(pathes, key=get_path_distance)"
   ]
  },
  {
   "cell_type": "code",
   "execution_count": 5,
   "metadata": {},
   "outputs": [],
   "source": [
    "def get_path_distance(path):\n",
    "    distance = 0\n",
    "    for i, station in path[:-1]:\n",
    "        distance += get_geo_distance(station, path[i+1])\n",
    "    return distance"
   ]
  },
  {
   "cell_type": "code",
   "execution_count": 59,
   "metadata": {},
   "outputs": [
    {
     "name": "stdout",
     "output_type": "stream",
     "text": [
      "[['北京']]\n",
      "[['北京', '石家庄'], ['北京', '济南'], ['北京', '天津']]\n",
      "[['北京', '石家庄', '郑州'], ['北京', '石家庄', '济南'], ['北京', '石家庄', '太原'], ['北京', '济南'], ['北京', '天津']]\n",
      "[['北京', '石家庄', '郑州', '武汉'], ['北京', '石家庄', '郑州', '长沙'], ['北京', '石家庄', '郑州', '太原'], ['北京', '石家庄', '济南'], ['北京', '石家庄', '太原'], ['北京', '济南'], ['北京', '天津']]\n",
      "[['北京', '石家庄', '郑州', '武汉', '南昌'], ['北京', '石家庄', '郑州', '武汉', '长沙'], ['北京', '石家庄', '郑州', '长沙'], ['北京', '石家庄', '郑州', '太原'], ['北京', '石家庄', '济南'], ['北京', '石家庄', '太原'], ['北京', '济南'], ['北京', '天津']]\n",
      "[['北京', '石家庄', '郑州', '武汉', '南昌', '合肥'], ['北京', '石家庄', '郑州', '武汉', '长沙'], ['北京', '石家庄', '郑州', '长沙'], ['北京', '石家庄', '郑州', '太原'], ['北京', '石家庄', '济南'], ['北京', '石家庄', '太原'], ['北京', '济南'], ['北京', '天津']]\n",
      "[['北京', '石家庄', '郑州', '武汉', '南昌', '合肥', '济南'], ['北京', '石家庄', '郑州', '武汉', '南昌', '合肥', '南京'], ['北京', '石家庄', '郑州', '武汉', '长沙'], ['北京', '石家庄', '郑州', '长沙'], ['北京', '石家庄', '郑州', '太原'], ['北京', '石家庄', '济南'], ['北京', '石家庄', '太原'], ['北京', '济南'], ['北京', '天津']]\n",
      "[['北京', '石家庄', '郑州', '武汉', '南昌', '合肥', '济南', '天津'], ['北京', '石家庄', '郑州', '武汉', '南昌', '合肥', '南京'], ['北京', '石家庄', '郑州', '武汉', '长沙'], ['北京', '石家庄', '郑州', '长沙'], ['北京', '石家庄', '郑州', '太原'], ['北京', '石家庄', '济南'], ['北京', '石家庄', '太原'], ['北京', '济南'], ['北京', '天津']]\n",
      "[['北京', '石家庄', '郑州', '武汉', '南昌', '合肥', '南京'], ['北京', '石家庄', '郑州', '武汉', '长沙'], ['北京', '石家庄', '郑州', '长沙'], ['北京', '石家庄', '郑州', '太原'], ['北京', '石家庄', '济南'], ['北京', '石家庄', '太原'], ['北京', '济南'], ['北京', '天津']]\n",
      "[['北京', '石家庄', '郑州', '武汉', '南昌', '合肥', '南京', '杭州'], ['北京', '石家庄', '郑州', '武汉', '长沙'], ['北京', '石家庄', '郑州', '长沙'], ['北京', '石家庄', '郑州', '太原'], ['北京', '石家庄', '济南'], ['北京', '石家庄', '太原'], ['北京', '济南'], ['北京', '天津']]\n",
      "[['北京', '石家庄', '郑州', '武汉', '南昌', '合肥', '南京', '杭州', '福州'], ['北京', '石家庄', '郑州', '武汉', '南昌', '合肥', '南京', '杭州', '上海'], ['北京', '石家庄', '郑州', '武汉', '长沙'], ['北京', '石家庄', '郑州', '长沙'], ['北京', '石家庄', '郑州', '太原'], ['北京', '石家庄', '济南'], ['北京', '石家庄', '太原'], ['北京', '济南'], ['北京', '天津']]\n",
      "[['北京', '石家庄', '郑州', '武汉', '南昌', '合肥', '南京', '杭州', '福州', '台湾'], ['北京', '石家庄', '郑州', '武汉', '南昌', '合肥', '南京', '杭州', '上海'], ['北京', '石家庄', '郑州', '武汉', '长沙'], ['北京', '石家庄', '郑州', '长沙'], ['北京', '石家庄', '郑州', '太原'], ['北京', '石家庄', '济南'], ['北京', '石家庄', '太原'], ['北京', '济南'], ['北京', '天津']]\n",
      "[['北京', '石家庄', '郑州', '武汉', '南昌', '合肥', '南京', '杭州', '上海'], ['北京', '石家庄', '郑州', '武汉', '长沙'], ['北京', '石家庄', '郑州', '长沙'], ['北京', '石家庄', '郑州', '太原'], ['北京', '石家庄', '济南'], ['北京', '石家庄', '太原'], ['北京', '济南'], ['北京', '天津']]\n",
      "[['北京', '石家庄', '郑州', '武汉', '长沙'], ['北京', '石家庄', '郑州', '长沙'], ['北京', '石家庄', '郑州', '太原'], ['北京', '石家庄', '济南'], ['北京', '石家庄', '太原'], ['北京', '济南'], ['北京', '天津']]\n",
      "['北京', '石家庄', '郑州', '武汉', '长沙', '香港']\n"
     ]
    },
    {
     "data": {
      "text/plain": [
       "['北京', '石家庄', '郑州', '武汉', '长沙', '香港']"
      ]
     },
     "execution_count": 59,
     "metadata": {},
     "output_type": "execute_result"
    }
   ],
   "source": [
    "search('北京', '香港', city_connection, sort_candidate=transfer_as_much_as_possible)"
   ]
  },
  {
   "cell_type": "code",
   "execution_count": 3,
   "metadata": {},
   "outputs": [],
   "source": [
    "import requests"
   ]
  },
  {
   "cell_type": "code",
   "execution_count": 61,
   "metadata": {},
   "outputs": [],
   "source": [
    "G2 = nx.Graph() "
   ]
  },
  {
   "cell_type": "code",
   "execution_count": 62,
   "metadata": {},
   "outputs": [],
   "source": [
    "G2.add_node(1)"
   ]
  },
  {
   "cell_type": "code",
   "execution_count": 63,
   "metadata": {},
   "outputs": [],
   "source": [
    "G2.add_nodes_from([2,3])"
   ]
  },
  {
   "cell_type": "code",
   "execution_count": 66,
   "metadata": {},
   "outputs": [],
   "source": [
    "G2.add_edge(1,2)"
   ]
  },
  {
   "cell_type": "code",
   "execution_count": 68,
   "metadata": {},
   "outputs": [],
   "source": [
    "G2.add_edges_from([(1,2),(2,3)])"
   ]
  },
  {
   "cell_type": "code",
   "execution_count": 70,
   "metadata": {},
   "outputs": [],
   "source": [
    "G2.add_nodes_from(\"spam\")"
   ]
  },
  {
   "cell_type": "code",
   "execution_count": 71,
   "metadata": {},
   "outputs": [],
   "source": [
    "G2.add_node(\"spam\")"
   ]
  },
  {
   "cell_type": "code",
   "execution_count": 73,
   "metadata": {},
   "outputs": [
    {
     "name": "stdout",
     "output_type": "stream",
     "text": [
      "节点的个数为 8\n"
     ]
    }
   ],
   "source": [
    "print(\"节点的个数为\", G2.number_of_nodes())"
   ]
  },
  {
   "cell_type": "code",
   "execution_count": 74,
   "metadata": {},
   "outputs": [
    {
     "name": "stdout",
     "output_type": "stream",
     "text": [
      "边的个数为 2\n"
     ]
    }
   ],
   "source": [
    "print(\"边的个数为\", G2.number_of_edges())"
   ]
  },
  {
   "cell_type": "code",
   "execution_count": 75,
   "metadata": {},
   "outputs": [
    {
     "name": "stdout",
     "output_type": "stream",
     "text": [
      "图中有这些节点 [1, 2, 3, 's', 'p', 'a', 'm', 'spam']\n"
     ]
    }
   ],
   "source": [
    "print(\"图中有这些节点\", G2.nodes())"
   ]
  },
  {
   "cell_type": "code",
   "execution_count": 76,
   "metadata": {},
   "outputs": [
    {
     "name": "stdout",
     "output_type": "stream",
     "text": [
      "图中有这些边 [(1, 2), (2, 3)]\n"
     ]
    }
   ],
   "source": [
    "print(\"图中有这些边\", G2.edges())"
   ]
  },
  {
   "cell_type": "code",
   "execution_count": 81,
   "metadata": {},
   "outputs": [
    {
     "name": "stdout",
     "output_type": "stream",
     "text": [
      "节点1的邻居节点是 [2]\n"
     ]
    }
   ],
   "source": [
    "print(\"节点1的邻居节点是\", list(G2.neighbors(1)))"
   ]
  },
  {
   "cell_type": "code",
   "execution_count": 4,
   "metadata": {},
   "outputs": [],
   "source": [
    "import requests"
   ]
  },
  {
   "cell_type": "code",
   "execution_count": 9,
   "metadata": {},
   "outputs": [],
   "source": [
    "url = 'https://baike.baidu.com/item/%E5%8C%97%E4%BA%AC%E5%9C%B0%E9%93%81/408485'"
   ]
  },
  {
   "cell_type": "code",
   "execution_count": 10,
   "metadata": {},
   "outputs": [],
   "source": [
    "headers = {\"User-Agent\" : \"User-Agent:Mozilla/5.0 (compatible; MSIE 9.0; Windows NT 6.1; Trident/5.0;\"}"
   ]
  },
  {
   "cell_type": "code",
   "execution_count": 11,
   "metadata": {},
   "outputs": [],
   "source": [
    "response = requests.get(url, headers=headers, allow_redirects=False)"
   ]
  },
  {
   "cell_type": "code",
   "execution_count": 12,
   "metadata": {},
   "outputs": [
    {
     "data": {
      "text/plain": [
       "'utf-8'"
      ]
     },
     "execution_count": 12,
     "metadata": {},
     "output_type": "execute_result"
    }
   ],
   "source": [
    "response.apparent_encoding"
   ]
  },
  {
   "cell_type": "code",
   "execution_count": 13,
   "metadata": {},
   "outputs": [],
   "source": [
    "response.encoding=\"utf-8\""
   ]
  },
  {
   "cell_type": "code",
   "execution_count": 14,
   "metadata": {},
   "outputs": [],
   "source": [
    "html = response.text"
   ]
  },
  {
   "cell_type": "code",
   "execution_count": 2,
   "metadata": {},
   "outputs": [
    {
     "name": "stderr",
     "output_type": "stream",
     "text": [
      "C:\\Users\\WDMWDL\\Anaconda3\\lib\\site-packages\\bs4\\element.py:16: UserWarning: The soupsieve package is not installed. CSS selectors cannot be used.\n",
      "  'The soupsieve package is not installed. CSS selectors cannot be used.'\n"
     ]
    }
   ],
   "source": [
    "from bs4 import BeautifulSoup"
   ]
  },
  {
   "cell_type": "code",
   "execution_count": 16,
   "metadata": {},
   "outputs": [],
   "source": [
    "soup = BeautifulSoup(html)"
   ]
  },
  {
   "cell_type": "code",
   "execution_count": 113,
   "metadata": {},
   "outputs": [
    {
     "name": "stdout",
     "output_type": "stream",
     "text": [
      "ascii\n"
     ]
    }
   ],
   "source": [
    "print(response.apparent_encoding)"
   ]
  },
  {
   "cell_type": "code",
   "execution_count": 148,
   "metadata": {},
   "outputs": [
    {
     "name": "stdout",
     "output_type": "stream",
     "text": [
      "[]\n"
     ]
    }
   ],
   "source": [
    "print(soup.find_next_siblings('caption'))"
   ]
  },
  {
   "cell_type": "code",
   "execution_count": 17,
   "metadata": {},
   "outputs": [],
   "source": [
    "caption = soup.find('caption')"
   ]
  },
  {
   "cell_type": "code",
   "execution_count": 18,
   "metadata": {},
   "outputs": [],
   "source": [
    "contents = caption.next_sibling.find_all('a')"
   ]
  },
  {
   "cell_type": "code",
   "execution_count": 19,
   "metadata": {},
   "outputs": [
    {
     "data": {
      "text/plain": [
       "[<a href=\"/item/%E5%8C%97%E4%BA%AC%E5%9C%B0%E9%93%811%E5%8F%B7%E7%BA%BF\" target=\"_blank\">北京地铁1号线</a>,\n",
       " <a href=\"/item/%E5%A4%8D%E5%85%AB%E7%BA%BF\" target=\"_blank\">复八线</a>,\n",
       " <a href=\"/item/%E5%A4%8D%E5%85%AB%E7%BA%BF\" target=\"_blank\">复八线</a>,\n",
       " <a href=\"/item/%E5%8C%97%E4%BA%AC%E5%9C%B0%E9%93%811%E5%8F%B7%E7%BA%BF\" target=\"_blank\">北京地铁1号线</a>,\n",
       " <a href=\"/item/%E5%8C%97%E4%BA%AC%E5%9C%B0%E9%93%8113%E5%8F%B7%E7%BA%BF\" target=\"_blank\">北京地铁13号线</a>,\n",
       " <a href=\"/item/%E5%8C%97%E4%BA%AC%E5%9C%B0%E9%93%8113%E5%8F%B7%E7%BA%BF\" target=\"_blank\">北京地铁13号线</a>,\n",
       " <a href=\"/item/%E5%8C%97%E4%BA%AC%E5%9C%B0%E9%93%81%E5%85%AB%E9%80%9A%E7%BA%BF\" target=\"_blank\">北京地铁八通线</a>,\n",
       " <a href=\"/item/%E5%8C%97%E4%BA%AC%E5%9C%B0%E9%93%815%E5%8F%B7%E7%BA%BF\" target=\"_blank\">北京地铁5号线</a>,\n",
       " <a href=\"/item/%E5%8C%97%E4%BA%AC%E5%9C%B0%E9%93%818%E5%8F%B7%E7%BA%BF\" target=\"_blank\">北京地铁8号线</a>,\n",
       " <a href=\"/item/%E5%8C%97%E4%BA%AC%E5%9C%B0%E9%93%8110%E5%8F%B7%E7%BA%BF\" target=\"_blank\">北京地铁10号线</a>,\n",
       " <a href=\"/item/%E5%8C%97%E4%BA%AC%E5%9C%B0%E9%93%81%E6%9C%BA%E5%9C%BA%E7%BA%BF\" target=\"_blank\">北京地铁机场线</a>,\n",
       " <a href=\"/item/%E5%8C%97%E4%BA%AC%E5%9C%B0%E9%93%814%E5%8F%B7%E7%BA%BF\" target=\"_blank\">北京地铁4号线</a>,\n",
       " <a href=\"/item/%E5%8C%97%E4%BA%AC%E5%9C%B0%E9%93%8115%E5%8F%B7%E7%BA%BF\" target=\"_blank\">北京地铁15号线</a>,\n",
       " <a href=\"/item/%E5%8C%97%E4%BA%AC%E5%9C%B0%E9%93%81%E6%98%8C%E5%B9%B3%E7%BA%BF\" target=\"_blank\">北京地铁昌平线</a>,\n",
       " <a href=\"/item/%E5%8C%97%E4%BA%AC%E5%9C%B0%E9%93%81%E5%A4%A7%E5%85%B4%E7%BA%BF\" target=\"_blank\">北京地铁大兴线</a>,\n",
       " <a href=\"/item/%E5%8C%97%E4%BA%AC%E5%9C%B0%E9%93%81%E6%88%BF%E5%B1%B1%E7%BA%BF\" target=\"_blank\">北京地铁房山线</a>,\n",
       " <a href=\"/item/%E5%8C%97%E4%BA%AC%E5%9C%B0%E9%93%81%E4%BA%A6%E5%BA%84%E7%BA%BF\" target=\"_blank\">北京地铁亦庄线</a>,\n",
       " <a href=\"/item/%E5%8C%97%E4%BA%AC%E5%9C%B0%E9%93%818%E5%8F%B7%E7%BA%BF\" target=\"_blank\">北京地铁8号线</a>,\n",
       " <a href=\"/item/%E5%8C%97%E4%BA%AC%E5%9C%B0%E9%93%819%E5%8F%B7%E7%BA%BF\" target=\"_blank\">北京地铁9号线</a>,\n",
       " <a href=\"/item/%E5%8C%97%E4%BA%AC%E5%9C%B0%E9%93%8115%E5%8F%B7%E7%BA%BF\" target=\"_blank\">北京地铁15号线</a>,\n",
       " <a href=\"/item/%E5%8C%97%E4%BA%AC%E5%9C%B0%E9%93%81%E6%88%BF%E5%B1%B1%E7%BA%BF\" target=\"_blank\">北京地铁房山线</a>,\n",
       " <a href=\"/item/%E5%8C%97%E4%BA%AC%E5%9C%B0%E9%93%816%E5%8F%B7%E7%BA%BF\" target=\"_blank\">北京地铁6号线</a>,\n",
       " <a href=\"/item/%E5%8C%97%E4%BA%AC%E5%9C%B0%E9%93%818%E5%8F%B7%E7%BA%BF\" target=\"_blank\">北京地铁8号线</a>,\n",
       " <a href=\"/item/%E5%8C%97%E4%BA%AC%E5%9C%B0%E9%93%819%E5%8F%B7%E7%BA%BF\" target=\"_blank\">北京地铁9号线</a>,\n",
       " <a href=\"/item/%E5%8C%97%E4%BA%AC%E5%9C%B0%E9%93%8110%E5%8F%B7%E7%BA%BF\" target=\"_blank\">北京地铁10号线</a>,\n",
       " <a href=\"/item/%E5%8C%97%E4%BA%AC%E5%9C%B0%E9%93%8110%E5%8F%B7%E7%BA%BF\" target=\"_blank\">北京地铁10号线</a>,\n",
       " <a href=\"/item/%E5%8C%97%E4%BA%AC%E5%9C%B0%E9%93%8114%E5%8F%B7%E7%BA%BF\" target=\"_blank\">北京地铁14号线</a>,\n",
       " <a href=\"/item/%E5%8C%97%E4%BA%AC%E5%9C%B0%E9%93%818%E5%8F%B7%E7%BA%BF\" target=\"_blank\">北京地铁8号线</a>,\n",
       " <a href=\"/item/%E5%8C%97%E4%BA%AC%E5%9C%B0%E9%93%816%E5%8F%B7%E7%BA%BF\" target=\"_blank\">北京地铁6号线</a>,\n",
       " <a href=\"/item/%E5%8C%97%E4%BA%AC%E5%9C%B0%E9%93%817%E5%8F%B7%E7%BA%BF\" target=\"_blank\">北京地铁7号线</a>,\n",
       " <a href=\"/item/%E5%8C%97%E4%BA%AC%E5%9C%B0%E9%93%8114%E5%8F%B7%E7%BA%BF\" target=\"_blank\">北京地铁14号线</a>,\n",
       " <a href=\"/item/%E5%8C%97%E4%BA%AC%E5%9C%B0%E9%93%8115%E5%8F%B7%E7%BA%BF\" target=\"_blank\">北京地铁15号线</a>,\n",
       " <a href=\"/item/%E5%8C%97%E4%BA%AC%E5%9C%B0%E9%93%8114%E5%8F%B7%E7%BA%BF\" target=\"_blank\">北京地铁14号线</a>,\n",
       " <a href=\"/item/%E5%8C%97%E4%BA%AC%E5%9C%B0%E9%93%81%E6%98%8C%E5%B9%B3%E7%BA%BF\" target=\"_blank\">北京地铁昌平线</a>,\n",
       " <a href=\"/item/%E5%8C%97%E4%BA%AC%E5%9C%B0%E9%93%8116%E5%8F%B7%E7%BA%BF\" target=\"_blank\">北京地铁16号线</a>,\n",
       " <a href=\"/item/%E5%8C%97%E4%BA%AC%E5%9C%B0%E9%93%81%E8%A5%BF%E9%83%8A%E7%BA%BF\" target=\"_blank\">北京地铁西郊线</a>,\n",
       " <a href=\"/item/%E5%8C%97%E4%BA%AC%E5%9C%B0%E9%93%81S1%E7%BA%BF\" target=\"_blank\">北京地铁S1线</a>,\n",
       " <a href=\"/item/%E5%8C%97%E4%BA%AC%E5%9C%B0%E9%93%81%E7%87%95%E6%88%BF%E7%BA%BF\" target=\"_blank\">北京地铁燕房线</a>,\n",
       " <a href=\"/item/%E5%8C%97%E4%BA%AC%E5%9C%B0%E9%93%81%E6%88%BF%E5%B1%B1%E7%BA%BF\" target=\"_blank\">北京地铁房山线</a>,\n",
       " <a data-lemmaid=\"10680588\" href=\"/item/%E5%8C%97%E4%BA%AC%E5%9C%B0%E9%93%816%E5%8F%B7%E7%BA%BF/10680588\" target=\"_blank\">北京地铁6号线</a>,\n",
       " <a data-lemmaid=\"897830\" href=\"/item/%E5%8C%97%E4%BA%AC%E5%9C%B0%E9%93%818%E5%8F%B7%E7%BA%BF/897830\" target=\"_blank\">北京地铁8号线</a>,\n",
       " <a data-lemmaid=\"1464622\" href=\"/item/%E5%8C%97%E4%BA%AC%E5%9C%B0%E9%93%81%E4%BA%A6%E5%BA%84%E7%BA%BF/1464622\" target=\"_blank\">北京地铁亦庄线</a>]"
      ]
     },
     "execution_count": 19,
     "metadata": {},
     "output_type": "execute_result"
    }
   ],
   "source": [
    "contents"
   ]
  },
  {
   "cell_type": "code",
   "execution_count": 20,
   "metadata": {},
   "outputs": [],
   "source": [
    "temp = [''.join(pattern.findall(str(content))) for content in contents]"
   ]
  },
  {
   "cell_type": "markdown",
   "metadata": {},
   "source": [
    "import re"
   ]
  },
  {
   "cell_type": "code",
   "execution_count": 21,
   "metadata": {},
   "outputs": [],
   "source": [
    "pattern = re.compile(r'href=\\\"(.*)\\\" ')\n",
    "common_link = \"https://baike.baidu.com\""
   ]
  },
  {
   "cell_type": "code",
   "execution_count": 22,
   "metadata": {},
   "outputs": [],
   "source": [
    "router_links = sorted(list(set(temp)))"
   ]
  },
  {
   "cell_type": "code",
   "execution_count": 66,
   "metadata": {},
   "outputs": [],
   "source": [
    "train_staion_location = []"
   ]
  },
  {
   "cell_type": "markdown",
   "metadata": {},
   "source": [
    "temp"
   ]
  },
  {
   "cell_type": "code",
   "execution_count": 78,
   "metadata": {},
   "outputs": [
    {
     "name": "stdout",
     "output_type": "stream",
     "text": [
      "['宋家庄站', '肖村站', '岛式站', '小红门站', '岛式站', '旧宫站', '侧式站', '亦庄桥站', '亦庄文化园站', '万源街站', '荣京东街站', '荣昌东街站', '同济南路站', '经海路站', '次渠南站', '岛式站', '次渠站', '亦庄火车站']\n",
      "['宋家庄站', '肖村站', '岛式站', '小红门站', '岛式站', '旧宫站', '侧式站', '亦庄桥站', '亦庄文化园站', '万源街站', '荣京东街站', '荣昌东街站', '同济南路站', '经海路站', '次渠南站', '岛式站', '次渠站', '亦庄火车站']\n",
      "['四惠站', '四惠东站', '高碑店站', '传媒大学站', '双桥站', '管庄站', '八里桥站', '通州北苑站', '果园站', '九棵树站', '梨园站', '临河里站', '土桥站', '环球影城站']\n",
      "['天宫院站', '生物医药基地站', '义和庄站', '黄村火车站', '黄村西大街站', '清源路站', '枣园站', '高米店南站', '高米店北站', '西红门站', '新宫站', '公益西桥站', '角门西站', '马家堡站', '北京南站', '陶然亭站', '菜市口站', '宣武门站', '西单站', '灵境胡同站', '西四站', '平安里站', '新街口站', '西直门站', '动物园站', '国家图书馆站', '魏公村站', '人民大学站', '海淀黄庄站', '中关村站', '北京大学东门站', '圆明园站', '西苑站', '北宫门站', '安河桥北站']\n",
      "['阎村东站', '苏庄站', '良乡南关站', '良乡大学城西站', '良乡大学城站', '良乡大学城北站', '广阳城站', '篱笆房站', '长阳站', '稻田站', '大葆台站', '郭公庄站', '首经贸站', '丰益桥南站']\n",
      "['西土城站', '出站', '出站', '西二旗站', '生命科学园站', '朱辛庄站', '巩华城站', '沙河站', '沙河高教园站', '南邵站', '北邵洼站', '昌平东关站', '昌平站', '昌平北站', '十三陵景区站', '昌平西山口站']\n",
      "['东直门站', '三元桥站', '3号航站楼站', '2号航站楼站']\n",
      "['东直门站', '三元桥站', '3号航站楼站', '2号航站楼站']\n",
      "['东直门站', '三元桥站', '3号航站楼站', '2号航站楼站']\n",
      "['黑石头站', '高井站', '福寿岭站', '苹果园站', '古城站', '衙门口站', '八角游乐园站', '八宝山站', '玉泉路站', '五棵松站', '万寿路站', '公主坟站', '军事博物馆站', '木樨地站', '南礼士路站', '复兴门站', '西单站', '天安门西站', '天安门东站', '王府井站', '东单站', '建国门站', '永安里站', '国贸站', '大望路站', '四惠站', '四惠东站', '高碑店站', '传媒大学站', '双桥站', '管庄站', '八里桥站', '通州北苑站', '果园站', '九棵树站', '梨园站', '临河里站', '土桥站', '花庄站']\n",
      "['巴沟站', '苏州街站', '海淀黄庄站', '知春里站', '知春路站', '西土城站', '牡丹园站', '健德门站', '北土城站', '安贞门站', '惠新西街南口站', '芍药居站', '太阳宫站', '三元桥站', '亮马桥站', '农业展览馆站', '团结湖站', '呼家楼站', '金台夕照站', '国贸站', '双井站', '劲松站', '潘家园站', '十里河站', '分钟寺站', '成寿寺站', '宋家庄站', '石榴庄站', '大红门站', '角门东站', '角门西站', '草桥站', '纪家庙站', '首经贸站', '丰台站', '泥洼站', '西局站', '六里桥站', '莲花桥站', '公主坟站', '西钓鱼台站', '慈寿寺站', '车道沟站', '长春桥站', '火器营站', '巴沟站']\n",
      "['巴沟站', '苏州街站', '海淀黄庄站', '知春里站', '知春路站', '西土城站', '牡丹园站', '健德门站', '北土城站', '安贞门站', '惠新西街南口站', '芍药居站', '太阳宫站', '三元桥站', '亮马桥站', '农业展览馆站', '团结湖站', '呼家楼站', '金台夕照站', '国贸站', '双井站', '劲松站', '潘家园站', '十里河站', '分钟寺站', '成寿寺站', '宋家庄站', '石榴庄站', '大红门站', '角门东站', '角门西站', '草桥站', '纪家庙站', '首经贸站', '丰台站', '泥洼站', '西局站', '六里桥站', '莲花桥站', '公主坟站', '西钓鱼台站', '慈寿寺站', '车道沟站', '长春桥站', '火器营站', '巴沟站']\n",
      "['园博园站', '大瓦窑站', '郭庄子站', '大井站', '七里庄站', '西局站', '东管头站', '丽泽商务区站', '菜户营站', '西铁营站', '景风门站', '北京南站', '陶然桥站', '永定门外站', '景泰站', '蒲黄榆站', '方庄站', '十里河站', '北工大西门站', '平乐园站', '九龙山站', '大望路站', '金台路站', '朝阳公园站', '枣营站', '东风北桥站', '将台站', '高家园站', '望京南站', '阜通站', '望京站', '东湖渠站', '来广营站', '善各庄站']\n",
      "['清华东路西口站', '六道口站', '北沙滩站', '奥林匹克公园站', '安立路站', '大屯路东站', '关庄站', '望京西站', '望京站', '望京东站', '崔各庄站', '马泉营站', '孙河站', '国展站', '花梨坎站', '后沙峪站', '南法信站', '石门站', '顺义站', '俸伯站']\n",
      "['清华东路西口站', '六道口站', '北沙滩站', '奥林匹克公园站', '安立路站', '大屯路东站', '关庄站', '望京西站', '望京站', '望京东站', '崔各庄站', '马泉营站', '孙河站', '国展站', '花梨坎站', '后沙峪站', '南法信站', '石门站', '顺义站', '俸伯站']\n",
      "['公益西桥站', '角门西站', '马家堡站', '北京南站', '陶然亭站', '菜市口站', '宣武门站', '西单站', '灵境胡同站', '西四站', '平安里站', '新街口站', '西直门站', '动物园站', '国家图书馆站', '魏公村站', '人民大学站', '海淀黄庄站', '中关村站', '北京大学东门站', '圆明园站', '西苑站', '北宫门站', '安河桥北站']\n",
      "['宋家庄站', '刘家窑站', '蒲黄榆站', '天坛东门站', '磁器口站', '崇文门站', '东单站', '灯市口站', '东四站', '张自忠路站', '北新桥站', '雍和宫站', '和平里北街站', '和平西桥站', '惠新西街南口站', '惠新西街北口站', '大屯路东站', '北苑路北站', '立水桥南站', '立水桥站', '天通苑南站', '天通苑站', '天通苑北站', '平西府站', '平坊站', '马坊站']\n",
      "['金安桥站', '苹果园站', '杨庄站', '西黄村站', '廖公庄站', '田村站', '海淀五路居站', '慈寿寺站', '花园桥站', '白石桥南站', '二里沟站', '车公庄西站', '车公庄站', '平安里站', '北海北站', '南锣鼓巷站', '东四站', '朝阳门站', '东大桥站', '呼家楼站', '金台路站', '十里堡站', '青年路站', '褡裢坡站', '黄渠站', '常营站', '草房站', '物资学院路站', '通州北关站', '通运门站', '北运河西站', '北运河东站', '郝家府站', '东夏园站', '潞城站']\n",
      "['金安桥站', '苹果园站', '杨庄站', '西黄村站', '廖公庄站', '田村站', '海淀五路居站', '慈寿寺站', '花园桥站', '白石桥南站', '二里沟站', '车公庄西站', '车公庄站', '平安里站', '北海北站', '南锣鼓巷站', '东四站', '朝阳门站', '东大桥站', '呼家楼站', '金台路站', '十里堡站', '青年路站', '褡裢坡站', '黄渠站', '常营站', '草房站', '物资学院路站', '通州北关站', '通运门站', '北运河西站', '北运河东站', '郝家府站', '东夏园站', '潞城站']\n",
      "['北京西站', '湾子站', '达官营站', '广安门内站', '菜市口站', '虎坊桥站', '珠市口站', '桥湾站', '磁器口站', '广渠门内站', '广渠门外站', '双井站', '九龙山站', '大郊亭站', '百子湾站', '化工站', '南楼梓庄站', '欢乐谷景区站', '垡头站', '双合站', '焦化厂站', '黄厂村站', '豆各庄站', '黑庄户站', '万盛南街西口站', '云景东路站', '小马庄站', '高楼金站', '环球影城站']\n",
      "['朱辛庄站', '育知路站', '平西府站', '回龙观东大街站', '霍营站', '育新站', '西小口站', '永泰庄站', '林萃桥站', '森林公园南门站', '奥林匹克公园站', '奥体中心站', '北土城站', '安华桥站', '安德里北街站', '鼓楼大街站', '什刹海站', '南锣鼓巷站', '中国美术馆站', '金鱼胡同站', '王府井站', '前门站', '珠市口站', '天桥站', '永定门外站', '木樨园站', '海户屯站', '大红门站', '大红门南站', '和义站', '东高地站', '火箭万源站', '五福堂站', '德茂站', '瀛海站']\n",
      "['朱辛庄站', '育知路站', '平西府站', '回龙观东大街站', '霍营站', '育新站', '西小口站', '永泰庄站', '林萃桥站', '森林公园南门站', '奥林匹克公园站', '奥体中心站', '北土城站', '安华桥站', '安德里北街站', '鼓楼大街站', '什刹海站', '南锣鼓巷站', '中国美术馆站', '金鱼胡同站', '王府井站', '前门站', '珠市口站', '天桥站', '永定门外站', '木樨园站', '海户屯站', '大红门站', '大红门南站', '和义站', '东高地站', '火箭万源站', '五福堂站', '德茂站', '瀛海站']\n",
      "['郭公庄站', '丰台科技园站', '岛式站', '科怡路站', '丰台南路站', '丰台东大街站', '七里庄站', '六里桥站', '侧式站', '六里桥东站', '北京西站', '军事博物馆站', '白堆子站', '白石桥南站', '国家图书馆站']\n",
      "['苹果园站', '金安桥站', '四道桥站', '桥户营站', '上岸站', '栗园庄站', '小园站', '石厂站']\n",
      "['苹果园站', '金安桥站', '四道桥站', '桥户营站', '上岸站', '栗园庄站', '小园站', '石厂站']\n"
     ]
    }
   ],
   "source": [
    "for router_link in router_links:\n",
    "    respond_link = requests.get(common_link + router_link, headers=headers, allow_redirects=False)\n",
    "    respond_link.encoding=\"utf-8\"\n",
    "    soup1 = BeautifulSoup(respond_link.text)\n",
    "    for a in soup1.find_all(\"caption\"):\n",
    "        if re.findall(\"车站列表\", a.text):\n",
    "            find_station_list = a\n",
    "            break\n",
    "        elif re.findall(\"车站信息\", a.text):\n",
    "            find_station_list = a\n",
    "    # if len(soup1.find_all(\"caption\", string=re.compile(\"车站列表\"))) == 1:\n",
    "    #     find_station_list = soup1.find_all(\"caption\", string=re.compile(\"车站列表\"))[0]\n",
    "\n",
    "    # elif len(soup1.find_all(\"caption\", string=re.compile(\"车站信息\"))) == 1:\n",
    "    #     find_station_list = soup1.find_all(\"caption\", string=re.compile(\"车站信息\"))[0]\n",
    "\n",
    "    next_siblings = find_station_list.next_sibling.find_all(\"a\")\n",
    "    station_lists = [''.join(pattern1.findall(str(next_sibling.text))) for next_sibling in next_siblings]\n",
    "    station_lists = [str(station_list) for station_list in station_lists if station_list != '']\n",
    "    train_station[find_station_list.text] = station_lists\n",
    "    train_staion_location += station_lists"
   ]
  },
  {
   "cell_type": "code",
   "execution_count": 161,
   "metadata": {},
   "outputs": [
    {
     "data": {
      "text/plain": [
       "'https://baike.baidu.com/item/%E5%8C%97%E4%BA%AC%E5%9C%B0%E9%93%81%E4%BA%A6%E5%BA%84%E7%BA%BF'"
      ]
     },
     "execution_count": 161,
     "metadata": {},
     "output_type": "execute_result"
    }
   ],
   "source": [
    "common_link + router_links[0]"
   ]
  },
  {
   "cell_type": "code",
   "execution_count": 162,
   "metadata": {},
   "outputs": [],
   "source": [
    "respond_link.encoding=\"utf-8\""
   ]
  },
  {
   "cell_type": "code",
   "execution_count": 132,
   "metadata": {},
   "outputs": [
    {
     "data": {
      "text/plain": [
       "['/item/%E5%8C%97%E4%BA%AC%E5%9C%B0%E9%93%816%E5%8F%B7%E7%BA%BF/10680588',\n",
       " '/item/%E5%8C%97%E4%BA%AC%E5%9C%B0%E9%93%81%E6%88%BF%E5%B1%B1%E7%BA%BF',\n",
       " '/item/%E5%8C%97%E4%BA%AC%E5%9C%B0%E9%93%818%E5%8F%B7%E7%BA%BF/897830',\n",
       " '/item/%E5%8C%97%E4%BA%AC%E5%9C%B0%E9%93%8110%E5%8F%B7%E7%BA%BF',\n",
       " '/item/%E5%A4%8D%E5%85%AB%E7%BA%BF',\n",
       " '/item/%E5%8C%97%E4%BA%AC%E5%9C%B0%E9%93%81S1%E7%BA%BF',\n",
       " '/item/%E5%8C%97%E4%BA%AC%E5%9C%B0%E9%93%81%E4%BA%A6%E5%BA%84%E7%BA%BF',\n",
       " '/item/%E5%8C%97%E4%BA%AC%E5%9C%B0%E9%93%816%E5%8F%B7%E7%BA%BF',\n",
       " '/item/%E5%8C%97%E4%BA%AC%E5%9C%B0%E9%93%819%E5%8F%B7%E7%BA%BF',\n",
       " '/item/%E5%8C%97%E4%BA%AC%E5%9C%B0%E9%93%811%E5%8F%B7%E7%BA%BF',\n",
       " '/item/%E5%8C%97%E4%BA%AC%E5%9C%B0%E9%93%81%E7%87%95%E6%88%BF%E7%BA%BF',\n",
       " '/item/%E5%8C%97%E4%BA%AC%E5%9C%B0%E9%93%815%E5%8F%B7%E7%BA%BF',\n",
       " '/item/%E5%8C%97%E4%BA%AC%E5%9C%B0%E9%93%81%E5%A4%A7%E5%85%B4%E7%BA%BF',\n",
       " '/item/%E5%8C%97%E4%BA%AC%E5%9C%B0%E9%93%81%E8%A5%BF%E9%83%8A%E7%BA%BF',\n",
       " '/item/%E5%8C%97%E4%BA%AC%E5%9C%B0%E9%93%81%E6%98%8C%E5%B9%B3%E7%BA%BF',\n",
       " '/item/%E5%8C%97%E4%BA%AC%E5%9C%B0%E9%93%81%E5%85%AB%E9%80%9A%E7%BA%BF',\n",
       " '/item/%E5%8C%97%E4%BA%AC%E5%9C%B0%E9%93%8116%E5%8F%B7%E7%BA%BF',\n",
       " '/item/%E5%8C%97%E4%BA%AC%E5%9C%B0%E9%93%818%E5%8F%B7%E7%BA%BF',\n",
       " '/item/%E5%8C%97%E4%BA%AC%E5%9C%B0%E9%93%817%E5%8F%B7%E7%BA%BF',\n",
       " '/item/%E5%8C%97%E4%BA%AC%E5%9C%B0%E9%93%8114%E5%8F%B7%E7%BA%BF',\n",
       " '/item/%E5%8C%97%E4%BA%AC%E5%9C%B0%E9%93%81%E6%9C%BA%E5%9C%BA%E7%BA%BF',\n",
       " '/item/%E5%8C%97%E4%BA%AC%E5%9C%B0%E9%93%814%E5%8F%B7%E7%BA%BF',\n",
       " '/item/%E5%8C%97%E4%BA%AC%E5%9C%B0%E9%93%81%E4%BA%A6%E5%BA%84%E7%BA%BF/1464622',\n",
       " '/item/%E5%8C%97%E4%BA%AC%E5%9C%B0%E9%93%8115%E5%8F%B7%E7%BA%BF',\n",
       " '/item/%E5%8C%97%E4%BA%AC%E5%9C%B0%E9%93%8113%E5%8F%B7%E7%BA%BF']"
      ]
     },
     "execution_count": 132,
     "metadata": {},
     "output_type": "execute_result"
    }
   ],
   "source": []
  },
  {
   "cell_type": "code",
   "execution_count": 163,
   "metadata": {},
   "outputs": [
    {
     "data": {
      "text/plain": [
       "'<!DOCTYPE html>\\n<!--STATUS OK-->\\n<html>\\n\\n\\n\\n<head>\\n<meta charset=\"UTF-8\">\\n<meta http-equiv=\"X-UA-Compatible\" content=\"IE=Edge\" />\\n<meta name=\"referrer\" content=\"always\" />\\n<meta name=\"description\" content=\"北京地铁亦庄线（以下简称“亦庄线”），是北京地铁的一条郊区线路，连接北京市区与北京经济技术开发区，由北京市地铁运营有限公司一分公司负责运营。该线于2010年12月30日除亦庄火车站之外全线开通。截至2018年12月29日，该线运营区段为宋家庄站至次渠站，途经丰台区、朝阳区、大兴区和通州区，运营里程23.3千米，共开放13座车站（其中换乘站1座），拥有车辆基地2座（宋家庄停车场和台湖车辆段）。2018年12月30日，暂缓开通整整8年的亦庄火车站与地铁8号线南段，6号线西延段，6号线北运河东站和7号线垈头站同时开通。至此，亦庄线全线通车。...\">\\n<title>北京地铁亦庄线_百度百科</title>\\n<link rel=\"shortcut icon\" href=\"/favicon.ico\" type=\"image/x-icon\" />\\n<link rel=\"icon\" sizes=\"any\" mask href=\"//www.baidu.com/img/baidu.svg\">\\n\\n<meta name=\"keywords\" content=\"北京地铁亦庄线 亦庄地铁线 北京亦庄线地铁 北京亦庄线 亦庄地铁 亦庄线 北京地铁亦庄 北京地铁亦庄线历史沿革 北京地铁亦庄线运营信息 北京地铁亦庄线硬件设施 北京地铁亦庄线线路标识 北京地铁亦庄线管理机构 北京地铁亦庄线票价规定 北京地铁亦庄线建设意义\">\\n<meta name=\"image\" content=\"https://bkssl.bdimg.com/cms/static/baike.png\">\\n<script type=\"text/javascript\">\\r\\n  // 配置 PD 监控。\\r\\n  window.alogObjectConfig = {\\r\\n    product: \\'103\\',\\r\\n    page: \\'103_1\\',\\r\\n    speed: {\\r\\n      sample: \\'0.008\\'\\r\\n    },\\r\\n    monkey: {\\r\\n      sample: \\'1\\',\\r\\n      hid: \\'1533\\'\\r\\n    },\\r\\n    exception: { \\r\\n      sample: \\'0.004\\'\\r\\n    },\\r\\n    feature: {\\r\\n      sample: \\'0.004\\'\\r\\n    },\\r\\n    csp: {\\r\\n      sample: \\'0.008\\',\\r\\n      \\'default-src\\': [\\r\\n        {match: \\'*.baidu.com,*.bdimg.com,localhost\\', target: \\'Accept\\'},\\r\\n        {match: \\'*\\', target: \\'Accept,Warn\\'}\\r\\n      ]\\r\\n    }\\r\\n  };\\r\\n\\r\\n  void function(a,b,c,d,e,f,g){a.alogObjectName=e,a[e]=a[e]||function(){(a[e].q=a[e].q||[]).push(arguments)},a[e].l=a[e].l||+new Date,d=\"https:\"===a.location.protocol?\"https://fex.bdstatic.com\"+d:\"http://fex.bdstatic.com\"+d;var h=!0;if(a.alogObjectConfig&&a.alogObjectConfig.sample){var i=Math.random();a.alogObjectConfig.rand=i,i>a.alogObjectConfig.sample&&(h=!1)}h&&(f=b.createElement(c),f.async=!0,f.src=d+\"?v=\"+~(new Date/864e5)+~(new Date/864e5),g=b.getElementsByTagName(c)[0],g.parentNode.insertBefore(f,g))}(window,document,\"script\",\"/hunter/alog/alog.min.js\",\"alog\"),void function(){function a(){}window.PDC={mark:function(a,b){alog(\"speed.set\",a,b||+new Date),alog.fire&&alog.fire(\"mark\")},init:function(a){alog(\"speed.set\",\"options\",a)},view_start:a,tti:a,page_ready:a}}();\\r\\n  void function(n){var o=!1;n.onerror=function(n,e,t,c){var i=!0;return!e&&/^script error/i.test(n)&&(o?i=!1:o=!0),i&&alog(\"exception.send\",\"exception\",{msg:n,js:e,ln:t,col:c}),!1},alog(\"exception.on\",\"catch\",function(n){alog(\"exception.send\",\"exception\",{msg:n.msg,js:n.path,ln:n.ln,method:n.method,flag:\"catch\"})})}(window);\\r\\n</script>\\n<meta name=\"csrf-token\" content=\"\">\\n<meta itemprop=\"dateUpdate\" content=\"2019-06-17 16:50:12\" />\\n\\n<!--[if lte IE 9]>\\n<script>\\r\\n    (function() {\\r\\n      var e = \"abbr,article,aside,audio,canvas,datalist,details,dialog,eventsource,figure,footer,header,hgroup,mark,menu,meter,nav,output,progress,section,time,video\".split(\",\"),\\r\\n        i = e.length;\\r\\n      while (i--) {\\r\\n        document.createElement(e[i]);\\r\\n      }\\r\\n    })();\\r\\n  </script>\\n<![endif]-->\\n<link rel=\"stylesheet\" type=\"text/css\" href=\"https://bkssl.bdimg.com/static/wiki-lemma/pkg/wiki-lemma_6cdcdef.css\"/><link rel=\"stylesheet\" type=\"text/css\" href=\"https://bkssl.bdimg.com/static/wiki-common/pkg/wiki-common-base_66a9374.css\"/><link rel=\"stylesheet\" type=\"text/css\" href=\"https://bkssl.bdimg.com/static/wiki-common/widget/component/userbar-n/userbar-n_2890903.css\"/><link rel=\"stylesheet\" type=\"text/css\" href=\"https://bkssl.bdimg.com/static/wiki-common/widget/lib/larkplayer/larkplayer_981c735.css\"/><link rel=\"stylesheet\" type=\"text/css\" href=\"https://bkssl.bdimg.com/static/wiki-common/widget/lib/webuploader/webuploader_08d9db4.css\"/><link rel=\"stylesheet\" type=\"text/css\" href=\"https://bkssl.bdimg.com/static/wiki-lemma/pkg/wiki-lemma-module_6f6d7c5.css\"/><link rel=\"stylesheet\" type=\"text/css\" href=\"https://bkssl.bdimg.com/static/wiki-lemma/widget/tools/announcement/announcement_cba33f4.css\"/><link rel=\"stylesheet\" type=\"text/css\" href=\"https://bkssl.bdimg.com/static/wiki-lemma/widget/tools/label/label_1b0bc0e.css\"/><link rel=\"stylesheet\" type=\"text/css\" href=\"https://bkssl.bdimg.com/static/wiki-lemma/widget/tools/newSideShare/sideShare_9c411cd.css\"/><link rel=\"stylesheet\" type=\"text/css\" href=\"https://bkssl.bdimg.com/static/wiki-lemma/widget/tools/video/pageMask/pageMask_ff9a193.css\"/><link rel=\"stylesheet\" type=\"text/css\" href=\"https://bkssl.bdimg.com/static/wiki-lemma/widget/lemma_content/mainContent/mainContent_98e3702.css\"/><link rel=\"stylesheet\" type=\"text/css\" href=\"https://bkssl.bdimg.com/static/wiki-lemma/widget/lemma_content/mainContent/lemmaRelation/lemmaRelation_496a30a.css\"/><link rel=\"stylesheet\" type=\"text/css\" href=\"https://bkssl.bdimg.com/static/wiki-lemma/widget/lemma_content/configModule/zhixin/zhixin_3b0d7a5.css\"/><link rel=\"stylesheet\" type=\"text/css\" href=\"https://bkssl.bdimg.com/static/wiki-lemma/widget/tools/searchHeader/toolButtons-n/toolButtons-n_8b4919b.css\"/><link rel=\"stylesheet\" type=\"text/css\" href=\"https://bkssl.bdimg.com/static/wiki-lemma/widget/tools/searchHeader/toolButtons-n/userInfo-n_7e90184.css\"/><link rel=\"stylesheet\" type=\"text/css\" href=\"https://bkssl.bdimg.com/static/wiki-lemma/widget/tools/searchHeader/searchHeader-n_f9a6e5b.css\"/>    \\n</head>\\n\\n<script type=\"text/javascript\">\\r\\n    alog(\\'speed.set\\', \\'ht\\', +new Date);\\r\\n</script>\\n<script>\\r\\n        var _hmt = _hmt || [];\\r\\n        (function() {\\r\\n            var hm = document.createElement(\"script\");\\r\\n            hm.src = \"https://hm.baidu.com/hm.js?55b574651fcae74b0a9f1cf9c8d7c93a\";\\r\\n            var s = document.getElementsByTagName(\"script\")[0];\\r\\n            s.parentNode.insertBefore(hm, s);\\r\\n        })();\\r\\n    </script>\\n\\n<body class=\"wiki-lemma normal\">\\n\\n\\n<div class=\"header-wrapper pc-header-new\">\\n<div class=\"topbar cmn-clearfix\">\\n<ul class=\"wgt-userbar wgt-userbar-n\" id=\"j-wgt-userbar\">\\n<li>\\n<a href=\"http://www.baidu.com/\">百度首页</a>\\n</li>\\n</ul>\\n<div class=\"separator\"></div>\\n<div class=\"wiki-common-headTabBar\">\\n<a href=\"https://www.baidu.com/\" nslog=\"normal\" nslog-type=\"10600112\" data-href=\"https://www.baidu.com/s?ie=utf-8&fr=bks0000&wd=\">网页</a>\\n<a href=\"http://news.baidu.com/\" nslog=\"normal\" nslog-type=\"10600112\" data-href=\"http://news.baidu.com/ns?tn=news&cl=2&rn=20&ct=1&fr=bks0000&ie=utf-8&word=\">新闻</a>\\n<a href=\"https://tieba.baidu.com/\" nslog=\"normal\" nslog-type=\"10600112\" data-href=\"https://tieba.baidu.com/f?ie=utf-8&fr=bks0000&kw=\">贴吧</a>\\n<a href=\"https://zhidao.baidu.com/\" nslog=\"normal\" nslog-type=\"10600112\" data-href=\"https://zhidao.baidu.com/search?pn=0&&rn=10&lm=0&fr=bks0000&word=\">知道</a>\\n<a href=\"http://music.baidu.com/\" nslog=\"normal\" nslog-type=\"10600112\" data-href=\"http://music.baidu.com/search?f=ms&ct=134217728&ie=utf-8&rn=&lm=-1&pn=30&fr=bks0000&key=\">音乐</a>\\n<a href=\"http://image.baidu.com/\" nslog=\"normal\" nslog-type=\"10600112\" data-href=\"http://image.baidu.com/search/index?tn=baiduimage&ct=201326592&lm=-1&cl=2&nc=1&ie=utf-8&word=\">图片</a>\\n<a href=\"http://v.baidu.com/\" nslog=\"normal\" nslog-type=\"10600112\" data-href=\"https://www.baidu.com/sf/vsearch?pd=video&tn=vsearch&ie=utf-8&rsv_spt=17&wd=\">视频</a>\\n<a href=\"http://map.baidu.com/\" nslog=\"normal\" nslog-type=\"10600112\" data-href=\"http://map.baidu.com/m?ie=utf-8&fr=bks0000&word=\">地图</a>\\n<a href=\"https://wenku.baidu.com/\" nslog=\"normal\" nslog-type=\"10600112\" data-href=\"https://wenku.baidu.com/search?lm=0&od=0&ie=utf-8&fr=bks0000&word=\">文库</a>\\n<b class=\"baike\">百科</b>\\n</div>\\n</div>\\n<div class=\"header\">\\n<div class=\"layout\">\\n<div class=\"wgt-searchbar wgt-searchbar-new wgt-searchbar-main cmn-clearfix wgt-searchbar-large\">\\n<div class=\"logo-container\">\\n<a class=\"logo cmn-inline-block\" title=\"到百科首页\" href=\"/\">\\n<span class=\"cmn-baike-logo\">\\n<em class=\"cmn-icon cmn-icons cmn-icons_logo-bai\"></em>\\n<em class=\"cmn-icon cmn-icons cmn-icons_logo-du\"></em>\\n<em class=\"cmn-icon cmn-icons cmn-icons_logo-baike\"></em>\\n</span>\\n</a>\\n</div>\\n<div class=\"search\">\\n<div class=\"form\">\\n<form id=\"searchForm\" action=\"/search/word\" method=\"GET\" target=\"_self\">\\n<input id=\"query\" nslog=\"normal\" nslog-type=\"10080011\" name=\"word\" type=\"text\" autocomplete=\"off\" autocorrect=\"off\" value=\"北京地铁亦庄线\" /><button id=\"search\" nslog=\"normal\" nslog-type=\"10080008\" type=\"button\">进入词条</button><button id=\"searchLemma\" nslog=\"normal\" nslog-type=\"10080009\" type=\"button\">全站搜索</button><a class=\"help\" href=\"/help\" nslog=\"normal\" nslog-type=\"10080010\" target=\"_blank\">帮助</a>\\n</form>\\n<form id=\"searchLemmaForm\" action=\"/search\" method=\"GET\" target=\"_self\">\\n<input id=\"searchLemmaQuery\" name=\"word\" type=\"hidden\" />\\n<input name=\"pn\" type=\"hidden\" value=\"0\" />\\n<input name=\"rn\" type=\"hidden\" value=\"0\" />\\n<input name=\"enc\" type=\"hidden\" value=\"utf8\" />\\n</form>\\n<ul id=\"suggestion\" class=\"suggestion\">\\n<div class=\"sug\"></div>\\n<li class=\"extra\">\\n<span id=\"clear\" style=\"margin-right:8px;\">清除历史记录</span><span id=\"close\" nslog=\"normal\" nslog-type=\"10080012\">关闭</span>\\n</li>\\n</ul>\\n</div></div>\\n</div>\\n<div class=\"declare-wrap\" id=\"J-declare-wrap\">\\n<div class=\"declare\" id=\"J-declare\">声明：百科词条人人可编辑，词条创建和修改均免费，绝不存在官方及代理商付费代编，请勿上当受骗。<a class=\"declare-details\" target=\"_blank\" href=\"/common/declaration\">详情>></a>\\n<div class=\"close-btn\" id=\"J-declare-close\">\\n<em class=\"cmn-icon cmn-icons cmn-icons_close\"></em>\\n</div>\\n</div>\\n</div>\\n</div>\\n</div>\\n</div>\\n<div class=\"navbar-wrapper\">\\n<div class=\"wgt-navbar\">\\n<div class=\"navbar-bg\">\\n<div class=\"navbar-bg-top\">\\n<div class=\"navbar-content layout\">\\n<div class=\"navbar-content-box\">\\n<dl class=\"index \">\\n<dt><a href=\"/\">首页</a></dt>\\n<dd>\\n<div><a href=\"/calendar/\" target=\"_blank\">历史上的今天</a></div>\\n<div><a href=\"/vbaike/\" target=\"_blank\">百科冷知识</a></div>\\n<div><a href=\"/vbaike#gallary\" target=\"_blank\">图解百科</a></div>\\n</dd>\\n</dl>\\n<dl class=\"cat \">\\n<dt><a>分类</a></dt>\\n<dd>\\n<div><a href=\"/art\" target=\"_blank\">艺术</a></div>\\n<div><a href=\"/science\" target=\"_blank\">科学</a></div>\\n<div><a href=\"/ziran\" target=\"_blank\">自然</a></div>\\n<div><a href=\"/wenhua\" target=\"_blank\">文化</a></div>\\n<div><a href=\"/dili\" target=\"_blank\">地理</a></div>\\n<div><a href=\"/shenghuo\" target=\"_blank\">生活</a></div>\\n<div><a href=\"/shehui\" target=\"_blank\">社会</a></div>\\n<div><a href=\"/renwu\" target=\"_blank\">人物</a></div>\\n<div><a href=\"/jingji\" target=\"_blank\">经济</a></div>\\n<div><a href=\"/tiyu\" target=\"_blank\">体育</a></div>\\n<div><a href=\"/lishi\" target=\"_blank\">历史</a></div>\\n</dd>\\n</dl>\\n<dl class=\"second-know \">\\n<dt><a>秒懂百科</a></dt>\\n<dd><div><a href=\"https://child.baidu.com/\" target=\"_blank\">懂啦</a></div>\\n<div><a href=\"/item/秒懂星课堂\" target=\"_blank\">秒懂星课堂</a></div>\\n<div><a href=\"/item/秒懂大师说\" target=\"_blank\">秒懂大师说</a></div>\\n<div><a href=\"/item/秒懂看瓦特\" target=\"_blank\">秒懂看瓦特</a></div>\\n<div><a href=\"/item/秒懂五千年\" target=\"_blank\">秒懂五千年</a></div>\\n<div><a href=\"/item/秒懂全视界\" target=\"_blank\">秒懂全视界</a></div>\\n</dd>\\n</dl>\\n<dl class=\"special \">\\n<dt><a>特色百科</a></dt>\\n<dd><div><a href=\"/museum/\" target=\"_blank\">数字博物馆</a></div>\\n<div><a href=\"/feiyi?fr=dhlfeiyi\" target=\"_blank\">非遗百科</a></div>\\n<div><a href=\"https://shushuo.baidu.com/\" target=\"_blank\">百度数说</a></div>\\n<div><a href=\"/city/\" target=\"_blank\">城市百科</a></div>\\n<div><a href=\"/wikicategory/view?categoryName=恐龙大全\" target=\"_blank\">恐龙百科</a></div>\\n<div><a href=\"/wikicategory/view?categoryName=多肉植物\" target=\"_blank\">多肉百科</a></div>\\n</dd>\\n</dl>\\n<dl class=\"user \">\\n<dt><a>用户</a></dt>\\n<dd>\\n<div><a href=\"/kedou/\" target=\"_blank\">蝌蚪团</a></div>\\n<div><a href=\"/event/ranmeng/\" target=\"_blank\">燃梦计划</a></div>\\n<div><a href=\"/task/\" target=\"_blank\">百科任务</a></div>\\n<div><a href=\"/mall/\" target=\"_blank\">百科商城</a></div>\\n</dd>\\n</dl>\\n<dl class=\"cooperation \">\\n<dt><a>权威合作</a></dt>\\n<dd>\\n<div><a href=\"/operation/cooperation#joint\" target=\"_blank\">合作模式</a></div>\\n<div><a href=\"/operation/cooperation#issue\" target=\"_blank\">常见问题</a></div>\\n<div><a href=\"/operation/cooperation#connection\" target=\"_blank\">联系方式</a></div>\\n</dd>\\n</dl>\\n<div class=\"usercenter\">\\n<div><a href=\"/usercenter\" target=\"_blank\"><em class=\"cmn-icon cmn-icons cmn-icons_navbar-usercenter\"></em>个人中心</a></div>\\n</div></div>\\n</div>\\n</div>\\n</div>\\n</div>\\n</div>\\n\\n\\n<div class=\"body-wrapper\">\\n<div class=\"before-content\">\\n</div>\\n<div class=\"content-wrapper\">\\n<div class=\"content\">\\n<div class=\"personal-content\">\\n</div>\\n<div class=\"main-content\">\\n<div class=\"top-tool\">\\n<a class=\"add-sub-icon top-tool-icon\" href=\"javascript:;\" title=\"添加义项\" nslog-type=\"50000101\">\\n<em class=\"cmn-icon wiki-lemma-icons wiki-lemma-icons_add-subLemma-solid\"></em>\\n</a>\\n<a href=\"/divideload/%E5%8C%97%E4%BA%AC%E5%9C%B0%E9%93%81%E4%BA%A6%E5%BA%84%E7%BA%BF\" title=\"拆分词条\" target=\"_blank\" class=\"split-icon top-tool-icon\" style=\"display:none;\" nslog-type=\"50000104\">\\n<em class=\"cmn-icon wiki-lemma-icons wiki-lemma-icons_lemma-split\"></em>\\n</a>\\n<div class=\"top-collect top-tool-icon\" nslog=\"area\" nslog-type=\"50000102\">\\n<em class=\"cmn-icon wiki-lemma-icons wiki-lemma-icons_star-solid\"></em>\\n<span class=\"collect-text\">收藏</span>\\n<div class=\"collect-tip\">查看<a href=\"/uc/favolemma\" target=\"_blank\">我的收藏</a></div>\\n</div>\\n<a href=\"javascript:void(0);\" id=\"j-top-vote\" class=\"top-vote top-tool-icon\" nslog-type=\"10060801\">\\n<em class=\"cmn-icon wiki-lemma-icons wiki-lemma-icons_zan-solid\"></em>\\n<span class=\"vote-count\">0</span>\\n<span class=\"vote-tip\">有用+1</span>\\n<span class=\"voted-tip\">已投票</span>\\n</a><div class=\"bksharebuttonbox top-share\">\\n<a class=\"top-share-icon top-tool-icon\" nslog-type=\"9067\">\\n<em class=\"cmn-icon wiki-lemma-icons wiki-lemma-icons_share\"></em>\\n<span class=\"share-count\" id=\"j-topShareCount\">0</span>\\n</a>\\n<div class=\"new-top-share\" id=\"top-share\">\\n<ul class=\"top-share-list\">\\n<li class=\"top-share-item\">\\n<a class=\"share-link bds_qzone\"  href=\"javascript:void(0);\" nslog-type=\"10060501\">\\n<em class=\"cmn-icon cmn-icons cmn-icons_logo-qzone\"></em>\\n</a>\\n</li>\\n<li class=\"top-share-item\">\\n<a class=\"share-link bds_tsina\" href=\"javascript:void(0);\" nslog-type=\"10060701\">\\n<em class=\"cmn-icon cmn-icons cmn-icons_logo-sina-weibo\"></em>\\n</a>\\n</li>\\n<li class=\"top-share-item\">\\n<a class=\"bds_wechat\"  href=\"javascript:void(0);\" nslog-type=\"10060401\">\\n<em class=\"cmn-icon cmn-icons cmn-icons_logo-wechat\"></em>\\n</a>\\n</li>\\n<li class=\"top-share-item\">\\n<a class=\"share-link bds_tqq\"  href=\"javascript:void(0);\" nslog-type=\"10060601\">\\n<em class=\"cmn-icon cmn-icons cmn-icons_logo-qq\"></em>\\n</a>\\n</li>\\n</ul>\\n</div>\\n</div>\\n</div>\\n<div style=\"width:0;height:0;clear:both\"></div><dl class=\"lemmaWgt-lemmaTitle lemmaWgt-lemmaTitle-\">\\n<dd class=\"lemmaWgt-lemmaTitle-title\">\\n<h1 >北京地铁亦庄线</h1>\\n<a href=\"javascript:;\" class=\"edit-lemma cmn-btn-hover-blue cmn-btn-28 j-edit-link\"><em class=\"cmn-icon wiki-lemma-icons wiki-lemma-icons_edit-lemma\"></em>编辑</a>\\n<a class=\"lock-lemma\" nslog-type=\"10003105\" target=\"_blank\" href=\"javascript:;\" title=\"锁定\"><em class=\"cmn-icon wiki-lemma-icons wiki-lemma-icons_lock-lemma\"></em>锁定</a>\\n<a href=\"/planet/talk?lemmaId=1464622\" target=\"_blank\" class=\"lemma-discussion cmn-btn-hover-blue cmn-btn-28 j-discussion-link\" nslog-type=\"90000102\"><em class=\"cmn-icon wiki-lemma-icons wiki-lemma-icons_discussion-solid\"></em>讨论<span class=\"num\">999</span></a>\\n</dd>\\n</dl><div class=\"promotion-declaration\">\\n</div><div class=\"lemma-summary\" label-module=\"lemmaSummary\">\\n<div class=\"para\" label-module=\"para\">北京地铁亦庄线（以下简称“亦庄线”），是<a target=_blank href=\"/item/%E5%8C%97%E4%BA%AC%E5%9C%B0%E9%93%81/408485\" data-lemmaid=\"408485\">北京地铁</a>的一条郊区线路，连接北京市区与<a target=_blank href=\"/item/%E5%8C%97%E4%BA%AC%E7%BB%8F%E6%B5%8E%E6%8A%80%E6%9C%AF%E5%BC%80%E5%8F%91%E5%8C%BA/8025041\" data-lemmaid=\"8025041\">北京经济技术开发区</a>，由北京市地铁运营有限公司一分公司负责运营。</div><div class=\"para\" label-module=\"para\">该线于2010年12月30日除亦庄火车站之外全线开通。</div><div class=\"para\" label-module=\"para\">截至2018年12月29日，该线运营区段为宋家庄站至次渠站，途经丰台区、朝阳区、大兴区和通州区，运营里程23.3千米，共开放13座车站（其中换乘站1座），拥有车辆基地2座（<a target=_blank href=\"/item/%E5%AE%8B%E5%AE%B6%E5%BA%84/62507\" data-lemmaid=\"62507\">宋家庄</a>停车场和台湖车辆段）。</div><div class=\"para\" label-module=\"para\">2018年12月30日，暂缓开通整整8年的亦庄火车站与地铁8号线南段，6号线西延段，6号线北运河东站和7号线垈头站同时开通。至此，亦庄线全线通车。</div>\\n</div>\\n<div class=\"configModuleBanner\">\\n</div><div class=\"basic-info cmn-clearfix\">\\n<dl class=\"basicInfo-block basicInfo-left\">\\n<dt class=\"basicInfo-item name\">中文名</dt>\\n<dd class=\"basicInfo-item value\">\\n北京地铁亦庄线\\n</dd>\\n<dt class=\"basicInfo-item name\">外文名</dt>\\n<dd class=\"basicInfo-item value\">\\nBeijing Subway YIZHUANG Line\\n</dd>\\n<dt class=\"basicInfo-item name\">营运地区</dt>\\n<dd class=\"basicInfo-item value\">\\n<a target=_blank href=\"/item/%E5%8C%97%E4%BA%AC/128981\" data-lemmaid=\"128981\">北京</a>\\n</dd>\\n<dt class=\"basicInfo-item name\">服务类型</dt>\\n<dd class=\"basicInfo-item value\">\\n<a target=_blank href=\"/item/%E5%9F%8E%E5%B8%82%E8%BD%A8%E9%81%93%E4%BA%A4%E9%80%9A%E7%B3%BB%E7%BB%9F\">城市轨道交通系统</a>\\n</dd>\\n<dt class=\"basicInfo-item name\">所属系统</dt>\\n<dd class=\"basicInfo-item value\">\\n<a target=_blank href=\"/item/%E5%8C%97%E4%BA%AC%E5%9C%B0%E9%93%81/408485\" data-lemmaid=\"408485\">北京地铁</a>\\n</dd>\\n<dt class=\"basicInfo-item name\">车站总数</dt>\\n<dd class=\"basicInfo-item value\">\\n14（换乘车站1座）\\n</dd>\\n<dt class=\"basicInfo-item name\">起讫站点</dt>\\n<dd class=\"basicInfo-item value\">\\n宋家庄——亦庄火车站\\n</dd>\\n<dt class=\"basicInfo-item name\">路线类型</dt>\\n<dd class=\"basicInfo-item value\">\\n高架/地下\\n</dd>\\n</dl><dl class=\"basicInfo-block basicInfo-right\">\\n<dt class=\"basicInfo-item name\">路线长度</dt>\\n<dd class=\"basicInfo-item value\">\\n23.3千米\\n</dd>\\n<dt class=\"basicInfo-item name\">最高速度</dt>\\n<dd class=\"basicInfo-item value\">\\n80千米/小时\\n</dd>\\n<dt class=\"basicInfo-item name\">轨道标准</dt>\\n<dd class=\"basicInfo-item value\">\\n1435毫米\\n</dd>\\n<dt class=\"basicInfo-item name\">供电方式</dt>\\n<dd class=\"basicInfo-item value\">\\n直流750V，<a target=_blank href=\"/item/%E7%AC%AC%E4%B8%89%E8%BD%A8%E4%BE%9B%E7%94%B5\">第三轨供电</a>\\n</dd>\\n<dt class=\"basicInfo-item name\">车辆基地</dt>\\n<dd class=\"basicInfo-item value\">\\n<a target=_blank href=\"/item/%E5%AE%8B%E5%AE%B6%E5%BA%84%E5%81%9C%E8%BD%A6%E5%9C%BA\">宋家庄停车场</a>、<a target=_blank href=\"/item/%E5%8F%B0%E6%B9%96%E8%BD%A6%E8%BE%86%E6%AE%B5\">台湖车辆段</a>\\n</dd>\\n<dt class=\"basicInfo-item name\">列车编组</dt>\\n<dd class=\"basicInfo-item value\">\\nB型车6节编组\\n</dd>\\n<dt class=\"basicInfo-item name\">开通营运</dt>\\n<dd class=\"basicInfo-item value\">\\n2010年12月30日\\n</dd>\\n<dt class=\"basicInfo-item name\">运营单位</dt>\\n<dd class=\"basicInfo-item value\">\\n<a target=_blank href=\"/item/%E5%8C%97%E4%BA%AC%E5%B8%82%E5%9C%B0%E9%93%81%E8%BF%90%E8%90%A5%E6%9C%89%E9%99%90%E5%85%AC%E5%8F%B8\">北京市地铁运营有限公司</a>一分公司\\n</dd>\\n<dt class=\"basicInfo-item name\">线路标识色</dt>\\n<dd class=\"basicInfo-item value\">\\n桃红色（RGB：228,0,119）\\n</dd>\\n</dl></div>\\n<div class=\"lemmaWgt-lemmaCatalog\">\\n<div class=\"lemma-catalog\">\\n<h2 class=\"block-title\">目录</h2>\\n<div class=\"catalog-list column-3\">\\n<ol>\\n<li class=\"level1\">\\n<span class=\"index\">1</span>\\n<span class=\"text\"><a href=\"#1\">历史沿革</a></span>\\n</li>\\n<li class=\"level2\">\\n<span class=\"index\">▪</span>\\n<span class=\"text\"><a href=\"#1_1\">规划时期</a></span>\\n</li>\\n<li class=\"level2\">\\n<span class=\"index\">▪</span>\\n<span class=\"text\"><a href=\"#1_2\">建设时期</a></span>\\n</li>\\n<li class=\"level2\">\\n<span class=\"index\">▪</span>\\n<span class=\"text\"><a href=\"#1_3\">运营时期</a></span>\\n</li>\\n<li class=\"level1\">\\n<span class=\"index\">2</span>\\n<span class=\"text\"><a href=\"#2\">运营信息</a></span>\\n</li>\\n</ol><ol><li class=\"level2\">\\n<span class=\"index\">▪</span>\\n<span class=\"text\"><a href=\"#2_1\">线路数据</a></span>\\n</li>\\n<li class=\"level1\">\\n<span class=\"index\">3</span>\\n<span class=\"text\"><a href=\"#3\">硬件设施</a></span>\\n</li>\\n<li class=\"level2\">\\n<span class=\"index\">▪</span>\\n<span class=\"text\"><a href=\"#3_1\">列车</a></span>\\n</li>\\n<li class=\"level2\">\\n<span class=\"index\">▪</span>\\n<span class=\"text\"><a href=\"#3_2\">信号系统</a></span>\\n</li>\\n<li class=\"level2\">\\n<span class=\"index\">▪</span>\\n<span class=\"text\"><a href=\"#3_3\">车辆基地</a></span>\\n</li>\\n<li class=\"level1\">\\n<span class=\"index\">4</span>\\n<span class=\"text\"><a href=\"#4\">线路标识</a></span>\\n</li>\\n</ol><ol><li class=\"level1\">\\n<span class=\"index\">5</span>\\n<span class=\"text\"><a href=\"#5\">管理机构</a></span>\\n</li>\\n<li class=\"level1\">\\n<span class=\"index\">6</span>\\n<span class=\"text\"><a href=\"#6\">票价规定</a></span>\\n</li>\\n<li class=\"level1\">\\n<span class=\"index\">7</span>\\n<span class=\"text\"><a href=\"#7\">建设意义</a></span>\\n</li>\\n</ol>\\n\\n</div>\\n</div>\\n</div>\\n<div class=\"anchor-list\">\\n<a name=\"1\" class=\"lemma-anchor para-title\" ></a>\\n<a name=\"sub4291480_1\" class=\"lemma-anchor \" ></a>\\n<a name=\"历史沿革\" class=\"lemma-anchor \" ></a>\\n</div><div class=\"para-title level-2\" label-module=\"para-title\">\\n<h2 class=\"title-text\"><span class=\"title-prefix\">北京地铁亦庄线</span>历史沿革</h2>\\n<a class=\"edit-icon j-edit-link\" data-edit-dl=\"1\" href=\"javascript:;\"><em class=\"cmn-icon wiki-lemma-icons wiki-lemma-icons_edit-lemma\"></em>编辑</a>\\n</div>\\n<div class=\"anchor-list\">\\n<a name=\"1_1\" class=\"lemma-anchor para-title\" ></a>\\n<a name=\"sub4291480_1_1\" class=\"lemma-anchor \" ></a>\\n<a name=\"规划时期\" class=\"lemma-anchor \" ></a>\\n<a name=\"1-1\" class=\"lemma-anchor \" ></a>\\n</div><div class=\"para-title level-3\" label-module=\"para-title\">\\n<h3 class=\"title-text\"><span class=\"title-prefix\">北京地铁亦庄线</span>规划时期</h3>\\n</div>\\n<div class=\"para\" label-module=\"para\"><a class=\"lemma-album layout-right nslog:10000206\" title=\"施工过程\"  href=\"/pic/%E5%8C%97%E4%BA%AC%E5%9C%B0%E9%93%81%E4%BA%A6%E5%BA%84%E7%BA%BF/1464622/1155584/314e251f95cad1c8bda956a27f3e6709c93d5120?fr=lemma&ct=cover\" target=\"_blank\"  style=\"width:222px;\" nslog-type=\"10000206\">\\n<div class=\"album-wrap\" style=\"width:220px;height:164px;\">\\n<img class=\"picture\" alt=\"施工过程\" src=\"https://gss2.bdstatic.com/9fo3dSag_xI4khGkpoWK1HF6hhy/baike/s%3D220/sign=9f1a7a68e71190ef05fb95ddfe1a9df7/314e251f95cad1c8bda956a27f3e6709c93d5120.jpg\" style=\"width:220px;height:164px;\"/>\\n</div>\\n<div class=\"description\">\\n施工过程<span class=\"number\">(38张)</span>\\n</div>\\n<div class=\"albumBg\">\\n<div class=\"albumBgFir\" style=\"width:214px;\"></div>\\n<div class=\"albumBgSec\" style=\"width:208px;\"></div>\\n</div>\\n</a>\\n早在2004年，亦庄线的规划就已经被原则性同意，线路走向与现在线路主要在亦庄开发区核心区内有所区别，长度略短。<sup class=\"sup--normal\" data-sup=\"1-2\" data-ctrmap=\":1,:2,\">\\n[1-2]</sup><a class=\"sup-anchor\" name=\"ref_[1-2]_4291480\">&nbsp;</a>\\n</div>\\r\\n<div class=\"para\" label-module=\"para\">2007年5月，亦庄线线路规划方案通过审查并获得批复。<sup class=\"sup--normal\" data-sup=\"3-4\" data-ctrmap=\":3,:4,\">\\n[3-4]</sup><a class=\"sup-anchor\" name=\"ref_[3-4]_4291480\">&nbsp;</a>\\n</div><div class=\"anchor-list\">\\n<a name=\"1_2\" class=\"lemma-anchor para-title\" ></a>\\n<a name=\"sub4291480_1_2\" class=\"lemma-anchor \" ></a>\\n<a name=\"建设时期\" class=\"lemma-anchor \" ></a>\\n<a name=\"1-2\" class=\"lemma-anchor \" ></a>\\n</div><div class=\"para-title level-3\" label-module=\"para-title\">\\n<h3 class=\"title-text\"><span class=\"title-prefix\">北京地铁亦庄线</span>建设时期</h3>\\n</div>\\n<div class=\"para\" label-module=\"para\" style=\"clear: both;\" ><a class=\"lemma-album layout-right nslog:10000206\" title=\"肖村站\"  href=\"/pic/%E5%8C%97%E4%BA%AC%E5%9C%B0%E9%93%81%E4%BA%A6%E5%BA%84%E7%BA%BF/1464622/20442792/a8773912b31bb0518a681ea2367adab44bede0e8?fr=lemma&ct=cover\" target=\"_blank\"  style=\"width:222px;\" nslog-type=\"10000206\">\\n<div class=\"album-wrap\" style=\"width:220px;height:165px;\">\\n<img class=\"picture\" alt=\"肖村站\" src=\"https://gss2.bdstatic.com/9fo3dSag_xI4khGkpoWK1HF6hhy/baike/s%3D220/sign=23ab197139dbb6fd215be2243925aba6/a8773912b31bb0518a681ea2367adab44bede0e8.jpg\" style=\"width:220px;height:165px;\"/>\\n</div>\\n<div class=\"description\">\\n肖村站<span class=\"number\">(4张)</span>\\n</div>\\n<div class=\"albumBg\">\\n<div class=\"albumBgFir\" style=\"width:214px;\"></div>\\n<div class=\"albumBgSec\" style=\"width:208px;\"></div>\\n</div>\\n</a>\\n2007年12月8日，亦庄线正式进场开工。<sup class=\"sup--normal\" data-sup=\"5\" data-ctrmap=\":5,\">\\n[5]</sup><a class=\"sup-anchor\" name=\"ref_[5]_4291480\">&nbsp;</a>\\n</div>\\r\\n<div class=\"para\" label-module=\"para\" style=\"clear: both;\" >2008年8月25日，亦庄线BT（建设、转让）项目正式签约，北京城建集团成为中标方。<sup class=\"sup--normal\" data-sup=\"6\" data-ctrmap=\":6,\">\\n[6]</sup><a class=\"sup-anchor\" name=\"ref_[6]_4291480\">&nbsp;</a>\\n10月16日，荣昌东街站正式开工，是亦庄线首个开工的高架车站。<sup class=\"sup--normal\" data-sup=\"7\" data-ctrmap=\":7,\">\\n[7]</sup><a class=\"sup-anchor\" name=\"ref_[7]_4291480\">&nbsp;</a>\\n</div>\\r\\n<div class=\"para\" label-module=\"para\">2009年3月，亦庄线终点站亦庄火车站开工。<sup class=\"sup--normal\" data-sup=\"8\" data-ctrmap=\":8,\">\\n[8]</sup><a class=\"sup-anchor\" name=\"ref_[8]_4291480\">&nbsp;</a>\\n5月，国家发展改革委批准亦庄线工程可行性研究报告。<sup class=\"sup--normal\" data-sup=\"9\" data-ctrmap=\":9,\">\\n[9]</sup><a class=\"sup-anchor\" name=\"ref_[9]_4291480\">&nbsp;</a>\\n6月21日上午，亦庄线宋家庄—肖村盾构区间开始盾构。<sup class=\"sup--normal\" data-sup=\"10\" data-ctrmap=\":10,\">\\n[10]</sup><a class=\"sup-anchor\" name=\"ref_[10]_4291480\">&nbsp;</a>\\n7月12日，亦庄线高架部分成功吊起第一根桥梁并安装完成。<sup class=\"sup--normal\" data-sup=\"11\" data-ctrmap=\":11,\">\\n[11]</sup><a class=\"sup-anchor\" name=\"ref_[11]_4291480\">&nbsp;</a>\\n11月23日，市规划委公示亦庄线站名。<sup class=\"sup--normal\" data-sup=\"12\" data-ctrmap=\":12,\">\\n[12]</sup><a class=\"sup-anchor\" name=\"ref_[12]_4291480\">&nbsp;</a>\\n12月8日，亦庄线次渠南站主体结构封顶。<sup class=\"sup--normal\" data-sup=\"13\" data-ctrmap=\":13,\">\\n[13]</sup><a class=\"sup-anchor\" name=\"ref_[13]_4291480\">&nbsp;</a>\\n</div>\\r\\n<div class=\"para\" label-module=\"para\"><a class=\"lemma-album layout-right nslog:10000206\" title=\"万源街站\"  href=\"/pic/%E5%8C%97%E4%BA%AC%E5%9C%B0%E9%93%81%E4%BA%A6%E5%BA%84%E7%BA%BF/1464622/20442793/9a504fc2d56285358f44faa890ef76c6a6ef6396?fr=lemma&ct=cover\" target=\"_blank\"  style=\"width:222px;\" nslog-type=\"10000206\">\\n<div class=\"album-wrap\" style=\"width:220px;height:165px;\">\\n<img class=\"picture\" alt=\"万源街站\" src=\"https://gss2.bdstatic.com/9fo3dSag_xI4khGkpoWK1HF6hhy/baike/s%3D220/sign=69a2460cc9ea15ce45eee70b86013a25/9a504fc2d56285358f44faa890ef76c6a6ef6396.jpg\" style=\"width:220px;height:165px;\"/>\\n</div>\\n<div class=\"description\">\\n万源街站<span class=\"number\">(10张)</span>\\n</div>\\n<div class=\"albumBg\">\\n<div class=\"albumBgFir\" style=\"width:214px;\"></div>\\n<div class=\"albumBgSec\" style=\"width:208px;\"></div>\\n</div>\\n</a>\\n2010年1月25日凌晨，亦庄线成功跨越五环路。<sup class=\"sup--normal\" data-sup=\"14\" data-ctrmap=\":14,\">\\n[14]</sup><a class=\"sup-anchor\" name=\"ref_[14]_4291480\">&nbsp;</a>\\n2月8日，亦庄线开始进场铺轨。<sup class=\"sup--normal\" data-sup=\"15\" data-ctrmap=\":15,\">\\n[15]</sup><a class=\"sup-anchor\" name=\"ref_[15]_4291480\">&nbsp;</a>\\n3月1日，亦庄线成功下穿京津高速。<sup class=\"sup--normal\" data-sup=\"16\" data-ctrmap=\":16,\">\\n[16]</sup><a class=\"sup-anchor\" name=\"ref_[16]_4291480\">&nbsp;</a>\\n4月29日，亦庄线万源街至次渠南区间样板段实现轨道贯通。<sup class=\"sup--normal\" data-sup=\"17\" data-ctrmap=\":17,\">\\n[17]</sup><a class=\"sup-anchor\" name=\"ref_[17]_4291480\">&nbsp;</a>\\n5月20日，亦庄线全线隧道贯通。<sup class=\"sup--normal\" data-sup=\"18\" data-ctrmap=\":18,\">\\n[18]</sup><a class=\"sup-anchor\" name=\"ref_[18]_4291480\">&nbsp;</a>\\n6月底，亦庄线车站开始进场装修。<sup class=\"sup--normal\" data-sup=\"19\" data-ctrmap=\":19,\">\\n[19]</sup><a class=\"sup-anchor\" name=\"ref_[19]_4291480\">&nbsp;</a>\\n7月2日，亦庄线开始动车调试。<sup class=\"sup--normal\" data-sup=\"20\" data-ctrmap=\":20,\">\\n[20]</sup><a class=\"sup-anchor\" name=\"ref_[20]_4291480\">&nbsp;</a>\\n8月27日，亦庄线开始空载试运行。<sup class=\"sup--normal\" data-sup=\"21\" data-ctrmap=\":21,\">\\n[21]</sup><a class=\"sup-anchor\" name=\"ref_[21]_4291480\">&nbsp;</a>\\n</div><div class=\"anchor-list\">\\n<a name=\"1_3\" class=\"lemma-anchor para-title\" ></a>\\n<a name=\"sub4291480_1_3\" class=\"lemma-anchor \" ></a>\\n<a name=\"运营时期\" class=\"lemma-anchor \" ></a>\\n<a name=\"1-3\" class=\"lemma-anchor \" ></a>\\n</div><div class=\"para-title level-3\" label-module=\"para-title\">\\n<h3 class=\"title-text\"><span class=\"title-prefix\">北京地铁亦庄线</span>运营时期</h3>\\n</div>\\n<div class=\"para\" label-module=\"para\"><div class=\"lemma-picture text-pic layout-right\" style=\"width:220px; float: right;\">\\n<a class=\"image-link\" nslog-type=\"9317\" \\r\\n\\t\\t\\thref=\"/pic/%E5%8C%97%E4%BA%AC%E5%9C%B0%E9%93%81%E4%BA%A6%E5%BA%84%E7%BA%BF/1464622/0/cdbf6c81800a19d8f6d7ebb03bfa828ba71e46aa?fr=lemma&ct=single\" target=\"_blank\"\\r\\n\\t\\ttitle=\"旧宫站\" style=\"width:220px;height:165px;\">\\n<img  class=\"lazy-img\" src=\"data:image/png;base64,iVBORw0KGgoAAAANSUhEUgAAAAEAAAABCAMAAAAoyzS7AAAAGXRFWHRTb2Z0d2FyZQBBZG9iZSBJbWFnZVJlYWR5ccllPAAAAAZQTFRF9fX1AAAA0VQI3QAAAAxJREFUeNpiYAAIMAAAAgABT21Z4QAAAABJRU5ErkJggg==\" data-src=\"https://gss2.bdstatic.com/9fo3dSag_xI4khGkpoWK1HF6hhy/baike/s%3D220/sign=c7f95b6c3101213fcb3349de64e636f8/cdbf6c81800a19d8f6d7ebb03bfa828ba71e46aa.jpg\"  alt=\"旧宫站\" style=\"width:220px;height:165px;\"/>\\n</a>\\n<span class=\"description\">\\n旧宫站\\n<sup>[22]</sup>\\n<a name=\"ref_[22]_\"></a>\\n</span>\\n</div></div>\\r\\n<div class=\"para\" label-module=\"para\">2010年12月30日，亦庄线全线开通运营。<sup class=\"sup--normal\" data-sup=\"23\" data-ctrmap=\":23,\">\\n[23]</sup><a class=\"sup-anchor\" name=\"ref_[23]_4291480\">&nbsp;</a>\\n（地铁<a target=_blank href=\"/item/%E4%BA%A6%E5%BA%84%E7%81%AB%E8%BD%A6%E7%AB%99/17514913\" data-lemmaid=\"17514913\">亦庄火车站</a>此时暂缓开通。）</div>\\r\\n<div class=\"para\" label-module=\"para\">2015年3月25日15时，亦庄线台湖车辆段试车线上，编号为YZ021的一列车辆在调试过程中冲出试车线冲入张台路，对亦庄线正线列车没有影响。官方微博称，事故车为调试列车，无乘客受伤。</div>\\r\\n<div class=\"para\" label-module=\"para\">2018年12月30日，地铁<a target=_blank href=\"/item/%E4%BA%A6%E5%BA%84%E7%81%AB%E8%BD%A6%E7%AB%99/17514913\" data-lemmaid=\"17514913\">亦庄火车站</a>开通，至此亦庄线全线通车。</div><div class=\"anchor-list\">\\n<a name=\"2\" class=\"lemma-anchor para-title\" ></a>\\n<a name=\"sub4291480_2\" class=\"lemma-anchor \" ></a>\\n<a name=\"运营信息\" class=\"lemma-anchor \" ></a>\\n</div><div class=\"para-title level-2\" label-module=\"para-title\">\\n<h2 class=\"title-text\"><span class=\"title-prefix\">北京地铁亦庄线</span>运营信息</h2>\\n<a class=\"edit-icon j-edit-link\" data-edit-dl=\"2\" href=\"javascript:;\"><em class=\"cmn-icon wiki-lemma-icons wiki-lemma-icons_edit-lemma\"></em>编辑</a>\\n</div>\\n<div class=\"anchor-list\">\\n<a name=\"2_1\" class=\"lemma-anchor para-title\" ></a>\\n<a name=\"sub4291480_2_1\" class=\"lemma-anchor \" ></a>\\n<a name=\"线路数据\" class=\"lemma-anchor \" ></a>\\n<a name=\"2-1\" class=\"lemma-anchor \" ></a>\\n</div><div class=\"para-title level-3\" label-module=\"para-title\">\\n<h3 class=\"title-text\"><span class=\"title-prefix\">北京地铁亦庄线</span>线路数据</h3>\\n</div>\\n<table log-set-param=\"table_view\" class=\"table-view log-set-param\"><caption>北京地铁亦庄线线路数据</caption><tr><td height=\"0\" align=\"center\" valign=\"middle\" colspan=\"2\"><b>概况</b></td></tr><tr><td height=\"22\" align=\"center\" valign=\"middle\"><a target=_blank href=\"/item/%E7%B1%BB%E5%9E%8B/33084\" data-lemmaid=\"33084\">类型</a></td><td height=\"22\" align=\"center\" valign=\"middle\"><a target=_blank href=\"/item/%E5%9C%B0%E9%93%81/21266\" data-lemmaid=\"21266\">地铁</a></td></tr><tr><td align=\"center\" valign=\"middle\"><a target=_blank href=\"/item/%E6%89%80%E5%B1%9E/6644599\" data-lemmaid=\"6644599\">所属</a><a target=_blank href=\"/item/%E7%B3%BB%E7%BB%9F/479832\" data-lemmaid=\"479832\">系统</a></td><td align=\"center\" valign=\"middle\"><a target=_blank href=\"/item/%E5%8C%97%E4%BA%AC%E5%9C%B0%E9%93%81\">北京地铁</a></td></tr><tr><td align=\"center\" valign=\"middle\">起止<a target=_blank href=\"/item/%E7%AB%99/4693967\" data-lemmaid=\"4693967\">站</a></td><td align=\"center\" valign=\"middle\"><a target=_blank href=\"/item/%E5%AE%8B%E5%AE%B6%E5%BA%84%E7%AB%99/75170\" data-lemmaid=\"75170\">宋家庄站</a><a target=_blank href=\"/item/%E2%80%94%E2%80%94/1397342\" data-lemmaid=\"1397342\">——</a><a target=_blank href=\"/item/%E4%BA%A6%E5%BA%84%E7%81%AB%E8%BD%A6%E7%AB%99/17514913\" data-lemmaid=\"17514913\">亦庄火车站</a></td></tr><tr><td align=\"center\" valign=\"middle\"><a target=_blank href=\"/item/%E8%BD%A6%E7%AB%99/74967\" data-lemmaid=\"74967\">车站</a><a target=_blank href=\"/item/%E6%95%B0/6013\" data-lemmaid=\"6013\">数</a></td><td align=\"center\" valign=\"middle\">14个</td></tr><tr><td height=\"0\" align=\"center\" valign=\"middle\" colspan=\"2\"><a target=_blank href=\"/item/%E8%BF%90%E8%90%A5/5144034\" data-lemmaid=\"5144034\"><b>运营</b></a></td></tr><tr><td align=\"center\" valign=\"middle\"><a target=_blank href=\"/item/%E8%90%A5%E8%BF%90/8491250\" data-lemmaid=\"8491250\">营运</a><a target=_blank href=\"/item/%E5%9C%B0%E5%8C%BA/13841496\" data-lemmaid=\"13841496\">地区</a></td><td align=\"center\" valign=\"middle\">中国北京</td></tr><tr><td align=\"center\" valign=\"middle\"><a target=_blank href=\"/item/%E7%9B%AE%E5%89%8D/9488911\" data-lemmaid=\"9488911\">目前</a><a target=_blank href=\"/item/%E7%8A%B6%E6%80%81/33204\" data-lemmaid=\"33204\">状态</a></td><td align=\"center\" valign=\"middle\"><a target=_blank href=\"/item/%E8%BF%90%E8%90%A5/5144034\" data-lemmaid=\"5144034\">运营</a><a target=_blank href=\"/item/%E4%B8%AD/977204\" data-lemmaid=\"977204\">中</a></td></tr><tr><td align=\"center\" valign=\"middle\"><a target=_blank href=\"/item/%E5%BC%80%E9%80%9A/11050065\" data-lemmaid=\"11050065\">开通</a><a target=_blank href=\"/item/%E6%97%A5%E6%9C%9F/10041963\" data-lemmaid=\"10041963\">日期</a></td><td align=\"center\" valign=\"middle\"><div class=\"para\" label-module=\"para\">2010年12月31日</div>\\r\\n</td></tr><tr><td align=\"center\" valign=\"middle\">运营方</td><td align=\"center\" valign=\"middle\"><a target=_blank href=\"/item/%E5%8C%97%E4%BA%AC%E5%9C%B0%E9%93%81%E8%BF%90%E8%90%A5%E6%9C%89%E9%99%90%E5%85%AC%E5%8F%B8/626947\" data-lemmaid=\"626947\">北京地铁运营有限公司</a>一分公司</td></tr><tr><td align=\"center\" valign=\"middle\"><a target=_blank href=\"/item/%E7%BA%BF%E8%B7%AF/1005992\" data-lemmaid=\"1005992\">线路</a>标识色</td><td align=\"center\" valign=\"middle\">桃红色：（RGB：228,0，119）</td></tr><tr><td height=\"0\" align=\"center\" valign=\"middle\" colspan=\"2\"><b>技术</b></td></tr><tr><td align=\"center\" valign=\"middle\"><a target=_blank href=\"/item/%E5%85%A8%E9%95%BF/302096\" data-lemmaid=\"302096\">全长</a></td><td align=\"center\" valign=\"middle\">23.3<a target=_blank href=\"/item/km/17612387\" data-lemmaid=\"17612387\">km</a></td></tr><tr><td align=\"center\" valign=\"middle\"><a target=_blank href=\"/item/%E5%8F%8C%E7%BA%BF/8399729\" data-lemmaid=\"8399729\">双线</a></td><td align=\"center\" valign=\"middle\"><a target=_blank href=\"/item/%E5%85%A8%E7%BA%BF/1115431\" data-lemmaid=\"1115431\">全线</a></td></tr><tr><td align=\"center\" valign=\"middle\"><a target=_blank href=\"/item/%E8%BD%A8%E8%B7%9D/10615249\" data-lemmaid=\"10615249\">轨距</a></td><td align=\"center\" valign=\"middle\">1435mm</td></tr><tr><td align=\"center\" valign=\"middle\"><a target=_blank href=\"/item/%E7%94%B5%E6%B0%94%E5%8C%96/2453838\" data-lemmaid=\"2453838\">电气化</a></td><td align=\"center\" valign=\"middle\">直流750V，<a target=_blank href=\"/item/%E7%AC%AC%E4%B8%89%E8%BD%A8/6279936\" data-lemmaid=\"6279936\">第三轨</a><a target=_blank href=\"/item/%E4%BE%9B%E7%94%B5/8331597\" data-lemmaid=\"8331597\">供电</a></td></tr><tr><td align=\"center\" valign=\"middle\"><a target=_blank href=\"/item/%E6%9C%80%E9%AB%98%E6%97%B6%E9%80%9F/17413348\" data-lemmaid=\"17413348\">最高时速</a></td><td align=\"center\" valign=\"middle\"><a target=_blank href=\"/item/80/9395131\" data-lemmaid=\"9395131\">80</a><a target=_blank href=\"/item/km/17612387\" data-lemmaid=\"17612387\">km</a>/h</td></tr><tr><td align=\"center\" valign=\"middle\"><a target=_blank href=\"/item/%E7%BC%96%E7%BB%84/1517922\" data-lemmaid=\"1517922\">编组</a></td><td align=\"center\" valign=\"middle\">6B</td></tr><tr><td align=\"center\" valign=\"middle\"><a target=_blank href=\"/item/%E8%BD%A6%E8%BE%86%E6%AE%B5/7416940\" data-lemmaid=\"7416940\">车辆段</a></td><td align=\"center\" valign=\"middle\">1处<a target=_blank href=\"/item/%E5%8F%B0%E6%B9%96%E8%BD%A6%E8%BE%86%E6%AE%B5/6684625\" data-lemmaid=\"6684625\">台湖车辆段</a></td></tr><tr><td align=\"center\" valign=\"middle\" colspan=\"1\" rowspan=\"1\"><a target=_blank href=\"/item/%E5%81%9C%E8%BD%A6%E5%9C%BA/5297627\" data-lemmaid=\"5297627\">停车场</a></td><td align=\"center\" valign=\"middle\" colspan=\"1\" rowspan=\"1\">1<a target=_blank href=\"/item/%E5%A4%84/5430778\" data-lemmaid=\"5430778\">处</a> <a target=_blank href=\"/item/%E5%AE%8B%E5%AE%B6%E5%BA%84%E5%81%9C%E8%BD%A6%E5%9C%BA/6683936\" data-lemmaid=\"6683936\">宋家庄停车场</a>（与5号线、10号线共用）</td></tr><tr><td align=\"center\" valign=\"middle\">使用车型</td><td align=\"center\" valign=\"middle\">DKZ32（YZ001-YZ023）</td></tr></table><div class=\"para\" label-module=\"para\"><div class=\"lemma-picture text-pic layout-right\" style=\"width:220px; margin: 0px auto; text-indent: 2em; clear: both; display: block; float: right;\">\\n<a class=\"image-link\" nslog-type=\"9317\" \\r\\n\\t\\t\\thref=\"/pic/%E5%8C%97%E4%BA%AC%E5%9C%B0%E9%93%81%E4%BA%A6%E5%BA%84%E7%BA%BF/1464622/0/1b4c510fd9f9d72a73c619fdd42a2834359bbbab?fr=lemma&ct=single\" target=\"_blank\"\\r\\n\\t\\ttitle=\"北京地铁亦庄线线位、站位图\" style=\"width:220px;height:122px;\">\\n<img  class=\"lazy-img\" src=\"data:image/png;base64,iVBORw0KGgoAAAANSUhEUgAAAAEAAAABCAMAAAAoyzS7AAAAGXRFWHRTb2Z0d2FyZQBBZG9iZSBJbWFnZVJlYWR5ccllPAAAAAZQTFRF9fX1AAAA0VQI3QAAAAxJREFUeNpiYAAIMAAAAgABT21Z4QAAAABJRU5ErkJggg==\" data-src=\"https://gss3.bdstatic.com/-Po3dSag_xI4khGkpoWK1HF6hhy/baike/s%3D220/sign=ba9e70d86e061d957946303a4bf50a5d/1b4c510fd9f9d72a73c619fdd42a2834359bbbab.jpg\"  alt=\"北京地铁亦庄线线位、站位图\" style=\"width:220px;height:122px;\"/>\\n</a>\\n<span class=\"description\">\\n北京地铁亦庄线线位、站位图\\n</span>\\n</div></div>\\r\\n<table log-set-param=\"table_view\" width=\"658\" class=\"table-view log-set-param\" data-sort=\"sortDisabled\"><caption>车站信息<br/>\\u3000\\u3000</caption><tr><th width=\"25\">车站编号</th><th width=\"76\" align=\"center\" valign=\"middle\">车站名称</th><th width=\"130\">可换乘线路</th><th width=\"57\" align=\"center\" valign=\"middle\">敷设方式</th><th width=\"67\" align=\"center\" valign=\"middle\">站厅形式</th><th width=\"97\" align=\"center\" valign=\"middle\">站台形式</th><th width=\"146\" align=\"center\" valign=\"middle\">开门方向</th><th width=\"59\" align=\"center\" valign=\"middle\">参考资料</th></tr><tr><th width=\"25\">YZ01</th><td width=\"76\" align=\"center\" valign=\"middle\"><div class=\"para\" label-module=\"para\"><a target=_blank href=\"/item/%E5%AE%8B%E5%AE%B6%E5%BA%84%E7%AB%99/75170\" data-lemmaid=\"75170\">宋家庄站</a></div>\\r\\n</td><td width=\"130\" align=\"center\" valign=\"middle\" colspan=\"1\" rowspan=\"1\"><div class=\"para\" label-module=\"para\"><a target=_blank href=\"/item/%E5%8C%97%E4%BA%AC%E5%9C%B0%E9%93%8110%E5%8F%B7%E7%BA%BF/10671613\" data-lemmaid=\"10671613\">北京地铁10号线</a></div>\\r\\n<div class=\"para\" label-module=\"para\"><a target=_blank href=\"/item/%E5%8C%97%E4%BA%AC%E5%9C%B0%E9%93%815%E5%8F%B7%E7%BA%BF/8137022\" data-lemmaid=\"8137022\">北京地铁5号线</a></div>\\r\\n</td><td width=\"57\" align=\"center\" valign=\"middle\" colspan=\"1\" rowspan=\"3\"><a target=_blank href=\"/item/%E5%9C%B0%E4%B8%8B/46835\" data-lemmaid=\"46835\">地下</a></td><td width=\"67\" align=\"center\" valign=\"middle\" colspan=\"1\" rowspan=\"3\">整体式站厅</td><td width=\"97\" align=\"center\" valign=\"middle\"><div class=\"para\" label-module=\"para\">港湾式站台</div>\\r\\n<div class=\"para\" label-module=\"para\">西班牙式站台布局</div>\\r\\n</td><td width=\"146\" align=\"center\" valign=\"middle\">先开左侧下客，再开右侧上客</td><td width=\"59\" align=\"center\" valign=\"middle\"><sup class=\"sup--normal\" data-sup=\"24\" data-ctrmap=\":24,\">\\n[24]</sup><a class=\"sup-anchor\" name=\"ref_[24]_4291480\">&nbsp;</a>\\n</td></tr><tr><th width=\"25\">YZ02</th><td width=\"76\" align=\"center\" valign=\"middle\"><div class=\"para\" label-module=\"para\"><a target=_blank href=\"/item/%E8%82%96%E6%9D%91%E7%AB%99/5670347\" data-lemmaid=\"5670347\">肖村站</a></div>\\r\\n</td><td width=\"130\" align=\"center\" valign=\"middle\" colspan=\"1\" rowspan=\"1\"></td><td valign=\"top\" align=\"left\" width=\"97\"><a target=_blank href=\"/item/%E5%B2%9B%E5%BC%8F%E7%AB%99%E5%8F%B0/4863707\" data-lemmaid=\"4863707\">岛式站台</a></td><td width=\"146\" align=\"center\" valign=\"middle\" colspan=\"1\" rowspan=\"2\"><a target=_blank href=\"/item/%E5%B7%A6%E4%BE%A7/10197452\" data-lemmaid=\"10197452\">左侧</a></td><td width=\"59\" align=\"center\" valign=\"middle\"><sup class=\"sup--normal\" data-sup=\"25\" data-ctrmap=\":25,\">\\n[25]</sup><a class=\"sup-anchor\" name=\"ref_[25]_4291480\">&nbsp;</a>\\n</td></tr><tr><th width=\"25\">YZ03</th><td width=\"76\" align=\"center\" valign=\"middle\"><div class=\"para\" label-module=\"para\"><a target=_blank href=\"/item/%E5%B0%8F%E7%BA%A2%E9%97%A8%E7%AB%99/16785457\" data-lemmaid=\"16785457\">小红门站</a></div>\\r\\n</td><td width=\"130\" align=\"center\" valign=\"middle\" colspan=\"1\" rowspan=\"1\"></td><td width=\"97\" align=\"center\" valign=\"middle\"><a target=_blank href=\"/item/%E5%B2%9B%E5%BC%8F%E7%AB%99%E5%8F%B0/4863707\" data-lemmaid=\"4863707\">岛式站台</a><sup class=\"sup--normal\" data-sup=\"26\" data-ctrmap=\":26,\">\\n[26]</sup><a class=\"sup-anchor\" name=\"ref_[26]_4291480\">&nbsp;</a>\\n</td><td valign=\"top\" align=\"left\" width=\"59\"></td></tr><tr><th width=\"25\">YZ04</th><td width=\"76\" align=\"center\" valign=\"middle\"><div class=\"para\" label-module=\"para\"><a target=_blank href=\"/item/%E6%97%A7%E5%AE%AB%E7%AB%99/5670916\" data-lemmaid=\"5670916\">旧宫站</a></div>\\r\\n</td><td width=\"130\" align=\"center\" valign=\"middle\" colspan=\"1\" rowspan=\"1\"></td><td width=\"57\" align=\"center\" valign=\"middle\" colspan=\"1\" rowspan=\"8\">高架</td><td width=\"67\" align=\"center\" valign=\"middle\" colspan=\"1\" rowspan=\"8\">分离式站厅</td><td width=\"97\" align=\"center\" valign=\"middle\" colspan=\"1\" rowspan=\"6\"><a target=_blank href=\"/item/%E4%BE%A7%E5%BC%8F%E7%AB%99%E5%8F%B0/13995603\" data-lemmaid=\"13995603\">侧式站台</a></td><td width=\"146\" align=\"center\" valign=\"middle\" colspan=\"1\" rowspan=\"6\"><a target=_blank href=\"/item/%E5%8F%B3%E4%BE%A7/9754220\" data-lemmaid=\"9754220\">右侧</a></td><td width=\"59\" align=\"center\" valign=\"middle\"><sup class=\"sup--normal\" data-sup=\"27\" data-ctrmap=\":27,\">\\n[27]</sup><a class=\"sup-anchor\" name=\"ref_[27]_4291480\">&nbsp;</a>\\n</td></tr><tr><th width=\"25\">YZ05</th><td width=\"76\" align=\"center\" valign=\"middle\"><div class=\"para\" label-module=\"para\"><a target=_blank href=\"/item/%E4%BA%A6%E5%BA%84%E6%A1%A5%E7%AB%99/5671520\" data-lemmaid=\"5671520\">亦庄桥站</a></div>\\r\\n</td><td width=\"130\" align=\"center\" valign=\"middle\" colspan=\"1\" rowspan=\"1\"></td><td valign=\"top\" align=\"left\" width=\"59\"></td></tr><tr><th width=\"25\">YZ06</th><td width=\"76\" align=\"center\" valign=\"middle\"><div class=\"para\" label-module=\"para\"><a target=_blank href=\"/item/%E4%BA%A6%E5%BA%84%E6%96%87%E5%8C%96%E5%9B%AD%E7%AB%99/5671940\" data-lemmaid=\"5671940\">亦庄文化园站</a></div>\\r\\n</td><td width=\"130\" align=\"center\" valign=\"middle\" colspan=\"1\" rowspan=\"1\"></td><td valign=\"top\" align=\"left\" width=\"59\"></td></tr><tr><th width=\"25\">YZ07</th><td width=\"76\" align=\"center\" valign=\"middle\"><a target=_blank href=\"/item/%E4%B8%87%E6%BA%90%E8%A1%97%E7%AB%99/5672407\" data-lemmaid=\"5672407\">万源街站</a></td><td width=\"130\" align=\"center\" valign=\"middle\" colspan=\"1\" rowspan=\"1\"></td><td valign=\"top\" align=\"left\" width=\"59\"></td></tr><tr><th width=\"25\">YZ08</th><td width=\"76\" align=\"center\" valign=\"middle\"><a target=_blank href=\"/item/%E8%8D%A3%E4%BA%AC%E4%B8%9C%E8%A1%97%E7%AB%99/5687565\" data-lemmaid=\"5687565\">荣京东街站</a></td><td width=\"130\" align=\"center\" valign=\"middle\" colspan=\"1\" rowspan=\"1\"></td><td valign=\"top\" align=\"left\" width=\"59\"></td></tr><tr><th width=\"25\">YZ09</th><td width=\"76\" align=\"center\" valign=\"middle\"><a target=_blank href=\"/item/%E8%8D%A3%E6%98%8C%E4%B8%9C%E8%A1%97%E7%AB%99/5687667\" data-lemmaid=\"5687667\">荣昌东街站</a></td><td width=\"130\" align=\"center\" valign=\"middle\" colspan=\"1\" rowspan=\"1\">亦庄T1有轨电车</td><td valign=\"top\" align=\"left\" width=\"59\"></td></tr><tr><th width=\"25\">YZ10</th><td width=\"76\" align=\"center\" valign=\"middle\"><a target=_blank href=\"/item/%E5%90%8C%E6%B5%8E%E5%8D%97%E8%B7%AF%E7%AB%99/5783802\" data-lemmaid=\"5783802\">同济南路站</a></td><td width=\"130\" align=\"center\" valign=\"middle\" colspan=\"1\" rowspan=\"1\"></td><td valign=\"top\" align=\"left\" width=\"97\">一岛一侧式站台</td><td width=\"146\" align=\"center\" valign=\"middle\" colspan=\"1\"><div class=\"para\" label-module=\"para\">右侧（注）</div>\\r\\n</td><td width=\"59\" align=\"center\" valign=\"middle\"><sup class=\"sup--normal\" data-sup=\"28\" data-ctrmap=\":28,\">\\n[28]</sup><a class=\"sup-anchor\" name=\"ref_[28]_4291480\">&nbsp;</a>\\n</td></tr><tr><th width=\"25\">YZ11</th><td width=\"76\" align=\"center\" valign=\"middle\"><a target=_blank href=\"/item/%E7%BB%8F%E6%B5%B7%E8%B7%AF%E7%AB%99/5783933\" data-lemmaid=\"5783933\">经海路站</a></td><td width=\"130\" align=\"center\" valign=\"middle\" colspan=\"1\" rowspan=\"1\"></td><td valign=\"top\" align=\"left\" width=\"97\"></td><td width=\"146\" align=\"center\" valign=\"middle\" colspan=\"1\"><a target=_blank href=\"/item/%E5%8F%B3%E4%BE%A7/9754220\" data-lemmaid=\"9754220\">右侧</a></td><td width=\"59\" align=\"center\" valign=\"middle\"><sup class=\"sup--normal\" data-sup=\"29\" data-ctrmap=\":29,\">\\n[29]</sup><a class=\"sup-anchor\" name=\"ref_[29]_4291480\">&nbsp;</a>\\n</td></tr><tr><th width=\"25\">YZ12</th><td width=\"76\" align=\"center\" valign=\"middle\"><a target=_blank href=\"/item/%E6%AC%A1%E6%B8%A0%E5%8D%97%E7%AB%99/5784099\" data-lemmaid=\"5784099\">次渠南站</a></td><td width=\"130\" align=\"center\" valign=\"middle\" colspan=\"1\" rowspan=\"1\"></td><td width=\"57\" align=\"center\" valign=\"middle\" colspan=\"1\" rowspan=\"3\"><a target=_blank href=\"/item/%E5%9C%B0%E4%B8%8B/46835\" data-lemmaid=\"46835\">地下</a></td><td width=\"67\" align=\"center\" valign=\"middle\" colspan=\"1\" rowspan=\"3\">整体式站厅</td><td width=\"97\" align=\"center\" valign=\"middle\" colspan=\"1\" rowspan=\"3\"><a target=_blank href=\"/item/%E5%B2%9B%E5%BC%8F%E7%AB%99%E5%8F%B0\">岛式站台</a></td><td width=\"146\" align=\"center\" valign=\"middle\" colspan=\"1\" rowspan=\"3\"><a target=_blank href=\"/item/%E5%B7%A6%E4%BE%A7/10197452\" data-lemmaid=\"10197452\">左侧</a></td><td width=\"59\" align=\"center\" valign=\"middle\"><sup class=\"sup--normal\" data-sup=\"30\" data-ctrmap=\":30,\">\\n[30]</sup><a class=\"sup-anchor\" name=\"ref_[30]_4291480\">&nbsp;</a>\\n</td></tr><tr><th width=\"25\">YZ13</th><td width=\"76\" align=\"center\" valign=\"middle\"><a target=_blank href=\"/item/%E6%AC%A1%E6%B8%A0%E7%AB%99/5784333\" data-lemmaid=\"5784333\">次渠站</a></td><td width=\"130\" align=\"center\" valign=\"middle\" colspan=\"1\" rowspan=\"1\"><a target=_blank href=\"/item/%E5%8C%97%E4%BA%AC%E5%9C%B0%E9%93%8117%E5%8F%B7%E7%BA%BF/4366736\" data-lemmaid=\"4366736\">北京地铁17号线</a>（2020）</td><td valign=\"top\" align=\"left\" width=\"59\"></td></tr><tr><th width=\"25\">YZ14</th><td width=\"76\" align=\"center\" valign=\"middle\"><div class=\"para\" label-module=\"para\"><a target=_blank href=\"/item/%E4%BA%A6%E5%BA%84%E7%81%AB%E8%BD%A6%E7%AB%99/17514913\" data-lemmaid=\"17514913\">亦庄火车站</a></div>\\r\\n</td><td width=\"130\" align=\"center\" valign=\"middle\" colspan=\"1\" rowspan=\"1\"><a target=_blank href=\"/item/%E4%BA%AC%E6%B4%A5%E5%9F%8E%E9%99%85%E9%93%81%E8%B7%AF/1022029\" data-lemmaid=\"1022029\">京津城际铁路</a></td><td valign=\"top\" align=\"left\" width=\"59\"></td></tr></table><div class=\"para\" label-module=\"para\"><i></i></div>\\r\\n<div class=\"para\" label-module=\"para\"><i>注：同济南路站最北侧站台是备用站台，列车只有特殊情况下才会停靠。</i></div><div class=\"anchor-list\">\\n<a name=\"3\" class=\"lemma-anchor para-title\" ></a>\\n<a name=\"sub4291480_3\" class=\"lemma-anchor \" ></a>\\n<a name=\"硬件设施\" class=\"lemma-anchor \" ></a>\\n</div><div class=\"para-title level-2\" label-module=\"para-title\">\\n<h2 class=\"title-text\"><span class=\"title-prefix\">北京地铁亦庄线</span>硬件设施</h2>\\n<a class=\"edit-icon j-edit-link\" data-edit-dl=\"3\" href=\"javascript:;\"><em class=\"cmn-icon wiki-lemma-icons wiki-lemma-icons_edit-lemma\"></em>编辑</a>\\n</div>\\n<div class=\"anchor-list\">\\n<a name=\"3_1\" class=\"lemma-anchor para-title\" ></a>\\n<a name=\"sub4291480_3_1\" class=\"lemma-anchor \" ></a>\\n<a name=\"列车\" class=\"lemma-anchor \" ></a>\\n<a name=\"3-1\" class=\"lemma-anchor \" ></a>\\n</div><div class=\"para-title level-3\" label-module=\"para-title\">\\n<h3 class=\"title-text\"><span class=\"title-prefix\">北京地铁亦庄线</span>列车</h3>\\n</div>\\n<div class=\"para\" label-module=\"para\"><div class=\"lemma-picture text-pic layout-right\" style=\"width:220px; float: right;\">\\n<a class=\"image-link\" nslog-type=\"9317\" \\r\\n\\t\\t\\thref=\"/pic/%E5%8C%97%E4%BA%AC%E5%9C%B0%E9%93%81%E4%BA%A6%E5%BA%84%E7%BA%BF/1464622/0/738b4710b912c8fc89cdba9cfa039245d68821a0?fr=lemma&ct=single\" target=\"_blank\"\\r\\n\\t\\ttitle=\"亦庄线DKZ32车型YZ017列车进站\" style=\"width:220px;height:146px;\">\\n<img  class=\"lazy-img\" src=\"data:image/png;base64,iVBORw0KGgoAAAANSUhEUgAAAAEAAAABCAMAAAAoyzS7AAAAGXRFWHRTb2Z0d2FyZQBBZG9iZSBJbWFnZVJlYWR5ccllPAAAAAZQTFRF9fX1AAAA0VQI3QAAAAxJREFUeNpiYAAIMAAAAgABT21Z4QAAAABJRU5ErkJggg==\" data-src=\"https://gss2.bdstatic.com/9fo3dSag_xI4khGkpoWK1HF6hhy/baike/s%3D220/sign=67f6999f9f25bc312f5d069a6edf8de7/738b4710b912c8fc89cdba9cfa039245d68821a0.jpg\"  alt=\"亦庄线DKZ32车型YZ017列车进站\" style=\"width:220px;height:146px;\"/>\\n</a>\\n<span class=\"description\">\\n亦庄线DKZ32车型YZ017列车进站\\n</span>\\n</div>亦庄线使用由<a target=_blank href=\"/item/%E9%95%BF%E6%98%A5%E8%BD%A8%E9%81%93%E5%AE%A2%E8%BD%A6%E8%82%A1%E4%BB%BD%E6%9C%89%E9%99%90%E5%85%AC%E5%8F%B8\">长春轨道客车股份有限公司</a>制造的DKZ32型电动车组，共23组（编号YZ001-YZ023）。每节车厢共4对内藏门，为B型车6节编组，最高时速80千米/小时。<sup class=\"sup--normal\" data-sup=\"31\" data-ctrmap=\":31,\">\\n[31]</sup><a class=\"sup-anchor\" name=\"ref_[31]_4291480\">&nbsp;</a>\\n车内装有“黑匣子”。<sup class=\"sup--normal\" data-sup=\"32\" data-ctrmap=\":32,\">\\n[32]</sup><a class=\"sup-anchor\" name=\"ref_[32]_4291480\">&nbsp;</a>\\n被沿线居民和地铁迷昵称为“粉色兔子”。<sup class=\"sup--normal\" data-sup=\"32\" data-ctrmap=\":32,\">\\n[32]</sup><a class=\"sup-anchor\" name=\"ref_[32]_4291480\">&nbsp;</a>\\n</div>\\r\\n<div class=\"para\" label-module=\"para\">DKZ32型列车与<a target=_blank href=\"/item/%E5%8C%97%E4%BA%AC%E5%9C%B0%E9%93%8115%E5%8F%B7%E7%BA%BF/1188284\" data-lemmaid=\"1188284\">北京地铁15号线</a>的DKZ31型列车同期制造，有诸多相像之处，包括列车侧面、醒目色标示的老弱病残孕专座、车门上方电子线路图面板等，但VVVF声是不同的，DKZ31使用的是阿尔斯通VVVF（6号线同款），而DKZ32用的是<sup class=\"sup--normal\" data-sup=\"33\" data-ctrmap=\":33,\">\\n[33]</sup><a class=\"sup-anchor\" name=\"ref_[33]_4291480\">&nbsp;</a>\\n</div><div class=\"anchor-list\">\\n<a name=\"3_2\" class=\"lemma-anchor para-title\" ></a>\\n<a name=\"sub4291480_3_2\" class=\"lemma-anchor \" ></a>\\n<a name=\"信号系统\" class=\"lemma-anchor \" ></a>\\n<a name=\"3-2\" class=\"lemma-anchor \" ></a>\\n</div><div class=\"para-title level-3\" label-module=\"para-title\">\\n<h3 class=\"title-text\"><span class=\"title-prefix\">北京地铁亦庄线</span>信号系统</h3>\\n</div>\\n<div class=\"para\" label-module=\"para\"><div class=\"lemma-picture text-pic layout-right\" style=\"width:220px; float: right;\">\\n<a class=\"image-link\" nslog-type=\"9317\" \\r\\n\\t\\t\\thref=\"/pic/%E5%8C%97%E4%BA%AC%E5%9C%B0%E9%93%81%E4%BA%A6%E5%BA%84%E7%BA%BF/1464622/0/2f738bd4b31c870113f5de532f7f9e2f0608ffc0?fr=lemma&ct=single\" target=\"_blank\"\\r\\n\\t\\ttitle=\"荣京东街站\" style=\"width:220px;height:165px;\">\\n<img  class=\"lazy-img\" src=\"data:image/png;base64,iVBORw0KGgoAAAANSUhEUgAAAAEAAAABCAMAAAAoyzS7AAAAGXRFWHRTb2Z0d2FyZQBBZG9iZSBJbWFnZVJlYWR5ccllPAAAAAZQTFRF9fX1AAAA0VQI3QAAAAxJREFUeNpiYAAIMAAAAgABT21Z4QAAAABJRU5ErkJggg==\" data-src=\"https://gss2.bdstatic.com/9fo3dSag_xI4khGkpoWK1HF6hhy/baike/s%3D220/sign=66796c7feecd7b89ed6c3d813f254291/2f738bd4b31c870113f5de532f7f9e2f0608ffc0.jpg\"  alt=\"荣京东街站\" style=\"width:220px;height:165px;\"/>\\n</a>\\n<span class=\"description\">\\n荣京东街站\\n<sup>[34]</sup>\\n<a name=\"ref_[34]_\"></a>\\n</span>\\n</div>亦庄线是北京市政府采用国家“首台套”政策实施的第一条国产的<a target=_blank href=\"/item/CBTC\">CBTC</a>信号系统的示范工程。信号系统以北京交通大学自主研发的ATP/ATO系统作为核心技术进行深度集成。实现轨道交通信号核心技术国产化，对促进国内轨道交通行业技术水平发展具有重要意义，打破国外技术垄断。<sup class=\"sup--normal\" data-sup=\"31\" data-ctrmap=\":35,:31,\">\\n[31]</sup><a class=\"sup-anchor\" name=\"ref_[31]_4291480\">&nbsp;</a>\\n<sup class=\"sup--normal\" data-sup=\"35\" data-ctrmap=\":35,:31,\">\\n[35]</sup><a class=\"sup-anchor\" name=\"ref_[35]_4291480\">&nbsp;</a>\\n</div><div class=\"anchor-list\">\\n<a name=\"3_3\" class=\"lemma-anchor para-title\" ></a>\\n<a name=\"sub4291480_3_3\" class=\"lemma-anchor \" ></a>\\n<a name=\"车辆基地\" class=\"lemma-anchor \" ></a>\\n<a name=\"3-3\" class=\"lemma-anchor \" ></a>\\n</div><div class=\"para-title level-3\" label-module=\"para-title\">\\n<h3 class=\"title-text\"><span class=\"title-prefix\">北京地铁亦庄线</span>车辆基地</h3>\\n</div>\\n<div class=\"para\" label-module=\"para\"><a class=\"lemma-album layout-right nslog:10000206\" title=\"台湖车辆段\"  href=\"/pic/%E5%8C%97%E4%BA%AC%E5%9C%B0%E9%93%81%E4%BA%A6%E5%BA%84%E7%BA%BF/1464622/1155589/a08b87d6277f9e2f2c55c48d1f30e924b999f3d7?fr=lemma&ct=cover\" target=\"_blank\"  style=\"width:222px;\" nslog-type=\"10000206\">\\n<div class=\"album-wrap\" style=\"width:220px;height:162px;\">\\n<img class=\"picture\" alt=\"台湖车辆段\" src=\"https://gss3.bdstatic.com/-Po3dSag_xI4khGkpoWK1HF6hhy/baike/s%3D220/sign=b50ce3060f2442a7aa0efaa7e142ad95/a08b87d6277f9e2f2c55c48d1f30e924b999f3d7.jpg\" style=\"width:220px;height:162px;\"/>\\n</div>\\n<div class=\"description\">\\n台湖车辆段<span class=\"number\">(10张)</span>\\n</div>\\n<div class=\"albumBg\">\\n<div class=\"albumBgFir\" style=\"width:214px;\"></div>\\n<div class=\"albumBgSec\" style=\"width:208px;\"></div>\\n</div>\\n</a>\\n亦庄线拥有车辆基地2座：宋家庄停车场、台湖车辆段。</div>\\r\\n<div class=\"para\" label-module=\"para\">宋家庄停车场位于宋家庄站东南侧，与5号线、10号线共用，为3线共用地铁停车场。</div>\\r\\n<div class=\"para\" label-module=\"para\">亦庄线车库位于西北侧<sup class=\"sup--normal\" data-sup=\"31\" data-ctrmap=\":36,:31,\">\\n[31]</sup><a class=\"sup-anchor\" name=\"ref_[31]_4291480\">&nbsp;</a>\\n<sup class=\"sup--normal\" data-sup=\"36\" data-ctrmap=\":36,:31,\">\\n[36]</sup><a class=\"sup-anchor\" name=\"ref_[36]_4291480\">&nbsp;</a>\\n</div>\\r\\n<div class=\"para\" label-module=\"para\">台湖车辆段位于通州区台湖镇。<sup class=\"sup--normal\" data-sup=\"31\" data-ctrmap=\":36,:31,\">\\n[31]</sup><a class=\"sup-anchor\" name=\"ref_[31]_4291480\">&nbsp;</a>\\n<sup class=\"sup--normal\" data-sup=\"36\" data-ctrmap=\":36,:31,\">\\n[36]</sup><a class=\"sup-anchor\" name=\"ref_[36]_4291480\">&nbsp;</a>\\n</div>\\r\\n<div class=\"para\" label-module=\"para\">（图册参考资料<sup class=\"sup--normal\" data-sup=\"22\" data-ctrmap=\":22,\">\\n[22]</sup><a class=\"sup-anchor\" name=\"ref_[22]_4291480\">&nbsp;</a>\\n）</div><div class=\"anchor-list\">\\n<a name=\"4\" class=\"lemma-anchor para-title\" ></a>\\n<a name=\"sub4291480_4\" class=\"lemma-anchor \" ></a>\\n<a name=\"线路标识\" class=\"lemma-anchor \" ></a>\\n</div><div class=\"para-title level-2\" label-module=\"para-title\">\\n<h2 class=\"title-text\"><span class=\"title-prefix\">北京地铁亦庄线</span>线路标识</h2>\\n<a class=\"edit-icon j-edit-link\" data-edit-dl=\"4\" href=\"javascript:;\"><em class=\"cmn-icon wiki-lemma-icons wiki-lemma-icons_edit-lemma\"></em>编辑</a>\\n</div>\\n<div class=\"para\" label-module=\"para\">亦庄线的线路标识色为桃红色。<sup class=\"sup--normal\" data-sup=\"37\" data-ctrmap=\":37,\">\\n[37]</sup><a class=\"sup-anchor\" name=\"ref_[37]_4291480\">&nbsp;</a>\\n</div>\\r\\n<table log-set-param=\"table_view\" width=\"658\" class=\"table-view log-set-param\" data-sort=\"sortDisabled\"><caption>亦庄线标志色数据</caption><tr><td width=\"110\" align=\"center\" valign=\"middle\" colspan=\"1\" rowspan=\"2\">Pantone</td><td align=\"center\" valign=\"middle\" colspan=\"4\" rowspan=\"1\">CMYK</td></tr><tr><td width=\"110\" align=\"center\" valign=\"middle\" colspan=\"1\" rowspan=\"1\">C</td><td width=\"110\" align=\"center\" valign=\"middle\" colspan=\"1\" rowspan=\"1\">M</td><td width=\"110\" align=\"center\" valign=\"middle\" colspan=\"1\" rowspan=\"1\">Y</td><td width=\"110\" align=\"center\" valign=\"middle\" colspan=\"1\" rowspan=\"1\">K</td></tr><tr><td width=\"110\" align=\"center\" valign=\"middle\" colspan=\"1\" rowspan=\"1\">226C</td><td width=\"110\" align=\"center\" valign=\"middle\" colspan=\"1\" rowspan=\"1\">0</td><td width=\"110\" align=\"center\" valign=\"middle\" colspan=\"1\" rowspan=\"1\">100</td><td width=\"110\" align=\"center\" valign=\"middle\" colspan=\"1\" rowspan=\"1\">10</td><td width=\"110\" align=\"center\" valign=\"middle\" colspan=\"1\" rowspan=\"1\">0</td></tr><tr><td align=\"center\" valign=\"middle\" colspan=\"5\" rowspan=\"1\">（参考资料<sup class=\"sup--normal\" data-sup=\"37\" data-ctrmap=\":37,\">\\n[37]</sup><a class=\"sup-anchor\" name=\"ref_[37]_4291480\">&nbsp;</a>\\n）</td></tr></table><div class=\"anchor-list\">\\n<a name=\"5\" class=\"lemma-anchor para-title\" ></a>\\n<a name=\"sub4291480_5\" class=\"lemma-anchor \" ></a>\\n<a name=\"管理机构\" class=\"lemma-anchor \" ></a>\\n</div><div class=\"para-title level-2\" label-module=\"para-title\">\\n<h2 class=\"title-text\"><span class=\"title-prefix\">北京地铁亦庄线</span>管理机构</h2>\\n<a class=\"edit-icon j-edit-link\" data-edit-dl=\"5\" href=\"javascript:;\"><em class=\"cmn-icon wiki-lemma-icons wiki-lemma-icons_edit-lemma\"></em>编辑</a>\\n</div>\\n<div class=\"para\" label-module=\"para\">亦庄线由北京市地铁运营有限公司一分公司负责运营管理<sup class=\"sup--normal\" data-sup=\"38\" data-ctrmap=\":38,\">\\n[38]</sup><a class=\"sup-anchor\" name=\"ref_[38]_4291480\">&nbsp;</a>\\n。北京市地铁运营有限公司一分公司是“新地铁”战略构想下成立的第一个经地铁公司授权，全面负责地铁5号线、亦庄线、6号线、7号线的安全运营生产、设备维修维护以及优质服务等管理工作的分公司。</div><div class=\"anchor-list\">\\n<a name=\"6\" class=\"lemma-anchor para-title\" ></a>\\n<a name=\"sub4291480_6\" class=\"lemma-anchor \" ></a>\\n<a name=\"票价规定\" class=\"lemma-anchor \" ></a>\\n</div><div class=\"para-title level-2\" label-module=\"para-title\">\\n<h2 class=\"title-text\"><span class=\"title-prefix\">北京地铁亦庄线</span>票价规定</h2>\\n<a class=\"edit-icon j-edit-link\" data-edit-dl=\"6\" href=\"javascript:;\"><em class=\"cmn-icon wiki-lemma-icons wiki-lemma-icons_edit-lemma\"></em>编辑</a>\\n</div>\\n<div class=\"para\" label-module=\"para\">6公里（含）内3元；6-12公里（含）4元；12-22公里（含）5元；22-32公里（含）6元；32公里以上每加1元可乘20公里（对除机场线、西郊线外的北京地铁线路均有效）。<sup class=\"sup--normal\" data-sup=\"39\" data-ctrmap=\":39,:39,\">\\n[39]</sup><a class=\"sup-anchor\" name=\"ref_[39]_4291480\">&nbsp;</a>\\n</div><div class=\"anchor-list\">\\n<a name=\"7\" class=\"lemma-anchor para-title\" ></a>\\n<a name=\"sub4291480_7\" class=\"lemma-anchor \" ></a>\\n<a name=\"建设意义\" class=\"lemma-anchor \" ></a>\\n</div><div class=\"para-title level-2\" label-module=\"para-title\">\\n<h2 class=\"title-text\"><span class=\"title-prefix\">北京地铁亦庄线</span>建设意义</h2>\\n<a class=\"edit-icon j-edit-link\" data-edit-dl=\"7\" href=\"javascript:;\"><em class=\"cmn-icon wiki-lemma-icons wiki-lemma-icons_edit-lemma\"></em>编辑</a>\\n</div>\\n<div class=\"para\" label-module=\"para\">从功能上讲，亦庄线是典型的交通引导发展类型线路。根据规划亦庄新城是北京东部发展带的重要节点和重点发展的新城之一，是幅射带动京津城镇走廊产业发展的高新技术产业中心。在亦庄线规划建设中，“两站一街”（次渠站至亦庄火车站）采用一体化国际方案征集的方式，优化了区域功能布局，强化了两车站站点的功能，提升了区域的交通条件、服务功能和环境品质，建立以轨道交通为核心的TOD发展模式，促进车站及周边的综合开发利用。<sup class=\"sup--normal\" data-sup=\"31\" data-ctrmap=\":31,\">\\n[31]</sup><a class=\"sup-anchor\" name=\"ref_[31]_4291480\">&nbsp;</a>\\n</div>\\r\\n<div class=\"para\" label-module=\"para\">亦庄线将北京经济技术开发区与北京主城区紧紧连接在一起，为高端产业的发展提供了坚实的交通保障。<sup class=\"sup--normal\" data-sup=\"31\" data-ctrmap=\":31,\">\\n[31]</sup><a class=\"sup-anchor\" name=\"ref_[31]_4291480\">&nbsp;</a>\\n</div>\\r\\n<div class=\"para\" label-module=\"para\">亦庄线的开通，也使开发区的企业员工、社区居民有了更为便捷的交通方式。大兴区开发区19万余名企业员工、近4万社区居民可以近距离搭乘地铁直达市区。<sup class=\"sup--normal\" data-sup=\"31\" data-ctrmap=\":31,\">\\n[31]</sup><a class=\"sup-anchor\" name=\"ref_[31]_4291480\">&nbsp;</a>\\n</div>\\r\\n<div class=\"anchor-list\">\\n<a name=\"a\" class=\"lemma-anchor a\" ></a>\\n</div><div class=\"album-list\">\\n<div class=\"header\">\\n<span class=\"title\">词条图册</span>\\n<a class=\"more-link\" href=\"/pic/%E5%8C%97%E4%BA%AC%E5%9C%B0%E9%93%81%E4%BA%A6%E5%BA%84%E7%BA%BF/1464622?fr=lemma\" target=\"_blank\" nslog-type=\"10000204\">更多图册<em></em></a>\\n</div>\\n<div class=\"scroller\">\\n<div class=\"list\">\\n</div>\\n</div>\\n<div class=\"footer\">\\n</div>\\n</div>\\n<div class=\"rs-container-foot\">\\n<a name=\"rs-1\"></a>\\n<a name=\"rs_4291480_10469\" class=\"anchor-2\"></a>\\n<div id=\"rs-container-4291480-10469\" class=\"rslazy rs-container\" lazy-init=\"lemmars.tableAction(baidu.g(\\'rs-4291480-10469\\'))\"></div>\\n</div><script type=\"text/javascript\">\\r\\n        window.rsInsertData = window[\\'rsInsertData\\'] || [];\\r\\n        var rsdataList = {\"foot\":[{\"fentryTableId\":10469,\"fentryTableName\":\"\\\\u5317\\\\u4eac\\\\u5730\\\\u94c1\\\\u7ebf\\\\u8def\",\"fentryTableType\":1,\"entryId\":2364425,\"templateId\":0,\"entryTitle\":\"\\\\u5317\\\\u4eac\\\\u5730\\\\u94c1\",\"isManual\":0,\"isExpand\":1}],\"top\":[]};\\r\\n\\r\\n        if (rsdataList.top || rsdataList.foot) {\\r\\n            rsInsertData.push([4291480, rsdataList]);\\r\\n        }\\r\\n    </script>\\n<dl class=\"lemma-reference collapse nslog-area log-set-param\" data-nslog-type=\"2\" log-set-param=\"ext_reference\">\\n<dt class=\"reference-title\">参考资料</dt>\\n<dd class=\"reference-list-wrap\">\\n<ul class=\"reference-list\">\\n<li class=\"reference-item reference-item--type1 \" id=\"reference-[1]-4291480-wrap\">\\n<span class=\"index\">1.</span>\\n<a class=\"gotop anchor\"  name=\"refIndex_1_4291480\" id=\"refIndex_1_4291480\" title=\"向上跳转\" href=\"#ref_[1]_4291480\">&nbsp;&nbsp;</a>\\n<a rel=\"nofollow\" href=\"/reference/1464622/6757GdI3FwbzuzdZniPl3aSkrYR0yyEkjye9NDVLet2fFSgNTNYdyp2Xmls-xUkMsMwx40jOMFUS8W-xes-8er37XYDxS3KJ1CaG9cthBMCqKoyVMZ2lf9A7jkwmoYDuIrWS0guoKNWMyg\" target=\"_blank\" class=\"text\">《北京市亦庄轻轨工程线路规划方案》获批复<span class=\"linkout\">&nbsp;</span></a>\\n<span class=\"site\">．北京市规划委员会</span><span>．2004-04-26</span><span>&#91;引用日期2015-08-08&#93;</span></li><li class=\"reference-item reference-item--type1 \" id=\"reference-[2]-4291480-wrap\">\\n<span class=\"index\">2.</span>\\n<a class=\"gotop anchor\"  name=\"refIndex_2_4291480\" id=\"refIndex_2_4291480\" title=\"向上跳转\" href=\"#ref_[2]_4291480\">&nbsp;&nbsp;</a>\\n<a rel=\"nofollow\" href=\"/reference/1464622/34b5hLpHB-lReuOZd1XmeRnFL2ml8Hp1sz-VlqKSZEld59Ke-e7IwyhdMNC6G3CdkPsZFnpfBqcmRUgOTjtIAnGcBd1DHq-q5POJc6YxwJZ0SiE\" target=\"_blank\" class=\"text\">亦庄轻轨全线设十车站<span class=\"linkout\">&nbsp;</span></a>\\n<span class=\"site\">．搜狐新闻</span><span>．2004-04-27</span><span>&#91;引用日期2015-08-08&#93;</span></li><li class=\"reference-item reference-item--type1 \" id=\"reference-[3]-4291480-wrap\">\\n<span class=\"index\">3.</span>\\n<a class=\"gotop anchor\"  name=\"refIndex_3_4291480\" id=\"refIndex_3_4291480\" title=\"向上跳转\" href=\"#ref_[3]_4291480\">&nbsp;&nbsp;</a>\\n<a rel=\"nofollow\" href=\"/reference/1464622/8f00C4Szoq-mQ9YpTTA63neo2HTgBvuZ1EF5fIStu3KjWC9kyWMTV8s6xzoAaUOCWQbY9YnRF-OkHJaZTatGGWr-2lmvlS9lUcOc0IhSEYMnKnuaG3FTizUwAS_558eKPYsPy5XZDjBatw\" target=\"_blank\" class=\"text\">市轨道交通亦庄线线路规划方案通过审查并获批复<span class=\"linkout\">&nbsp;</span></a>\\n<span class=\"site\">．北京市规划委员会</span><span>．2007-05-23</span><span>&#91;引用日期2015-08-08&#93;</span></li><li class=\"reference-item reference-item--type1 \" id=\"reference-[4]-4291480-wrap\">\\n<span class=\"index\">4.</span>\\n<a class=\"gotop anchor\"  name=\"refIndex_4_4291480\" id=\"refIndex_4_4291480\" title=\"向上跳转\" href=\"#ref_[4]_4291480\">&nbsp;&nbsp;</a>\\n<a rel=\"nofollow\" href=\"/reference/1464622/89c19VdU47FYSq3xPDiImG6cyPpa4TiQ3lu1-MJVwhtEJqT-uwlLRyD1MIEy6RbjNKdEMATdesyt2q4RrpLibaRUwOAiMJtV4ZjIA00eX896CnGtTn6XMCgP43Pqfpg8yt8\" target=\"_blank\" class=\"text\">亦庄轻轨规划方案获批 全线共设14座车站<span class=\"linkout\">&nbsp;</span></a>\\n<span class=\"site\">．新华网北京频道</span><span>．2007-05-24</span><span>&#91;引用日期2015-08-08&#93;</span></li><li class=\"reference-item reference-item--type1 \" id=\"reference-[5]-4291480-wrap\">\\n<span class=\"index\">5.</span>\\n<a class=\"gotop anchor\"  name=\"refIndex_5_4291480\" id=\"refIndex_5_4291480\" title=\"向上跳转\" href=\"#ref_[5]_4291480\">&nbsp;&nbsp;</a>\\n<a rel=\"nofollow\" href=\"/reference/1464622/c7fciZIsGqniEijWFh4N5qXGkqVEfvDyM5qdgUgm6JxQyFVgvTSqRCfwBl4rG1ra0cuzasTZiegSKr7G2jDBBS71xw3gsUhyFDm-9IStIQdnzz2LsYNjMYNW1RE40A\" target=\"_blank\" class=\"text\">北京5条地铁8日上午开工 2015年全部完工(图)<span class=\"linkout\">&nbsp;</span></a>\\n<span class=\"site\">．新华网</span><span>．2007-12-09</span><span>&#91;引用日期2015-08-08&#93;</span></li><li class=\"reference-item reference-item--type1 \" id=\"reference-[6]-4291480-wrap\">\\n<span class=\"index\">6.</span>\\n<a class=\"gotop anchor\"  name=\"refIndex_6_4291480\" id=\"refIndex_6_4291480\" title=\"向上跳转\" href=\"#ref_[6]_4291480\">&nbsp;&nbsp;</a>\\n<a rel=\"nofollow\" href=\"/reference/1464622/097aC9VMpw-sZHZNmBxjeaXjzhoMd58oogUPd7oCUdjDGuFb9qxxUehFT23aOqWpBJCH8Eujz7C71JuFdxOTxhhpznih\" target=\"_blank\" class=\"text\">北京年内开建2到4条地铁 亦庄线下月动工<span class=\"linkout\">&nbsp;</span></a>\\n<span class=\"site\">．腾讯新闻</span><span>．2008-08-26</span><span>&#91;引用日期2015-08-08&#93;</span></li><li class=\"reference-item reference-item--type1 \" id=\"reference-[7]-4291480-wrap\">\\n<span class=\"index\">7.</span>\\n<a class=\"gotop anchor\"  name=\"refIndex_7_4291480\" id=\"refIndex_7_4291480\" title=\"向上跳转\" href=\"#ref_[7]_4291480\">&nbsp;&nbsp;</a>\\n<a rel=\"nofollow\" href=\"/reference/1464622/be2bW7P7RxteYLUO52NYg4x2RD8EAjleFHXKeQs3GUzfBG_iwZJrcqT5WTZHhewjqRgZiaphBQpLL1JzXOEFlsSbfnmAn_OmwR2KU37bYvFztjAPmg\" target=\"_blank\" class=\"text\">轨道交通亦庄线首个高架车站开工<span class=\"linkout\">&nbsp;</span></a>\\n<span class=\"site\">．新浪新闻中心</span><span>．2008-10-17</span><span>&#91;引用日期2015-08-08&#93;</span></li><li class=\"reference-item reference-item--type1 \" id=\"reference-[8]-4291480-wrap\">\\n<span class=\"index\">8.</span>\\n<a class=\"gotop anchor\"  name=\"refIndex_8_4291480\" id=\"refIndex_8_4291480\" title=\"向上跳转\" href=\"#ref_[8]_4291480\">&nbsp;&nbsp;</a>\\n<a rel=\"nofollow\" href=\"/reference/1464622/ee340f6ViIWIzEoI6tk74km6L9gfGzCA6DwA53m9dH3OOhuiJaxLa-THGEYKkNKDYHkcvsrMjkVVSBecCM8TQMB6HhAmNzxVkZSKWYq6jHz-9jMbRw\" target=\"_blank\" class=\"text\">地铁亦庄线施工无碍京津城铁<span class=\"linkout\">&nbsp;</span></a>\\n<span class=\"site\">．新浪新闻中心</span><span>．2009-03-28</span><span>&#91;引用日期2015-08-08&#93;</span></li><li class=\"reference-item reference-item--type1 \" id=\"reference-[9]-4291480-wrap\">\\n<span class=\"index\">9.</span>\\n<a class=\"gotop anchor\"  name=\"refIndex_9_4291480\" id=\"refIndex_9_4291480\" title=\"向上跳转\" href=\"#ref_[9]_4291480\">&nbsp;&nbsp;</a>\\n<a rel=\"nofollow\" href=\"/reference/1464622/6c45rD74vUQErE-w6HH_hLDDARLrVcuNqJ7-XqufSmgLdYi5bYZb5eNvdpoG5EkfNaNlitAXBLduve05vkpUonKVMR3TY_w7FDTOk1DHZCwobwumFw\" target=\"_blank\" class=\"text\">地铁亦庄线大兴线获批<span class=\"linkout\">&nbsp;</span></a>\\n<span class=\"site\">．新浪新闻中心</span><span>．2009-05-19</span><span>&#91;引用日期2015-08-08&#93;</span></li><li class=\"reference-item reference-item--type1 \" id=\"reference-[10]-4291480-wrap\">\\n<span class=\"index\">10.</span>\\n<a class=\"gotop anchor\"  name=\"refIndex_10_4291480\" id=\"refIndex_10_4291480\" title=\"向上跳转\" href=\"#ref_[10]_4291480\">&nbsp;&nbsp;</a>\\n<a rel=\"nofollow\" href=\"/reference/1464622/8216Z4KVoHziMq3iMPD-ERSQx2gDxR3yhaAapLfB9qhxdfouZjZTgzap4SE-9QjJs_c2jOxxyB8Q5_llqvxh7UNiuB7XuyjC3q7wSmDkLd0DuRCU5i37Qw\" target=\"_blank\" class=\"text\">亦庄线肖村桥站开始盾构<span class=\"linkout\">&nbsp;</span></a>\\n<span class=\"site\">．京华时报</span><span>．2009-06-22</span><span>&#91;引用日期2015-08-08&#93;</span></li><li class=\"reference-item reference-item--type1 more\" id=\"reference-[11]-4291480-wrap\">\\n<span class=\"index\">11.</span>\\n<a class=\"gotop anchor\"  name=\"refIndex_11_4291480\" id=\"refIndex_11_4291480\" title=\"向上跳转\" href=\"#ref_[11]_4291480\">&nbsp;&nbsp;</a>\\n<a rel=\"nofollow\" href=\"/reference/1464622/e2db2CV2bzXpzQJ_TswEIykSERrDc-XiFQeRdkuqvUxPcUooPTRf_uh0q0jegTIGNR2Naqspi_Pr_yruGQi4GryWCmhSG0_oQPkOPhC3Vo7jl4LT_Q\" target=\"_blank\" class=\"text\">地铁亦庄线吊起首根高架梁<span class=\"linkout\">&nbsp;</span></a>\\n<span class=\"site\">．新浪新闻</span><span>．2009-07-13</span><span>&#91;引用日期2015-08-08&#93;</span></li><li class=\"reference-item reference-item--type1 more\" id=\"reference-[12]-4291480-wrap\">\\n<span class=\"index\">12.</span>\\n<a class=\"gotop anchor\"  name=\"refIndex_12_4291480\" id=\"refIndex_12_4291480\" title=\"向上跳转\" href=\"#ref_[12]_4291480\">&nbsp;&nbsp;</a>\\n<a rel=\"nofollow\" href=\"/reference/1464622/63e7I4b5eDV7IqX-Oc5II5JrnYGFWbgURGnAqRZQpB_s04kJIiV8EkpKTuFZnDecAIoteNiLn527-2Y8VEvqzRV7UXIoJt2b\" target=\"_blank\" class=\"text\">亦庄线大兴线9号线公示站名 2012年全部开通<span class=\"linkout\">&nbsp;</span></a>\\n<span class=\"site\">．腾讯财经</span><span>．2009-11-24</span><span>&#91;引用日期2015-08-08&#93;</span></li><li class=\"reference-item reference-item--type1 more\" id=\"reference-[13]-4291480-wrap\">\\n<span class=\"index\">13.</span>\\n<a class=\"gotop anchor\"  name=\"refIndex_13_4291480\" id=\"refIndex_13_4291480\" title=\"向上跳转\" href=\"#ref_[13]_4291480\">&nbsp;&nbsp;</a>\\n<a rel=\"nofollow\" href=\"/reference/1464622/191838HvUtINHxtqqGOkVr3FOhXqigRATspEoiELtuDUS4ErjyogiWDqRRvNK-qMwsgZCRu1cxicc4d9FMLsPsXotCJWAJlcQ4noamm5c5z-nMilnOnjzvaKAA\" target=\"_blank\" class=\"text\">次渠南站昨封顶亦庄线明年铺轨 <span class=\"linkout\">&nbsp;</span></a>\\n<span class=\"site\">．法制晚报</span><span>．2009-12-09</span><span>&#91;引用日期2015-08-08&#93;</span></li><li class=\"reference-item reference-item--type1 more\" id=\"reference-[14]-4291480-wrap\">\\n<span class=\"index\">14.</span>\\n<a class=\"gotop anchor\"  name=\"refIndex_14_4291480\" id=\"refIndex_14_4291480\" title=\"向上跳转\" href=\"#ref_[14]_4291480\">&nbsp;&nbsp;</a>\\n<a rel=\"nofollow\" href=\"/reference/1464622/694fWP4OmmcZrW54MOqDCX8NiRJpFwlzU4Uuk52RUhC_MsF_GKNdh0ejYV4Ha0L1zxcWL4jDWhzuEM9KUaH6C8iLP4dPQ_MMUhewaCZRKrlwN-9W3D4ZMA\" target=\"_blank\" class=\"text\">悬浇转体桥完成转体 亦庄线50分钟飞跃五环路<span class=\"linkout\">&nbsp;</span></a>\\n<span class=\"site\">．千龙网</span><span>．2010-01-26</span><span>&#91;引用日期2015-08-08&#93;</span></li><li class=\"reference-item reference-item--type1 more\" id=\"reference-[15]-4291480-wrap\">\\n<span class=\"index\">15.</span>\\n<a class=\"gotop anchor\"  name=\"refIndex_15_4291480\" id=\"refIndex_15_4291480\" title=\"向上跳转\" href=\"#ref_[15]_4291480\">&nbsp;&nbsp;</a>\\n<a rel=\"nofollow\" href=\"/reference/1464622/f4b0JPUW1XkG3FtCAptzfFVxUPoJSwTACGUvGhdU82KRro7Ahf0MmrpFs79psNeqMg-gcg4BY1wRKk8K3wA3MSpOnQYUgPnNCCVtKENxPBLAYvVaXiSSzajKEKoBBS8umGU\" target=\"_blank\" class=\"text\">北京地铁亦庄线开始铺轨预计年底开通运营<span class=\"linkout\">&nbsp;</span></a>\\n<span class=\"site\">．新华网北京频道</span><span>．2010-02-08</span><span>&#91;引用日期2015-08-08&#93;</span></li><li class=\"reference-item reference-item--type1 more\" id=\"reference-[16]-4291480-wrap\">\\n<span class=\"index\">16.</span>\\n<a class=\"gotop anchor\"  name=\"refIndex_16_4291480\" id=\"refIndex_16_4291480\" title=\"向上跳转\" href=\"#ref_[16]_4291480\">&nbsp;&nbsp;</a>\\n<a rel=\"nofollow\" href=\"/reference/1464622/bfccObtjtjA2v8u3xe0y4ONoqUQ9DzQybwldZLX37JEHXcPRcmczlFc9WQZkFuUbb86uKHn50Wh6P32wdvKoMMkoyWWSMDndYlJUvLDZKumS\" target=\"_blank\" class=\"text\">亦庄线成功下穿京津第二高速<span class=\"linkout\">&nbsp;</span></a>\\n<span class=\"site\">．网易新闻</span><span>．2010-03-02</span><span>&#91;引用日期2015-08-08&#93;</span></li><li class=\"reference-item reference-item--type1 more\" id=\"reference-[17]-4291480-wrap\">\\n<span class=\"index\">17.</span>\\n<a class=\"gotop anchor\"  name=\"refIndex_17_4291480\" id=\"refIndex_17_4291480\" title=\"向上跳转\" href=\"#ref_[17]_4291480\">&nbsp;&nbsp;</a>\\n<a rel=\"nofollow\" href=\"/reference/1464622/929b5Zki5hWAlAf6mQBY43RRcOHmu53sVhwZlvS06UWpCdcTc-DHGaqC0L5825lfEAERwg-9FZGPANav06rt156MU1r2MOLoV1tiRVFYHMftsPLs0jJmeEnVMw\" target=\"_blank\" class=\"text\">亦庄线“样板段”轨道今贯通<span class=\"linkout\">&nbsp;</span></a>\\n<span class=\"site\">．法制晚报</span><span>．2010-04-29</span><span>&#91;引用日期2015-08-08&#93;</span></li><li class=\"reference-item reference-item--type1 more\" id=\"reference-[18]-4291480-wrap\">\\n<span class=\"index\">18.</span>\\n<a class=\"gotop anchor\"  name=\"refIndex_18_4291480\" id=\"refIndex_18_4291480\" title=\"向上跳转\" href=\"#ref_[18]_4291480\">&nbsp;&nbsp;</a>\\n<a rel=\"nofollow\" href=\"/reference/1464622/dabaXMPzvLAtGsww1Sh0lalXEzqmWovmgAaNMy8M9xCy29STyecTxASZZcLc89DSzO1Gu9L47QeIWSidMpjwO97G8MkevKMjRvcyHxmQCOI8EsH6YckHf-BjEQ\" target=\"_blank\" class=\"text\">地铁亦庄线昨全线贯通<span class=\"linkout\">&nbsp;</span></a>\\n<span class=\"site\">．法制晚报</span><span>．2010-05-21</span><span>&#91;引用日期2015-08-08&#93;</span></li><li class=\"reference-item reference-item--type1 more\" id=\"reference-[19]-4291480-wrap\">\\n<span class=\"index\">19.</span>\\n<a class=\"gotop anchor\"  name=\"refIndex_19_4291480\" id=\"refIndex_19_4291480\" title=\"向上跳转\" href=\"#ref_[19]_4291480\">&nbsp;&nbsp;</a>\\n<a rel=\"nofollow\" href=\"/reference/1464622/e9bb3npcankYi_jIuiMCy6zeIUy7NybPIV756EAaYtSYixzdYrlLCNQnss485XzZ8g7I0V2c01FyeL5f2TVp9YHMMh9no6G9w2OddHCB_WcL\" target=\"_blank\" class=\"text\">亦庄线车站全面装修<span class=\"linkout\">&nbsp;</span></a>\\n<span class=\"site\">．网易新闻</span><span>．2010-06-28</span><span>&#91;引用日期2015-08-08&#93;</span></li><li class=\"reference-item reference-item--type1 more\" id=\"reference-[20]-4291480-wrap\">\\n<span class=\"index\">20.</span>\\n<a class=\"gotop anchor\"  name=\"refIndex_20_4291480\" id=\"refIndex_20_4291480\" title=\"向上跳转\" href=\"#ref_[20]_4291480\">&nbsp;&nbsp;</a>\\n<a rel=\"nofollow\" href=\"/reference/1464622/cbc0OgTlpupQGQpMjJmUJbIwvk6DTPm70yhkJQ7q6563eNnxmm_68duvVIBNam-kNQDGX45vVNeo_dY3C147BQVxy2FRvw9ms2OGSda5c1x5\" target=\"_blank\" class=\"text\">地铁亦庄线7月2日开始动车调试<span class=\"linkout\">&nbsp;</span></a>\\n<span class=\"site\">．首都之窗</span><span>．2010-07-03</span><span>&#91;引用日期2015-08-08&#93;</span></li><li class=\"reference-item reference-item--type1 more\" id=\"reference-[21]-4291480-wrap\">\\n<span class=\"index\">21.</span>\\n<a class=\"gotop anchor\"  name=\"refIndex_21_4291480\" id=\"refIndex_21_4291480\" title=\"向上跳转\" href=\"#ref_[21]_4291480\">&nbsp;&nbsp;</a>\\n<a rel=\"nofollow\" href=\"/reference/1464622/37daLIudu-4opd5KFhlOH0ETxIF2FkJZD4dvk_uasPtp75_xrmuDJd690-6MWUN7uo_2AnGN4T3C8Zwf4B-ObRCEILCmMe3tORjDoslyms60e4emLWe4ZfA\" target=\"_blank\" class=\"text\">亦庄线房山线将空载试运行<span class=\"linkout\">&nbsp;</span></a>\\n<span class=\"site\">．千龙网</span><span>．2010-08-27</span><span>&#91;引用日期2015-09-03&#93;</span></li><li class=\"reference-item reference-item--type3 more\" id=\"reference-[22]-4291480-wrap\">\\n<span class=\"index\">22.</span>\\n<a class=\"gotop anchor\"  name=\"refIndex_22_4291480\" id=\"refIndex_22_4291480\" title=\"向上跳转\" href=\"#ref_[22]_4291480\">&nbsp;&nbsp;</a>\\n<span class=\"text\">图册图片由亦庄线工作人员拍摄以及yangke19941112于2009年11月28-29日拍摄</span>\\n</li><li class=\"reference-item reference-item--type1 more\" id=\"reference-[23]-4291480-wrap\">\\n<span class=\"index\">23.</span>\\n<a class=\"gotop anchor\"  name=\"refIndex_23_4291480\" id=\"refIndex_23_4291480\" title=\"向上跳转\" href=\"#ref_[23]_4291480\">&nbsp;&nbsp;</a>\\n<a rel=\"nofollow\" href=\"/reference/1464622/f75104BU5eNpFJQaiJAaoJsSq7pQ4ntEZ8ujB3zE30XaeAk-ibHnlf3jRUtK-CGMFjeKbmVy8lXGzfHkR_7Yewn_pDs424yrvG-GVW4N_6H8Vhg04OEMw759\" target=\"_blank\" class=\"text\">大兴线、亦庄线、十五号线首开段、昌平线一期、房山线等五条轨道交通新线12月30日开通试运营<span class=\"linkout\">&nbsp;</span></a>\\n<span class=\"site\">．北京市交通委员会</span><span>．2010-12-31</span><span>&#91;引用日期2015-08-08&#93;</span></li><li class=\"reference-item reference-item--type1 more\" id=\"reference-[24]-4291480-wrap\">\\n<span class=\"index\">24.</span>\\n<a class=\"gotop anchor\"  name=\"refIndex_24_4291480\" id=\"refIndex_24_4291480\" title=\"向上跳转\" href=\"#ref_[24]_4291480\">&nbsp;&nbsp;</a>\\n<a rel=\"nofollow\" href=\"/reference/1464622/a35fX9TKV-pHmeanhGoLEPOTM6PAm3_aK8vjgEDmdKhYpwddVVephmZeFO1oLf6OkkjMwBYLU3xjPXp8y8fqkXZr-oMF2l6Lzt8qB-qQTjoSSd1LSpT3ZgY4PiHq\" target=\"_blank\" class=\"text\">亦庄线宋家庄站<span class=\"linkout\">&nbsp;</span></a>\\n<span class=\"site\">．北京地铁官方网站</span><span>．2013-08-26</span><span>&#91;引用日期2014-07-20&#93;</span></li><li class=\"reference-item reference-item--type1 more\" id=\"reference-[25]-4291480-wrap\">\\n<span class=\"index\">25.</span>\\n<a class=\"gotop anchor\"  name=\"refIndex_25_4291480\" id=\"refIndex_25_4291480\" title=\"向上跳转\" href=\"#ref_[25]_4291480\">&nbsp;&nbsp;</a>\\n<a rel=\"nofollow\" href=\"/reference/1464622/2625QpL38D27xPSK0TNGr6nzwDaTx5Ph_AvmQseI2ac57wHYKo1aumOoFeWwl0AveOdW3Lq4yIb7EfaBpCta7kvYHM_EeSPEyrrSwZyBG3NO5hHYtX4dVP_okvV3\" target=\"_blank\" class=\"text\">亦庄线肖村站<span class=\"linkout\">&nbsp;</span></a>\\n<span class=\"site\">．北京地铁官方网站</span><span>．2013-08-26</span><span>&#91;引用日期2014-07-20&#93;</span></li><li class=\"reference-item reference-item--type1 more\" id=\"reference-[26]-4291480-wrap\">\\n<span class=\"index\">26.</span>\\n<a class=\"gotop anchor\"  name=\"refIndex_26_4291480\" id=\"refIndex_26_4291480\" title=\"向上跳转\" href=\"#ref_[26]_4291480\">&nbsp;&nbsp;</a>\\n<a rel=\"nofollow\" href=\"/reference/1464622/d561MV7MLwdptDz13XZeBPoKJ1YHkuQMjrvS_m10gmb1T_6Sfj-l1sk_s8kpVApLMkftLZwIsOzk0Fz1J-1cUF_CmGVpE4cnvbwKxBQmXV4CZK2tXOEqICMH15-D\" target=\"_blank\" class=\"text\">亦庄线小红门站<span class=\"linkout\">&nbsp;</span></a>\\n<span class=\"site\">．北京地铁官方网站</span><span>．2013-08-26</span><span>&#91;引用日期2014-07-20&#93;</span></li><li class=\"reference-item reference-item--type1 more\" id=\"reference-[27]-4291480-wrap\">\\n<span class=\"index\">27.</span>\\n<a class=\"gotop anchor\"  name=\"refIndex_27_4291480\" id=\"refIndex_27_4291480\" title=\"向上跳转\" href=\"#ref_[27]_4291480\">&nbsp;&nbsp;</a>\\n<a rel=\"nofollow\" href=\"/reference/1464622/c213vssb6xhrDKZjfGcZ9JeBKeSFNY-hx5V-4ZOPr_tvtpw3CmEQ3lGuUsfGTvm-u02_BJXMPBNxaezC2lfHCFvhs_lyuqmiA1Z50Sz6rfJILZd3sr-5Zv-TgpQT\" target=\"_blank\" class=\"text\">亦庄线旧宫站<span class=\"linkout\">&nbsp;</span></a>\\n<span class=\"site\">．北京地铁官方网站</span><span>．2013-08-26</span><span>&#91;引用日期2014-07-20&#93;</span></li><li class=\"reference-item reference-item--type1 more\" id=\"reference-[28]-4291480-wrap\">\\n<span class=\"index\">28.</span>\\n<a class=\"gotop anchor\"  name=\"refIndex_28_4291480\" id=\"refIndex_28_4291480\" title=\"向上跳转\" href=\"#ref_[28]_4291480\">&nbsp;&nbsp;</a>\\n<a rel=\"nofollow\" href=\"/reference/1464622/b28dEoOZx-U3qM2SYkIyEwCs8P6W8UcCI3uiJAHeVwg2s6MhB3PZNgNGRy1yedVEfowlom4soWFOAussgDVsYGNn9ASerfOW-InVJssGn4qItomfR6yC34VLnOao\" target=\"_blank\" class=\"text\">亦庄线同济南路站<span class=\"linkout\">&nbsp;</span></a>\\n<span class=\"site\">．北京地铁官方网站</span><span>．2013-08-26</span><span>&#91;引用日期2014-07-21&#93;</span></li><li class=\"reference-item reference-item--type1 more\" id=\"reference-[29]-4291480-wrap\">\\n<span class=\"index\">29.</span>\\n<a class=\"gotop anchor\"  name=\"refIndex_29_4291480\" id=\"refIndex_29_4291480\" title=\"向上跳转\" href=\"#ref_[29]_4291480\">&nbsp;&nbsp;</a>\\n<a rel=\"nofollow\" href=\"/reference/1464622/0bb4dpKruyNZR4VYsg-RrTDSqrwug8oL46HFWpw_m5RpeGNqak8i4g2_0kCQaXN8sfE5QNKlxyT7bZqgt1yJ6nbY7ZdFYHo7_KTzTQxsCYnLwp5QzguD_T_nTBU4\" target=\"_blank\" class=\"text\">亦庄线经海路站<span class=\"linkout\">&nbsp;</span></a>\\n<span class=\"site\">．北京地铁官方网站</span><span>．2013-08-26</span><span>&#91;引用日期2014-07-21&#93;</span></li><li class=\"reference-item reference-item--type1 more\" id=\"reference-[30]-4291480-wrap\">\\n<span class=\"index\">30.</span>\\n<a class=\"gotop anchor\"  name=\"refIndex_30_4291480\" id=\"refIndex_30_4291480\" title=\"向上跳转\" href=\"#ref_[30]_4291480\">&nbsp;&nbsp;</a>\\n<a rel=\"nofollow\" href=\"/reference/1464622/26c4NzCx3yYTGCVmB8thcNCZDlBT4uUesPuNlgFoKX4SKEFoO5e7hEqzvvYzV-a2ia_SoqycnCiKUQgH7E5SDtOjDvc8Yv2HmbOZGujivpq8orBitk9azAVcP22I\" target=\"_blank\" class=\"text\">亦庄线次渠南站<span class=\"linkout\">&nbsp;</span></a>\\n<span class=\"site\">．北京地铁官方网站</span><span>．2013-08-26</span><span>&#91;引用日期2014-07-21&#93;</span></li><li class=\"reference-item reference-item--type1 more\" id=\"reference-[31]-4291480-wrap\">\\n<span class=\"index\">31.</span>\\n<a class=\"gotop anchor\"  name=\"refIndex_31_4291480\" id=\"refIndex_31_4291480\" title=\"向上跳转\" href=\"#ref_[31]_4291480\">&nbsp;&nbsp;</a>\\n<a rel=\"nofollow\" href=\"/reference/1464622/bfab5BqsBZJU8yR0Fygshd2iAaG39l9rBPPQKzy-YDKo2pHcq5lFn5tg2Y5sFLfUF2fStGKvrkqHHxkB6WRUTZ64LtuAQkgIinkAuTcfKGmbd83kg_cs1hHB\" target=\"_blank\" class=\"text\">走近轨道交通亦庄线<span class=\"linkout\">&nbsp;</span></a>\\n<span class=\"site\">．北京市交通委员会</span><span>．2010-11-19</span><span>&#91;引用日期2015-09-01&#93;</span></li><li class=\"reference-item reference-item--type1 more\" id=\"reference-[32]-4291480-wrap\">\\n<span class=\"index\">32.</span>\\n<a class=\"gotop anchor\"  name=\"refIndex_32_4291480\" id=\"refIndex_32_4291480\" title=\"向上跳转\" href=\"#ref_[32]_4291480\">&nbsp;&nbsp;</a>\\n<a rel=\"nofollow\" href=\"/reference/1464622/236f48bBh3ep2tOR6NqQEO6YzbQmSXd-wRkUZ4sQPoMtjIZs9IE6vLxzlWKUlhdwEuI8LPjolddNkb6JxaHcKRqqQU3da7cBMGKE26s7DPRjDhEB\" target=\"_blank\" class=\"text\">北京地铁亦庄线将记录车辆运行状态<span class=\"linkout\">&nbsp;</span></a>\\n<span class=\"site\">．新浪新闻中心</span><span>．2010-12-28</span><span>&#91;引用日期2015-09-01&#93;</span></li><li class=\"reference-item reference-item--type1 more\" id=\"reference-[33]-4291480-wrap\">\\n<span class=\"index\">33.</span>\\n<a class=\"gotop anchor\"  name=\"refIndex_33_4291480\" id=\"refIndex_33_4291480\" title=\"向上跳转\" href=\"#ref_[33]_4291480\">&nbsp;&nbsp;</a>\\n<a rel=\"nofollow\" href=\"/reference/1464622/f9e8gMtYaul1s1twqjcPhUB1iied_atQGXbaUzl1bzbbcOExb5uB-QN_TexY9jxblR7-wFL3ex0OvkHVFh2-PhymChRohhc_xQE\" target=\"_blank\" class=\"text\">“北车制造”北京15号线和亦庄线地铁同日开通<span class=\"linkout\">&nbsp;</span></a>\\n<span class=\"site\">．中国北车</span><span>．2010-12-31</span><span>&#91;引用日期2015-09-01&#93;</span></li><li class=\"reference-item reference-item--type3 more\" id=\"reference-[34]-4291480-wrap\">\\n<span class=\"index\">34.</span>\\n<a class=\"gotop anchor\"  name=\"refIndex_34_4291480\" id=\"refIndex_34_4291480\" title=\"向上跳转\" href=\"#ref_[34]_4291480\">&nbsp;&nbsp;</a>\\n<span class=\"text\">图片由yangke19941112于2012-10-4拍摄</span>\\n</li><li class=\"reference-item reference-item--type1 more\" id=\"reference-[35]-4291480-wrap\">\\n<span class=\"index\">35.</span>\\n<a class=\"gotop anchor\"  name=\"refIndex_35_4291480\" id=\"refIndex_35_4291480\" title=\"向上跳转\" href=\"#ref_[35]_4291480\">&nbsp;&nbsp;</a>\\n<a rel=\"nofollow\" href=\"/reference/1464622/db08GhbVsOyGJl9kag_4yuul7Jk09GRMeZfnv0jY3y74TZwVYBxS6XhboMD3fTGSmdqvi84evi_Q-t8Bn8neY31ODcn-zhLXm06gHnf7wyXplH4K5PaiVHo\" target=\"_blank\" class=\"text\">轨道交通亦庄线将采用国产信号系统<span class=\"linkout\">&nbsp;</span></a>\\n<span class=\"site\">．千龙网</span><span>．2009-06-11</span><span>&#91;引用日期2015-09-01&#93;</span></li><li class=\"reference-item reference-item--type1 more\" id=\"reference-[36]-4291480-wrap\">\\n<span class=\"index\">36.</span>\\n<a class=\"gotop anchor\"  name=\"refIndex_36_4291480\" id=\"refIndex_36_4291480\" title=\"向上跳转\" href=\"#ref_[36]_4291480\">&nbsp;&nbsp;</a>\\n<a rel=\"nofollow\" href=\"/reference/1464622/09c97RjpT42xI4z7nFDRBAwW3NVKOTCLTFGfIw5ayUalgje2IF8wwS_sQf9jialMFwNz3Eig4oMj4ix33u2b3VWWsj7j6Z1xCuSJm_haAa9N-lZhjf4dg9JDrPfINzX6MVA6VLWqYIeKkNvCkEUYCckICjkjkuAN1durM3PBrzq7_2unnL5gLOXroEmPsBiA8B_DNZLOMjRP1E3YtODBlh3tUfbq\" target=\"_blank\" class=\"text\">轨道交通亦庄线规划方案公告<span class=\"linkout\">&nbsp;</span></a>\\n<span class=\"site\">．北京市规划委员会</span><span>．2009-10-14</span><span>&#91;引用日期2015-09-01&#93;</span></li><li class=\"reference-item reference-item--type1 more\" id=\"reference-[37]-4291480-wrap\">\\n<span class=\"index\">37.</span>\\n<a class=\"gotop anchor\"  name=\"refIndex_37_4291480\" id=\"refIndex_37_4291480\" title=\"向上跳转\" href=\"#ref_[37]_4291480\">&nbsp;&nbsp;</a>\\n<a rel=\"nofollow\" href=\"/reference/1464622/b994D3ze-FWDAMS1aVd2oLVVftgvGmmjNdVjQMdCgs47cRAEEptyu9pHkKt3fvp2XW71wbTUi0thb9QNc-be3gJTIJnfYlcaBOXoONPUdVHVOoCBAZCDBj8Li7-Hh-yFIzG5RHo\" target=\"_blank\" class=\"text\">【PDF文件】《公共交通客运标志 第2部分：轨道交通》DB11T 657.2-2015<span class=\"linkout\">&nbsp;</span></a>\\n<span class=\"site\">．北京市交通委员会</span><span>．2016-05-04</span><span>&#91;引用日期2016-08-21&#93;</span></li><li class=\"reference-item reference-item--type1 more\" id=\"reference-[38]-4291480-wrap\">\\n<span class=\"index\">38.</span>\\n<a class=\"gotop anchor\"  name=\"refIndex_38_4291480\" id=\"refIndex_38_4291480\" title=\"向上跳转\" href=\"#ref_[38]_4291480\">&nbsp;&nbsp;</a>\\n<a rel=\"nofollow\" href=\"/reference/1464622/a9397upqPPQutrCc1TyXyA_QPeLGg14NKW7Fsi2YnqP3Y4uhRrZq4ITALqqpvuWuJby88M_S786DO0tyDt6BAZ1M1f6Qe2UTUtmlQWH7FJKQTY2AvLms0Jcw\" target=\"_blank\" class=\"text\">地铁亦庄线组织区间阻塞模式及疏散演练<span class=\"linkout\">&nbsp;</span></a>\\n<span class=\"site\">．北京市交通委员会</span><span>．2012-07-16</span><span>&#91;引用日期2015-09-01&#93;</span></li><li class=\"reference-item reference-item--type1 more\" id=\"reference-[39]-4291480-wrap\">\\n<span class=\"index\">39.</span>\\n<a class=\"gotop anchor\"  name=\"refIndex_39_4291480\" id=\"refIndex_39_4291480\" title=\"向上跳转\" href=\"#ref_[39]_4291480\">&nbsp;&nbsp;</a>\\n<a rel=\"nofollow\" href=\"/reference/1464622/7e0bBGivFXIgD8arfgHzWcDvlnI49GWyD9aAqf-sUTn6BIM-frSKwhzZ3rFbBmBgGTRBQwfkPMYiIjpQZpzFL82BdThDSb__I43pEg\" target=\"_blank\" class=\"text\">北京市发展和改革委员会北京市交通委员会北京市财政局关于调整本市公共交通价格的通知<span class=\"linkout\">&nbsp;</span></a>\\n<span class=\"site\">．北京市发展和改革委员会</span><span>．2014-11-27</span><span>&#91;引用日期2015-09-01&#93;</span></li></ul>\\n</dd>\\n<dd class=\"toggle\">\\n<span class=\"text expand-text\">展开全部</span>\\n<span class=\"text collapse-text\">收起</span>\\n<em class=\"toggle-arrow\"></em>\\n</dd>\\n</dl>\\n<div id=\"open-tag\">\\n<div class=\"open-tag-title\">词条标签：</div>\\n<dd id=\"open-tag-item\">\\n<span class=\"taglist\">\\n地理\\n</span>\\n，<span class=\"taglist\">\\n地点\\n</span>\\n</dd>\\n<div class=\"open-tag-collapse\" id=\"open-tag-collapse\"></div>\\n</div>\\n<div class=\"clear\"></div>\\n</div>\\n<div class=\"side-content\">\\n<div class=\"summary-pic\">\\n<a href=\"/pic/%E5%8C%97%E4%BA%AC%E5%9C%B0%E9%93%81%E4%BA%A6%E5%BA%84%E7%BA%BF/1464622/0/72f082025aafa40f35fa9c93a764034f78f019bb?fr=lemma&amp;ct=single\" target=\"_blank\" nslog-type=\"10002401\">\\n<img src=\"https://gss2.bdstatic.com/-fo3dSag_xI4khGkpoWK1HF6hhy/baike/w%3D268%3Bg%3D0/sign=ce7fadfe69380cd7e61ea5eb997fca09/72f082025aafa40f35fa9c93a764034f78f019bb.jpg\" />\\n<button class=\"picAlbumBtn\"><em></em><span>图集</span></button>\\n<div>北京地铁亦庄线图册</div>\\n</a>\\n</div>\\n<div class=\"lemmaWgt-promotion-vbaike\">\\n<div class=\"promotion_title\">V百科<a href=\"/vbaike#gallary\" target=\"_blank\">往期回顾</a></div>\\n<div class=\"promotion_viewport\">\\n<dl>\\n</dl>\\n<div class=\"promotion_viewport_pager\"></div>\\n</div>\\n</div><div class=\"lemmaWgt-promotion-rightPreciseAd\" data-lemmaId=\"1464622\" data-lemmaTitle=\"北京地铁亦庄线\"></div><div class=\"lemmaWgt-sideRecommend\">\\n<a name=\"zhixinWrap\" class=\"qnAnchor\"></a>\\n<div class=\"zhixin-box\" id=\"zhixinWrap\" data-source=\"\" data-newLemmaId=\"1464622\">\\n</div>\\n<form id=\"zhixinErrorForm\" class=\"hidden\" action=\"https://sp2.baidu.com/-uV1bjeh1BF3odCf/index.php/feedback/zx/baikeJC\" target=\"zhixinSubErr\" method=\"post\">\\n<input class=\"js-url\" name=\"fb_html_url\" type=\"hidden\" />\\n<input class=\"js-query\" name=\"fb_query\" type=\"hidden\" />\\n<input class=\"js-title\" name=\"fb_card_title\" type=\"hidden\" />\\n<input class=\"js-content\" name=\"fb_content\" type=\"hidden\" />\\n<input class=\"js-souceId\" name=\"fb_source_id\" type=\"hidden\" />\\n</form>\\n<iframe id=\"zhixinSubErr\" name=\"zhixinSubErr\" style=\"display:none\" frameborder=\"0\"></iframe>\\n</div>\\n<div class=\"lemmaWgt-promotion-slide\">\\n<div class=\"promotion_viewport\">\\n<dl>\\n</dl>\\n<div class=\"promotion_viewport_pager\"></div>\\n</div>\\n</div><div class=\"lemmaWgt-promotion-rightBigAd\">\\n</div><dl class=\"side-box lemma-statistics\">\\n<dt class=\"title\">词条统计</dt>\\n<dd class=\"description split-line\">\\n<ul>\\n<li>浏览次数：<span id=\"j-lemmaStatistics-pv\"></span>次</li>\\n<li>编辑次数：157次<a href=\"/historylist/%E5%8C%97%E4%BA%AC%E5%9C%B0%E9%93%81%E4%BA%A6%E5%BA%84%E7%BA%BF/1464622\" class=\"nslog:1021\" target=\"_blank\">历史版本</a></li>\\n<li>\\n<span class=\"latest-title\">最近更新：</span>\\n<span class=\"latest-content\">\\n<a class=\"show-userCard\" data-uid=\"4103499872\" title=\"查看此用户资料\" target=\"_blank\" href=\"/usercenter/userpage?uname=%E5%8C%97%E4%BA%AC%E5%B0%8F%E9%BB%8402&from=lemma\"\\r\\n                    nslog-type=\"1022\">北京小黄02</a><span class=\"j-modified-time\" style=\"display:none\">（2019-06-17）</span>\\n</span>\\n</li>\\n</ul>\\n</dd>\\n<dt class=\"title\">突出贡献榜</dt>\\n<dd class=\"description excellent-description\">\\n<ul>\\n<li>\\n<a title=\"查看此用户资料\" class=\"usercard show-userCard\" data-uid=\"17245265\" username=\"yangke19941112\" target=\"_blank\" href=\"/usercenter/userpage?uname=yangke19941112&from=lemma\">yangke19941112</a>\\n<div class=\"right\">\\n<a target=\"_blank\" href=\"http://baike.baidu.com/view/12878522.htm\"><img align=\"absmiddle\" alt=\"优质版本\" title=\"优质版本\" src=\"https://bkssl.bdimg.com/static/wiki-lemma/widget/lemma_content/mainContent/lemmaStatistics/img/perfect_b3eae1e.png\"></a>\\n</div>\\n</li>\\n</ul>\\n</dd>\\n</dl>\\n<div class=\"side-catalog\" style=\"visibility:hidden\">\\n<div class=\"side-bar\">\\n<em class=\"circle start\"></em>\\n<em class=\"circle end\"></em>\\n</div>\\n<div class=\"catalog-scroller\">\\n<dl class=\"catalog-list\">\\n<dt class=\"catalog-title level1\">\\n<em class=\"pointer\"></em>\\n<a href=\"#1\" class=\"title-link\">\\n<span class=\"text\">\\n<span class=\"title-index\">1</span>\\n<span class=\"title-link\" nslog-type=\"10002802\">历史沿革</span>\\n</span>\\n</a>\\n</dt>\\n<dd class=\"catalog-title level2\">\\n<a href=\"#1_1\" class=\"title-link\">\\n<span class=\"text\">\\n<span class=\"title-index\">1.1</span>\\n<span class=\"title-link\" nslog-type=\"10002802\">规划时期</span>\\n</span>\\n</a>\\n</dd>\\n<dd class=\"catalog-title level2\">\\n<a href=\"#1_2\" class=\"title-link\">\\n<span class=\"text\">\\n<span class=\"title-index\">1.2</span>\\n<span class=\"title-link\" nslog-type=\"10002802\">建设时期</span>\\n</span>\\n</a>\\n</dd>\\n<dd class=\"catalog-title level2\">\\n<a href=\"#1_3\" class=\"title-link\">\\n<span class=\"text\">\\n<span class=\"title-index\">1.3</span>\\n<span class=\"title-link\" nslog-type=\"10002802\">运营时期</span>\\n</span>\\n</a>\\n</dd>\\n<dt class=\"catalog-title level1\">\\n<em class=\"pointer\"></em>\\n<a href=\"#2\" class=\"title-link\">\\n<span class=\"text\">\\n<span class=\"title-index\">2</span>\\n<span class=\"title-link\" nslog-type=\"10002802\">运营信息</span>\\n</span>\\n</a>\\n</dt>\\n<dd class=\"catalog-title level2\">\\n<a href=\"#2_1\" class=\"title-link\">\\n<span class=\"text\">\\n<span class=\"title-index\">2.1</span>\\n<span class=\"title-link\" nslog-type=\"10002802\">线路数据</span>\\n</span>\\n</a>\\n</dd>\\n<dt class=\"catalog-title level1\">\\n<em class=\"pointer\"></em>\\n<a href=\"#3\" class=\"title-link\">\\n<span class=\"text\">\\n<span class=\"title-index\">3</span>\\n<span class=\"title-link\" nslog-type=\"10002802\">硬件设施</span>\\n</span>\\n</a>\\n</dt>\\n<dd class=\"catalog-title level2\">\\n<a href=\"#3_1\" class=\"title-link\">\\n<span class=\"text\">\\n<span class=\"title-index\">3.1</span>\\n<span class=\"title-link\" nslog-type=\"10002802\">列车</span>\\n</span>\\n</a>\\n</dd>\\n<dd class=\"catalog-title level2\">\\n<a href=\"#3_2\" class=\"title-link\">\\n<span class=\"text\">\\n<span class=\"title-index\">3.2</span>\\n<span class=\"title-link\" nslog-type=\"10002802\">信号系统</span>\\n</span>\\n</a>\\n</dd>\\n<dd class=\"catalog-title level2\">\\n<a href=\"#3_3\" class=\"title-link\">\\n<span class=\"text\">\\n<span class=\"title-index\">3.3</span>\\n<span class=\"title-link\" nslog-type=\"10002802\">车辆基地</span>\\n</span>\\n</a>\\n</dd>\\n<dt class=\"catalog-title level1\">\\n<em class=\"pointer\"></em>\\n<a href=\"#4\" class=\"title-link\">\\n<span class=\"text\">\\n<span class=\"title-index\">4</span>\\n<span class=\"title-link\" nslog-type=\"10002802\">线路标识</span>\\n</span>\\n</a>\\n</dt>\\n<dt class=\"catalog-title level1\">\\n<em class=\"pointer\"></em>\\n<a href=\"#5\" class=\"title-link\">\\n<span class=\"text\">\\n<span class=\"title-index\">5</span>\\n<span class=\"title-link\" nslog-type=\"10002802\">管理机构</span>\\n</span>\\n</a>\\n</dt>\\n<dt class=\"catalog-title level1\">\\n<em class=\"pointer\"></em>\\n<a href=\"#6\" class=\"title-link\">\\n<span class=\"text\">\\n<span class=\"title-index\">6</span>\\n<span class=\"title-link\" nslog-type=\"10002802\">票价规定</span>\\n</span>\\n</a>\\n</dt>\\n<dt class=\"catalog-title level1\">\\n<em class=\"pointer\"></em>\\n<a href=\"#7\" class=\"title-link\">\\n<span class=\"text\">\\n<span class=\"title-index\">7</span>\\n<span class=\"title-link\" nslog-type=\"10002802\">建设意义</span>\\n</span>\\n</a>\\n</dt>\\n<a class=\"arrow\" href=\"javascript:void(0);\"></a>\\n</dl>\\n</div>\\n<div class=\"right-wrap\">\\n<a class=\"go-up disable\" href=\"javascript:void(0);\"></a>\\n<a class=\"go-down\" href=\"javascript:void(0);\"></a>\\n</div>\\n<div class=\"bottom-wrap\">\\n<a class=\"toggle-button\" href=\"javascript:void(0);\" nslog-type=\"10002803\"></a>\\n<a class=\"gotop-button\" href=\"javascript:void(0);\" nslog-type=\"10002804\"></a>\\n</div>\\n</div>\\n<div id=\"side_box_fengchao\" class=\"fengchao side-box\" nslog=\"area\" nslog-type=\"10000902\">\\n</div>\\n<div id=\"side_box_unionAd\" class=\"unionAd side-box\">\\n<div class=\"union-content\"></div>\\n</div>\\n</div>\\n</div>\\n</div>\\n<div class=\"after-content\">\\n<div class=\"fc-guess-like new\" id=\"fc_guess_like_new\">\\n<span class=\"logo-du\">\\n<em class=\"cmn-icon cmn-icons cmn-icons_logo-du\"></em>\\n</span>\\n<h6>猜你关注</h6>\\n<ul class=\"cmn-clearfix\">\\n</ul>\\n</div>\\n</div>\\n</div>\\n\\n<div class=\"wgt-footer-main\">\\n<div class=\"content\">\\n<dl class=\"fresh\">\\n<dt><em class=\"cmn-icon cmn-icons cmn-icons_footer-fresh\"></em>新手上路</dt>\\n<dd>\\n<div><a target=\"_blank\" href=\"/usercenter/tasks#guide\">成长任务</a></div>\\n<div><a target=\"_blank\" href=\"/help#main01\">编辑入门</a></div>\\n<div><a target=\"_blank\" href=\"/help#main06\">编辑规则</a></div>\\n<div><a target=\"_blank\" href=\"/item/%E7%99%BE%E5%BA%A6%E7%99%BE%E7%A7%91%EF%BC%9A%E6%9C%AC%E4%BA%BA%E8%AF%8D%E6%9D%A1%E7%BC%96%E8%BE%91%E6%9C%8D%E5%8A%A1/22442459?bk_fr=pcFooter\">本人编辑</a><img src=\"https://bkssl.bdimg.com/static/wiki-common/widget/component/footer/img/new-icon_a64774d.png\" class=\"new-icon\" alt=\"new\"></div>\\n</dd>\\n</dl>\\n<dl class=\"question\">\\n<dt><em class=\"cmn-icon cmn-icons cmn-icons_footer-question\"></em>我有疑问</dt>\\n<dd>\\n<div><a id=\"J-bk-feedback-query\" data-lemma=\"北京地铁亦庄线\" href=\"javascript:void(0);\" nslog-type=\"10070001\">内容质疑</a></div>\\n<div><a target=\"_blank\" href=\"http://zhiqiu.baidu.com/baike/passport/html/baikechat.html\" nslog-type=\"10000003\">在线客服</a></div>\\n<div><a target=\"_blank\" href=\"http://tieba.baidu.com/f?ie=utf-8&fr=bks0000&kw=%E7%99%BE%E5%BA%A6%E7%99%BE%E7%A7%91\">官方贴吧</a></div>\\n<div><a id=\"J-bk-feedback-main\" href=\"javascript:void(0);\">意见反馈</a></div>\\n</dd>\\n</dl>\\n<dl class=\"suggestion\">\\n<dt><em class=\"cmn-icon cmn-icons cmn-icons_footer-suggestion\"></em>投诉建议</dt>\\n<dd>\\n<div><a target=\"_blank\" href=\"http://help.baidu.com/newadd?prod_id=10&category=1\">举报不良信息</a></div>\\n<div><a target=\"_blank\" href=\"http://help.baidu.com/newadd?prod_id=10&category=2\">未通过词条申诉</a></div>\\n<div><a target=\"_blank\" href=\"http://help.baidu.com/newadd?prod_id=10&category=6\">投诉侵权信息</a></div>\\n<div><a target=\"_blank\" href=\"http://help.baidu.com/newadd?prod_id=10&category=5\">封禁查询与解封</a></div>\\n</dd>\\n</dl>\\n</div>\\n<div class=\"copyright\">©2019&nbsp;Baidu&nbsp;<a href=\"http://www.baidu.com/duty/\" target=\"_blank\">使用百度前必读</a>&nbsp;|&nbsp;<a href=\"http://help.baidu.com/question?prod_en=baike&class=89&id=1637\" target=\"_blank\">百科协议</a>&nbsp;|&nbsp;<a href=\"http://help.baidu.com/question?prod_id=10&class=690&id=1001779\" target=\"_blank\">隐私政策</a>&nbsp;|&nbsp;<a href=\"/operation/cooperation\" target=\"_blank\">百度百科合作平台</a>&nbsp;|&nbsp;<span>京ICP证030173号&nbsp;</span><img class=\"copyright-img\" width=\"13\" height=\"16\" src=\"https://ss0.bdstatic.com/5aV1bjqh_Q23odCf/static/superman/img/copy_rignt_24.png\"></div>\\n<p class=\"recordcode\"><a href=\"http://www.beian.gov.cn/portal/registerSystemInfo?recordcode=11000002000001\" target=\"_blank\"><i class=\"icon-police\"></i>京公网安备11000002000001号</a></p>\\n</div>\\n\\n\\n<div class=\"lemmaWgt-searchHeader\">\\n<div class=\"layout cmn-clearfix\">\\n<div class=\"wgt-searchbar wgt-searchbar-new wgt-searchbar-simple cmn-clearfix \">\\n<div class=\"logo-container\">\\n<a class=\"logo cmn-inline-block\" title=\"到百科首页\" href=\"/\">\\n<span class=\"cmn-baike-logo\">\\n<em class=\"cmn-icon cmn-icons cmn-icons_logo-bai\"></em>\\n<em class=\"cmn-icon cmn-icons cmn-icons_logo-du\"></em>\\n<em class=\"cmn-icon cmn-icons cmn-icons_logo-baike\"></em>\\n</span>\\n</a>\\n</div>\\n<div class=\"search\">\\n<div class=\"form\">\\n<form id=\"searchForm\" action=\"/search/word\" method=\"GET\" target=\"_self\">\\n<input id=\"query\" nslog=\"normal\" nslog-type=\"10080015\" name=\"word\" type=\"text\" autocomplete=\"off\" autocorrect=\"off\" value=\"北京地铁亦庄线\" /><button id=\"search\" nslog=\"normal\" nslog-type=\"10080013\" type=\"button\">进入词条</button>\\n</form>\\n<form id=\"searchLemmaForm\" action=\"/search\" method=\"GET\" target=\"_self\">\\n<input id=\"searchLemmaQuery\" name=\"word\" type=\"hidden\" />\\n<input name=\"pn\" type=\"hidden\" value=\"0\" />\\n<input name=\"rn\" type=\"hidden\" value=\"0\" />\\n<input name=\"enc\" type=\"hidden\" value=\"utf8\" />\\n</form>\\n<ul id=\"suggestion\" class=\"suggestion\">\\n<div class=\"sug\"></div>\\n<li class=\"extra\">\\n<span id=\"clear\" style=\"margin-right:8px;\">清除历史记录</span><span id=\"close\" nslog=\"normal\" nslog-type=\"10080016\">关闭</span>\\n</li>\\n</ul>\\n</div>\\n</div>\\n</div>\\n<div class=\"tool-buttons\">\\n<a class=\"toolButtons-edit button j-edit-link\" href=\"javascript:;\" nslog-type=\"10010001\"><em class=\"cmn-icon wiki-lemma-icons wiki-lemma-icons_edit-hollow\"></em>编辑</a>\\n<a class=\"toolButtons-discussion button j-discussion-link\" href=\"/planet/talk?lemmaId=1464622\" target=\"_blank\" nslog-type=\"90000103\"><em class=\"cmn-icon wiki-lemma-icons wiki-lemma-icons_discussion-hollow\"></em>讨论&nbsp;<span class=\"num\">66</span></a>\\n<a class=\"toolButtons-collect button\" href=\"javascript:;\" nslog-type=\"10010002\"><em class=\"cmn-icon wiki-lemma-icons wiki-lemma-icons_star-hollow\"></em><em class=\"cmn-icon wiki-lemma-icons wiki-lemma-icons_star-solid\"></em>收藏</a>\\n<a class=\"toolButtons-vote button top-vote\" href=\"javascript:;\" nslog-type=\"10010003\"><em class=\"cmn-icon wiki-lemma-icons wiki-lemma-icons_zan-hollow\"></em><em class=\"cmn-icon wiki-lemma-icons wiki-lemma-icons_zan-solid\"></em><span class=\"j-tool-btn-vote-num\">赞</span></a>\\n</div>\\n<div class=\"user-info\">\\n<a class=\"user-link unlogin\" href=\"javascript:;\" nslog-type=\"10010008\" target=\"_blank\">登录</a>\\n</div>\\n</div></div>\\n<div class=\"new-bdsharebuttonbox new-side-share\" id=\"side-share\">\\n<span class=\"title\">分享</span>\\n<div class=\"side-border\">\\n<div class=\"triangle\"></div>\\n<a class=\"share-link bds_qzone\"  href=\"javascript:void(0);\" nslog-type=\"10060101\">\\n<em class=\"cmn-icon cmn-icons cmn-icons_logo-qzone\"></em>\\n</a>\\n<a class=\"share-link bds_tsina\" href=\"javascript:void(0);\" nslog-type=\"10060301\">\\n<em class=\"cmn-icon cmn-icons cmn-icons_logo-sina-weibo\"></em>\\n</a>\\n<a class=\"bds_wechat\"  href=\"javascript:void(0);\" nslog-type=\"10060001\">\\n<em class=\"cmn-icon cmn-icons cmn-icons_logo-wechat\"></em>\\n</a>\\n<a class=\"share-link bds_tqq\"  href=\"javascript:void(0);\" nslog-type=\"10060201\">\\n<em class=\"cmn-icon cmn-icons cmn-icons_logo-qq\"></em>\\n</a>\\n</div>\\n</div>\\n<div class=\"qrcode-wrapper\" id=\"layer\" style=\"display: none\">\\n<div class=\"bd_weixin_popup_header\">\\n<em class=\"cmn-icon cmn-icons cmn-icons_close\"></em>\\n<span>分享到微信朋友圈</span>\\n</div>\\n<div id=\"wechat-qrcode-img\"></div>\\n<div class=\"bd_weixin_popup_footer\">打开微信“扫一扫”即可将网页分享至朋友圈</div>\\n</div>\\n<div></div><div></div>\\n<script>\\r\\n      window[\\'__abbaidu_2020_subidgetf\\'] = function () {\\r\\n          var subid = 01000000;\\r\\n          return subid;\\r\\n      };\\r\\n    </script>\\n<script async src=\"https://dlswbr.baidu.com/heicha/mw/abclite-2020-s.js\"></script>\\n\\n</body><script type=\"text/javascript\" src=\"https://bkssl.bdimg.com/static/wiki-common/js/mod_4302fe0.js\"></script>\\n<script type=\"text/javascript\">require.resourceMap({\"res\":{\"wiki-lemma:widget/lemma_content/mainContent/lemmaRelation/lemmaInsert.js\":{\"url\":\"https://bkssl.bdimg.com/static/wiki-lemma/widget/lemma_content/mainContent/lemmaRelation/lemmaInsert_18f1b51.js\",\"pkg\":\"wiki-lemma:p5\",\"deps\":[\"wiki-common:widget/component/nslog/nslog.js\"]},\"wiki-lemma:widget/lemma_content/mainContent/lemmaRelation/tangram.js\":{\"url\":\"https://bkssl.bdimg.com/static/wiki-lemma/widget/lemma_content/mainContent/lemmaRelation/tangram_459492a.js\",\"pkg\":\"wiki-lemma:p5\"},\"wiki-lemma:widget/lemma_content/mainContent/lemmaReference/lemmaReferenceTip/lemmaReferenceTip.js\":{\"url\":\"https://bkssl.bdimg.com/static/wiki-lemma/widget/lemma_content/mainContent/lemmaReference/lemmaReferenceTip/lemmaReferenceTip_3a154ae.js\",\"deps\":[\"wiki-common:widget/lib/jquery/jquery.js\",\"wiki-common:widget/lib/jsmart/jsmart.js\",\"wiki-common:widget/component/nslog/nslog.js\"]}},\"pkg\":{\"wiki-lemma:p5\":{\"url\":\"https://bkssl.bdimg.com/static/wiki-lemma/pkg/wiki-lemma-module-lemmaRelation_853c311.js\"}}});</script><script type=\"text/javascript\" src=\"https://bkssl.bdimg.com/static/wiki-common/pkg/wiki-common-base_363b44d.js\"></script>\\n<script type=\"text/javascript\" src=\"https://bkssl.bdimg.com/static/wiki-lemma/pkg/wiki-lemma_8d43709.js\"></script>\\n<script type=\"text/javascript\" src=\"https://bkssl.bdimg.com/static/wiki-lemma/widget/lemma_content/configModule/zhixin/zhixin_ea4d2ff.js\"></script>\\n<script type=\"text/javascript\">!function(){  var $ = require(\\'wiki-common:widget/lib/jquery/jquery\\'),\\n    userbar = require(\\'wiki-common:widget/component/userbar-n/userbar-n\\');\\n    \\n  userbar.buildUserbar($(\\'#j-wgt-userbar\\'), null);\\n}();\\n!function(){  require(\\'wiki-common:widget/component/headTabBar/headTabBar\\');\\n}();\\n!function(){    var $ = require(\\'wiki-common:widget/lib/jquery/jquery\\'),\\r\\n      initSearchbar = require(\\'wiki-common:widget/component/searchbar-n/searchbar\\');  \\r\\n    initSearchbar($(\\'.wgt-searchbar-main\\'));\\r\\n  }();\\n!function(){    var $ = require(\\'wiki-common:widget/lib/jquery/jquery\\');\\n    var cookie = require(\\'wiki-common:widget/util/cookie\\');\\n    if (!cookie.get(\\'baikedeclare\\')) {\\n        $(\\'#J-declare-wrap\\').css(\\'display\\', \\'block\\');\\n    }\\n    $(\\'#J-declare-close\\').on(\\'click\\', function () {\\n        // 用户关闭后，不再显示，这里暂设过期时间为1年\\n        cookie.set(\\'baikedeclare\\', \\'showed\\', {\\n            expires: 365 * 60 * 60 * 24 * 1000,\\n            path: \\'/\\'\\n        });\\n        $(\\'#J-declare-wrap\\').css(\\'display\\', \\'none\\');\\n    });\\n}();\\n!function(){var $ = require(\\'wiki-common:widget/lib/jquery/jquery\\');\\r\\n\\r\\nvar timer = \\'\\';\\r\\n\\r\\n$(\\'.wgt-navbar\\').on(\\'mouseenter\\', \\'dl\\', function() {\\r\\n  clearTimeout(timer);\\r\\n  timer = setTimeout(function() {\\r\\n    $(\\'.wgt-navbar\\').addClass(\\'wgt-navbar-hover\\');\\r\\n  }, 300);\\r\\n}).on(\\'mouseleave\\', function() {\\r\\n  clearTimeout(timer);\\r\\n  $(\\'.wgt-navbar\\').removeClass(\\'wgt-navbar-hover\\');\\r\\n}).on(\\'click\\', \\'a\\', function() {\\r\\n  clearTimeout(timer);\\r\\n  $(\\'.wgt-navbar\\').removeClass(\\'wgt-navbar-hover\\');\\r\\n});\\r\\n}();\\n!function(){                var $ = require(\\'wiki-common:widget/lib/jquery/jquery\\');\\r\\n                var rightCheck = require(\\'wiki-lemma:widget/tools/rightCheck/rightCheck\\');\\r\\n\\r\\n                // 展现策略\\r\\n                rightCheck.editView(\\'1464622\\', function(res) {\\r\\n                    if (!res.errno) {\\r\\n                        if (res.data.edit) {\\r\\n                            $(\\'.lemmaWgt-lemmaTitle .add-subLemma\\').css(\\'display\\', \\'inline-block\\');\\r\\n                            $(\\'.top-tool .add-sub-icon\\').css(\\'display\\', \\'inline-block\\');\\r\\n                        }\\r\\n                    } else {\\r\\n                        if (\\'1\\') {\\r\\n                            $(\\'.lemmaWgt-lemmaTitle .add-subLemma\\').css(\\'display\\', \\'inline-block\\');\\r\\n                            $(\\'.top-tool .add-sub-icon\\').css(\\'display\\', \\'inline-block\\');\\r\\n                        }\\r\\n                    }\\r\\n                });\\r\\n                require(\\'wiki-lemma:widget/basicElement/addSub/addSub.js\\')({                    lemmaId: \\'1464622\\',                    lemmaTitle:\"\\\\u5317\\\\u4eac\\\\u5730\\\\u94c1\\\\u4ea6\\\\u5e84\\\\u7ebf\",                    lemmaDesc:null,                    versionId: \\'138362679\\',                    subLemmaId: \\'4291480\\'                });\\r\\n            }();\\n!function(){        var $ = require(\\'wiki-common:widget/lib/jquery/jquery\\');\\r\\n        var rightCheck = require(\\'wiki-lemma:widget/tools/rightCheck/rightCheck\\');\\r\\n\\r\\n        // 展现策略\\r\\n        rightCheck.editView(\\'1464622\\', function(res) {\\r\\n            if (!res.errno) {\\r\\n                if (res.data.divide) {\\r\\n                    $(\\'.top-tool .split-icon\\').css(\\'display\\', \\'block\\');\\r\\n                }\\r\\n            }\\r\\n        });\\r\\n    }();\\n!function(){    var nslog = require(\\'wiki-common:widget/component/nslog/nslog\\');\\r\\n\\trequire.async([\"wiki-lemma:widget/basicElement/collect/collect\"],function(collect){\\r\\n\\t\\tcollect({\\r\\n            newLemmaId:\"1464622\",\\r\\n\\t\\t\\tlemmaId:\"4291480\",\\r\\n\\t\\t\\tsubLemmaId:\"4291480\"\\r\\n\\t\\t});\\r\\n\\t});\\r\\n}();\\n!function(){    require.async([\"wiki-lemma:widget/basicElement/topShare/topShare\"],function(topShare){\\r\\n        topShare({\\r\\n            newLemmaId: \\'1464622\\'\\r\\n        });\\r\\n    });\\r\\n}();\\n!function(){    var $ = require(\\'wiki-common:widget/lib/jquery/jquery\\');\\r\\n    var rightCheck = require(\\'wiki-lemma:widget/tools/rightCheck/rightCheck\\');\\r\\n    var nsLog = require(\\'wiki-common:widget/component/nslog/nslog\\');\\r\\n    var Dialog = require(\"wiki-common:widget/ui/dialog/dialog\");\\r\\n    \\r\\n    // 展现策略\\r\\n    rightCheck.editView(\\'1464622\\', function(res) {\\r\\n        if (!res.errno) {\\r\\n            if (res.data.edit) {\\r\\n                $(\\'.lemmaWgt-lemmaTitle .edit-lemma\\').css(\\'display\\', \\'inline-block\\');\\r\\n                // 编辑和申请本人实名验证保证同一行展示\\r\\n                if ($(\\'.lemmaWgt-lemmaTitle .personal\\').length > 0) {\\r\\n                  if ($(\\'.lemmaWgt-lemmaTitle .edit-lemma\\').offset().left > $(\\'.lemmaWgt-lemmaTitle .personal\\').offset().left) {\\r\\n                    $(\\'.lemmaWgt-lemmaTitle .edit-lemma\\').before(\\'<br/><br/>\\');\\r\\n                  }\\r\\n                }\\r\\n            } else {\\r\\n                nsLog(\\'10003104\\');              \\r\\n                $(\\'.lemmaWgt-lemmaTitle .lock-lemma\\').show();\\r\\n                // 锁定和申请本人实名验证保证同一行展示\\r\\n                if ($(\\'.lemmaWgt-lemmaTitle .personal\\').length > 0) {\\r\\n                  if ($(\\'.lemmaWgt-lemmaTitle .lock-lemma\\').offset().left > $(\\'.lemmaWgt-lemmaTitle .personal\\').offset().left) {\\r\\n                    $(\\'.lemmaWgt-lemmaTitle .lock-lemma\\').before(\\'<br/><br/>\\');\\r\\n                  }\\r\\n                }\\r\\n            }\\r\\n        } else {\\r\\n            if (\\'1\\') {\\r\\n                $(\\'.lemmaWgt-lemmaTitle .edit-lemma\\').css(\\'display\\', \\'inline-block\\');\\r\\n                // 编辑和申请本人实名验证保证同一行展示\\r\\n                if ($(\\'.lemmaWgt-lemmaTitle .personal\\').length > 0) {\\r\\n                  if ($(\\'.lemmaWgt-lemmaTitle .edit-lemma\\').offset().left > $(\\'.lemmaWgt-lemmaTitle .personal\\').offset().left) {\\r\\n                    $(\\'.lemmaWgt-lemmaTitle .edit-lemma\\').before(\\'<br/><br/>\\');\\r\\n                  }\\r\\n                }\\r\\n            } else {\\r\\n                nsLog(\\'10003104\\');  \\r\\n                $(\\'.lemmaWgt-lemmaTitle .lock-lemma\\').show();\\r\\n                // 锁定和申请本人实名验证保证同一行展示\\r\\n                if ($(\\'.lemmaWgt-lemmaTitle .personal\\').length > 0) {\\r\\n                  if ($(\\'.lemmaWgt-lemmaTitle .lock-lemma\\').offset().left > $(\\'.lemmaWgt-lemmaTitle .personal\\').offset().left) {\\r\\n                    $(\\'.lemmaWgt-lemmaTitle .lock-lemma\\').before(\\'<br/><br/>\\');\\r\\n                  }\\r\\n                }\\r\\n            }\\r\\n        }\\r\\n    });\\r\\n\\r\\n    var canDiscussion = $(\\'.j-discussion-link\\').length > 0 ? true : false;\\r\\n    if (canDiscussion) {\\r\\n        // 锁定跳转\\r\\n        $(\\'body\\').on(\\'click\\', \\'.lock-lemma\\', function () {\\r\\n            var me = $(this);\\r\\n            var content = \\'<div style=\"text-align: left;width: 528px\">\\'\\r\\n                + \\'<h2 style=\"font-size: 20px;color: #333;line-height: 26px;margin-bottom: 20px;\">\\' \\r\\n                + \\'词条锁定，暂时无法编辑</h2>\\' \\r\\n                + \\'<p style=\"font-size: 16px;color: #333;line-height: 26px;\">\\'\\r\\n                + \\'亲爱的用户，词条存在争议或词条内容较完善都可能被锁定（\\'\\r\\n                + \\'<a href=\"/view/10812319.htm\" target=\"_blank\">查看详情</a>）。</p>\\'\\r\\n                + \\'<p style=\"font-size: 16px;color: #333;line-height: 26px;\">\\'\\r\\n                + \\'如果你认为锁定词条内容存在问题需要修改，可进行以下操作：</p></div>\\';\\r\\n            new Dialog({\\r\\n                title: \\'编辑提示\\',\\r\\n                content: content,\\r\\n                btns: [\\r\\n                    {\\r\\n                        text: \\'<span style=\"font-size: 14px\">参与词条讨论，反馈词条问题</span>\\',\\r\\n                        key: \\'discussion\\'\\r\\n                    }\\r\\n                ],\\r\\n                onBtnClick: function(btnKey){\\r\\n                    if (btnKey === \\'discussion\\') {\\r\\n                        window.location.href = \\'/planet/talk?lemmaId=1464622&category=1\\';\\r\\n                    }\\r\\n                }\\r\\n            }).show();\\r\\n        });\\r\\n        // 获取讨论数\\r\\n        $.get(\\'/discussion/api/getdiscussioncount?lemmaId=1464622\\', function (res) {\\r\\n            if (res && res.errno === 0 && res.data.discussionCount > 0) {\\r\\n                var numText = res.data.discussionCount <= 99 ? res.data.discussionCount : \\'99+\\';\\r\\n                $(\\'.j-discussion-link .num\\').text(numText).show();\\r\\n            }\\r\\n        });\\r\\n        $(\\'.lemmaWgt-lemmaTitle .j-discussion-link\\').on(\\'click\\', function () {\\r\\n            $(this).find(\\'.num\\').remove();\\r\\n        });\\r\\n        // 讨论按钮展现量\\r\\n        nsLog(90000101, window.location.href, {\\r\\n            lemmaid: 1464622\\r\\n        });\\r\\n    }\\r\\n}();\\n!function(){\\trequire(\\'wiki-lemma:widget/lemma_content/mainContent/basicInfo/basicInfo\\')();\\r\\n}();\\n!function(){    var $ = require(\\'wiki-common:widget/lib/jquery/jquery\\');\\r\\n    var nslog = require(\\'wiki-common:widget/component/nslog/nslog\\');\\r\\n    nslog(10002701);\\r\\n    $(\\'.lemmaWgt-lemmaCatalog a\\').on(\\'click\\', function () {\\r\\n           nslog(10002702);\\r\\n    });\\r\\n}();\\n!function(){    var $ = require(\\'wiki-common:widget/lib/jquery/jquery\\');\\r\\n    var rightCheck = require(\\'wiki-lemma:widget/tools/rightCheck/rightCheck\\');\\r\\n\\r\\n    // 展现策略\\r\\n    rightCheck.editView(\\'1464622\\', function(res) {\\r\\n        if (!res.errno) {\\r\\n            if (res.data.edit) {\\r\\n                $(\\'.para-title .edit-icon\\').css(\\'display\\', \\'block\\');\\r\\n            }\\r\\n        } else {\\r\\n            if (\\'1\\') {\\r\\n                $(\\'.para-title .edit-icon\\').css(\\'display\\', \\'block\\');\\r\\n            }\\r\\n        }\\r\\n    });\\r\\n}();\\n!function(){    var $ = require(\\'wiki-common:widget/lib/jquery/jquery\\');\\r\\n    var rightCheck = require(\\'wiki-lemma:widget/tools/rightCheck/rightCheck\\');\\r\\n\\r\\n    // 展现策略\\r\\n    rightCheck.editView(\\'1464622\\', function(res) {\\r\\n        if (!res.errno) {\\r\\n            if (res.data.edit) {\\r\\n                $(\\'.para-title .edit-icon\\').css(\\'display\\', \\'block\\');\\r\\n            }\\r\\n        } else {\\r\\n            if (\\'1\\') {\\r\\n                $(\\'.para-title .edit-icon\\').css(\\'display\\', \\'block\\');\\r\\n            }\\r\\n        }\\r\\n    });\\r\\n}();\\n!function(){    var $ = require(\\'wiki-common:widget/lib/jquery/jquery\\');\\r\\n    var rightCheck = require(\\'wiki-lemma:widget/tools/rightCheck/rightCheck\\');\\r\\n\\r\\n    // 展现策略\\r\\n    rightCheck.editView(\\'1464622\\', function(res) {\\r\\n        if (!res.errno) {\\r\\n            if (res.data.edit) {\\r\\n                $(\\'.para-title .edit-icon\\').css(\\'display\\', \\'block\\');\\r\\n            }\\r\\n        } else {\\r\\n            if (\\'1\\') {\\r\\n                $(\\'.para-title .edit-icon\\').css(\\'display\\', \\'block\\');\\r\\n            }\\r\\n        }\\r\\n    });\\r\\n}();\\n!function(){    var $ = require(\\'wiki-common:widget/lib/jquery/jquery\\');\\r\\n    var rightCheck = require(\\'wiki-lemma:widget/tools/rightCheck/rightCheck\\');\\r\\n\\r\\n    // 展现策略\\r\\n    rightCheck.editView(\\'1464622\\', function(res) {\\r\\n        if (!res.errno) {\\r\\n            if (res.data.edit) {\\r\\n                $(\\'.para-title .edit-icon\\').css(\\'display\\', \\'block\\');\\r\\n            }\\r\\n        } else {\\r\\n            if (\\'1\\') {\\r\\n                $(\\'.para-title .edit-icon\\').css(\\'display\\', \\'block\\');\\r\\n            }\\r\\n        }\\r\\n    });\\r\\n}();\\n!function(){    var $ = require(\\'wiki-common:widget/lib/jquery/jquery\\');\\r\\n    var rightCheck = require(\\'wiki-lemma:widget/tools/rightCheck/rightCheck\\');\\r\\n\\r\\n    // 展现策略\\r\\n    rightCheck.editView(\\'1464622\\', function(res) {\\r\\n        if (!res.errno) {\\r\\n            if (res.data.edit) {\\r\\n                $(\\'.para-title .edit-icon\\').css(\\'display\\', \\'block\\');\\r\\n            }\\r\\n        } else {\\r\\n            if (\\'1\\') {\\r\\n                $(\\'.para-title .edit-icon\\').css(\\'display\\', \\'block\\');\\r\\n            }\\r\\n        }\\r\\n    });\\r\\n}();\\n!function(){    var $ = require(\\'wiki-common:widget/lib/jquery/jquery\\');\\r\\n    var rightCheck = require(\\'wiki-lemma:widget/tools/rightCheck/rightCheck\\');\\r\\n\\r\\n    // 展现策略\\r\\n    rightCheck.editView(\\'1464622\\', function(res) {\\r\\n        if (!res.errno) {\\r\\n            if (res.data.edit) {\\r\\n                $(\\'.para-title .edit-icon\\').css(\\'display\\', \\'block\\');\\r\\n            }\\r\\n        } else {\\r\\n            if (\\'1\\') {\\r\\n                $(\\'.para-title .edit-icon\\').css(\\'display\\', \\'block\\');\\r\\n            }\\r\\n        }\\r\\n    });\\r\\n}();\\n!function(){    var $ = require(\\'wiki-common:widget/lib/jquery/jquery\\');\\r\\n    var rightCheck = require(\\'wiki-lemma:widget/tools/rightCheck/rightCheck\\');\\r\\n\\r\\n    // 展现策略\\r\\n    rightCheck.editView(\\'1464622\\', function(res) {\\r\\n        if (!res.errno) {\\r\\n            if (res.data.edit) {\\r\\n                $(\\'.para-title .edit-icon\\').css(\\'display\\', \\'block\\');\\r\\n            }\\r\\n        } else {\\r\\n            if (\\'1\\') {\\r\\n                $(\\'.para-title .edit-icon\\').css(\\'display\\', \\'block\\');\\r\\n            }\\r\\n        }\\r\\n    });\\r\\n}();\\n!function(){    var $ = require(\\'wiki-common:widget/lib/jquery/jquery\\');\\r\\n    var rightCheck = require(\\'wiki-lemma:widget/tools/rightCheck/rightCheck\\');\\r\\n\\r\\n    // 展现策略\\r\\n    rightCheck.editView(\\'1464622\\', function(res) {\\r\\n        if (!res.errno) {\\r\\n            if (res.data.edit) {\\r\\n                $(\\'.para-title .edit-icon\\').css(\\'display\\', \\'block\\');\\r\\n            }\\r\\n        } else {\\r\\n            if (\\'1\\') {\\r\\n                $(\\'.para-title .edit-icon\\').css(\\'display\\', \\'block\\');\\r\\n            }\\r\\n        }\\r\\n    });\\r\\n}();\\n!function(){    var $ = require(\\'wiki-common:widget/lib/jquery/jquery\\');\\r\\n    var rightCheck = require(\\'wiki-lemma:widget/tools/rightCheck/rightCheck\\');\\r\\n\\r\\n    // 展现策略\\r\\n    rightCheck.editView(\\'1464622\\', function(res) {\\r\\n        if (!res.errno) {\\r\\n            if (res.data.edit) {\\r\\n                $(\\'.para-title .edit-icon\\').css(\\'display\\', \\'block\\');\\r\\n            }\\r\\n        } else {\\r\\n            if (\\'1\\') {\\r\\n                $(\\'.para-title .edit-icon\\').css(\\'display\\', \\'block\\');\\r\\n            }\\r\\n        }\\r\\n    });\\r\\n}();\\n!function(){    var $ = require(\\'wiki-common:widget/lib/jquery/jquery\\');\\r\\n    var rightCheck = require(\\'wiki-lemma:widget/tools/rightCheck/rightCheck\\');\\r\\n\\r\\n    // 展现策略\\r\\n    rightCheck.editView(\\'1464622\\', function(res) {\\r\\n        if (!res.errno) {\\r\\n            if (res.data.edit) {\\r\\n                $(\\'.para-title .edit-icon\\').css(\\'display\\', \\'block\\');\\r\\n            }\\r\\n        } else {\\r\\n            if (\\'1\\') {\\r\\n                $(\\'.para-title .edit-icon\\').css(\\'display\\', \\'block\\');\\r\\n            }\\r\\n        }\\r\\n    });\\r\\n}();\\n!function(){    var $ = require(\\'wiki-common:widget/lib/jquery/jquery\\');\\r\\n    var rightCheck = require(\\'wiki-lemma:widget/tools/rightCheck/rightCheck\\');\\r\\n\\r\\n    // 展现策略\\r\\n    rightCheck.editView(\\'1464622\\', function(res) {\\r\\n        if (!res.errno) {\\r\\n            if (res.data.edit) {\\r\\n                $(\\'.para-title .edit-icon\\').css(\\'display\\', \\'block\\');\\r\\n            }\\r\\n        } else {\\r\\n            if (\\'1\\') {\\r\\n                $(\\'.para-title .edit-icon\\').css(\\'display\\', \\'block\\');\\r\\n            }\\r\\n        }\\r\\n    });\\r\\n}();\\n!function(){    var $ = require(\\'wiki-common:widget/lib/jquery/jquery\\');\\r\\n    var rightCheck = require(\\'wiki-lemma:widget/tools/rightCheck/rightCheck\\');\\r\\n\\r\\n    // 展现策略\\r\\n    rightCheck.editView(\\'1464622\\', function(res) {\\r\\n        if (!res.errno) {\\r\\n            if (res.data.edit) {\\r\\n                $(\\'.para-title .edit-icon\\').css(\\'display\\', \\'block\\');\\r\\n            }\\r\\n        } else {\\r\\n            if (\\'1\\') {\\r\\n                $(\\'.para-title .edit-icon\\').css(\\'display\\', \\'block\\');\\r\\n            }\\r\\n        }\\r\\n    });\\r\\n}();\\n!function(){    var $ = require(\\'wiki-common:widget/lib/jquery/jquery\\');\\r\\n    var rightCheck = require(\\'wiki-lemma:widget/tools/rightCheck/rightCheck\\');\\r\\n\\r\\n    // 展现策略\\r\\n    rightCheck.editView(\\'1464622\\', function(res) {\\r\\n        if (!res.errno) {\\r\\n            if (res.data.edit) {\\r\\n                $(\\'.para-title .edit-icon\\').css(\\'display\\', \\'block\\');\\r\\n            }\\r\\n        } else {\\r\\n            if (\\'1\\') {\\r\\n                $(\\'.para-title .edit-icon\\').css(\\'display\\', \\'block\\');\\r\\n            }\\r\\n        }\\r\\n    });\\r\\n}();\\n!function(){    var $ = require(\\'wiki-common:widget/lib/jquery/jquery\\');\\r\\n    var rightCheck = require(\\'wiki-lemma:widget/tools/rightCheck/rightCheck\\');\\r\\n\\r\\n    // 展现策略\\r\\n    rightCheck.editView(\\'1464622\\', function(res) {\\r\\n        if (!res.errno) {\\r\\n            if (res.data.edit) {\\r\\n                $(\\'.para-title .edit-icon\\').css(\\'display\\', \\'block\\');\\r\\n            }\\r\\n        } else {\\r\\n            if (\\'1\\') {\\r\\n                $(\\'.para-title .edit-icon\\').css(\\'display\\', \\'block\\');\\r\\n            }\\r\\n        }\\r\\n    });\\r\\n}();\\n!function(){\\trequire.async([\"wiki-common:widget/lib/jquery/jquery\",\"wiki-lemma:widget/lemma_content/mainContent/albumList/albumList\",\"wiki-common:widget/component/nslog/nslog\"],function($,AlbumList,nslog){\\r\\n\\t\\tvar list=new AlbumList({\\r\\n\\t\\t\\tnewLemmaId:\"1464622\",\\r\\n\\t\\t\\tlemmaTitle:\"北京地铁亦庄线\",\\r\\n\\t\\t\\tlemmaId:\"4291480\",\\r\\n\\t\\t\\tsubLemmaId:\"4291480\",\\r\\n\\t\\t\\tdata:{\"1155584\":{\"coverpic\":\"314e251f95cad1c8bda956a27f3e6709c93d5120\",\"desc\":\"\\\\u65bd\\\\u5de5\\\\u8fc7\\\\u7a0b\",\"albumTag\":\"\",\"height\":164,\"width\":220,\"total\":38,\"coverurl\":\"https:\\\\/\\\\/gss2.bdstatic.com\\\\/9fo3dSag_xI4khGkpoWK1HF6hhy\\\\/baike\\\\/s%3D235\\\\/sign=bdc051ae9d16fdfadc6cc1ed818e8cea\\\\/314e251f95cad1c8bda956a27f3e6709c93d5120.jpg\",\"toppics\":[{\"src\":\"314e251f95cad1c8bda956a27f3e6709c93d5120\",\"owner\":\"yangke19941112\",\"desc\":\"\\\\u5317\\\\u5411\\\\u5357\\\\u770b\\\\u65e7\\\\u5bab\\\\u7ad9\",\"height\":728,\"width\":971},{\"src\":\"d4628535e5dde7117adee973a7efce1b9d166123\",\"owner\":\"yangke19941112\",\"desc\":\"\\\\u5230\\\\u4ea6\\\\u5e84\\\\u4e86\",\"height\":735,\"width\":980},{\"src\":\"b999a9014c086e069da795ce02087bf40ad1cb2c\",\"owner\":\"yangke19941112\",\"desc\":\"\\\\u65e7\\\\u5bab\\\\u7ad9\\\\u8fd1\\\\u666f\",\"height\":500,\"width\":799}]},\"1155589\":{\"coverpic\":\"a08b87d6277f9e2f2c55c48d1f30e924b999f3d7\",\"desc\":\"\\\\u53f0\\\\u6e56\\\\u8f66\\\\u8f86\\\\u6bb5\",\"albumTag\":\"\",\"height\":162,\"width\":220,\"total\":10,\"coverurl\":\"https:\\\\/\\\\/gss3.bdstatic.com\\\\/-Po3dSag_xI4khGkpoWK1HF6hhy\\\\/baike\\\\/s%3D235\\\\/sign=e3c83df6ad4bd11300cdb0316faea488\\\\/a08b87d6277f9e2f2c55c48d1f30e924b999f3d7.jpg\",\"toppics\":[{\"src\":\"a08b87d6277f9e2f2c55c48d1f30e924b999f3d7\",\"owner\":\"yangke19941112\",\"desc\":\"\\\\u53f0\\\\u6e56\\\\u8f66\\\\u8f86\\\\u6bb5\",\"height\":743,\"width\":1009},{\"src\":\"e850352ac65c1038263e1747b2119313b17e89f7\",\"owner\":\"yangke19941112\",\"desc\":\"\\\\u53f0\\\\u6e56\\\\u8f66\\\\u8f86\\\\u6bb5\",\"height\":737,\"width\":1006},{\"src\":\"30adcbef76094b3625f0c268a3cc7cd98c109dd1\",\"owner\":\"yangke19941112\",\"desc\":\"\\\\u53f0\\\\u6e56\\\\u8f66\\\\u8f86\\\\u6bb5\",\"height\":734,\"width\":999}]},\"20442792\":{\"coverpic\":\"a8773912b31bb0518a681ea2367adab44bede0e8\",\"desc\":\"\\\\u8096\\\\u6751\\\\u7ad9\",\"albumTag\":\"\",\"height\":165,\"width\":220,\"total\":4,\"coverurl\":\"https:\\\\/\\\\/gss2.bdstatic.com\\\\/9fo3dSag_xI4khGkpoWK1HF6hhy\\\\/baike\\\\/s%3D235\\\\/sign=a267919eab18972ba73a07c9d3cc7b9d\\\\/a8773912b31bb0518a681ea2367adab44bede0e8.jpg\",\"toppics\":[{\"src\":\"4034970a304e251fb53c4672a786c9177e3e5374\",\"owner\":\"yangke19941112\",\"desc\":\"\\\\u8096\\\\u6751\\\\u7ad9\\\\u5165\\\\u53e3\",\"height\":960,\"width\":1280},{\"src\":\"11385343fbf2b2115f0528c4ca8065380cd78e15\",\"owner\":\"yangke19941112\",\"desc\":\"\\\\u8096\\\\u6751\\\\u7ad9\\\\u7ad9\\\\u5385\",\"height\":960,\"width\":1280},{\"src\":\"a8ec8a13632762d0631a0935a0ec08fa513dc610\",\"owner\":\"yangke19941112\",\"desc\":\"\\\\u8096\\\\u6751\\\\u7ad9\\\\u7ad9\\\\u5385\",\"height\":960,\"width\":1280}]},\"20442793\":{\"coverpic\":\"9a504fc2d56285358f44faa890ef76c6a6ef6396\",\"desc\":\"\\\\u4e07\\\\u6e90\\\\u8857\\\\u7ad9\",\"albumTag\":\"\",\"height\":165,\"width\":220,\"total\":10,\"coverurl\":\"https:\\\\/\\\\/gss2.bdstatic.com\\\\/9fo3dSag_xI4khGkpoWK1HF6hhy\\\\/baike\\\\/s%3D235\\\\/sign=bfa0abb93af33a879a6d0719f35d1018\\\\/9a504fc2d56285358f44faa890ef76c6a6ef6396.jpg\",\"toppics\":[{\"src\":\"908fa0ec08fa513d309042573d6d55fbb2fbd904\",\"owner\":\"yangke19941112\",\"desc\":\"\\\\u5761\\\\u5ea6\\\\u6807\",\"height\":786,\"width\":1047},{\"src\":\"cf1b9d16fdfaaf518533ae368c5494eef11f7a62\",\"owner\":\"yangke19941112\",\"desc\":\"\\\\u4e07\\\\u6e90\\\\u8857\\\\u7ad9\\\\u5185\\\\u7b2c\\\\u4e09\\\\u8f68\\\\u8fd1\\\\u666f\",\"height\":724,\"width\":1021},{\"src\":\"728da9773912b31b5e58e3a08618367adab4e107\",\"owner\":\"yangke19941112\",\"desc\":\"\\\\u4e07\\\\u6e90\\\\u8857\\\\u7ad9\\\\u5185\\\\u8f68\\\\u9053\",\"height\":764,\"width\":1021}]},\"0\":{\"coverpic\":\"72f082025aafa40f35fa9c93a764034f78f019bb\",\"width\":1280,\"height\":644,\"desc\":\"\\\\u8bcd\\\\u6761\\\\u56fe\\\\u7247\",\"total\":5,\"coverurl\":\"https:\\\\/\\\\/gss2.bdstatic.com\\\\/-fo3dSag_xI4khGkpoWK1HF6hhy\\\\/baike\\\\/s%3D235\\\\/sign=c4a0aa6f7e8b4710ca2ffacff6cec3b2\\\\/72f082025aafa40f35fa9c93a764034f78f019bb.jpg\"}}\\r\\n\\t\\t});\\r\\n\\t\\t!!window.ScriptLazyLoad && window.ScriptLazyLoad.regist({\\r\\n\\t\\t\\tdom:$(\\'.album-list\\'),\\r\\n\\t\\t\\tloadFunc:function(){\\r\\n\\t\\t\\t\\tlist.load();\\r\\n\\t\\t\\t\\tnslog(1258);\\r\\n\\t\\t\\t},\\r\\n\\t\\t\\tdistance:500\\r\\n\\t\\t});\\r\\n\\t});\\r\\n}();\\n!function(){        require.async([\\'wiki-lemma:widget/lemma_content/mainContent/lemmaRelation/lemmaInsert\\'], function(init) {\\r\\n            init({ // 关系化统计需求--传参  shangwenbin\\r\\n                lemmaId: \"4291480\",\\r\\n                newLemmaId: \"1464622\",\\r\\n                subLemmaId: \"4291480\",\\r\\n                lemmaTitle: \"北京地铁亦庄线\"\\r\\n            });\\r\\n        });\\r\\n    }();\\n!function(){\\t\\trequire.async([\"wiki-lemma:widget/lemma_content/mainContent/lemmaReference/lemmaReference\",\"wiki-lemma:widget/lemma_content/mainContent/lemmaReference/lemmaReferenceTip/lemmaReferenceTip\"],function(Reference,ReferenceTip){\\r\\n\\t\\t\\tnew Reference({\\r\\n\\t\\t\\t\\tsubLemmaId:\"4291480\"\\r\\n\\t\\t\\t});\\r\\n\\t\\t\\tnew ReferenceTip({\\r\\n\\t\\t\\t\\tsubLemmaId:\"1464622\",\\r\\n\\t\\t\\t\\tlemmaTitle:\"北京地铁亦庄线\",\\r\\n\\t\\t\\t\\treference:[{\"type\":\"1\",\"title\":\"\\\\u300a\\\\u5317\\\\u4eac\\\\u5e02\\\\u4ea6\\\\u5e84\\\\u8f7b\\\\u8f68\\\\u5de5\\\\u7a0b\\\\u7ebf\\\\u8def\\\\u89c4\\\\u5212\\\\u65b9\\\\u6848\\\\u300b\\\\u83b7\\\\u6279\\\\u590d\",\"url\":\"\\\\/reference\\\\/1464622\\\\/6757GdI3FwbzuzdZniPl3aSkrYR0yyEkjye9NDVLet2fFSgNTNYdyp2Xmls-xUkMsMwx40jOMFUS8W-xes-8er37XYDxS3KJ1CaG9cthBMCqKoyVMZ2lf9A7jkwmoYDuIrWS0guoKNWMyg\",\"site\":\"\\\\u5317\\\\u4eac\\\\u5e02\\\\u89c4\\\\u5212\\\\u59d4\\\\u5458\\\\u4f1a\",\"publishDate\":\"2004-04-26\",\"refDate\":\"2015-08-08\",\"index\":1,\"count\":\"1\"},{\"type\":\"1\",\"title\":\"\\\\u4ea6\\\\u5e84\\\\u8f7b\\\\u8f68\\\\u5168\\\\u7ebf\\\\u8bbe\\\\u5341\\\\u8f66\\\\u7ad9\",\"url\":\"\\\\/reference\\\\/1464622\\\\/34b5hLpHB-lReuOZd1XmeRnFL2ml8Hp1sz-VlqKSZEld59Ke-e7IwyhdMNC6G3CdkPsZFnpfBqcmRUgOTjtIAnGcBd1DHq-q5POJc6YxwJZ0SiE\",\"site\":\"\\\\u641c\\\\u72d0\\\\u65b0\\\\u95fb\",\"publishDate\":\"2004-04-27\",\"refDate\":\"2015-08-08\",\"index\":2,\"count\":\"1\"},{\"type\":\"1\",\"title\":\"\\\\u5e02\\\\u8f68\\\\u9053\\\\u4ea4\\\\u901a\\\\u4ea6\\\\u5e84\\\\u7ebf\\\\u7ebf\\\\u8def\\\\u89c4\\\\u5212\\\\u65b9\\\\u6848\\\\u901a\\\\u8fc7\\\\u5ba1\\\\u67e5\\\\u5e76\\\\u83b7\\\\u6279\\\\u590d\",\"url\":\"\\\\/reference\\\\/1464622\\\\/8f00C4Szoq-mQ9YpTTA63neo2HTgBvuZ1EF5fIStu3KjWC9kyWMTV8s6xzoAaUOCWQbY9YnRF-OkHJaZTatGGWr-2lmvlS9lUcOc0IhSEYMnKnuaG3FTizUwAS_558eKPYsPy5XZDjBatw\",\"site\":\"\\\\u5317\\\\u4eac\\\\u5e02\\\\u89c4\\\\u5212\\\\u59d4\\\\u5458\\\\u4f1a\",\"publishDate\":\"2007-05-23\",\"refDate\":\"2015-08-08\",\"index\":3,\"count\":\"1\"},{\"type\":\"1\",\"title\":\"\\\\u4ea6\\\\u5e84\\\\u8f7b\\\\u8f68\\\\u89c4\\\\u5212\\\\u65b9\\\\u6848\\\\u83b7\\\\u6279 \\\\u5168\\\\u7ebf\\\\u5171\\\\u8bbe14\\\\u5ea7\\\\u8f66\\\\u7ad9\",\"url\":\"\\\\/reference\\\\/1464622\\\\/89c19VdU47FYSq3xPDiImG6cyPpa4TiQ3lu1-MJVwhtEJqT-uwlLRyD1MIEy6RbjNKdEMATdesyt2q4RrpLibaRUwOAiMJtV4ZjIA00eX896CnGtTn6XMCgP43Pqfpg8yt8\",\"site\":\"\\\\u65b0\\\\u534e\\\\u7f51\\\\u5317\\\\u4eac\\\\u9891\\\\u9053\",\"publishDate\":\"2007-05-24\",\"refDate\":\"2015-08-08\",\"index\":4,\"count\":\"1\"},{\"type\":\"1\",\"title\":\"\\\\u5317\\\\u4eac5\\\\u6761\\\\u5730\\\\u94c18\\\\u65e5\\\\u4e0a\\\\u5348\\\\u5f00\\\\u5de5 2015\\\\u5e74\\\\u5168\\\\u90e8\\\\u5b8c\\\\u5de5(\\\\u56fe)\",\"url\":\"\\\\/reference\\\\/1464622\\\\/c7fciZIsGqniEijWFh4N5qXGkqVEfvDyM5qdgUgm6JxQyFVgvTSqRCfwBl4rG1ra0cuzasTZiegSKr7G2jDBBS71xw3gsUhyFDm-9IStIQdnzz2LsYNjMYNW1RE40A\",\"site\":\"\\\\u65b0\\\\u534e\\\\u7f51\",\"publishDate\":\"2007-12-09\",\"refDate\":\"2015-08-08\",\"index\":5,\"count\":\"1\"},{\"type\":\"1\",\"title\":\"\\\\u5317\\\\u4eac\\\\u5e74\\\\u5185\\\\u5f00\\\\u5efa2\\\\u52304\\\\u6761\\\\u5730\\\\u94c1 \\\\u4ea6\\\\u5e84\\\\u7ebf\\\\u4e0b\\\\u6708\\\\u52a8\\\\u5de5\",\"url\":\"\\\\/reference\\\\/1464622\\\\/097aC9VMpw-sZHZNmBxjeaXjzhoMd58oogUPd7oCUdjDGuFb9qxxUehFT23aOqWpBJCH8Eujz7C71JuFdxOTxhhpznih\",\"site\":\"\\\\u817e\\\\u8baf\\\\u65b0\\\\u95fb\",\"publishDate\":\"2008-08-26\",\"refDate\":\"2015-08-08\",\"index\":6,\"count\":\"1\"},{\"type\":\"1\",\"title\":\"\\\\u8f68\\\\u9053\\\\u4ea4\\\\u901a\\\\u4ea6\\\\u5e84\\\\u7ebf\\\\u9996\\\\u4e2a\\\\u9ad8\\\\u67b6\\\\u8f66\\\\u7ad9\\\\u5f00\\\\u5de5\",\"url\":\"\\\\/reference\\\\/1464622\\\\/be2bW7P7RxteYLUO52NYg4x2RD8EAjleFHXKeQs3GUzfBG_iwZJrcqT5WTZHhewjqRgZiaphBQpLL1JzXOEFlsSbfnmAn_OmwR2KU37bYvFztjAPmg\",\"site\":\"\\\\u65b0\\\\u6d6a\\\\u65b0\\\\u95fb\\\\u4e2d\\\\u5fc3\",\"publishDate\":\"2008-10-17\",\"refDate\":\"2015-08-08\",\"index\":7},{\"type\":\"1\",\"title\":\"\\\\u5730\\\\u94c1\\\\u4ea6\\\\u5e84\\\\u7ebf\\\\u65bd\\\\u5de5\\\\u65e0\\\\u788d\\\\u4eac\\\\u6d25\\\\u57ce\\\\u94c1\",\"url\":\"\\\\/reference\\\\/1464622\\\\/ee340f6ViIWIzEoI6tk74km6L9gfGzCA6DwA53m9dH3OOhuiJaxLa-THGEYKkNKDYHkcvsrMjkVVSBecCM8TQMB6HhAmNzxVkZSKWYq6jHz-9jMbRw\",\"site\":\"\\\\u65b0\\\\u6d6a\\\\u65b0\\\\u95fb\\\\u4e2d\\\\u5fc3\",\"publishDate\":\"2009-03-28\",\"refDate\":\"2015-08-08\",\"index\":8},{\"type\":\"1\",\"title\":\"\\\\u5730\\\\u94c1\\\\u4ea6\\\\u5e84\\\\u7ebf\\\\u5927\\\\u5174\\\\u7ebf\\\\u83b7\\\\u6279\",\"url\":\"\\\\/reference\\\\/1464622\\\\/6c45rD74vUQErE-w6HH_hLDDARLrVcuNqJ7-XqufSmgLdYi5bYZb5eNvdpoG5EkfNaNlitAXBLduve05vkpUonKVMR3TY_w7FDTOk1DHZCwobwumFw\",\"site\":\"\\\\u65b0\\\\u6d6a\\\\u65b0\\\\u95fb\\\\u4e2d\\\\u5fc3\",\"publishDate\":\"2009-05-19\",\"refDate\":\"2015-08-08\",\"index\":9},{\"type\":\"1\",\"title\":\"\\\\u4ea6\\\\u5e84\\\\u7ebf\\\\u8096\\\\u6751\\\\u6865\\\\u7ad9\\\\u5f00\\\\u59cb\\\\u76fe\\\\u6784\",\"url\":\"\\\\/reference\\\\/1464622\\\\/8216Z4KVoHziMq3iMPD-ERSQx2gDxR3yhaAapLfB9qhxdfouZjZTgzap4SE-9QjJs_c2jOxxyB8Q5_llqvxh7UNiuB7XuyjC3q7wSmDkLd0DuRCU5i37Qw\",\"site\":\"\\\\u4eac\\\\u534e\\\\u65f6\\\\u62a5\",\"publishDate\":\"2009-06-22\",\"refDate\":\"2015-08-08\",\"index\":10},{\"type\":\"1\",\"title\":\"\\\\u5730\\\\u94c1\\\\u4ea6\\\\u5e84\\\\u7ebf\\\\u540a\\\\u8d77\\\\u9996\\\\u6839\\\\u9ad8\\\\u67b6\\\\u6881\",\"url\":\"\\\\/reference\\\\/1464622\\\\/e2db2CV2bzXpzQJ_TswEIykSERrDc-XiFQeRdkuqvUxPcUooPTRf_uh0q0jegTIGNR2Naqspi_Pr_yruGQi4GryWCmhSG0_oQPkOPhC3Vo7jl4LT_Q\",\"site\":\"\\\\u65b0\\\\u6d6a\\\\u65b0\\\\u95fb\",\"publishDate\":\"2009-07-13\",\"refDate\":\"2015-08-08\",\"index\":11},{\"type\":\"1\",\"title\":\"\\\\u4ea6\\\\u5e84\\\\u7ebf\\\\u5927\\\\u5174\\\\u7ebf9\\\\u53f7\\\\u7ebf\\\\u516c\\\\u793a\\\\u7ad9\\\\u540d 2012\\\\u5e74\\\\u5168\\\\u90e8\\\\u5f00\\\\u901a\",\"url\":\"\\\\/reference\\\\/1464622\\\\/63e7I4b5eDV7IqX-Oc5II5JrnYGFWbgURGnAqRZQpB_s04kJIiV8EkpKTuFZnDecAIoteNiLn527-2Y8VEvqzRV7UXIoJt2b\",\"site\":\"\\\\u817e\\\\u8baf\\\\u8d22\\\\u7ecf\",\"publishDate\":\"2009-11-24\",\"refDate\":\"2015-08-08\",\"index\":12,\"count\":\"1\"},{\"type\":\"1\",\"title\":\"\\\\u6b21\\\\u6e20\\\\u5357\\\\u7ad9\\\\u6628\\\\u5c01\\\\u9876\\\\u4ea6\\\\u5e84\\\\u7ebf\\\\u660e\\\\u5e74\\\\u94fa\\\\u8f68 \",\"url\":\"\\\\/reference\\\\/1464622\\\\/191838HvUtINHxtqqGOkVr3FOhXqigRATspEoiELtuDUS4ErjyogiWDqRRvNK-qMwsgZCRu1cxicc4d9FMLsPsXotCJWAJlcQ4noamm5c5z-nMilnOnjzvaKAA\",\"site\":\"\\\\u6cd5\\\\u5236\\\\u665a\\\\u62a5\",\"publishDate\":\"2009-12-09\",\"refDate\":\"2015-08-08\",\"index\":13,\"count\":\"1\"},{\"type\":\"1\",\"title\":\"\\\\u60ac\\\\u6d47\\\\u8f6c\\\\u4f53\\\\u6865\\\\u5b8c\\\\u6210\\\\u8f6c\\\\u4f53 \\\\u4ea6\\\\u5e84\\\\u7ebf50\\\\u5206\\\\u949f\\\\u98de\\\\u8dc3\\\\u4e94\\\\u73af\\\\u8def\",\"url\":\"\\\\/reference\\\\/1464622\\\\/694fWP4OmmcZrW54MOqDCX8NiRJpFwlzU4Uuk52RUhC_MsF_GKNdh0ejYV4Ha0L1zxcWL4jDWhzuEM9KUaH6C8iLP4dPQ_MMUhewaCZRKrlwN-9W3D4ZMA\",\"site\":\"\\\\u5343\\\\u9f99\\\\u7f51\",\"publishDate\":\"2010-01-26\",\"refDate\":\"2015-08-08\",\"index\":14},{\"type\":\"1\",\"title\":\"\\\\u5317\\\\u4eac\\\\u5730\\\\u94c1\\\\u4ea6\\\\u5e84\\\\u7ebf\\\\u5f00\\\\u59cb\\\\u94fa\\\\u8f68\\\\u9884\\\\u8ba1\\\\u5e74\\\\u5e95\\\\u5f00\\\\u901a\\\\u8fd0\\\\u8425\",\"url\":\"\\\\/reference\\\\/1464622\\\\/f4b0JPUW1XkG3FtCAptzfFVxUPoJSwTACGUvGhdU82KRro7Ahf0MmrpFs79psNeqMg-gcg4BY1wRKk8K3wA3MSpOnQYUgPnNCCVtKENxPBLAYvVaXiSSzajKEKoBBS8umGU\",\"site\":\"\\\\u65b0\\\\u534e\\\\u7f51\\\\u5317\\\\u4eac\\\\u9891\\\\u9053\",\"publishDate\":\"2010-02-08\",\"refDate\":\"2015-08-08\",\"index\":15},{\"type\":\"1\",\"title\":\"\\\\u4ea6\\\\u5e84\\\\u7ebf\\\\u6210\\\\u529f\\\\u4e0b\\\\u7a7f\\\\u4eac\\\\u6d25\\\\u7b2c\\\\u4e8c\\\\u9ad8\\\\u901f\",\"url\":\"\\\\/reference\\\\/1464622\\\\/bfccObtjtjA2v8u3xe0y4ONoqUQ9DzQybwldZLX37JEHXcPRcmczlFc9WQZkFuUbb86uKHn50Wh6P32wdvKoMMkoyWWSMDndYlJUvLDZKumS\",\"site\":\"\\\\u7f51\\\\u6613\\\\u65b0\\\\u95fb\",\"publishDate\":\"2010-03-02\",\"refDate\":\"2015-08-08\",\"index\":16},{\"type\":\"1\",\"title\":\"\\\\u4ea6\\\\u5e84\\\\u7ebf\\\\u201c\\\\u6837\\\\u677f\\\\u6bb5\\\\u201d\\\\u8f68\\\\u9053\\\\u4eca\\\\u8d2f\\\\u901a\",\"url\":\"\\\\/reference\\\\/1464622\\\\/929b5Zki5hWAlAf6mQBY43RRcOHmu53sVhwZlvS06UWpCdcTc-DHGaqC0L5825lfEAERwg-9FZGPANav06rt156MU1r2MOLoV1tiRVFYHMftsPLs0jJmeEnVMw\",\"site\":\"\\\\u6cd5\\\\u5236\\\\u665a\\\\u62a5\",\"publishDate\":\"2010-04-29\",\"refDate\":\"2015-08-08\",\"index\":17,\"count\":\"1\"},{\"type\":\"1\",\"title\":\"\\\\u5730\\\\u94c1\\\\u4ea6\\\\u5e84\\\\u7ebf\\\\u6628\\\\u5168\\\\u7ebf\\\\u8d2f\\\\u901a\",\"url\":\"\\\\/reference\\\\/1464622\\\\/dabaXMPzvLAtGsww1Sh0lalXEzqmWovmgAaNMy8M9xCy29STyecTxASZZcLc89DSzO1Gu9L47QeIWSidMpjwO97G8MkevKMjRvcyHxmQCOI8EsH6YckHf-BjEQ\",\"site\":\"\\\\u6cd5\\\\u5236\\\\u665a\\\\u62a5\",\"publishDate\":\"2010-05-21\",\"refDate\":\"2015-08-08\",\"index\":18,\"count\":\"1\"},{\"type\":\"1\",\"title\":\"\\\\u4ea6\\\\u5e84\\\\u7ebf\\\\u8f66\\\\u7ad9\\\\u5168\\\\u9762\\\\u88c5\\\\u4fee\",\"url\":\"\\\\/reference\\\\/1464622\\\\/e9bb3npcankYi_jIuiMCy6zeIUy7NybPIV756EAaYtSYixzdYrlLCNQnss485XzZ8g7I0V2c01FyeL5f2TVp9YHMMh9no6G9w2OddHCB_WcL\",\"site\":\"\\\\u7f51\\\\u6613\\\\u65b0\\\\u95fb\",\"publishDate\":\"2010-06-28\",\"refDate\":\"2015-08-08\",\"index\":19,\"count\":\"1\"},{\"type\":\"1\",\"title\":\"\\\\u5730\\\\u94c1\\\\u4ea6\\\\u5e84\\\\u7ebf7\\\\u67082\\\\u65e5\\\\u5f00\\\\u59cb\\\\u52a8\\\\u8f66\\\\u8c03\\\\u8bd5\",\"url\":\"\\\\/reference\\\\/1464622\\\\/cbc0OgTlpupQGQpMjJmUJbIwvk6DTPm70yhkJQ7q6563eNnxmm_68duvVIBNam-kNQDGX45vVNeo_dY3C147BQVxy2FRvw9ms2OGSda5c1x5\",\"site\":\"\\\\u9996\\\\u90fd\\\\u4e4b\\\\u7a97\",\"publishDate\":\"2010-07-03\",\"refDate\":\"2015-08-08\",\"index\":20,\"count\":\"1\"},{\"type\":\"1\",\"title\":\"\\\\u4ea6\\\\u5e84\\\\u7ebf\\\\u623f\\\\u5c71\\\\u7ebf\\\\u5c06\\\\u7a7a\\\\u8f7d\\\\u8bd5\\\\u8fd0\\\\u884c\",\"url\":\"\\\\/reference\\\\/1464622\\\\/37daLIudu-4opd5KFhlOH0ETxIF2FkJZD4dvk_uasPtp75_xrmuDJd690-6MWUN7uo_2AnGN4T3C8Zwf4B-ObRCEILCmMe3tORjDoslyms60e4emLWe4ZfA\",\"site\":\"\\\\u5343\\\\u9f99\\\\u7f51\",\"publishDate\":\"2010-08-27\",\"refDate\":\"2015-09-03\",\"index\":21,\"count\":\"1\"},{\"index\":22,\"type\":\"3\",\"text\":\"\\\\u56fe\\\\u518c\\\\u56fe\\\\u7247\\\\u7531\\\\u4ea6\\\\u5e84\\\\u7ebf\\\\u5de5\\\\u4f5c\\\\u4eba\\\\u5458\\\\u62cd\\\\u6444\\\\u4ee5\\\\u53cayangke19941112\\\\u4e8e2009\\\\u5e7411\\\\u670828-29\\\\u65e5\\\\u62cd\\\\u6444\",\"title\":\"\\\\u56fe\\\\u518c\\\\u56fe\\\\u7247\\\\u7531\\\\u4ea6\\\\u5e84\\\\u7ebf\\\\u5de5\\\\u4f5c\\\\u4eba\\\\u5458\\\\u62cd\\\\u6444\\\\u4ee5\\\\u53cayangke19941112\\\\u4e8e2009\\\\u5e7411\\\\u670828-29\\\\u65e5\\\\u62cd\\\\u6444\",\"count\":\"2\"},{\"type\":\"1\",\"title\":\"\\\\u5927\\\\u5174\\\\u7ebf\\\\u3001\\\\u4ea6\\\\u5e84\\\\u7ebf\\\\u3001\\\\u5341\\\\u4e94\\\\u53f7\\\\u7ebf\\\\u9996\\\\u5f00\\\\u6bb5\\\\u3001\\\\u660c\\\\u5e73\\\\u7ebf\\\\u4e00\\\\u671f\\\\u3001\\\\u623f\\\\u5c71\\\\u7ebf\\\\u7b49\\\\u4e94\\\\u6761\\\\u8f68\\\\u9053\\\\u4ea4\\\\u901a\\\\u65b0\\\\u7ebf12\\\\u670830\\\\u65e5\\\\u5f00\\\\u901a\\\\u8bd5\\\\u8fd0\\\\u8425\",\"url\":\"\\\\/reference\\\\/1464622\\\\/f75104BU5eNpFJQaiJAaoJsSq7pQ4ntEZ8ujB3zE30XaeAk-ibHnlf3jRUtK-CGMFjeKbmVy8lXGzfHkR_7Yewn_pDs424yrvG-GVW4N_6H8Vhg04OEMw759\",\"site\":\"\\\\u5317\\\\u4eac\\\\u5e02\\\\u4ea4\\\\u901a\\\\u59d4\\\\u5458\\\\u4f1a\",\"publishDate\":\"2010-12-31\",\"refDate\":\"2015-08-08\",\"index\":23,\"count\":\"1\"},{\"type\":\"1\",\"title\":\"\\\\u4ea6\\\\u5e84\\\\u7ebf\\\\u5b8b\\\\u5bb6\\\\u5e84\\\\u7ad9\",\"url\":\"\\\\/reference\\\\/1464622\\\\/a35fX9TKV-pHmeanhGoLEPOTM6PAm3_aK8vjgEDmdKhYpwddVVephmZeFO1oLf6OkkjMwBYLU3xjPXp8y8fqkXZr-oMF2l6Lzt8qB-qQTjoSSd1LSpT3ZgY4PiHq\",\"site\":\"\\\\u5317\\\\u4eac\\\\u5730\\\\u94c1\\\\u5b98\\\\u65b9\\\\u7f51\\\\u7ad9\",\"publishDate\":\"2013-08-26\",\"refDate\":\"2014-07-20\",\"index\":24},{\"type\":\"1\",\"title\":\"\\\\u4ea6\\\\u5e84\\\\u7ebf\\\\u8096\\\\u6751\\\\u7ad9\",\"url\":\"\\\\/reference\\\\/1464622\\\\/2625QpL38D27xPSK0TNGr6nzwDaTx5Ph_AvmQseI2ac57wHYKo1aumOoFeWwl0AveOdW3Lq4yIb7EfaBpCta7kvYHM_EeSPEyrrSwZyBG3NO5hHYtX4dVP_okvV3\",\"site\":\"\\\\u5317\\\\u4eac\\\\u5730\\\\u94c1\\\\u5b98\\\\u65b9\\\\u7f51\\\\u7ad9\",\"publishDate\":\"2013-08-26\",\"refDate\":\"2014-07-20\",\"index\":25},{\"type\":\"1\",\"title\":\"\\\\u4ea6\\\\u5e84\\\\u7ebf\\\\u5c0f\\\\u7ea2\\\\u95e8\\\\u7ad9\",\"url\":\"\\\\/reference\\\\/1464622\\\\/d561MV7MLwdptDz13XZeBPoKJ1YHkuQMjrvS_m10gmb1T_6Sfj-l1sk_s8kpVApLMkftLZwIsOzk0Fz1J-1cUF_CmGVpE4cnvbwKxBQmXV4CZK2tXOEqICMH15-D\",\"site\":\"\\\\u5317\\\\u4eac\\\\u5730\\\\u94c1\\\\u5b98\\\\u65b9\\\\u7f51\\\\u7ad9\",\"publishDate\":\"2013-08-26\",\"refDate\":\"2014-07-20\",\"index\":26},{\"type\":\"1\",\"title\":\"\\\\u4ea6\\\\u5e84\\\\u7ebf\\\\u65e7\\\\u5bab\\\\u7ad9\",\"url\":\"\\\\/reference\\\\/1464622\\\\/c213vssb6xhrDKZjfGcZ9JeBKeSFNY-hx5V-4ZOPr_tvtpw3CmEQ3lGuUsfGTvm-u02_BJXMPBNxaezC2lfHCFvhs_lyuqmiA1Z50Sz6rfJILZd3sr-5Zv-TgpQT\",\"site\":\"\\\\u5317\\\\u4eac\\\\u5730\\\\u94c1\\\\u5b98\\\\u65b9\\\\u7f51\\\\u7ad9\",\"publishDate\":\"2013-08-26\",\"refDate\":\"2014-07-20\",\"index\":27},{\"type\":\"1\",\"title\":\"\\\\u4ea6\\\\u5e84\\\\u7ebf\\\\u540c\\\\u6d4e\\\\u5357\\\\u8def\\\\u7ad9\",\"url\":\"\\\\/reference\\\\/1464622\\\\/b28dEoOZx-U3qM2SYkIyEwCs8P6W8UcCI3uiJAHeVwg2s6MhB3PZNgNGRy1yedVEfowlom4soWFOAussgDVsYGNn9ASerfOW-InVJssGn4qItomfR6yC34VLnOao\",\"site\":\"\\\\u5317\\\\u4eac\\\\u5730\\\\u94c1\\\\u5b98\\\\u65b9\\\\u7f51\\\\u7ad9\",\"publishDate\":\"2013-08-26\",\"refDate\":\"2014-07-21\",\"index\":28},{\"type\":\"1\",\"title\":\"\\\\u4ea6\\\\u5e84\\\\u7ebf\\\\u7ecf\\\\u6d77\\\\u8def\\\\u7ad9\",\"url\":\"\\\\/reference\\\\/1464622\\\\/0bb4dpKruyNZR4VYsg-RrTDSqrwug8oL46HFWpw_m5RpeGNqak8i4g2_0kCQaXN8sfE5QNKlxyT7bZqgt1yJ6nbY7ZdFYHo7_KTzTQxsCYnLwp5QzguD_T_nTBU4\",\"site\":\"\\\\u5317\\\\u4eac\\\\u5730\\\\u94c1\\\\u5b98\\\\u65b9\\\\u7f51\\\\u7ad9\",\"publishDate\":\"2013-08-26\",\"refDate\":\"2014-07-21\",\"index\":29},{\"type\":\"1\",\"title\":\"\\\\u4ea6\\\\u5e84\\\\u7ebf\\\\u6b21\\\\u6e20\\\\u5357\\\\u7ad9\",\"url\":\"\\\\/reference\\\\/1464622\\\\/26c4NzCx3yYTGCVmB8thcNCZDlBT4uUesPuNlgFoKX4SKEFoO5e7hEqzvvYzV-a2ia_SoqycnCiKUQgH7E5SDtOjDvc8Yv2HmbOZGujivpq8orBitk9azAVcP22I\",\"site\":\"\\\\u5317\\\\u4eac\\\\u5730\\\\u94c1\\\\u5b98\\\\u65b9\\\\u7f51\\\\u7ad9\",\"publishDate\":\"2013-08-26\",\"refDate\":\"2014-07-21\",\"index\":30},{\"type\":\"1\",\"title\":\"\\\\u8d70\\\\u8fd1\\\\u8f68\\\\u9053\\\\u4ea4\\\\u901a\\\\u4ea6\\\\u5e84\\\\u7ebf\",\"url\":\"\\\\/reference\\\\/1464622\\\\/bfab5BqsBZJU8yR0Fygshd2iAaG39l9rBPPQKzy-YDKo2pHcq5lFn5tg2Y5sFLfUF2fStGKvrkqHHxkB6WRUTZ64LtuAQkgIinkAuTcfKGmbd83kg_cs1hHB\",\"site\":\"\\\\u5317\\\\u4eac\\\\u5e02\\\\u4ea4\\\\u901a\\\\u59d4\\\\u5458\\\\u4f1a\",\"publishDate\":\"2010-11-19\",\"refDate\":\"2015-09-01\",\"index\":31,\"count\":\"9\"},{\"type\":\"1\",\"title\":\"\\\\u5317\\\\u4eac\\\\u5730\\\\u94c1\\\\u4ea6\\\\u5e84\\\\u7ebf\\\\u5c06\\\\u8bb0\\\\u5f55\\\\u8f66\\\\u8f86\\\\u8fd0\\\\u884c\\\\u72b6\\\\u6001\",\"url\":\"\\\\/reference\\\\/1464622\\\\/236f48bBh3ep2tOR6NqQEO6YzbQmSXd-wRkUZ4sQPoMtjIZs9IE6vLxzlWKUlhdwEuI8LPjolddNkb6JxaHcKRqqQU3da7cBMGKE26s7DPRjDhEB\",\"site\":\"\\\\u65b0\\\\u6d6a\\\\u65b0\\\\u95fb\\\\u4e2d\\\\u5fc3\",\"publishDate\":\"2010-12-28\",\"refDate\":\"2015-09-01\",\"index\":32,\"count\":\"2\"},{\"type\":\"1\",\"title\":\"\\\\u201c\\\\u5317\\\\u8f66\\\\u5236\\\\u9020\\\\u201d\\\\u5317\\\\u4eac15\\\\u53f7\\\\u7ebf\\\\u548c\\\\u4ea6\\\\u5e84\\\\u7ebf\\\\u5730\\\\u94c1\\\\u540c\\\\u65e5\\\\u5f00\\\\u901a\",\"url\":\"\\\\/reference\\\\/1464622\\\\/f9e8gMtYaul1s1twqjcPhUB1iied_atQGXbaUzl1bzbbcOExb5uB-QN_TexY9jxblR7-wFL3ex0OvkHVFh2-PhymChRohhc_xQE\",\"site\":\"\\\\u4e2d\\\\u56fd\\\\u5317\\\\u8f66\",\"publishDate\":\"2010-12-31\",\"refDate\":\"2015-09-01\",\"index\":33,\"count\":\"1\"},{\"index\":34,\"type\":\"3\",\"text\":\"\\\\u56fe\\\\u7247\\\\u7531yangke19941112\\\\u4e8e2012-10-4\\\\u62cd\\\\u6444\",\"title\":\"\\\\u56fe\\\\u7247\\\\u7531yangke19941112\\\\u4e8e2012-10-4\\\\u62cd\\\\u6444\",\"count\":\"1\"},{\"type\":\"1\",\"title\":\"\\\\u8f68\\\\u9053\\\\u4ea4\\\\u901a\\\\u4ea6\\\\u5e84\\\\u7ebf\\\\u5c06\\\\u91c7\\\\u7528\\\\u56fd\\\\u4ea7\\\\u4fe1\\\\u53f7\\\\u7cfb\\\\u7edf\",\"url\":\"\\\\/reference\\\\/1464622\\\\/db08GhbVsOyGJl9kag_4yuul7Jk09GRMeZfnv0jY3y74TZwVYBxS6XhboMD3fTGSmdqvi84evi_Q-t8Bn8neY31ODcn-zhLXm06gHnf7wyXplH4K5PaiVHo\",\"site\":\"\\\\u5343\\\\u9f99\\\\u7f51\",\"publishDate\":\"2009-06-11\",\"refDate\":\"2015-09-01\",\"index\":35,\"count\":\"1\"},{\"type\":\"1\",\"title\":\"\\\\u8f68\\\\u9053\\\\u4ea4\\\\u901a\\\\u4ea6\\\\u5e84\\\\u7ebf\\\\u89c4\\\\u5212\\\\u65b9\\\\u6848\\\\u516c\\\\u544a\",\"url\":\"\\\\/reference\\\\/1464622\\\\/09c97RjpT42xI4z7nFDRBAwW3NVKOTCLTFGfIw5ayUalgje2IF8wwS_sQf9jialMFwNz3Eig4oMj4ix33u2b3VWWsj7j6Z1xCuSJm_haAa9N-lZhjf4dg9JDrPfINzX6MVA6VLWqYIeKkNvCkEUYCckICjkjkuAN1durM3PBrzq7_2unnL5gLOXroEmPsBiA8B_DNZLOMjRP1E3YtODBlh3tUfbq\",\"site\":\"\\\\u5317\\\\u4eac\\\\u5e02\\\\u89c4\\\\u5212\\\\u59d4\\\\u5458\\\\u4f1a\",\"publishDate\":\"2009-10-14\",\"refDate\":\"2015-09-01\",\"index\":36,\"count\":\"4\"},{\"type\":\"1\",\"title\":\"\\\\u3010PDF\\\\u6587\\\\u4ef6\\\\u3011\\\\u300a\\\\u516c\\\\u5171\\\\u4ea4\\\\u901a\\\\u5ba2\\\\u8fd0\\\\u6807\\\\u5fd7 \\\\u7b2c2\\\\u90e8\\\\u5206\\\\uff1a\\\\u8f68\\\\u9053\\\\u4ea4\\\\u901a\\\\u300bDB11T 657.2-2015\",\"url\":\"\\\\/reference\\\\/1464622\\\\/b994D3ze-FWDAMS1aVd2oLVVftgvGmmjNdVjQMdCgs47cRAEEptyu9pHkKt3fvp2XW71wbTUi0thb9QNc-be3gJTIJnfYlcaBOXoONPUdVHVOoCBAZCDBj8Li7-Hh-yFIzG5RHo\",\"site\":\"\\\\u5317\\\\u4eac\\\\u5e02\\\\u4ea4\\\\u901a\\\\u59d4\\\\u5458\\\\u4f1a\",\"publishDate\":\"2016-05-04\",\"refDate\":\"2016-08-21\",\"index\":37},{\"type\":\"1\",\"title\":\"\\\\u5730\\\\u94c1\\\\u4ea6\\\\u5e84\\\\u7ebf\\\\u7ec4\\\\u7ec7\\\\u533a\\\\u95f4\\\\u963b\\\\u585e\\\\u6a21\\\\u5f0f\\\\u53ca\\\\u758f\\\\u6563\\\\u6f14\\\\u7ec3\",\"url\":\"\\\\/reference\\\\/1464622\\\\/a9397upqPPQutrCc1TyXyA_QPeLGg14NKW7Fsi2YnqP3Y4uhRrZq4ITALqqpvuWuJby88M_S786DO0tyDt6BAZ1M1f6Qe2UTUtmlQWH7FJKQTY2AvLms0Jcw\",\"site\":\"\\\\u5317\\\\u4eac\\\\u5e02\\\\u4ea4\\\\u901a\\\\u59d4\\\\u5458\\\\u4f1a\",\"publishDate\":\"2012-07-16\",\"refDate\":\"2015-09-01\",\"index\":38,\"count\":\"1\"},{\"type\":\"1\",\"title\":\"\\\\u5317\\\\u4eac\\\\u5e02\\\\u53d1\\\\u5c55\\\\u548c\\\\u6539\\\\u9769\\\\u59d4\\\\u5458\\\\u4f1a\\\\u5317\\\\u4eac\\\\u5e02\\\\u4ea4\\\\u901a\\\\u59d4\\\\u5458\\\\u4f1a\\\\u5317\\\\u4eac\\\\u5e02\\\\u8d22\\\\u653f\\\\u5c40\\\\u5173\\\\u4e8e\\\\u8c03\\\\u6574\\\\u672c\\\\u5e02\\\\u516c\\\\u5171\\\\u4ea4\\\\u901a\\\\u4ef7\\\\u683c\\\\u7684\\\\u901a\\\\u77e5\",\"url\":\"\\\\/reference\\\\/1464622\\\\/7e0bBGivFXIgD8arfgHzWcDvlnI49GWyD9aAqf-sUTn6BIM-frSKwhzZ3rFbBmBgGTRBQwfkPMYiIjpQZpzFL82BdThDSb__I43pEg\",\"site\":\"\\\\u5317\\\\u4eac\\\\u5e02\\\\u53d1\\\\u5c55\\\\u548c\\\\u6539\\\\u9769\\\\u59d4\\\\u5458\\\\u4f1a\",\"publishDate\":\"2014-11-27\",\"refDate\":\"2015-09-01\",\"index\":39,\"count\":\"2\"}]\\r\\n\\t\\t\\t});\\r\\n\\t\\t});\\r\\n\\t}();\\n!function(){        require.async([\"wiki-common:widget/lib/jquery/jquery\"],function($){\\r\\n            function openTagToggle(node) {\\r\\n                if ($(node).hasClass(\"collapse\")) {\\r\\n                    $(node).removeClass(\"collapse\");\\r\\n                    $(\"#open-tag\").css(\"height\", \\'22px\\');\\r\\n                } else {\\r\\n                    $(node).addClass(\"collapse\");\\r\\n                    $(\"#open-tag\").css(\"height\", $(\"#open-tag-item\").css(\"height\"));\\r\\n                }\\r\\n            }\\r\\n            if (parseInt($(\"#open-tag-item\").css(\"height\")) <= 30) {\\r\\n                $(\\'#open-tag-collapse\\').hide();\\r\\n            }\\r\\n            $(\"#open-tag-collapse\").on(\"click\", function () {\\r\\n                openTagToggle($(\"#open-tag\")[0]);\\r\\n            });\\r\\n        });\\r\\n    }();\\n!function(){        require(\\'wiki-lemma:widget/lemma_content/configModule/zhixin/zhixin\\')(\\r\\n            1464622,\\r\\n            \\'北京地铁亦庄线\\'\\r\\n        );\\r\\n    }();\\n!function(){    require.async([\"wiki-lemma:widget/lemma_content/mainContent/lemmaStatistics/lemmaStatistics\"],function(init){\\r\\n        init({\\r\\n            newLemmaIdEnc:\"45bd8fd33d6dbdb5b7d810fe\"\\r\\n        });\\r\\n    });\\r\\n}();\\n!function(){\\trequire.async([\"wiki-lemma:widget/lemma_content/mainContent/sideCatalog/sideCatalog\"],function(SideCatalog){\\r\\n\\t\\tnew SideCatalog();\\r\\n\\t});\\r\\n}();\\n!function(){        require.async([\"wiki-lemma:widget/promotion/fengchao/fengchao\",\"wiki-lemma:widget/promotion/unionAd/unionAd\"], function (init, unionAd) {\\r\\n            init({\\r\\n                newLemmaId: \"1464622\",\\r\\n                lemmaTitle: \"北京地铁亦庄线\",\\r\\n                encodeLemmaTitle: \"%B1%B1%BE%A9%B5%D8%CC%FA%D2%E0%D7%AF%CF%DF\",\\r\\n                adManager: {\"discussionHelpEdit\":0}\\r\\n            }, {\\r\\n                errFn: unionAd,\\r\\n                dom: $(\\'#side_box_unionAd\\')\\r\\n            });\\r\\n        });\\r\\n    }();\\n!function(){        require.async([\\'wiki-lemma:widget/promotion/guessLike/guessLike\\'], function (app) {\\r\\n            app.init({\\r\\n                lemmaTitle: \\'北京地铁亦庄线\\',\\r\\n                adManager: {\"discussionHelpEdit\":0}\\r\\n            });\\r\\n        });\\r\\n    }();\\n!function(){    var $ = require(\\'wiki-common:widget/lib/jquery/jquery\\');\\r\\n    var Dialog = require(\"wiki-common:widget/ui/dialog/dialog\");\\r\\n    var userLogin = require(\\'wiki-common:widget/component/userLogin/userLogin\\');\\r\\n    var unameFiller = require(\\'wiki-common:widget/component/unameFiller/unameFiller\\');\\r\\n    var rightCheck = require(\\'wiki-lemma:widget/tools/rightCheck/rightCheck\\');\\r\\n    var nsLog = require(\\'wiki-common:widget/component/nslog/nslog\\');\\r\\n\\r\\n            var isEnterprise = false;\\r\\n        var enterpriseOwnerUserId = 0;\\r\\n    \\r\\n    var userId = 0;\\r\\n    var editUrl = \\'/edit/\\' + encodeURIComponent(\\'北京地铁亦庄线\\') + \\'/\\' + \\'1464622\\';\\r\\n    var pgcUrl = \\'/enterprise/editpgc?lemmaId=1464622\\';\\r\\n    var canDiscussion = $(\\'.j-discussion-link\\').length > 0 ? true : false;\\r\\n\\r\\n    userLogin.regist({\\r\\n        onLogin: function(user) {\\r\\n            userId = user ? user.uid : 0;\\r\\n        }\\r\\n    });\\r\\n\\r\\n    function gotoEdit(url, isMidNight) {\\r\\n        if (isMidNight) {\\r\\n            Dialog.alert({\\r\\n                title: \\'编辑提示\\',\\r\\n                subMsg: \\'晚23:00至次日8:00，因审核系统例行维护，您提交的版本可能需要较长时间才能通过，望您谅解。\\',\\r\\n                onConfirm: function() {\\r\\n                    window.location.href = url;\\r\\n                }\\r\\n            });\\r\\n        } else {\\r\\n            window.location.href = url;\\r\\n        }    \\r\\n    }\\r\\n\\r\\n    function showChoseEditDialog(pgcCallback, ugcCallback) {\\r\\n        new Dialog({\\r\\n            title: \\'编辑提示\\',\\r\\n            subMsg: \\'<p>您已开通企业百科服务，推荐您直接编辑“官方资料”，官方资料仅限企业百科绑定的百科账号修改，其他用户账号不可修改。</p><p>如果您想修改其他网友编辑的普通词条内容，请注意遵守百科百科编辑规则。<p>\\',\\r\\n            btns: [{\\r\\n            key: \\'pgc\\',\\r\\n            text: \\'编辑官方资料\\'\\r\\n            }, {\\r\\n            style: \\'white\\',\\r\\n            text: \\'修改普通词条\\',\\r\\n            key: \\'ugc\\'\\r\\n            }],\\r\\n            onBtnClick: function(btnKey){\\r\\n                if (btnKey === \\'pgc\\') {\\r\\n                    pgcCallback && pgcCallback();\\r\\n                } else if (btnKey === \\'ugc\\') {\\r\\n                    ugcCallback && ugcCallback();\\r\\n                }\\r\\n            }\\r\\n        }).show();\\r\\n    }\\r\\n\\r\\n    function checkUserLegal(res) {\\r\\n        var legal = false;\\r\\n        switch (res.errno) {\\r\\n            case 100001:\\r\\n                nsLog(\\'10003106\\');\\r\\n                userLogin.showLoginPop();\\r\\n                break;\\r\\n            case 100006:\\r\\n                unameFiller.show();\\r\\n                break;\\r\\n            default:\\r\\n                legal = true;\\r\\n        }\\r\\n        return true;\\r\\n    }\\r\\n\\r\\n    function checkUgc(res, url) {\\r\\n        if (res.errno) {\\r\\n            switch (res.errno) {\\r\\n                case 100005:\\r\\n                    alert(\\'对不起，您目前被封禁\\');\\r\\n                    break;\\r\\n                case 110001:\\r\\n                    alert(\\'对不起，该词条被锁定\\');\\r\\n                    break;\\r\\n                case 110007:\\r\\n                    alert(\\'对不起，消歧页无法编辑\\');\\r\\n                    break;\\r\\n                case 110005:\\r\\n                    nsLog(\\'10003101\\');\\r\\n                    var content = \\'<div style=\"text-align: left;width: 490px\">\\'\\r\\n                        + \\'<h2 style=\"font-size: 20px;color: #333;line-height: 26px;margin-top: 10px;margin-bottom: 20px;\">\\' \\r\\n                        + \\'对不起，你暂时没有权限编辑该词条</h2>\\' \\r\\n                        + \\'<p style=\"font-size: 16px;color: #333;line-height: 26px;margin-bottom: 17px;\">\\'\\r\\n                        + \\'亲爱的用户，该词条内容已较完善，需百科等级达到4级且通过率达85%才可编辑哦。</p>\\'\\r\\n                        + \\'<p style=\"font-size: 16px;color: #333\">你当前百科等级为\\'\\r\\n                        + res.data.userInfo.level + \\'级、通过率\\'\\r\\n                        + res.data.userInfo.passRatio + \\'%，可进行以下操作：</p></div>\\';\\r\\n                    var btns = [\\r\\n                        {\\r\\n                            key: \\'join\\',\\r\\n                            text: \\'<span style=\"font-size: 14px;text-align: center;vertical-align: middle;display: table-cell;\">反馈词条问题，参与百科共建</span>\\'\\r\\n                        },\\r\\n                        {\\r\\n                            text: \\'<span style=\"font-size: 14px;text-align: center;vertical-align: middle;display: table-cell;\">参加成长任务，提升编辑权限</span>\\',\\r\\n                            key: \\'task\\'\\r\\n                        }\\r\\n                    ];\\r\\n                    if (canDiscussion) {\\r\\n                        btns = [\\r\\n                            {\\r\\n                                key: \\'discussion\\',\\r\\n                                text: \\'<span style=\"font-size: 14px\">参与词条讨论，反馈词条问题</span>\\'\\r\\n                            },\\r\\n                            {\\r\\n                                text: \\'<span style=\"font-size: 14px\">参加成长任务，提升编辑权限</span>\\',\\r\\n                                key: \\'task\\'\\r\\n                            }\\r\\n                        ];\\r\\n                    }\\r\\n                    new Dialog({\\r\\n                        title: \\'编辑提示\\',\\r\\n                        content: content,\\r\\n                        btns: btns,\\r\\n                        onBtnClick: function(btnKey){\\r\\n                            if (btnKey === \\'discussion\\') {\\r\\n                                window.location.href = \\'/planet/talk?lemmaId=1464622&category=1\\';\\r\\n                            } else if (btnKey === \\'task\\') {\\r\\n                                window.location.href = \\'/usercenter#guide\\';\\r\\n                            } else if (btnKey === \\'join\\') {\\r\\n                                window.location.href = \\'/feedback\\';\\r\\n                            }\\r\\n                        }\\r\\n                    }).show();\\r\\n                    break;\\r\\n                case 110008:\\r\\n                    nsLog(\\'10003102\\');\\r\\n                    var content = \\'<div style=\"text-align: left;width: 490px\">\\'\\r\\n                        + \\'<h2 style=\"font-size: 20px;color: #333;line-height: 26px;margin-bottom: 20px;margin-top: 10px;\">\\' \\r\\n                        + \\'对不起，你暂时没有权限编辑该词条</h2>\\' \\r\\n                        + \\'<p style=\"font-size: 16px;color: #333;line-height: 26px;margin-bottom: 17px;\">\\'\\r\\n                        + \\'亲爱的用户，该词条内容已较完善，需百科等级达到6级且通过率达85%才可编辑哦。</p>\\'\\r\\n                        + \\'<p style=\"font-size: 16px;color: #333\">你当前百科等级为\\'\\r\\n                        + res.data.userInfo.level + \\'级、通过率\\'\\r\\n                        + res.data.userInfo.passRatio + \\'%，可进行以下操作：</p></div>\\';\\r\\n                    var btns = [\\r\\n                        {\\r\\n                            key: \\'join\\',\\r\\n                            text: \\'<span style=\"font-size: 14px;text-align: center;vertical-align: middle;display: table-cell;\">反馈词条问题，参与百科共建</span>\\'\\r\\n                        },\\r\\n                        {\\r\\n                            text: \\'<span style=\"font-size: 14px;text-align: center;vertical-align: middle;display: table-cell;\">参加成长任务，提升编辑权限</span>\\',\\r\\n                            key: \\'task\\'\\r\\n                        }\\r\\n                    ];\\r\\n                    if (canDiscussion) {\\r\\n                        btns = [\\r\\n                            {\\r\\n                                key: \\'discussion\\',\\r\\n                                text: \\'<span style=\"font-size: 14px\">参与词条讨论，反馈词条问题</span>\\'\\r\\n                            },\\r\\n                            {\\r\\n                                text: \\'<span style=\"font-size: 14px\">参加成长任务，提升编辑权限</span>\\',\\r\\n                                key: \\'task\\'\\r\\n                            }\\r\\n                        ];\\r\\n                    }\\r\\n                    new Dialog({\\r\\n                        title: \\'编辑提示\\',\\r\\n                        content: content,\\r\\n                        btns: btns,\\r\\n                        onBtnClick: function(btnKey){\\r\\n                            if (btnKey === \\'discussion\\') {\\r\\n                                window.location.href = \\'/planet/talk?lemmaId=1464622&category=1\\';\\r\\n                            } else if (btnKey === \\'task\\') {\\r\\n                                window.location.href = \\'/usercenter#guide\\';\\r\\n                            } else if (btnKey === \\'join\\') {\\r\\n                                window.location.href = \\'/feedback\\';\\r\\n                            }\\r\\n                        }\\r\\n                    }).show();\\r\\n                    break;\\r\\n                case 470001:\\r\\n                    alert(\\'系统错误，请刷新重试\\');\\r\\n                    break;\\r\\n                case 110003:\\r\\n                    nsLog(\\'10003103\\');\\r\\n                    Dialog.alert({\\r\\n                        title: \\'编辑提示\\',\\r\\n                        subMsg: \\'很抱歉，该词条有其他用户编辑的版本正在提交，您暂时无法编辑。<br/>百科建议您晚些时候再编辑该词条，或者尝试编辑其他的词条。\\'\\r\\n                    });\\r\\n                    break;\\r\\n            }\\r\\n        } else {\\r\\n            if (!res.data.right.noAudit) {\\r\\n                Dialog.alert({\\r\\n                    title: \\'编辑提示\\',\\r\\n                    subMsg: \\'很抱歉，该词条有其他用户编辑的版本正在提交，您暂时无法编辑。<br/>百科建议您晚些时候再编辑该词条，或者尝试编辑其他的词条。\\'\\r\\n                });\\r\\n                return;\\r\\n            }\\r\\n            gotoEdit(url, res.data.notice.isMidNight);\\r\\n        }\\r\\n    }\\r\\n\\r\\n    $(document.body).on(\\'click\\', \\'.j-edit-link\\', function() {\\r\\n        nsLog(\\'10003100\\');\\r\\n        var dl = $(this).attr(\\'data-edit-dl\\');\\r\\n        if (dl) {\\r\\n            var url = editUrl + \\'?dl=\\' + dl;\\r\\n        } else {\\r\\n            var url = editUrl;\\r\\n        }\\r\\n\\r\\n        rightCheck.preeditCheck(\\'1464622\\', \\'北京地铁亦庄线\\', \\'北京的一条地铁线路\\', \\'138362679\\', \\'\\', function(res) {\\r\\n            if (!checkUserLegal(res)) {\\r\\n                return;\\r\\n            }\\r\\n            if (isEnterprise && enterpriseOwnerUserId === userId) {\\r\\n                showChoseEditDialog(function() {\\r\\n                    location.href = pgcUrl;\\r\\n                }, function() {\\r\\n                    checkUgc(res, url);\\r\\n                });\\r\\n            } else {\\r\\n                checkUgc(res, url);\\r\\n            }\\r\\n        });\\r\\n    });\\r\\n}();\\n!function(){  require.async([\"wiki-common:widget/lib/jquery/jquery\",\"wiki-common:widget/component/footer/footer_feedback\"], function($, feedback){\\r\\n    feedback({el: \\'#J-bk-feedback-main\\',\\r\\n      proData: {\\r\\n        \"extend_feedback_channel\": null\\r\\n      }\\r\\n    });\\r\\n    feedback({el: \\'#J-bk-feedback-query\\', config: {\\r\\n        appid: 215645,\\r\\n        productLine: 20184,\\r\\n        needContactWay: false,\\r\\n        issuePlaceholder: \\'亲爱的百度百科用户，请在此填写您的质疑内容及原因哦～\\'\\r\\n      },\\r\\n      proData: {\\r\\n        \"kw\": $(\\'#J-bk-feedback-query\\').data(\\'lemma\\')\\r\\n      }\\r\\n    });\\r\\n  });\\r\\n}();\\n!function(){    var $ = require(\\'wiki-common:widget/lib/jquery/jquery\\'),\\r\\n      initSearchbar = require(\\'wiki-common:widget/component/searchbar-n/searchbar\\');  \\r\\n    initSearchbar($(\\'.wgt-searchbar-simple\\'));\\r\\n  }();\\n!function(){    require.async([\"wiki-lemma:widget/tools/searchHeader/toolButtons-n/toolButtons\"],function(init){\\r\\n        init({\\r\\n            lemmaId:\"4291480\",\\r\\n            subLemmaId:\"4291480\",\\r\\n            newLemmaId:\"1464622\"\\r\\n        });\\r\\n    });\\r\\n}();\\n!function(){    require(\\'wiki-lemma:widget/tools/searchHeader/toolButtons-n/userInfo\\')();\\r\\n}();\\n!function(){    var $ = require(\\'wiki-common:widget/lib/jquery/jquery\\'),\\r\\n      animation = require(\\'wiki-common:widget/util/animation\\'),\\r\\n      nslog = require(\\'wiki-common:widget/component/nslog/nslog\\'),\\r\\n      initSearchbar = require(\\'wiki-common:widget/component/searchbar/searchbar\\');\\r\\n\\r\\n    var isFadeIn = false,\\r\\n        isFadeOut = false;\\r\\n\\r\\n    var fadeInAni, fadeOutAni;\\r\\n\\r\\n    $(window).on(\\'scroll\\', function(e) {\\r\\n        var scrollTop = $(this).scrollTop();\\r\\n\\r\\n        if (scrollTop > 200 && !isFadeIn && $(\\'.lemmaWgt-searchHeader\\').css(\\'display\\') == \\'none\\') {\\r\\n            fadeOutAni && fadeOutAni.stop();\\r\\n            fadeInAni = animation({\\r\\n                duration: 200,\\r\\n                easing: \\'linear\\',\\r\\n                onStart: function() {\\r\\n                    isFadeOut = false;\\r\\n                    isFadeIn = true;\\r\\n                    $(\\'.lemmaWgt-searchHeader\\').css(\\'display\\', \\'block\\');\\r\\n                },\\r\\n                onStep: function(progress) {\\r\\n                    $(\\'.lemmaWgt-searchHeader\\').css(\\'opacity\\', progress)\\r\\n                },\\r\\n                onComplete: function(progress) {\\r\\n                    isFadeIn = false;\\r\\n                    nslog(10010007);\\r\\n                }\\r\\n            });\\r\\n        } else if (scrollTop <= 200 && !isFadeOut && $(\\'.lemmaWgt-searchHeader\\').css(\\'display\\') == \\'block\\') {\\r\\n            fadeInAni && fadeInAni.stop();\\r\\n            fadeOutAni = animation({\\r\\n                duration: 300,\\r\\n                easing: \\'linear\\',\\r\\n                onStart: function() {\\r\\n                    $(\\'.lemmaWgt-searchHeader #suggestion\\').hide();\\r\\n                    isFadeIn = false;\\r\\n                    isFadeOut = true;\\r\\n                },\\r\\n                onStep: function(progress) {\\r\\n                    $(\\'.lemmaWgt-searchHeader\\').css(\\'opacity\\', 1 - progress);\\r\\n                },\\r\\n                onComplete: function(progress) {\\r\\n                    isFadeOut = false;\\r\\n                    $(\\'.lemmaWgt-searchHeader\\').css(\\'display\\', \\'none\\');\\r\\n                }\\r\\n            });\\r\\n        }\\r\\n    });\\r\\n}();\\n!function(){    require.async([\\'wiki-lemma:widget/tools/newSideShare/qzopensl\\']);\\r\\n    require.async([\"wiki-lemma:widget/tools/newSideShare/taskSideShare\"],function(taskShare){\\r\\n        taskShare.init({\\r\\n            title: \\'北京地铁亦庄线\\',\\r\\n            desc: \"\\\\u5317\\\\u4eac\\\\u5730\\\\u94c1\\\\u4ea6\\\\u5e84\\\\u7ebf\\\\uff08\\\\u4ee5\\\\u4e0b\\\\u7b80\\\\u79f0\\\\u201c\\\\u4ea6\\\\u5e84\\\\u7ebf\\\\u201d\\\\uff09\\\\uff0c\\\\u662f\\\\u5317\\\\u4eac\\\\u5730\\\\u94c1\\\\u7684\\\\u4e00\\\\u6761\\\\u90ca\\\\u533a\\\\u7ebf\\\\u8def\\\\uff0c\\\\u8fde\\\\u63a5\\\\u5317\\\\u4eac\\\\u5e02\\\\u533a\\\\u4e0e\\\\u5317\\\\u4eac\\\\u7ecf\\\\u6d4e\\\\u6280\\\\u672f\\\\u5f00\\\\u53d1\\\\u533a\\\\uff0c\\\\u7531\\\\u5317\\\\u4eac\\\\u5e02\\\\u5730\\\\u94c1\\\\u8fd0\\\\u8425\\\\u6709\\\\u9650\\\\u516c\\\\u53f8\\\\u4e00\\\\u5206\\\\u516c\\\\u53f8\\\\u8d1f\\\\u8d23\\\\u8fd0\\\\u8425\\\\u3002\\\\u8be5\\\\u7ebf\\\\u4e8e2010\\\\u5e7412\\\\u670830\\\\u65e5\\\\u9664\\\\u4ea6\\\\u5e84\\\\u706b\\\\u8f66\\\\u7ad9\\\\u4e4b\\\\u5916\\\\u5168\\\\u7ebf\\\\u5f00\\\\u901a\\\\u3002\\\\u622a\\\\u81f32018\\\\u5e7412\\\\u670829\\\\u65e5\\\\uff0c\\\\u8be5\\\\u7ebf\\\\u8fd0\\\\u8425\\\\u533a\\\\u6bb5\\\\u4e3a\\\\u5b8b\\\\u5bb6\\\\u5e84\\\\u7ad9\\\\u81f3\\\\u6b21\\\\u6e20\\\\u7ad9\\\\uff0c\\\\u9014\\\\u7ecf\\\\u4e30\\\\u53f0\\\\u533a\\\\u3001\\\\u671d\\\\u9633\\\\u533a\\\\u3001\\\\u5927\\\\u5174\\\\u533a\\\\u548c\\\\u901a\\\\u5dde\\\\u533a\\\\uff0c\\\\u8fd0\\\\u8425\\\\u91cc\\\\u7a0b23.3\\\\u5343\\\\u7c73\\\\uff0c\\\\u5171\\\\u5f00\\\\u653e13\\\\u5ea7\\\\u8f66\\\\u7ad9\\\\uff08\\\\u5176\\\\u4e2d\\\\u6362\\\\u4e58\\\\u7ad91\\\\u5ea7\\\\uff09\\\\uff0c\\\\u62e5\\\\u6709\\\\u8f66\\\\u8f86\\\\u57fa\\\\u57302\\\\u5ea7\\\\uff08\\\\u5b8b\\\\u5bb6\\\\u5e84\\\\u505c\\\\u8f66\\\\u573a\\\\u548c\\\\u53f0\\\\u6e56\\\\u8f66\\\\u8f86\\\\u6bb5\\\\uff09\\\\u30022018\\\\u5e7412\\\\u670830\\\\u65e5\\\\uff0c\\\\u6682\\\\u7f13\\\\u5f00\\\\u901a\\\\u6574\\\\u65748\\\\u5e74\\\\u7684\\\\u4ea6\\\\u5e84\\\\u706b\\\\u8f66\\\\u7ad9\\\\u4e0e\\\\u5730\\\\u94c18\\\\u53f7\\\\u7ebf\\\\u5357\\\\u6bb5\\\\uff0c6\\\\u53f7\\\\u7ebf\\\\u897f\\\\u5ef6\\\\u6bb5\\\\uff0c6\\\\u53f7\\\\u7ebf\\\\u5317\\\\u8fd0\\\\u6cb3\\\\u4e1c\\\\u7ad9\\\\u548c7\\\\u53f7\\\\u7ebf\\\\u5788\\\\u5934\\\\u7ad9\\\\u540c\\\\u65f6\\\\u5f00\\\\u901a\\\\u3002\\\\u81f3\\\\u6b64\\\\uff0c\\\\u4ea6\\\\u5e84\\\\u7ebf\\\\u5168\\\\u7ebf\\\\u901a\\\\u8f66\\\\u3002\",\\r\\n            pic: \\'https:\\\\/\\\\/gss2.bdstatic.com\\\\/-fo3dSag_xI4khGkpoWK1HF6hhy\\\\/baike\\\\/w%3D268\\\\/sign=bdfc9b7d9e45d688a302b5a29cc27dab\\\\/72f082025aafa40f35fa9c93a764034f78f019bb.jpg\\',\\r\\n            url: \\'\\',\\r\\n            qqPic: \\'https:\\\\/\\\\/gss2.bdstatic.com\\\\/-fo3dSag_xI4khGkpoWK1HF6hhy\\\\/baike\\\\/whfpf%3D644%2C644%2C50\\\\/sign=a9cb1cb50646f21fc9610d1390195d54\\\\/72f082025aafa40f35fa9c93a764034f78f019bb.jpg\\',\\r\\n            newLemmaId: \\'1464622\\',\\r\\n            lemmaTitle: \\'北京地铁亦庄线\\'\\r\\n        });\\r\\n    });\\r\\n}();\\n!function(){    var $ = require(\\'wiki-common:widget/lib/jquery/jquery\\');\\r\\n    var nslog = require(\"wiki-common:widget/component/nslog/nslog\");\\r\\n    var testElem = require(\\'wiki-common:widget/component/testElem/testElem\\');\\r\\n    var cmsModuleLoader = require(\\'wiki-common:widget/component/cmsModuleLoader/cmsModuleLoader\\');\\r\\n\\r\\n    function requireAsync() {\\r\\n        require.async([\\'wiki-lemma:widget/tools/announcement/announcement\\']);\\r\\n    }\\r\\n\\r\\n    cmsModuleLoader(\\'/api/wikiui/getlemmaconfig\\', [{\\r\\n        name: \\'announcement\\',\\r\\n        script: \\'wiki-lemma:widget/tools/announcement/announcement.js\\'\\r\\n    }]);\\r\\n\\r\\n    require.async([\"wiki-lemma:widget/tools/lazyLoad/lazyLoad\"], function(LazyLoad) {\\r\\n        new LazyLoad();\\r\\n    });\\r\\n\\r\\n    require.async([\\'wiki-common:widget/component/nslog/nslog\\',\\'wiki-common:widget/lib/jquery/jquery\\'], function(nslog, $) {\\r\\n        nslog().setGlobal({\\r\\n            lemmaId: \"4291480\",\\r\\n            newLemmaId: \"1464622\",\\r\\n            subLemmaId: \"4291480\",\\r\\n            lemmaTitle: \"北京地铁亦庄线\"\\r\\n        });\\r\\n\\r\\n        // 词条页 pv\\r\\n        nslog(9322);\\r\\n\\r\\n        // 新版头部pv（小流量）\\r\\n        if ($(\\'.pc-header-new\\').length > 0) {\\r\\n            nslog(9069);\\r\\n        }\\r\\n\\r\\n        // 链接点击 pv\\r\\n        var lemmaPageRegExp = new RegExp(/\\\\/subview\\\\/\\\\d+|\\\\/view\\\\/\\\\d+|\\\\/item\\\\//i);\\r\\n        $(\\'body\\').on(\\'mousedown\\', \\'a\\', function() {\\r\\n            var href = $(this).attr(\\'href\\');\\r\\n            if (href && href.indexOf(\\'/\\') >= 0 && href.indexOf(\\'#\\') !== 0) {\\r\\n                // 链接点击 pv\\r\\n                nslog(10000001);\\r\\n                if (lemmaPageRegExp.test(href)) {\\r\\n                    // 词条页链接点击 pv\\r\\n                    nslog(10000002, window.location.href, {\\r\\n                        targetTitle: $(this).text()\\r\\n                    });\\r\\n                }\\r\\n            }\\r\\n        });\\r\\n\\r\\n        /****** 词条页站内流转需求统计 start ******/\\r\\n        (function () {\\r\\n            // 各种统计配置\\r\\n            var circulationLinkCfg = {\\r\\n                innerLink: [ // 内链\\r\\n                    \\'.para\\',\\r\\n                    \\'.lemmaWgt-baseInfo-simple-largeMovie\\',\\r\\n                    \\'.lemmaWgt-baseInfo-simple-largeStar\\',\\r\\n                    \\'.basic-info .basicInfo-block\\',\\r\\n                    \\'.lemma-summary\\',\\r\\n                    \\'.lemmaWgt-lemmaSummary\\',\\r\\n                    \\'.view-tip-panel\\',\\r\\n                    \\'.horizontal-module\\',\\r\\n                    \\'.lemmaWgt-roleIntroduction\\',\\r\\n                    \\'.dramaSeries .dramaSerialList\\',\\r\\n                    \\'.module-music\\',\\r\\n                    \\'.table-view\\',\\r\\n                    \\'[log-set-param=\"table_view\"]\\',\\r\\n                    \\'.list-module\\',\\r\\n                    \\'.cell-module\\',\\r\\n                    \\'.baseBox .dl-baseinfo\\', // 配置后台字段\\r\\n                    \\'.pvBtn-box .leadPVBtnWrapper\\',\\r\\n                    \\'.drama-actor\\',\\r\\n                    \\'#staffList\\',\\r\\n                    \\'.starMovieAndTvplay\\',\\r\\n                    \\'.main_tab:not(.main_tab-defaultTab)\\' // 除去词条tab外的tab\\r\\n                ],\\r\\n                relationTable: \\'.rs-container-foot\\', // 关系表\\r\\n                peopleRelation: \\'.star-info-block.relations, .lemmaWgt-focusAndRelation\\', // 人物关系（明星+普通）\\r\\n                moduleActors: \\'.featureBaseInfo .actors, .lemmaWgt-majorActors\\', // 主要演员、嘉宾、主持人\\r\\n                moduleWorks: \\'.featureBaseInfo .works, .large-feature .works\\', // 代表作品\\r\\n                moduleQuarterly: \\'.featureBaseInfo .po_quarterly, .mian_quarterly\\', // 分季介绍\\r\\n                rankStar: \\'.rank-list.stars-rank\\', // 明星榜\\r\\n                rankDrama: \\'.drama-rank-list\\', // 电视剧榜\\r\\n                specialTopic: \\'.special-topic\\', // 专题模块\\r\\n                modDetailTable: \\'#modDetailTable\\', // 关系表出图\\r\\n                chuizhitu: \\'.chuizhitu\\', // 垂直化模块\\r\\n                polysemantList: \\'.polysemantList-wrapper\\' // 义项切换\\r\\n            };\\r\\n            /****** 连接统计 ******/\\r\\n            function clickNslogFn() {\\r\\n                for (var k in circulationLinkCfg) {\\r\\n                    if (k === \\'innerLink\\') {\\r\\n                        // 词条内链到词条页\\r\\n                        var tempArr = circulationLinkCfg[k];\\r\\n                        for (var i = 0, l = tempArr.length; i < l; i++) {\\r\\n                            tempArr[i] += \\' a\\';\\r\\n                        }\\r\\n                        var sSelector = tempArr.join(\\', \\');\\r\\n\\r\\n                        $(\\'body\\').on(\\'mousedown\\', sSelector, {key: k},function(e) {\\r\\n                            var key = e.data.key;\\r\\n                            var href = $(this).attr(\\'href\\');\\r\\n                            var tar = $(this).attr(\\'target\\') || \\'\\';\\r\\n                            if (href && href.indexOf(\\'/\\') >= 0 && href.indexOf(\\'#\\') !== 0\\r\\n                            && tar === \\'_blank\\' && lemmaPageRegExp.test(href)) {\\r\\n                                // 词条页普通内链点击 pv\\r\\n                                nslog(10000004, null ,{division: key});\\r\\n                            }\\r\\n                        });\\r\\n                    } else {\\r\\n                        // 模块到词条页链接\\r\\n                        $(circulationLinkCfg[k]).on(\\'mousedown\\', \\'a\\', {key: k}, function (e) {\\r\\n                            var key = e.data.key;\\r\\n                            var href = $(this).attr(\\'href\\');\\r\\n                            if (href && href.indexOf(\\'#\\') !== 0 && lemmaPageRegExp.test(href)) {\\r\\n                                // 词条页配置模块链接点击 pv\\r\\n                                nslog(10000004, null, {division: key});\\r\\n                            }\\r\\n                        });\\r\\n                    }\\r\\n                }\\r\\n            }\\r\\n            // 发起统计请求\\r\\n            clickNslogFn();\\r\\n\\r\\n            /****** 各模块展现量pv ******/\\r\\n            function checkModuleIsShow() {\\r\\n                var result = [];\\r\\n                for (var k in circulationLinkCfg) {\\r\\n                    if (k !== \\'innerLink\\' && k !== \\'relationTable\\') {\\r\\n                        !!$(circulationLinkCfg[k]).html() && result.push(k);\\r\\n                    }\\r\\n                }\\r\\n                if (result.length > 0) {\\r\\n                    nslog(10000005, null, {showModules: result.join(\\',\\')});\\r\\n                }\\r\\n            }\\r\\n            checkModuleIsShow();\\r\\n\\r\\n        })();\\r\\n        /****** 词条页站内流转需求统计 end ******/\\r\\n\\r\\n    });\\r\\n\\r\\n    // 广告接入 wikiad 统一加载\\r\\n    // log 词条页广告被拦截情况（此处 log 请求行为）\\r\\n    nslog(70000101, window.location.href, {\\r\\n        api: \\'lemma-ad\\',\\r\\n        action: \\'request\\'\\r\\n    });\\r\\n    var tags = [{\"tagId\":0,\"tagName\":\"\\\\u5730\\\\u7406\"},{\"tagId\":0,\"tagName\":\"\\\\u5730\\\\u70b9\"}];\\r\\n    var tagsArray = [];\\r\\n    for (var key in tags) {\\r\\n        tagsArray.push(tags[key].tagName);\\r\\n    }\\r\\n    $.ajax({\\r\\n        type: \\'GET\\',\\r\\n        url: \\'/api/wikiad/getsquirrels\\',\\r\\n        data: {\\r\\n            lemmaId: 1464622,\\r\\n            tags: tagsArray.join()\\r\\n        },\\r\\n        cache: false,\\r\\n        dataType: \\'JSON\\',\\r\\n        success: function (res) {\\r\\n            // log 词条页广告被拦截情况（此处 log 请求成功）\\r\\n            nslog(70000101, window.location.href, {\\r\\n                api: \\'lemma-ad\\',\\r\\n                action: \\'success\\'\\r\\n            });\\r\\n\\r\\n            if (!res.errno) {\\r\\n                if (res.data[5]) {\\r\\n                    require.async([\\'wiki-lemma:widget/promotion/rightPreciseAd/rightPreciseAd\\'], function(rightPreciseAd) {\\r\\n                        rightPreciseAd(res.data[5]);\\r\\n                        nslog(10002201, location.href, {\\r\\n                            adId: res.data[5][0].adId,\\r\\n                            adTitle: res.data[5][0].name,\\r\\n                            adPos: 5\\r\\n                        });\\r\\n                    });\\r\\n                } else if (res.data[1]) {\\r\\n                                        require.async([\\'wiki-lemma:widget/promotion/vbaike/vbaike\\'], function(vbaike) {\\r\\n                        vbaike(res.data[1]);\\r\\n                        for(var i in res.data[1]) {\\r\\n                            nslog(10002201, location.href, {\\r\\n                                adId: res.data[1][i].adId,\\r\\n                                adTitle: res.data[1][i].name,\\r\\n                                adPos: 1\\r\\n                            });\\r\\n                        }\\r\\n                    });\\r\\n                                    }\\r\\n                if (res.data[9]) {\\r\\n                                        require.async([\\'wiki-lemma:widget/promotion/rightBigAd/rightBigAd\\'], function(rightBigAd) {\\r\\n                        rightBigAd(res.data[9]);\\r\\n                            nslog(10002201, location.href, {\\r\\n                                adId: res.data[9][0].adId,\\r\\n                                adTitle: res.data[9][0].name,\\r\\n                                adPos: 9\\r\\n                            });\\r\\n                    });\\r\\n                                    } else if(res.data[2]) {\\r\\n                    require.async([\\'wiki-lemma:widget/promotion/slide/slide\\'], function(slide) {\\r\\n                        slide(res.data[2]);\\r\\n                        for(var i in res.data[2]) {\\r\\n                            nslog(10002201, location.href, {\\r\\n                                adId: res.data[2][i].adId,\\r\\n                                adTitle: res.data[2][i].name,\\r\\n                                adPos: 2\\r\\n                            });\\r\\n                        }\\r\\n                    });\\r\\n                }\\r\\n                if (res.data[3]) {\\r\\n                                        require.async([\\'wiki-lemma:widget/promotion/topAd/topAd\\'], function(topAd) {\\r\\n                        topAd(res.data[3]);\\r\\n                        nslog(10002201, location.href, {\\r\\n                            adId: res.data[3][0].adId,\\r\\n                            adTitle: res.data[3][0].name,\\r\\n                            adPos: 3\\r\\n                        });\\r\\n                    });\\r\\n                                    }\\r\\n                if (res.data[4]) {\\r\\n                                        require.async([\\'wiki-lemma:widget/promotion/rightAd/rightAd\\'], function(rightAd) {\\r\\n                        rightAd(res.data[4]);\\r\\n                        nslog(10002201, location.href, {\\r\\n                            adId: res.data[4][0].adId,\\r\\n                            adTitle: res.data[4][0].name,\\r\\n                            adPos: 4\\r\\n                        });\\r\\n                    });\\r\\n                                    }\\r\\n                if (res.data[15]) {\\r\\n                    require.async([\\'wiki-lemma:widget/promotion/banner/banner\\'], function(banner) {\\r\\n                        banner(res.data[15]);\\r\\n                        nslog(10002201, location.href, {\\r\\n                            adId: res.data[15][0].adId,\\r\\n                            adTitle: res.data[15][0].name,\\r\\n                            adPos: 15\\r\\n                        });\\r\\n                    });\\r\\n                }\\r\\n                if (res.data[16]) {\\r\\n                    require.async([\\'wiki-lemma:widget/promotion/declaration/declaration\\'], function(declaration) {\\r\\n                        declaration(res.data[16]);\\r\\n                        nslog(10002201, location.href, {\\r\\n                            adId: res.data[16][0].adId,\\r\\n                            adTitle: res.data[16][0].name,\\r\\n                            adPos: 16\\r\\n                        });\\r\\n                    })\\r\\n                }\\r\\n            } else {\\r\\n                return;\\r\\n            }\\r\\n\\r\\n            setTimeout(function () {\\r\\n                var elemArr = {};\\r\\n                res.data[1] && res.data[1].length > 0 && (elemArr[\\'lemma-vbaike-ad\\'] = $(\\'.lemmaWgt-promotion-vbaike .promotion_viewport a:eq(0) img\\').get(0));\\r\\n                res.data[2] && res.data[2].length > 0 && (elemArr[\\'lemma-slide-ad\\'] = $(\\'.lemmaWgt-promotion-slide .promotion_viewport a:eq(0) img\\').get(0));\\r\\n                res.data[3] && res.data[3].length > 0 && (elemArr[\\'lemma-navbar-ad\\'] = {\\r\\n                    node: $(\\'.header [nslog-type=\"10002202\"]\\').get(0),\\r\\n                    validations: {\\r\\n                        \\'noBackgroundImage\\': function() {\\r\\n                            return $(\\'.header [nslog-type=\"10002202\"]\\').css(\\'background-image\\').indexOf(res.data[3][0].picUrl) < 0\\r\\n                        }\\r\\n                    }\\r\\n                });\\r\\n                res.data[4] && res.data[4].length > 0 && (elemArr[\\'lemma-side-ad\\'] = {\\r\\n                    node: $(\\'.right-ad img\\').get(0),\\r\\n                    validations: {\\r\\n                        \\'noBackgroundImage\\': function() {\\r\\n                            return $(\\'.right-ad img\\').attr(\\'src\\').indexOf(res.data[4][0].picUrl) < 0\\r\\n                        }\\r\\n                    }\\r\\n                });\\r\\n                res.data[15] && res.data[15].length > 0 && (elemArr[\\'lemma-configModule-banner\\'] = $(\\'.configModuleBanner\\').get(0));\\r\\n                res.data[16] && res.data[16].length > 0 && (elemArr[\\'lemma-configModule-declaration\\'] = $(\\'.lemmaWgt-declaration\\').get(0));\\r\\n\\r\\n                testElem.log(elemArr, 70000102);\\r\\n            }, 1000);\\r\\n        },\\r\\n        error: function () {\\r\\n            // log 词条页广告被拦截情况（此处 log 请求失败）\\r\\n            nslog(70000101, window.location.href, {\\r\\n                api: \\'lemma-ad\\',\\r\\n                action: \\'error\\'\\r\\n            });\\r\\n        }\\r\\n    });\\r\\n\\r\\n    // 设置分享内容\\r\\n    window.BKShare.setCommon({\\r\\n        bdText: \"\\\\u3010\\\\u5317\\\\u4eac\\\\u5730\\\\u94c1\\\\u4ea6\\\\u5e84\\\\u7ebf_\\\\u767e\\\\u5ea6\\\\u767e\\\\u79d1\\\\u3011\\\\u5317\\\\u4eac\\\\u5730\\\\u94c1\\\\u4ea6\\\\u5e84\\\\u7ebf\\\\uff08\\\\u4ee5\\\\u4e0b\\\\u7b80\\\\u79f0\\\\u201c\\\\u4ea6\\\\u5e84\\\\u7ebf\\\\u201d\\\\uff09\\\\uff0c\\\\u662f\\\\u5317\\\\u4eac\\\\u5730\\\\u94c1\\\\u7684\\\\u4e00\\\\u6761\\\\u90ca\\\\u533a\\\\u7ebf\\\\u8def\\\\uff0c\\\\u8fde\\\\u63a5\\\\u5317\\\\u4eac\\\\u5e02\\\\u533a\\\\u4e0e\\\\u5317\\\\u4eac\\\\u7ecf\\\\u6d4e\\\\u6280\\\\u672f\\\\u5f00\\\\u53d1\\\\u533a\\\\uff0c\\\\u7531\\\\u5317\\\\u4eac\\\\u5e02\\\\u5730\\\\u94c1\\\\u8fd0\\\\u8425\\\\u6709\\\\u9650\\\\u516c\\\\u53f8\\\\u4e00\\\\u5206\\\\u516c\\\\u53f8\\\\u8d1f\\\\u8d23\\\\u8fd0\\\\u8425\\\\u3002\\\\u8be5\\\\u7ebf\\\\u4e8e2010\\\\u5e7412\\\\u670830\\\\u65e5\\\\u9664\\\\u4ea6\\\\u5e84\\\\u706b\\\\u8f66\\\\u7ad9\\\\u4e4b\\\\u5916\\\\u5168\\\\u7ebf\\\\u5f00\\\\u901a\\\\u3002\\\\u622a\\\\u81f32018\\\\u5e7412\\\\u670829\\\\u65e5\\\\uff0c\\\\u8be5\\\\u7ebf\\\\u8fd0\\\\u8425\\\\u533a\\\\u6bb5\\\\u4e3a\\\\u5b8b\\\\u5bb6\\\\u5e84\\\\u7ad9\\\\u81f3\\\\u6b21\\\\u6e20\\\\u7ad9\\\\uff0c\\\\u9014\\\\u7ecf\\\\u4e30\\\\u53f0\\\\u533a\\\\u3001\\\\u671d\\\\u9633\\\\u533a\\\\u3001\\\\u5927\\\\u5174\\\\u533a\\\\u548c\\\\u901a\\\\u5dde\\\\u533a\\\\uff0c\\\\u8fd0\\\\u8425\\\\u91cc\\\\u7a0b23.3\\\\u5343\\\\u7c73\\\\uff0c\\\\u5171\\\\u5f00\\\\u653e13\\\\u5ea7\\\\u8f66\\\\u7ad9\\\\uff08\\\\u5176\\\\u4e2d\\\\u6362\\\\u4e58\\\\u7ad91\\\\u5ea7\\\\uff09\\\\uff0c\\\\u62e5\\\\u6709\\\\u8f66\\\\u8f86\\\\u57fa\\\\u57302\\\\u5ea7\\\\uff08\\\\u5b8b\\\\u5bb6\\\\u5e84\\\\u505c\\\\u8f66\\\\u573a\\\\u548c\\\\u53f0\\\\u6e56\\\\u8f66\\\\u8f86\\\\u6bb5\\\\uff09\\\\u30022018\\\\u5e7412\\\\u670830\\\\u65e5\\\\uff0c\\\\u6682\\\\u7f13\\\\u5f00\\\\u901a\\\\u6574\\\\u65748\\\\u5e74\\\\u7684\\\\u4ea6\\\\u5e84\\\\u706b\\\\u8f66\\\\u7ad9\\\\u4e0e\\\\u5730\\\\u94c18\\\\u53f7\\\\u7ebf\\\\u5357\\\\u6bb5\\\\uff0c6\\\\u53f7\\\\u7ebf\\\\u897f\\\\u5ef6\\\\u6bb5\\\\uff0c6\\\\u53f7\\\\u7ebf\\\\u5317\\\\u8fd0\\\\u6cb3\\\\u4e1c\\\\u7ad9\\\\u548c7\\\\u53f7\\\\u7ebf\\\\u5788\\\\u5934\\\\u7ad9\\\\u540c\\\\u65f6\\\\u5f00\\\\u901a\\\\u3002\\\\u81f3\\\\u6b64\\\\uff0c\\\\u4ea6\\\\u5e84\\\\u7ebf\\\\u5168\\\\u7ebf\\\\u901a\\\\u8f66\\\\u3002.....\\\\uff08\\\\u5206\\\\u4eab\\\\u81ea@\\\\u767e\\\\u5ea6\\\\u767e\\\\u79d1\\\\uff09\",\\r\\n        bdDesc: \\'\\',\\r\\n        bdUrl: \\'http:\\\\/\\\\/baike.baidu.com\\\\/item\\\\/%E5%8C%97%E4%BA%AC%E5%9C%B0%E9%93%81%E4%BA%A6%E5%BA%84%E7%BA%BF\\\\/1464622\\',\\r\\n        bdPic: \\'\\',\\r\\n        onBeforeClick: function (){\\r\\n            $(\\'.bdshare_dialog_box\\').hide();\\r\\n        }\\r\\n    });\\r\\n\\r\\n    // 底部投诉带入当前页面 url\\r\\n    var map = [1, 2, 6, 5];\\r\\n    $(\\'.wgt-footer-main .suggestion\\').find(\\'a\\').each(function(i) {\\r\\n        $(this).attr(\\'href\\', \\'http://help.baidu.com/newadd?word=%E5%8C%97%E4%BA%AC%E5%9C%B0%E9%93%81%E4%BA%A6%E5%BA%84%E7%BA%BF\\' + \\'&&submit_link=\\' + encodeURIComponent(window.location.href) + \\'&prod_id=10&category=\\' + map[i]);\\r\\n    });\\r\\n\\r\\n    // 为超出预设内容的表格添加table-responsive控制\\r\\n    $(\\'.main-content\\').find(\\'table\\').each(function(index) {\\r\\n        var $that = $(this);\\r\\n        if ($that.width() > 790) {\\r\\n            $that.wrap(\\'<div class=\"table-responsive\"></div>\\');\\r\\n        }\\r\\n    });\\r\\n}();\\n!function(){      require(\\'wiki-common:widget/component/psLink/psLink\\');\\r\\n    }();</script>\\n<script type=\"text/javascript\">\\r\\n  var Hunter = window.Hunter || {};\\r\\n  Hunter.userConfig = Hunter.userConfig || [];\\r\\n  </script>\\n<script type=\"text/javascript\" src=\"https://gss0.baidu.com/70cFsjip0QIZ8tyhnq/hunter/baike.js?st=18086\" defer></script><script type=\"text/javascript\">\\r\\n  // DOM Ready时，统计用户可操作时间。\\r\\n  alog(\\'speed.set\\', \\'drt\\', +new Date);\\r\\n\\r\\n  void function(a,b,c,d,e,f){function g(b){a.attachEvent?a.attachEvent(\"onload\",b,!1):a.addEventListener&&a.addEventListener(\"load\",b)}function h(a,c,d){d=d||15;var e=new Date;e.setTime((new Date).getTime()+1e3*d),b.cookie=a+\"=\"+escape(c)+\";path=/;expires=\"+e.toGMTString()}function i(a){var c=b.cookie.match(new RegExp(\"(^| )\"+a+\"=([^;]*)(;|$)\"));return null!=c?unescape(c[2]):null}function j(){var a=i(\"PMS_JT\");if(a){h(\"PMS_JT\",\"\",-1);try{a=a.match(/{[\"\\']s[\"\\']:(\\\\d+),[\"\\']r[\"\\']:[\"\\']([\\\\s\\\\S]+)[\"\\']}/),a=a&&a[1]&&a[2]?{s:parseInt(a[1]),r:a[2]}:{}}catch(c){a={}}a.r&&b.referrer.replace(/#.*/,\"\")!=a.r||alog(\"speed.set\",\"wt\",a.s)}}if(a.alogObjectConfig){var k=a.alogObjectConfig.sample,l=a.alogObjectConfig.rand;d=\"https:\"===a.location.protocol?\"https://fex.bdstatic.com\"+d:\"http://fex.bdstatic.com\"+d,k&&l&&l>k||(g(function(){alog(\"speed.set\",\"lt\",+new Date),e=b.createElement(c),e.async=!0,e.src=d+\"?v=\"+~(new Date/864e5)+~(new Date/864e5),f=b.getElementsByTagName(c)[0],f.parentNode.insertBefore(e,f)}),j())}}(window,document,\"script\",\"/hunter/alog/dp.min.js\");\\r\\n</script>\\n</html>\\n'"
      ]
     },
     "execution_count": 163,
     "metadata": {},
     "output_type": "execute_result"
    }
   ],
   "source": [
    "respond_link.text"
   ]
  },
  {
   "cell_type": "code",
   "execution_count": 64,
   "metadata": {},
   "outputs": [],
   "source": [
    "train_station = defaultdict(list)"
   ]
  },
  {
   "cell_type": "code",
   "execution_count": 141,
   "metadata": {},
   "outputs": [],
   "source": [
    "soup1 = BeautifulSoup(respond_link.text)"
   ]
  },
  {
   "cell_type": "code",
   "execution_count": 204,
   "metadata": {},
   "outputs": [],
   "source": [
    "staion_list = []\n",
    "find_station_list = []\n",
    "if len(soup1.find_all(\"caption\", string=re.compile(\"车站列表\"))) == 1:\n",
    "    find_station_list = soup1.find_all(\"caption\", string=re.compile(\"车站列表\"))[0]\n",
    "    \n",
    "elif len(soup1.find_all(\"caption\", string=re.compile(\"车站信息\"))) == 1:\n",
    "    find_station_list = soup1.find_all(\"caption\", string=re.compile(\"车站信息\"))[0]\n",
    "\n",
    "\n",
    "next_siblings = find_station_list.next_sibling.find_all(\"a\")"
   ]
  },
  {
   "cell_type": "code",
   "execution_count": 24,
   "metadata": {},
   "outputs": [],
   "source": [
    "pattern1 = re.compile(r'\\w+站')"
   ]
  },
  {
   "cell_type": "code",
   "execution_count": 222,
   "metadata": {},
   "outputs": [],
   "source": [
    "station_lists = [''.join(pattern1.findall(str(next_sibling.text))) for next_sibling in next_siblings]"
   ]
  },
  {
   "cell_type": "code",
   "execution_count": 223,
   "metadata": {
    "scrolled": true
   },
   "outputs": [],
   "source": [
    "station_lists = [station_list for station_list in station_lists if station_list != '']"
   ]
  },
  {
   "cell_type": "code",
   "execution_count": 132,
   "metadata": {},
   "outputs": [
    {
     "data": {
      "text/plain": [
       "str"
      ]
     },
     "execution_count": 132,
     "metadata": {},
     "output_type": "execute_result"
    }
   ],
   "source": [
    "type(train_staion_location[20])"
   ]
  },
  {
   "cell_type": "code",
   "execution_count": 225,
   "metadata": {
    "scrolled": true
   },
   "outputs": [
    {
     "data": {
      "text/plain": [
       "<caption>北京地铁6号线车站列表</caption>"
      ]
     },
     "execution_count": 225,
     "metadata": {},
     "output_type": "execute_result"
    }
   ],
   "source": [
    "find_station_list"
   ]
  },
  {
   "cell_type": "code",
   "execution_count": 226,
   "metadata": {},
   "outputs": [],
   "source": [
    "train_station[find_station_list] = station_lists"
   ]
  },
  {
   "cell_type": "code",
   "execution_count": 65,
   "metadata": {},
   "outputs": [
    {
     "data": {
      "text/plain": [
       "defaultdict(list, {})"
      ]
     },
     "execution_count": 65,
     "metadata": {},
     "output_type": "execute_result"
    }
   ],
   "source": [
    "train_station"
   ]
  },
  {
   "cell_type": "code",
   "execution_count": 231,
   "metadata": {},
   "outputs": [
    {
     "data": {
      "text/plain": [
       "25"
      ]
     },
     "execution_count": 231,
     "metadata": {},
     "output_type": "execute_result"
    }
   ],
   "source": [
    "len(router_links)"
   ]
  },
  {
   "cell_type": "code",
   "execution_count": 40,
   "metadata": {},
   "outputs": [
    {
     "name": "stdout",
     "output_type": "stream",
     "text": [
      "[]\n",
      "['车站列表']\n",
      "[]\n",
      "[]\n",
      "[]\n"
     ]
    }
   ],
   "source": [
    "for a in soup1.find_all(\"caption\"):\n",
    "    print(re.findall(r\"车站列表\", a.text))"
   ]
  },
  {
   "cell_type": "code",
   "execution_count": 133,
   "metadata": {},
   "outputs": [
    {
     "ename": "NetworkXError",
     "evalue": "Node '岛式站' has no position.",
     "output_type": "error",
     "traceback": [
      "\u001b[1;31m---------------------------------------------------------------------------\u001b[0m",
      "\u001b[1;31mKeyError\u001b[0m                                  Traceback (most recent call last)",
      "\u001b[1;32m~\\Anaconda3\\lib\\site-packages\\networkx\\drawing\\nx_pylab.py\u001b[0m in \u001b[0;36mdraw_networkx_nodes\u001b[1;34m(G, pos, nodelist, node_size, node_color, node_shape, alpha, cmap, vmin, vmax, ax, linewidths, edgecolors, label, **kwds)\u001b[0m\n\u001b[0;32m    393\u001b[0m     \u001b[1;32mtry\u001b[0m\u001b[1;33m:\u001b[0m\u001b[1;33m\u001b[0m\u001b[1;33m\u001b[0m\u001b[0m\n\u001b[1;32m--> 394\u001b[1;33m         \u001b[0mxy\u001b[0m \u001b[1;33m=\u001b[0m \u001b[0mnp\u001b[0m\u001b[1;33m.\u001b[0m\u001b[0masarray\u001b[0m\u001b[1;33m(\u001b[0m\u001b[1;33m[\u001b[0m\u001b[0mpos\u001b[0m\u001b[1;33m[\u001b[0m\u001b[0mv\u001b[0m\u001b[1;33m]\u001b[0m \u001b[1;32mfor\u001b[0m \u001b[0mv\u001b[0m \u001b[1;32min\u001b[0m \u001b[0mnodelist\u001b[0m\u001b[1;33m]\u001b[0m\u001b[1;33m)\u001b[0m\u001b[1;33m\u001b[0m\u001b[1;33m\u001b[0m\u001b[0m\n\u001b[0m\u001b[0;32m    395\u001b[0m     \u001b[1;32mexcept\u001b[0m \u001b[0mKeyError\u001b[0m \u001b[1;32mas\u001b[0m \u001b[0me\u001b[0m\u001b[1;33m:\u001b[0m\u001b[1;33m\u001b[0m\u001b[1;33m\u001b[0m\u001b[0m\n",
      "\u001b[1;32m~\\Anaconda3\\lib\\site-packages\\networkx\\drawing\\nx_pylab.py\u001b[0m in \u001b[0;36m<listcomp>\u001b[1;34m(.0)\u001b[0m\n\u001b[0;32m    393\u001b[0m     \u001b[1;32mtry\u001b[0m\u001b[1;33m:\u001b[0m\u001b[1;33m\u001b[0m\u001b[1;33m\u001b[0m\u001b[0m\n\u001b[1;32m--> 394\u001b[1;33m         \u001b[0mxy\u001b[0m \u001b[1;33m=\u001b[0m \u001b[0mnp\u001b[0m\u001b[1;33m.\u001b[0m\u001b[0masarray\u001b[0m\u001b[1;33m(\u001b[0m\u001b[1;33m[\u001b[0m\u001b[0mpos\u001b[0m\u001b[1;33m[\u001b[0m\u001b[0mv\u001b[0m\u001b[1;33m]\u001b[0m \u001b[1;32mfor\u001b[0m \u001b[0mv\u001b[0m \u001b[1;32min\u001b[0m \u001b[0mnodelist\u001b[0m\u001b[1;33m]\u001b[0m\u001b[1;33m)\u001b[0m\u001b[1;33m\u001b[0m\u001b[1;33m\u001b[0m\u001b[0m\n\u001b[0m\u001b[0;32m    395\u001b[0m     \u001b[1;32mexcept\u001b[0m \u001b[0mKeyError\u001b[0m \u001b[1;32mas\u001b[0m \u001b[0me\u001b[0m\u001b[1;33m:\u001b[0m\u001b[1;33m\u001b[0m\u001b[1;33m\u001b[0m\u001b[0m\n",
      "\u001b[1;31mKeyError\u001b[0m: '岛式站'",
      "\nDuring handling of the above exception, another exception occurred:\n",
      "\u001b[1;31mNetworkXError\u001b[0m                             Traceback (most recent call last)",
      "\u001b[1;32m<ipython-input-133-878401ac72d3>\u001b[0m in \u001b[0;36m<module>\u001b[1;34m\u001b[0m\n\u001b[0;32m      4\u001b[0m \u001b[1;33m\u001b[0m\u001b[0m\n\u001b[0;32m      5\u001b[0m \u001b[1;33m\u001b[0m\u001b[0m\n\u001b[1;32m----> 6\u001b[1;33m \u001b[0mnx\u001b[0m\u001b[1;33m.\u001b[0m\u001b[0mdraw\u001b[0m\u001b[1;33m(\u001b[0m\u001b[0mtrain_graph\u001b[0m\u001b[1;33m,\u001b[0m \u001b[0mpos\u001b[0m\u001b[1;33m,\u001b[0m \u001b[0mwith_labels\u001b[0m\u001b[1;33m=\u001b[0m\u001b[1;32mTrue\u001b[0m\u001b[1;33m,\u001b[0m \u001b[0mnode_size\u001b[0m\u001b[1;33m=\u001b[0m\u001b[1;36m30\u001b[0m\u001b[1;33m)\u001b[0m\u001b[1;33m\u001b[0m\u001b[1;33m\u001b[0m\u001b[0m\n\u001b[0m",
      "\u001b[1;32m~\\Anaconda3\\lib\\site-packages\\networkx\\drawing\\nx_pylab.py\u001b[0m in \u001b[0;36mdraw\u001b[1;34m(G, pos, ax, **kwds)\u001b[0m\n\u001b[0;32m    124\u001b[0m \u001b[1;33m\u001b[0m\u001b[0m\n\u001b[0;32m    125\u001b[0m     \u001b[1;32mtry\u001b[0m\u001b[1;33m:\u001b[0m\u001b[1;33m\u001b[0m\u001b[1;33m\u001b[0m\u001b[0m\n\u001b[1;32m--> 126\u001b[1;33m         \u001b[0mdraw_networkx\u001b[0m\u001b[1;33m(\u001b[0m\u001b[0mG\u001b[0m\u001b[1;33m,\u001b[0m \u001b[0mpos\u001b[0m\u001b[1;33m=\u001b[0m\u001b[0mpos\u001b[0m\u001b[1;33m,\u001b[0m \u001b[0max\u001b[0m\u001b[1;33m=\u001b[0m\u001b[0max\u001b[0m\u001b[1;33m,\u001b[0m \u001b[1;33m**\u001b[0m\u001b[0mkwds\u001b[0m\u001b[1;33m)\u001b[0m\u001b[1;33m\u001b[0m\u001b[1;33m\u001b[0m\u001b[0m\n\u001b[0m\u001b[0;32m    127\u001b[0m         \u001b[0max\u001b[0m\u001b[1;33m.\u001b[0m\u001b[0mset_axis_off\u001b[0m\u001b[1;33m(\u001b[0m\u001b[1;33m)\u001b[0m\u001b[1;33m\u001b[0m\u001b[1;33m\u001b[0m\u001b[0m\n\u001b[0;32m    128\u001b[0m         \u001b[0mplt\u001b[0m\u001b[1;33m.\u001b[0m\u001b[0mdraw_if_interactive\u001b[0m\u001b[1;33m(\u001b[0m\u001b[1;33m)\u001b[0m\u001b[1;33m\u001b[0m\u001b[1;33m\u001b[0m\u001b[0m\n",
      "\u001b[1;32m~\\Anaconda3\\lib\\site-packages\\networkx\\drawing\\nx_pylab.py\u001b[0m in \u001b[0;36mdraw_networkx\u001b[1;34m(G, pos, arrows, with_labels, **kwds)\u001b[0m\n\u001b[0;32m    275\u001b[0m         \u001b[0mpos\u001b[0m \u001b[1;33m=\u001b[0m \u001b[0mnx\u001b[0m\u001b[1;33m.\u001b[0m\u001b[0mdrawing\u001b[0m\u001b[1;33m.\u001b[0m\u001b[0mspring_layout\u001b[0m\u001b[1;33m(\u001b[0m\u001b[0mG\u001b[0m\u001b[1;33m)\u001b[0m  \u001b[1;31m# default to spring layout\u001b[0m\u001b[1;33m\u001b[0m\u001b[1;33m\u001b[0m\u001b[0m\n\u001b[0;32m    276\u001b[0m \u001b[1;33m\u001b[0m\u001b[0m\n\u001b[1;32m--> 277\u001b[1;33m     \u001b[0mnode_collection\u001b[0m \u001b[1;33m=\u001b[0m \u001b[0mdraw_networkx_nodes\u001b[0m\u001b[1;33m(\u001b[0m\u001b[0mG\u001b[0m\u001b[1;33m,\u001b[0m \u001b[0mpos\u001b[0m\u001b[1;33m,\u001b[0m \u001b[1;33m**\u001b[0m\u001b[0mkwds\u001b[0m\u001b[1;33m)\u001b[0m\u001b[1;33m\u001b[0m\u001b[1;33m\u001b[0m\u001b[0m\n\u001b[0m\u001b[0;32m    278\u001b[0m     \u001b[0medge_collection\u001b[0m \u001b[1;33m=\u001b[0m \u001b[0mdraw_networkx_edges\u001b[0m\u001b[1;33m(\u001b[0m\u001b[0mG\u001b[0m\u001b[1;33m,\u001b[0m \u001b[0mpos\u001b[0m\u001b[1;33m,\u001b[0m \u001b[0marrows\u001b[0m\u001b[1;33m=\u001b[0m\u001b[0marrows\u001b[0m\u001b[1;33m,\u001b[0m \u001b[1;33m**\u001b[0m\u001b[0mkwds\u001b[0m\u001b[1;33m)\u001b[0m\u001b[1;33m\u001b[0m\u001b[1;33m\u001b[0m\u001b[0m\n\u001b[0;32m    279\u001b[0m     \u001b[1;32mif\u001b[0m \u001b[0mwith_labels\u001b[0m\u001b[1;33m:\u001b[0m\u001b[1;33m\u001b[0m\u001b[1;33m\u001b[0m\u001b[0m\n",
      "\u001b[1;32m~\\Anaconda3\\lib\\site-packages\\networkx\\drawing\\nx_pylab.py\u001b[0m in \u001b[0;36mdraw_networkx_nodes\u001b[1;34m(G, pos, nodelist, node_size, node_color, node_shape, alpha, cmap, vmin, vmax, ax, linewidths, edgecolors, label, **kwds)\u001b[0m\n\u001b[0;32m    394\u001b[0m         \u001b[0mxy\u001b[0m \u001b[1;33m=\u001b[0m \u001b[0mnp\u001b[0m\u001b[1;33m.\u001b[0m\u001b[0masarray\u001b[0m\u001b[1;33m(\u001b[0m\u001b[1;33m[\u001b[0m\u001b[0mpos\u001b[0m\u001b[1;33m[\u001b[0m\u001b[0mv\u001b[0m\u001b[1;33m]\u001b[0m \u001b[1;32mfor\u001b[0m \u001b[0mv\u001b[0m \u001b[1;32min\u001b[0m \u001b[0mnodelist\u001b[0m\u001b[1;33m]\u001b[0m\u001b[1;33m)\u001b[0m\u001b[1;33m\u001b[0m\u001b[1;33m\u001b[0m\u001b[0m\n\u001b[0;32m    395\u001b[0m     \u001b[1;32mexcept\u001b[0m \u001b[0mKeyError\u001b[0m \u001b[1;32mas\u001b[0m \u001b[0me\u001b[0m\u001b[1;33m:\u001b[0m\u001b[1;33m\u001b[0m\u001b[1;33m\u001b[0m\u001b[0m\n\u001b[1;32m--> 396\u001b[1;33m         \u001b[1;32mraise\u001b[0m \u001b[0mnx\u001b[0m\u001b[1;33m.\u001b[0m\u001b[0mNetworkXError\u001b[0m\u001b[1;33m(\u001b[0m\u001b[1;34m'Node %s has no position.'\u001b[0m \u001b[1;33m%\u001b[0m \u001b[0me\u001b[0m\u001b[1;33m)\u001b[0m\u001b[1;33m\u001b[0m\u001b[1;33m\u001b[0m\u001b[0m\n\u001b[0m\u001b[0;32m    397\u001b[0m     \u001b[1;32mexcept\u001b[0m \u001b[0mValueError\u001b[0m\u001b[1;33m:\u001b[0m\u001b[1;33m\u001b[0m\u001b[1;33m\u001b[0m\u001b[0m\n\u001b[0;32m    398\u001b[0m         \u001b[1;32mraise\u001b[0m \u001b[0mnx\u001b[0m\u001b[1;33m.\u001b[0m\u001b[0mNetworkXError\u001b[0m\u001b[1;33m(\u001b[0m\u001b[1;34m'Bad value in node positions.'\u001b[0m\u001b[1;33m)\u001b[0m\u001b[1;33m\u001b[0m\u001b[1;33m\u001b[0m\u001b[0m\n",
      "\u001b[1;31mNetworkXError\u001b[0m: Node '岛式站' has no position."
     ]
    },
    {
     "data": {
      "image/png": "[encoded data removed]",
      "text/plain": [
       "<Figure size 432x288 with 1 Axes>"
      ]
     },
     "metadata": {},
     "output_type": "display_data"
    }
   ],
   "source": [
    "with_routes_train_station = nx.Graph(train_station)\n",
    "train_graph = nx.Graph()\n",
    "train_graph.add_nodes_from(train_staion_location)\n",
    "\n",
    "\n",
    "nx.draw(train_graph, pos, with_labels=True, node_size=30) "
   ]
  },
  {
   "cell_type": "code",
   "execution_count": 81,
   "metadata": {},
   "outputs": [
    {
     "data": {
      "text/plain": [
       "defaultdict(list,\n",
       "            {'车站信息\\u3000\\u3000': ['宋家庄站',\n",
       "              '肖村站',\n",
       "              '岛式站',\n",
       "              '小红门站',\n",
       "              '岛式站',\n",
       "              '旧宫站',\n",
       "              '侧式站',\n",
       "              '亦庄桥站',\n",
       "              '亦庄文化园站',\n",
       "              '万源街站',\n",
       "              '荣京东街站',\n",
       "              '荣昌东街站',\n",
       "              '同济南路站',\n",
       "              '经海路站',\n",
       "              '次渠南站',\n",
       "              '岛式站',\n",
       "              '次渠站',\n",
       "              '亦庄火车站'],\n",
       "             '北京地铁八通线车站列表': ['四惠站',\n",
       "              '四惠东站',\n",
       "              '高碑店站',\n",
       "              '传媒大学站',\n",
       "              '双桥站',\n",
       "              '管庄站',\n",
       "              '八里桥站',\n",
       "              '通州北苑站',\n",
       "              '果园站',\n",
       "              '九棵树站',\n",
       "              '梨园站',\n",
       "              '临河里站',\n",
       "              '土桥站',\n",
       "              '环球影城站'],\n",
       "             '北京地铁4号线、大兴线车站列表': ['天宫院站',\n",
       "              '生物医药基地站',\n",
       "              '义和庄站',\n",
       "              '黄村火车站',\n",
       "              '黄村西大街站',\n",
       "              '清源路站',\n",
       "              '枣园站',\n",
       "              '高米店南站',\n",
       "              '高米店北站',\n",
       "              '西红门站',\n",
       "              '新宫站',\n",
       "              '公益西桥站',\n",
       "              '角门西站',\n",
       "              '马家堡站',\n",
       "              '北京南站',\n",
       "              '陶然亭站',\n",
       "              '菜市口站',\n",
       "              '宣武门站',\n",
       "              '西单站',\n",
       "              '灵境胡同站',\n",
       "              '西四站',\n",
       "              '平安里站',\n",
       "              '新街口站',\n",
       "              '西直门站',\n",
       "              '动物园站',\n",
       "              '国家图书馆站',\n",
       "              '魏公村站',\n",
       "              '人民大学站',\n",
       "              '海淀黄庄站',\n",
       "              '中关村站',\n",
       "              '北京大学东门站',\n",
       "              '圆明园站',\n",
       "              '西苑站',\n",
       "              '北宫门站',\n",
       "              '安河桥北站'],\n",
       "             '北京地铁房山线车站列表\\u3000\\u3000': ['阎村东站',\n",
       "              '苏庄站',\n",
       "              '良乡南关站',\n",
       "              '良乡大学城西站',\n",
       "              '良乡大学城站',\n",
       "              '良乡大学城北站',\n",
       "              '广阳城站',\n",
       "              '篱笆房站',\n",
       "              '长阳站',\n",
       "              '稻田站',\n",
       "              '大葆台站',\n",
       "              '郭公庄站',\n",
       "              '首经贸站',\n",
       "              '丰益桥南站'],\n",
       "             '北京地铁昌平线车站列表': ['西土城站',\n",
       "              '出站',\n",
       "              '出站',\n",
       "              '西二旗站',\n",
       "              '生命科学园站',\n",
       "              '朱辛庄站',\n",
       "              '巩华城站',\n",
       "              '沙河站',\n",
       "              '沙河高教园站',\n",
       "              '南邵站',\n",
       "              '北邵洼站',\n",
       "              '昌平东关站',\n",
       "              '昌平站',\n",
       "              '昌平北站',\n",
       "              '十三陵景区站',\n",
       "              '昌平西山口站'],\n",
       "             '北京地铁机场线车站信息': ['东直门站', '三元桥站', '3号航站楼站', '2号航站楼站'],\n",
       "             '北京地铁1号线车站列表': ['黑石头站',\n",
       "              '高井站',\n",
       "              '福寿岭站',\n",
       "              '苹果园站',\n",
       "              '古城站',\n",
       "              '衙门口站',\n",
       "              '八角游乐园站',\n",
       "              '八宝山站',\n",
       "              '玉泉路站',\n",
       "              '五棵松站',\n",
       "              '万寿路站',\n",
       "              '公主坟站',\n",
       "              '军事博物馆站',\n",
       "              '木樨地站',\n",
       "              '南礼士路站',\n",
       "              '复兴门站',\n",
       "              '西单站',\n",
       "              '天安门西站',\n",
       "              '天安门东站',\n",
       "              '王府井站',\n",
       "              '东单站',\n",
       "              '建国门站',\n",
       "              '永安里站',\n",
       "              '国贸站',\n",
       "              '大望路站',\n",
       "              '四惠站',\n",
       "              '四惠东站',\n",
       "              '高碑店站',\n",
       "              '传媒大学站',\n",
       "              '双桥站',\n",
       "              '管庄站',\n",
       "              '八里桥站',\n",
       "              '通州北苑站',\n",
       "              '果园站',\n",
       "              '九棵树站',\n",
       "              '梨园站',\n",
       "              '临河里站',\n",
       "              '土桥站',\n",
       "              '花庄站'],\n",
       "             '北京地铁10号线车站列表\\u3000\\u3000': ['巴沟站',\n",
       "              '苏州街站',\n",
       "              '海淀黄庄站',\n",
       "              '知春里站',\n",
       "              '知春路站',\n",
       "              '西土城站',\n",
       "              '牡丹园站',\n",
       "              '健德门站',\n",
       "              '北土城站',\n",
       "              '安贞门站',\n",
       "              '惠新西街南口站',\n",
       "              '芍药居站',\n",
       "              '太阳宫站',\n",
       "              '三元桥站',\n",
       "              '亮马桥站',\n",
       "              '农业展览馆站',\n",
       "              '团结湖站',\n",
       "              '呼家楼站',\n",
       "              '金台夕照站',\n",
       "              '国贸站',\n",
       "              '双井站',\n",
       "              '劲松站',\n",
       "              '潘家园站',\n",
       "              '十里河站',\n",
       "              '分钟寺站',\n",
       "              '成寿寺站',\n",
       "              '宋家庄站',\n",
       "              '石榴庄站',\n",
       "              '大红门站',\n",
       "              '角门东站',\n",
       "              '角门西站',\n",
       "              '草桥站',\n",
       "              '纪家庙站',\n",
       "              '首经贸站',\n",
       "              '丰台站',\n",
       "              '泥洼站',\n",
       "              '西局站',\n",
       "              '六里桥站',\n",
       "              '莲花桥站',\n",
       "              '公主坟站',\n",
       "              '西钓鱼台站',\n",
       "              '慈寿寺站',\n",
       "              '车道沟站',\n",
       "              '长春桥站',\n",
       "              '火器营站',\n",
       "              '巴沟站'],\n",
       "             '北京地铁14号线车站列表': ['园博园站',\n",
       "              '大瓦窑站',\n",
       "              '郭庄子站',\n",
       "              '大井站',\n",
       "              '七里庄站',\n",
       "              '西局站',\n",
       "              '东管头站',\n",
       "              '丽泽商务区站',\n",
       "              '菜户营站',\n",
       "              '西铁营站',\n",
       "              '景风门站',\n",
       "              '北京南站',\n",
       "              '陶然桥站',\n",
       "              '永定门外站',\n",
       "              '景泰站',\n",
       "              '蒲黄榆站',\n",
       "              '方庄站',\n",
       "              '十里河站',\n",
       "              '北工大西门站',\n",
       "              '平乐园站',\n",
       "              '九龙山站',\n",
       "              '大望路站',\n",
       "              '金台路站',\n",
       "              '朝阳公园站',\n",
       "              '枣营站',\n",
       "              '东风北桥站',\n",
       "              '将台站',\n",
       "              '高家园站',\n",
       "              '望京南站',\n",
       "              '阜通站',\n",
       "              '望京站',\n",
       "              '东湖渠站',\n",
       "              '来广营站',\n",
       "              '善各庄站'],\n",
       "             '北京地铁15号线车站列表': ['清华东路西口站',\n",
       "              '六道口站',\n",
       "              '北沙滩站',\n",
       "              '奥林匹克公园站',\n",
       "              '安立路站',\n",
       "              '大屯路东站',\n",
       "              '关庄站',\n",
       "              '望京西站',\n",
       "              '望京站',\n",
       "              '望京东站',\n",
       "              '崔各庄站',\n",
       "              '马泉营站',\n",
       "              '孙河站',\n",
       "              '国展站',\n",
       "              '花梨坎站',\n",
       "              '后沙峪站',\n",
       "              '南法信站',\n",
       "              '石门站',\n",
       "              '顺义站',\n",
       "              '俸伯站'],\n",
       "             '北京地铁4号线车站列表': ['公益西桥站',\n",
       "              '角门西站',\n",
       "              '马家堡站',\n",
       "              '北京南站',\n",
       "              '陶然亭站',\n",
       "              '菜市口站',\n",
       "              '宣武门站',\n",
       "              '西单站',\n",
       "              '灵境胡同站',\n",
       "              '西四站',\n",
       "              '平安里站',\n",
       "              '新街口站',\n",
       "              '西直门站',\n",
       "              '动物园站',\n",
       "              '国家图书馆站',\n",
       "              '魏公村站',\n",
       "              '人民大学站',\n",
       "              '海淀黄庄站',\n",
       "              '中关村站',\n",
       "              '北京大学东门站',\n",
       "              '圆明园站',\n",
       "              '西苑站',\n",
       "              '北宫门站',\n",
       "              '安河桥北站'],\n",
       "             '北京地铁5号线车站列表': ['宋家庄站',\n",
       "              '刘家窑站',\n",
       "              '蒲黄榆站',\n",
       "              '天坛东门站',\n",
       "              '磁器口站',\n",
       "              '崇文门站',\n",
       "              '东单站',\n",
       "              '灯市口站',\n",
       "              '东四站',\n",
       "              '张自忠路站',\n",
       "              '北新桥站',\n",
       "              '雍和宫站',\n",
       "              '和平里北街站',\n",
       "              '和平西桥站',\n",
       "              '惠新西街南口站',\n",
       "              '惠新西街北口站',\n",
       "              '大屯路东站',\n",
       "              '北苑路北站',\n",
       "              '立水桥南站',\n",
       "              '立水桥站',\n",
       "              '天通苑南站',\n",
       "              '天通苑站',\n",
       "              '天通苑北站',\n",
       "              '平西府站',\n",
       "              '平坊站',\n",
       "              '马坊站'],\n",
       "             '北京地铁6号线车站列表': ['金安桥站',\n",
       "              '苹果园站',\n",
       "              '杨庄站',\n",
       "              '西黄村站',\n",
       "              '廖公庄站',\n",
       "              '田村站',\n",
       "              '海淀五路居站',\n",
       "              '慈寿寺站',\n",
       "              '花园桥站',\n",
       "              '白石桥南站',\n",
       "              '二里沟站',\n",
       "              '车公庄西站',\n",
       "              '车公庄站',\n",
       "              '平安里站',\n",
       "              '北海北站',\n",
       "              '南锣鼓巷站',\n",
       "              '东四站',\n",
       "              '朝阳门站',\n",
       "              '东大桥站',\n",
       "              '呼家楼站',\n",
       "              '金台路站',\n",
       "              '十里堡站',\n",
       "              '青年路站',\n",
       "              '褡裢坡站',\n",
       "              '黄渠站',\n",
       "              '常营站',\n",
       "              '草房站',\n",
       "              '物资学院路站',\n",
       "              '通州北关站',\n",
       "              '通运门站',\n",
       "              '北运河西站',\n",
       "              '北运河东站',\n",
       "              '郝家府站',\n",
       "              '东夏园站',\n",
       "              '潞城站'],\n",
       "             '北京地铁7号线车站列表': ['北京西站',\n",
       "              '湾子站',\n",
       "              '达官营站',\n",
       "              '广安门内站',\n",
       "              '菜市口站',\n",
       "              '虎坊桥站',\n",
       "              '珠市口站',\n",
       "              '桥湾站',\n",
       "              '磁器口站',\n",
       "              '广渠门内站',\n",
       "              '广渠门外站',\n",
       "              '双井站',\n",
       "              '九龙山站',\n",
       "              '大郊亭站',\n",
       "              '百子湾站',\n",
       "              '化工站',\n",
       "              '南楼梓庄站',\n",
       "              '欢乐谷景区站',\n",
       "              '垡头站',\n",
       "              '双合站',\n",
       "              '焦化厂站',\n",
       "              '黄厂村站',\n",
       "              '豆各庄站',\n",
       "              '黑庄户站',\n",
       "              '万盛南街西口站',\n",
       "              '云景东路站',\n",
       "              '小马庄站',\n",
       "              '高楼金站',\n",
       "              '环球影城站'],\n",
       "             '北京地铁8号线车站列表': ['朱辛庄站',\n",
       "              '育知路站',\n",
       "              '平西府站',\n",
       "              '回龙观东大街站',\n",
       "              '霍营站',\n",
       "              '育新站',\n",
       "              '西小口站',\n",
       "              '永泰庄站',\n",
       "              '林萃桥站',\n",
       "              '森林公园南门站',\n",
       "              '奥林匹克公园站',\n",
       "              '奥体中心站',\n",
       "              '北土城站',\n",
       "              '安华桥站',\n",
       "              '安德里北街站',\n",
       "              '鼓楼大街站',\n",
       "              '什刹海站',\n",
       "              '南锣鼓巷站',\n",
       "              '中国美术馆站',\n",
       "              '金鱼胡同站',\n",
       "              '王府井站',\n",
       "              '前门站',\n",
       "              '珠市口站',\n",
       "              '天桥站',\n",
       "              '永定门外站',\n",
       "              '木樨园站',\n",
       "              '海户屯站',\n",
       "              '大红门站',\n",
       "              '大红门南站',\n",
       "              '和义站',\n",
       "              '东高地站',\n",
       "              '火箭万源站',\n",
       "              '五福堂站',\n",
       "              '德茂站',\n",
       "              '瀛海站'],\n",
       "             '北京地铁9号线车站列表': ['郭公庄站',\n",
       "              '丰台科技园站',\n",
       "              '岛式站',\n",
       "              '科怡路站',\n",
       "              '丰台南路站',\n",
       "              '丰台东大街站',\n",
       "              '七里庄站',\n",
       "              '六里桥站',\n",
       "              '侧式站',\n",
       "              '六里桥东站',\n",
       "              '北京西站',\n",
       "              '军事博物馆站',\n",
       "              '白堆子站',\n",
       "              '白石桥南站',\n",
       "              '国家图书馆站'],\n",
       "             '北京地铁S1线车站列表': ['苹果园站',\n",
       "              '金安桥站',\n",
       "              '四道桥站',\n",
       "              '桥户营站',\n",
       "              '上岸站',\n",
       "              '栗园庄站',\n",
       "              '小园站',\n",
       "              '石厂站']})"
      ]
     },
     "execution_count": 81,
     "metadata": {},
     "output_type": "execute_result"
    }
   ],
   "source": [
    "train_station"
   ]
  },
  {
   "cell_type": "code",
   "execution_count": 83,
   "metadata": {},
   "outputs": [],
   "source": [
    "test_train_sation = defaultdict(list)\n",
    "test_train_sation[\"车站信息\"]=[\"宋家庄站\",\"肖村站\",\"小红门站\",\"旧宫站\",\"侧式站\",\"亦庄桥站\",\"亦庄文化园站\",\"万源街站\",\"荣京东街站\",\"荣昌东街站\",\"同济南路站\",\"经海路站\",\"次渠南站\",\"次渠站\",\"亦庄火车站\",]"
   ]
  },
  {
   "cell_type": "markdown",
   "metadata": {},
   "source": [
    "\n",
    "\n",
    "\n",
    "\n",
    "#################################北京地铁站坐标#################################\n",
    "\n",
    "\n",
    "\n"
   ]
  },
  {
   "cell_type": "code",
   "execution_count": 16,
   "metadata": {},
   "outputs": [],
   "source": [
    "import requests"
   ]
  },
  {
   "cell_type": "code",
   "execution_count": 18,
   "metadata": {},
   "outputs": [],
   "source": [
    "coordinate_location_url = \"http://ifamily.wang/2018/06/21/2018-06-20/\"\n",
    "res_coordinate_location = requests.get(coordinate_location_url)"
   ]
  },
  {
   "cell_type": "code",
   "execution_count": 19,
   "metadata": {},
   "outputs": [
    {
     "data": {
      "text/plain": [
       "'utf-8'"
      ]
     },
     "execution_count": 19,
     "metadata": {},
     "output_type": "execute_result"
    }
   ],
   "source": [
    "res_coordinate_location.apparent_encoding"
   ]
  },
  {
   "cell_type": "code",
   "execution_count": 24,
   "metadata": {},
   "outputs": [
    {
     "name": "stderr",
     "output_type": "stream",
     "text": [
      "C:\\Users\\WDMWDL\\Anaconda3\\lib\\site-packages\\bs4\\__init__.py:177: UserWarning: You provided Unicode markup but also provided a value for from_encoding. Your from_encoding will be ignored.\n",
      "  warnings.warn(\"You provided Unicode markup but also provided a value for from_encoding. Your from_encoding will be ignored.\")\n"
     ]
    }
   ],
   "source": [
    "html_coordinate_location = res_coordinate_location.text\n",
    "res_coordinate_location.encoding=\"utf-8\"\n",
    "soup = BeautifulSoup(html_coordinate_location,from_encoding=\"utf8\")"
   ]
  },
  {
   "cell_type": "code",
   "execution_count": 131,
   "metadata": {},
   "outputs": [],
   "source": [
    "station_coordinate_location = defaultdict(list)"
   ]
  },
  {
   "cell_type": "code",
   "execution_count": 132,
   "metadata": {
    "scrolled": false
   },
   "outputs": [],
   "source": [
    "for tr in soup.find_all('tr')[1:]:\n",
    "    tds = tr.find_all(\"td\")\n",
    "    station_coordinate_location[tds[1].text+\"站\"] = (float(tds[-2].text), float(tds[-1].text))"
   ]
  },
  {
   "cell_type": "code",
   "execution_count": 133,
   "metadata": {},
   "outputs": [
    {
     "data": {
      "text/plain": [
       "defaultdict(list,\n",
       "            {'苹果园站': (39.926727, 116.177388),\n",
       "             '古城站': (39.90745, 116.190337),\n",
       "             '八角游乐园站': (39.907442, 116.212684),\n",
       "             '八宝山站': (39.90744, 116.235948),\n",
       "             '玉泉路站': (39.907433, 116.252888),\n",
       "             '五棵松站': (39.907456, 116.273987),\n",
       "             '万寿路站': (39.907474, 116.294765),\n",
       "             '公主坟站': (39.907469, 116.309919),\n",
       "             '军事博物馆站': (39.907422, 116.321459),\n",
       "             '木樨地站': (39.907379, 116.337583),\n",
       "             '南礼士路站': (39.907234, 116.352583),\n",
       "             '复兴门站': (39.907242, 116.356866),\n",
       "             '西单站': (39.907383, 116.374072),\n",
       "             '天安门西站': (39.907472, 116.391278),\n",
       "             '天安门东站': (39.90778, 116.401216),\n",
       "             '王府井站': (39.908069, 116.411571),\n",
       "             '东单站': (39.908325, 116.41848),\n",
       "             '建国门站': (39.908501, 116.435806),\n",
       "             '永安里站': (39.908454, 116.450497),\n",
       "             '国贸站': (39.909104, 116.461841),\n",
       "             '大望路站': (39.908287, 116.475783),\n",
       "             '四惠站': (39.908749, 116.495456),\n",
       "             '四惠东站': (39.908495, 116.515664),\n",
       "             '积水潭站': (39.948653, 116.373126),\n",
       "             '鼓楼大街站': (39.948972, 116.393776),\n",
       "             '安定门站': (39.94918, 116.40824),\n",
       "             '雍和宫站': (39.949336, 116.417069),\n",
       "             '东直门站': (39.941626, 116.435842),\n",
       "             '东四十条站': (39.933801, 116.434133),\n",
       "             '朝阳门站': (39.924499, 116.434584),\n",
       "             '北京站站': (39.904983, 116.427287),\n",
       "             '崇文门站': (39.901063, 116.417093),\n",
       "             '前门站': (39.900192, 116.397937),\n",
       "             '和平门站': (39.900098, 116.384209),\n",
       "             '宣武门站': (39.899765, 116.374314),\n",
       "             '长椿街站': (39.899433, 116.363355),\n",
       "             '阜成门站': (39.923686, 116.356009),\n",
       "             '车公庄站': (39.932397, 116.354357),\n",
       "             '西直门站': (39.940474, 116.355426),\n",
       "             '天宫院站': (39.670342, 116.319932),\n",
       "             '生物医药基地站': (39.68651, 116.321662),\n",
       "             '义和庄站': (39.712387, 116.319079),\n",
       "             '黄村火车站站': (39.722966, 116.332611),\n",
       "             '黄村西大街站': (39.731769, 116.332631),\n",
       "             '清源路站': (39.742724, 116.332513),\n",
       "             '枣园站': (39.753458, 116.332204),\n",
       "             '高米店南站': (39.763489, 116.331605),\n",
       "             '高米店北站': (39.773547, 116.330787),\n",
       "             '西红门站': (39.7898, 116.328689),\n",
       "             '新宫站': (39.812592, 116.365549),\n",
       "             '公益西桥站': (39.836135, 116.370796),\n",
       "             '角门西站': (39.84585, 116.371154),\n",
       "             '马家堡站': (39.853109, 116.371361),\n",
       "             '北京南站站': (39.865012, 116.379008),\n",
       "             '陶然亭站': (39.87847, 116.374383),\n",
       "             '菜市口站': (39.889296, 116.374425),\n",
       "             '灵境胡同站': (39.915912, 116.373746),\n",
       "             '西四站': (39.924206, 116.373332),\n",
       "             '平安里站': (39.933949, 116.372883),\n",
       "             '新街口站': (39.940667, 116.367742),\n",
       "             '动物园站': (39.93825, 116.339031),\n",
       "             '国家图书馆站': (39.943114, 116.32519),\n",
       "             '魏公村站': (39.957904, 116.32322),\n",
       "             '人民大学站': (39.966956, 116.321367),\n",
       "             '海淀黄庄站': (39.975996, 116.317564),\n",
       "             '中关村站': (39.983991, 116.316467),\n",
       "             '北京大学东门站': (39.992212, 116.315842),\n",
       "             '圆明园站': (39.999662, 116.310186),\n",
       "             '西苑站': (39.998258, 116.290908),\n",
       "             '北宫门站': (40.002373, 116.277647),\n",
       "             '安河桥北站': (40.012195, 116.269956),\n",
       "             '天通苑北站': (40.083668, 116.412888),\n",
       "             '天通苑站': (40.075222, 116.412759),\n",
       "             '天通苑南站': (40.066458, 116.412661),\n",
       "             '立水桥站': (40.053032, 116.41235),\n",
       "             '立水桥南站': (40.041956, 116.414496),\n",
       "             '北苑路北站': (40.030436, 116.418089),\n",
       "             '大屯路东站': (40.003841, 116.417377),\n",
       "             '惠新西街北口站': (39.987836, 116.417028),\n",
       "             '惠新西街南口站': (39.977121, 116.417537),\n",
       "             '和平西桥站': (39.968386, 116.417975),\n",
       "             '和平里北街站': (39.958734, 116.418504),\n",
       "             '北新桥站': (39.940782, 116.416884),\n",
       "             '张自忠路站': (39.933592, 116.417156),\n",
       "             '东四站': (39.92437, 116.417493),\n",
       "             '灯市口站': (39.917113, 116.417783),\n",
       "             '磁器口站': (39.893172, 116.41994),\n",
       "             '天坛东门站': (39.882558, 116.420833),\n",
       "             '蒲黄榆站': (39.865621, 116.42372),\n",
       "             '刘家窑站': (39.857521, 116.422119),\n",
       "             '宋家庄站': (39.845849, 116.428368),\n",
       "             '东夏园站': (39.903147, 116.73385),\n",
       "             '潞城站': (39.902652, 116.747434),\n",
       "             '郝家府站': (39.903195, 116.717826),\n",
       "             '北运河东站': (39.903079, 116.707564),\n",
       "             '北运河西站': (39.903024, 116.688358),\n",
       "             '通运门站': (39.910583, 116.673284),\n",
       "             '通州北关站': (39.917962, 116.661131),\n",
       "             '物资学院路站': (39.926801, 116.639316),\n",
       "             '草房站': (39.924477, 116.615574),\n",
       "             '常营站': (39.925696, 116.599722),\n",
       "             '黄渠站': (39.924201, 116.578266),\n",
       "             '褡裢坡站': (39.924021, 116.563961),\n",
       "             '青年路站': (39.923168, 116.517429),\n",
       "             '十里堡站': (39.923076, 116.502045),\n",
       "             '金台路站': (39.923556, 116.478115),\n",
       "             '呼家楼站': (39.923337, 116.461618),\n",
       "             '东大桥站': (39.923054, 116.451657),\n",
       "             '南锣鼓巷站': (39.933848, 116.404192),\n",
       "             '北海北站': (39.933247, 116.386829),\n",
       "             '车公庄西站': (39.932466, 116.344082),\n",
       "             '白石桥南站': (39.933022, 116.32568),\n",
       "             '花园桥站': (39.93234, 116.310683),\n",
       "             '慈寿寺站': (39.933268, 116.295467),\n",
       "             '海淀五路居站': (39.932584, 116.276531),\n",
       "             '北京西站': (39.894763, 116.321262),\n",
       "             '湾子站': (39.889954, 116.327753),\n",
       "             '达官营站': (39.889884, 116.336455),\n",
       "             '广安门内站': (39.889418, 116.358239),\n",
       "             '虎坊桥站': (39.889486, 116.384596),\n",
       "             '珠市口站': (39.891267, 116.398104),\n",
       "             '桥湾站': (39.892725, 116.408464),\n",
       "             '广渠门内站': (39.893673, 116.433877),\n",
       "             '广渠门外站': (39.893648, 116.448998),\n",
       "             '九龙山站': (39.893222, 116.478695),\n",
       "             '大郊亭站': (39.893183, 116.487935),\n",
       "             '百子湾站': (39.89253, 116.497768),\n",
       "             '化工站': (39.887369, 116.503439),\n",
       "             '南楼梓庄站': (39.874578, 116.501084),\n",
       "             '欢乐谷景区站': (39.866505, 116.500067),\n",
       "             '垡头站': (39.860864, 116.511829),\n",
       "             '双合站': (39.859691, 116.526836),\n",
       "             '焦化厂站': (39.855488, 116.537247),\n",
       "             '朱辛庄站': (40.104297, 116.313698),\n",
       "             '育知路站': (40.087863, 116.326992),\n",
       "             '平西府站': (40.090607, 116.350425),\n",
       "             '回龙观东大街站': (40.081175, 116.363025),\n",
       "             '霍营站': (40.071857, 116.360286),\n",
       "             '育新站': (40.060039, 116.347328),\n",
       "             '西小口站': (40.046873, 116.351644),\n",
       "             '永泰庄站': (40.037728, 116.35458),\n",
       "             '林萃桥站': (40.021906, 116.372998),\n",
       "             '森林公园南门站': (40.010122, 116.3926),\n",
       "             '奥林匹克公园站': (40.002207, 116.391758),\n",
       "             '奥体中心站': (39.985837, 116.393759),\n",
       "             '北土城站': (39.976953, 116.394193),\n",
       "             '安华桥站': (39.968507, 116.394655),\n",
       "             '安德里北街站': (39.957227, 116.395145),\n",
       "             '什刹海站': (39.937583, 116.396219),\n",
       "             '中国美术馆(在建)站': (39.925274, 116.410835),\n",
       "             '王府井北(在建)站': (39.915281, 116.411057),\n",
       "             '天桥(在建)站': (39.882514, 116.399042),\n",
       "             '永定门外站': (39.867435, 116.399369),\n",
       "             '木樨园北(在建)站': (39.859411, 116.4),\n",
       "             '木樨园南(在建)站': (39.851821, 116.400301),\n",
       "             '大红门桥(在建)站': (39.836311, 116.40107),\n",
       "             '和义(在建)站': (39.814412, 116.402247),\n",
       "             '西洼地(在建)站': (39.805258, 116.408468),\n",
       "             '六营门(在建)站': (39.800395, 116.418643),\n",
       "             '五福堂(在建)站': (39.785538, 116.423041),\n",
       "             '白堆子站': (39.923818, 116.325762),\n",
       "             '六里桥东站': (39.886886, 116.315142),\n",
       "             '六里桥站': (39.880239, 116.302808),\n",
       "             '七里庄站': (39.866773, 116.294292),\n",
       "             '丰台东大街站': (39.855111, 116.293857),\n",
       "             '丰台南路站': (39.840444, 116.296748),\n",
       "             '科怡路站': (39.83248, 116.297432),\n",
       "             '丰台科技园站': (39.825233, 116.297176),\n",
       "             '郭公庄站': (39.814322, 116.301889),\n",
       "             '车道沟站': (39.947923, 116.293818),\n",
       "             '长春桥站': (39.958527, 116.294255),\n",
       "             '火器营站': (39.965938, 116.289058),\n",
       "             '巴沟站': (39.974179, 116.293727),\n",
       "             '苏州街站': (39.975642, 116.306332),\n",
       "             '知春里站': (39.976334, 116.328709),\n",
       "             '知春路站': (39.976476, 116.33996),\n",
       "             '西土城站': (39.976549, 116.354098),\n",
       "             '牡丹园站': (39.976603, 116.369844),\n",
       "             '健德门站': (39.976723, 116.381353),\n",
       "             '安贞门站': (39.977005, 116.405954),\n",
       "             '芍药居站': (39.977636, 116.435914),\n",
       "             '太阳宫站': (39.972678, 116.447469),\n",
       "             '三元桥站': (39.961508, 116.456997),\n",
       "             '亮马桥站': (39.949415, 116.461794),\n",
       "             '农业展览馆站': (39.941344, 116.461724),\n",
       "             '团结湖站': (39.933747, 116.461806),\n",
       "             '金台夕照站': (39.916838, 116.461743),\n",
       "             '双井站': (39.893479, 116.460627),\n",
       "             '劲松站': (39.884387, 116.461325),\n",
       "             '潘家园站': (39.875387, 116.460926),\n",
       "             '十里河站': (39.866417, 116.457983),\n",
       "             '分钟寺站': (39.852227, 116.453976),\n",
       "             '成寿寺站': (39.845874, 116.447531),\n",
       "             '石榴庄站': (39.845905, 116.414103),\n",
       "             '大红门站': (39.845383, 116.399154),\n",
       "             '角门东站': (39.845135, 116.385649),\n",
       "             '草桥站': (39.845869, 116.351387),\n",
       "             '纪家庙站': (39.844433, 116.333381),\n",
       "             '首经贸站': (39.844463, 116.320202),\n",
       "             '丰台站站': (39.849639, 116.30454),\n",
       "             '泥洼站': (39.858609, 116.304173),\n",
       "             '西局站': (39.86677, 116.303819),\n",
       "             '莲花桥站': (39.897867, 116.310347),\n",
       "             '西钓鱼台站': (39.923481, 116.298064),\n",
       "             '大钟寺站': (39.966612, 116.345139),\n",
       "             '五道口站': (39.992894, 116.337742),\n",
       "             '上地站': (40.033007, 116.320193),\n",
       "             '西二旗站': (40.053034, 116.306295),\n",
       "             '龙泽站': (40.070882, 116.319429),\n",
       "             '回龙观站': (40.0708, 116.336116),\n",
       "             '北苑站': (40.042997, 116.434518),\n",
       "             '望京西站': (39.995724, 116.449884),\n",
       "             '光熙门站': (39.968337, 116.431761),\n",
       "             '柳芳站': (39.958157, 116.432728),\n",
       "             '方庄站': (39.865868, 116.440244),\n",
       "             '景泰站': (39.865255, 116.411027),\n",
       "             '南八里庄(在建)站': (39.865012, 116.379008),\n",
       "             '北工大西门站': (39.875445, 116.477319),\n",
       "             '平乐园(在建)站': (39.885275, 116.477307),\n",
       "             '红庙(在建)站': (39.915605, 116.478064),\n",
       "             '朝阳公园站': (39.933492, 116.478291),\n",
       "             '枣营站': (39.944132, 116.474947),\n",
       "             '东风北桥站': (39.958375, 116.485919),\n",
       "             '将台站': (39.971109, 116.489496),\n",
       "             '高家园(在建)站': (39.980572, 116.488543),\n",
       "             '望京南站': (39.984634, 116.481634),\n",
       "             '阜通站': (39.991699, 116.47174),\n",
       "             '望京站': (39.998521, 116.469409),\n",
       "             '东湖渠站': (40.01067, 116.467412),\n",
       "             '来广营站': (40.020588, 116.466994),\n",
       "             '善各庄站': (40.02716, 116.478195),\n",
       "             '张郭庄站': (39.8581, 116.187193),\n",
       "             '园博园站': (39.861328, 116.201643),\n",
       "             '大井站': (39.865226, 116.276061),\n",
       "             '郭庄子站': (39.864841, 116.253068),\n",
       "             '大瓦窑站': (39.85947, 116.24048),\n",
       "             '望京东站': (40.0032, 116.487105),\n",
       "             '俸伯站': (40.132573, 116.684732),\n",
       "             '顺义站': (40.129994, 116.657023),\n",
       "             '石门站': (40.129802, 116.641117),\n",
       "             '南法信站': (40.128478, 116.609535),\n",
       "             '后沙峪站': (40.114127, 116.564211),\n",
       "             '花梨坎站': (40.084436, 116.557593),\n",
       "             '国展站': (40.07003, 116.555127),\n",
       "             '孙河站': (40.045113, 116.5347),\n",
       "             '马泉营站': (40.033721, 116.50348),\n",
       "             '崔各庄站': (40.022201, 116.492968),\n",
       "             '关庄站': (40.001134, 116.430947),\n",
       "             '安立路站': (40.002619, 116.407845),\n",
       "             '北沙滩站': (40.001492, 116.368143),\n",
       "             '六道口站': (40.000958, 116.35267),\n",
       "             '清华东路西口站': (40.000673, 116.33953),\n",
       "             '北安河站': (40.068128, 116.130428),\n",
       "             '温阳路站': (40.068516, 116.161361),\n",
       "             '稻香湖路站': (40.068936, 116.188145),\n",
       "             '屯佃站': (40.068454, 116.21585),\n",
       "             '永丰站': (40.071868, 116.238481),\n",
       "             '永丰南站': (40.065575, 116.248154),\n",
       "             '西北旺站': (40.048703, 116.257923),\n",
       "             '马连洼站': (40.032637, 116.27252),\n",
       "             '农大南路站': (40.021398, 116.282272),\n",
       "             '高碑店站': (39.909448, 116.531421),\n",
       "             '传媒大学站': (39.909215, 116.554639),\n",
       "             '双桥站': (39.910139, 116.576709),\n",
       "             '管庄站': (39.90909, 116.599002),\n",
       "             '八里桥站': (39.906121, 116.618658),\n",
       "             '通州北苑站': (39.903864, 116.637252),\n",
       "             '果园站': (39.893393, 116.646606),\n",
       "             '九棵树站': (39.890278, 116.657533),\n",
       "             '梨园站': (39.883677, 116.66872),\n",
       "             '临河里站': (39.875496, 116.678811),\n",
       "             '土桥站': (39.871926, 116.686349),\n",
       "             '肖村站': (39.834217, 116.448364),\n",
       "             '小红门站': (39.827951, 116.459226),\n",
       "             '旧宫站': (39.80691, 116.460789),\n",
       "             '亦庄桥站': (39.803011, 116.480307),\n",
       "             '亦庄文化园站': (39.80689, 116.490632),\n",
       "             '万源街站': (39.802971, 116.505403),\n",
       "             '荣京东街站': (39.793189, 116.513321),\n",
       "             '荣昌东街站': (39.782832, 116.521688),\n",
       "             '同济南路站': (39.772962, 116.539901),\n",
       "             '经海路站': (39.783673, 116.562321),\n",
       "             '次渠南站': (39.795118, 116.581357),\n",
       "             '次渠站': (39.8035, 116.591502),\n",
       "             '亦庄火车站(在建)站': (39.813215, 116.602475),\n",
       "             '生命科学园站': (40.09479, 116.29423),\n",
       "             '巩华城站': (40.1309, 116.293979),\n",
       "             '沙河站': (40.148278, 116.288865),\n",
       "             '沙河高教园站': (40.164666, 116.280465),\n",
       "             '南邵站': (40.207492, 116.287534),\n",
       "             '北邵洼站': (40.222001, 116.281949),\n",
       "             '昌平东关站': (40.221726, 116.262059),\n",
       "             '昌平站': (40.22055, 116.23359),\n",
       "             '十三陵景区站': (40.240255, 116.207729),\n",
       "             '昌平西山口站': (40.244624, 116.195371),\n",
       "             '阎村东站': (39.729028, 116.100817),\n",
       "             '苏庄站': (39.723188, 116.125306),\n",
       "             '良乡南关站': (39.723202, 116.140804),\n",
       "             '良乡大学城西站': (39.723157, 116.156282),\n",
       "             '良乡大学城站': (39.723159, 116.176541),\n",
       "             '良乡大学城北站': (39.729906, 116.18348),\n",
       "             '广阳城站': (39.74793, 116.184985),\n",
       "             '篱笆房站': (39.760636, 116.189486),\n",
       "             '长阳站': (39.763871, 116.212692),\n",
       "             '稻田站': (39.794885, 116.21884),\n",
       "             '大葆台站': (39.80781, 116.291681),\n",
       "             'T3航站楼站': (40.052544, 116.615579),\n",
       "             'T2航站楼站': (40.079311, 116.592808),\n",
       "             '紫草坞站': (39.724606, 116.08672),\n",
       "             '阎村站': (39.716731, 116.080165),\n",
       "             '大石河东站': (39.709893, 116.039906),\n",
       "             '星城站': (39.713681, 116.06137),\n",
       "             '马各庄站': (39.705103, 116.016606),\n",
       "             '饶乐府站': (39.701471, 116.006103),\n",
       "             '房山城关站': (39.706061, 115.989599),\n",
       "             '燕山站': (39.719615, 115.973395),\n",
       "             '桥户营站': (39.912383, 116.125809),\n",
       "             '上岸站': (39.905138, 116.122225),\n",
       "             '栗园庄站': (39.89578, 116.123254),\n",
       "             '小园站': (39.890465, 116.114443),\n",
       "             '石厂站': (39.889378, 116.100334),\n",
       "             '金安桥站': (39.92362, 116.163167),\n",
       "             '四道桥站': (39.91603, 116.13401),\n",
       "             '万安站': (39.984001, 116.231977),\n",
       "             '茶棚站': (39.982113, 116.2481),\n",
       "             '植物园站': (39.993582, 116.214853),\n",
       "             '香山站': (39.994056, 116.204491),\n",
       "             '颐和园西门站': (39.985697, 116.263248)})"
      ]
     },
     "execution_count": 133,
     "metadata": {},
     "output_type": "execute_result"
    }
   ],
   "source": [
    "station_coordinate_location"
   ]
  },
  {
   "cell_type": "code",
   "execution_count": 116,
   "metadata": {},
   "outputs": [
    {
     "ename": "NameError",
     "evalue": "name 'station_coordinate_loc' is not defined",
     "output_type": "error",
     "traceback": [
      "\u001b[1;31m---------------------------------------------------------------------------\u001b[0m",
      "\u001b[1;31mNameError\u001b[0m                                 Traceback (most recent call last)",
      "\u001b[1;32m<ipython-input-116-b9938ec05778>\u001b[0m in \u001b[0;36m<module>\u001b[1;34m\u001b[0m\n\u001b[1;32m----> 1\u001b[1;33m \u001b[0mstation_coordinate_loc\u001b[0m\u001b[1;33m\u001b[0m\u001b[1;33m\u001b[0m\u001b[0m\n\u001b[0m",
      "\u001b[1;31mNameError\u001b[0m: name 'station_coordinate_loc' is not defined"
     ]
    }
   ],
   "source": [
    "station_coordinate_loc"
   ]
  },
  {
   "cell_type": "code",
   "execution_count": 134,
   "metadata": {},
   "outputs": [],
   "source": [
    "station_location2 = nx.Graph()\n",
    "station_location2.add_nodes_from(station_coordinate_location.keys())"
   ]
  },
  {
   "cell_type": "code",
   "execution_count": 137,
   "metadata": {},
   "outputs": [
    {
     "data": {
      "image/png": "[encoded data removed]",
      "text/plain": [
       "<Figure size 432x288 with 1 Axes>"
      ]
     },
     "metadata": {},
     "output_type": "display_data"
    }
   ],
   "source": [
    "nx.draw(station_location2, station_coordinate_location, with_labels=False, node_size=30 )"
   ]
  },
  {
   "cell_type": "code",
   "execution_count": 1,
   "metadata": {},
   "outputs": [
    {
     "name": "stderr",
     "output_type": "stream",
     "text": [
      "C:\\Users\\WDMWDL\\Anaconda3\\lib\\site-packages\\bs4\\element.py:16: UserWarning: The soupsieve package is not installed. CSS selectors cannot be used.\n",
      "  'The soupsieve package is not installed. CSS selectors cannot be used.'\n"
     ]
    }
   ],
   "source": [
    "import re\n",
    "import requests\n",
    "import networkx as nx\n",
    "from bs4 import BeautifulSoup\n",
    "from collections import defaultdict"
   ]
  },
  {
   "cell_type": "code",
   "execution_count": 56,
   "metadata": {},
   "outputs": [
    {
     "name": "stdout",
     "output_type": "stream",
     "text": [
      "北京地铁9号线车站列表\n",
      "车站名称\n",
      "\n",
      "1\n",
      "[<tr><th align=\"center\" height=\"0\" valign=\"middle\" width=\"72\"><div class=\"para\" label-module=\"para\">车站名称</div>\n",
      "</th><th align=\"center\" height=\"0\" valign=\"middle\" width=\"56\">所属区段</th><th align=\"center\" height=\"0\" valign=\"middle\" width=\"90\">开通日期</th><th width=\"95\">站厅形式</th><th width=\"46\">站台形式</th><th align=\"center\" height=\"0\" valign=\"middle\" width=\"134\"><div class=\"para\" label-module=\"para\">可换乘线路</div>\n",
      "</th><th align=\"center\" height=\"0\" valign=\"middle\" width=\"50\"><div class=\"para\" label-module=\"para\">所在区</div>\n",
      "</th></tr>, <tr><td align=\"center\" class=\"coloredcell\" height=\"27\" valign=\"middle\" width=\"72\"><div class=\"para\" label-module=\"para\"><a href=\"/item/%E9%83%AD%E5%85%AC%E5%BA%84%E7%AB%99\" target=\"_blank\">郭公庄站</a></div>\n",
      "</td><td align=\"center\" colspan=\"1\" height=\"0\" rowspan=\"9\" valign=\"middle\" width=\"52\">南段</td><td align=\"center\" colspan=\"1\" height=\"0\" rowspan=\"4\" valign=\"middle\" width=\"90\">2011年12月31日</td><td align=\"center\" valign=\"middle\" width=\"95\"><div class=\"para\" label-module=\"para\">整体式站厅</div>\n",
      "<div class=\"para\" label-module=\"para\">（与房山线共用）</div>\n",
      "</td><td align=\"center\" valign=\"middle\" width=\"59\"><div class=\"para\" label-module=\"para\">双岛式站台</div>\n",
      "</td><td align=\"center\" height=\"27\" valign=\"middle\" width=\"130\"><div class=\"para\" label-module=\"para\"><a href=\"/item/%E5%8C%97%E4%BA%AC%E5%9C%B0%E9%93%81%E6%88%BF%E5%B1%B1%E7%BA%BF\" target=\"_blank\">北京地铁房山线</a></div>\n",
      "</td><td align=\"center\" height=\"0\" rowspan=\"9\" valign=\"middle\" width=\"50\"><div class=\"para\" label-module=\"para\"><a href=\"/item/%E4%B8%B0%E5%8F%B0%E5%8C%BA\" target=\"_blank\">丰台区</a></div>\n",
      "</td></tr>, <tr><td align=\"center\" class=\"coloredcell\" height=\"27\" valign=\"middle\" width=\"72\"><div class=\"para\" label-module=\"para\"><a href=\"/item/%E4%B8%B0%E5%8F%B0%E7%A7%91%E6%8A%80%E5%9B%AD%E7%AB%99\" target=\"_blank\">丰台科技园站</a></div>\n",
      "</td><td align=\"center\" colspan=\"1\" rowspan=\"5\" valign=\"middle\" width=\"123\">整体式站厅</td><td align=\"center\" colspan=\"1\" rowspan=\"5\" valign=\"middle\" width=\"57\"><div class=\"para\" label-module=\"para\"><a href=\"/item/%E5%B2%9B%E5%BC%8F%E7%AB%99%E5%8F%B0\" target=\"_blank\">岛式站台</a></div>\n",
      "</td><td align=\"center\" height=\"0\" rowspan=\"2\" valign=\"middle\" width=\"118\"><div class=\"para\" label-module=\"para\">无</div>\n",
      "</td></tr>, <tr><td align=\"center\" class=\"coloredcell\" height=\"27\" valign=\"middle\" width=\"72\"><div class=\"para\" label-module=\"para\"><a href=\"/item/%E7%A7%91%E6%80%A1%E8%B7%AF%E7%AB%99\" target=\"_blank\">科怡路站</a></div>\n",
      "</td></tr>, <tr><td align=\"center\" class=\"coloredcell\" height=\"27\" valign=\"middle\" width=\"72\"><div class=\"para\" label-module=\"para\"><a href=\"/item/%E4%B8%B0%E5%8F%B0%E5%8D%97%E8%B7%AF%E7%AB%99\" target=\"_blank\">丰台南路站</a></div>\n",
      "</td><td align=\"center\" height=\"27\" valign=\"middle\" width=\"56\"><div class=\"para\" label-module=\"para\"><a href=\"/item/%E5%8C%97%E4%BA%AC%E5%9C%B0%E9%93%8116%E5%8F%B7%E7%BA%BF\" target=\"_blank\"><i>北京地铁16号线</i></a><i>（2019）</i></div>\n",
      "</td></tr>, <tr><td align=\"center\" class=\"coloredcell\" height=\"27\" valign=\"middle\" width=\"72\"><div class=\"para\" label-module=\"para\"><a href=\"/item/%E4%B8%B0%E5%8F%B0%E4%B8%9C%E5%A4%A7%E8%A1%97%E7%AB%99\" target=\"_blank\">丰台东大街站</a></div>\n",
      "</td><td align=\"center\" colspan=\"1\" height=\"27\" valign=\"middle\" width=\"56\">2012年10月12日</td><td align=\"center\" height=\"27\" valign=\"middle\" width=\"120\"><div class=\"para\" label-module=\"para\">无</div>\n",
      "</td></tr>, <tr><td align=\"center\" class=\"coloredcell\" height=\"27\" valign=\"middle\" width=\"72\"><div class=\"para\" label-module=\"para\"><a href=\"/item/%E4%B8%83%E9%87%8C%E5%BA%84%E7%AB%99\" target=\"_blank\">七里庄站</a></div>\n",
      "</td><td align=\"center\" colspan=\"1\" height=\"0\" rowspan=\"4\" valign=\"middle\" width=\"110\">2011年12月31日</td><td align=\"center\" height=\"27\" valign=\"middle\" width=\"120\"><div class=\"para\" label-module=\"para\"><a href=\"/item/%E5%8C%97%E4%BA%AC%E5%9C%B0%E9%93%8114%E5%8F%B7%E7%BA%BF\" target=\"_blank\">北京地铁14号线</a></div>\n",
      "</td></tr>, <tr><td align=\"center\" class=\"coloredcell\" height=\"27\" valign=\"middle\" width=\"72\"><div class=\"para\" label-module=\"para\"><a href=\"/item/%E5%85%AD%E9%87%8C%E6%A1%A5%E7%AB%99\" target=\"_blank\">六里桥站</a></div>\n",
      "</td><td align=\"center\" valign=\"middle\" width=\"56\"><div class=\"para\" label-module=\"para\">整体式站厅</div>\n",
      "<div class=\"para\" label-module=\"para\">（与10号线共用）</div>\n",
      "</td><td align=\"center\" valign=\"middle\" width=\"57\"><div class=\"para\" label-module=\"para\"><a href=\"/item/%E4%BE%A7%E5%BC%8F%E7%AB%99%E5%8F%B0\" target=\"_blank\">侧式站台</a></div>\n",
      "</td><td align=\"center\" height=\"27\" valign=\"middle\" width=\"118\"><div class=\"para\" label-module=\"para\"><a href=\"/item/%E5%8C%97%E4%BA%AC%E5%9C%B0%E9%93%8110%E5%8F%B7%E7%BA%BF\" target=\"_blank\">北京地铁10号线</a></div>\n",
      "</td></tr>, <tr><td align=\"center\" class=\"coloredcell\" height=\"27\" valign=\"middle\" width=\"72\"><div class=\"para\" label-module=\"para\"><a href=\"/item/%E5%85%AD%E9%87%8C%E6%A1%A5%E4%B8%9C%E7%AB%99\" target=\"_blank\">六里桥东站</a></div>\n",
      "</td><td align=\"center\" valign=\"middle\" width=\"56\">整体式站厅</td><td align=\"center\" valign=\"middle\" width=\"57\"><div class=\"para\" label-module=\"para\">岛式站台</div>\n",
      "</td><td align=\"center\" height=\"27\" valign=\"middle\" width=\"118\"><div class=\"para\" label-module=\"para\">无</div>\n",
      "</td></tr>, <tr><td align=\"center\" class=\"coloredcell\" height=\"27\" valign=\"middle\" width=\"72\"><div class=\"para\" label-module=\"para\"><a data-lemmaid=\"17646705\" href=\"/item/%E5%8C%97%E4%BA%AC%E8%A5%BF%E7%AB%99/17646705\" target=\"_blank\">北京西站</a></div>\n",
      "</td><td align=\"center\" valign=\"middle\" width=\"56\"><div class=\"para\" label-module=\"para\">整体式站厅</div>\n",
      "<div class=\"para\" label-module=\"para\">（与7号线共用）</div>\n",
      "</td><td align=\"center\" valign=\"middle\" width=\"57\"><div class=\"para\" label-module=\"para\">双岛式站台</div>\n",
      "</td><td align=\"center\" height=\"27\" valign=\"middle\" width=\"118\"><div class=\"para\" label-module=\"para\"><a href=\"/item/%E5%8C%97%E4%BA%AC%E5%9C%B0%E9%93%817%E5%8F%B7%E7%BA%BF\" target=\"_blank\">北京地铁7号线</a></div>\n",
      "<div class=\"para\" label-module=\"para\">（出站换乘：国铁）</div>\n",
      "</td></tr>, <tr><td align=\"center\" class=\"coloredcell\" height=\"27\" valign=\"middle\" width=\"72\"><div class=\"para\" label-module=\"para\"><a href=\"/item/%E5%86%9B%E4%BA%8B%E5%8D%9A%E7%89%A9%E9%A6%86%E7%AB%99\" target=\"_blank\">军事博物馆站</a></div>\n",
      "</td><td align=\"center\" colspan=\"1\" height=\"0\" rowspan=\"4\" valign=\"middle\" width=\"56\">北段</td><td align=\"center\" height=\"27\" valign=\"middle\" width=\"90\">2013年12月21日</td><td align=\"center\" valign=\"middle\" width=\"95\">分离式站厅</td><td align=\"center\" colspan=\"1\" rowspan=\"3\" valign=\"middle\" width=\"46\">岛式站台</td><td align=\"center\" height=\"27\" valign=\"middle\" width=\"137\"><div class=\"para\" label-module=\"para\"><a href=\"/item/%E5%8C%97%E4%BA%AC%E5%9C%B0%E9%93%811%E5%8F%B7%E7%BA%BF\" target=\"_blank\">北京地铁1号线</a></div>\n",
      "</td><td align=\"center\" colspan=\"1\" height=\"0\" rowspan=\"4\" valign=\"middle\" width=\"50\"><div class=\"para\" label-module=\"para\"><a href=\"/item/%E6%B5%B7%E6%B7%80%E5%8C%BA\" target=\"_blank\">海淀区</a></div>\n",
      "</td></tr>, <tr><td align=\"center\" class=\"coloredcell\" height=\"27\" valign=\"middle\" width=\"72\"><div class=\"para\" label-module=\"para\"><a href=\"/item/%E7%99%BD%E5%A0%86%E5%AD%90%E7%AB%99\" target=\"_blank\">白堆子站</a></div>\n",
      "</td><td align=\"center\" colspan=\"1\" height=\"0\" rowspan=\"3\" valign=\"middle\" width=\"56\">2012年12月30日</td><td align=\"center\" valign=\"middle\" width=\"102\">整体式站厅</td><td align=\"center\" height=\"27\" valign=\"middle\" width=\"118\"><div class=\"para\" label-module=\"para\"><a href=\"/item/%E5%8C%97%E4%BA%AC%E5%9C%B0%E9%93%813%E5%8F%B7%E7%BA%BF\" target=\"_blank\"><i>北京地铁3号线</i></a><i>（远期）</i></div>\n",
      "</td></tr>, <tr><td align=\"center\" class=\"coloredcell\" height=\"27\" valign=\"middle\" width=\"72\"><div class=\"para\" label-module=\"para\"><a href=\"/item/%E7%99%BD%E7%9F%B3%E6%A1%A5%E5%8D%97%E7%AB%99\" target=\"_blank\">白石桥南站</a></div>\n",
      "</td><td align=\"center\" valign=\"middle\" width=\"56\"><div class=\"para\" label-module=\"para\">整体式站厅（与6号线共用）</div>\n",
      "</td><td align=\"center\" height=\"27\" valign=\"middle\" width=\"120\"><div class=\"para\" label-module=\"para\"><a href=\"/item/%E5%8C%97%E4%BA%AC%E5%9C%B0%E9%93%816%E5%8F%B7%E7%BA%BF\" target=\"_blank\">北京地铁6号线</a></div>\n",
      "</td></tr>, <tr><td align=\"center\" class=\"coloredcell\" height=\"27\" valign=\"middle\" width=\"72\"><div class=\"para\" label-module=\"para\"><a href=\"/item/%E5%9B%BD%E5%AE%B6%E5%9B%BE%E4%B9%A6%E9%A6%86%E7%AB%99\" target=\"_blank\">国家图书馆站</a></div>\n",
      "</td><td align=\"center\" valign=\"middle\" width=\"56\"><div class=\"para\" label-module=\"para\">整体式站厅</div>\n",
      "<div class=\"para\" label-module=\"para\">（与4号线共用）</div>\n",
      "</td><td align=\"center\" valign=\"middle\" width=\"57\"><div class=\"para\" label-module=\"para\">双岛式站台</div>\n",
      "</td><td align=\"center\" height=\"27\" valign=\"middle\" width=\"118\"><div class=\"para\" label-module=\"para\"><a href=\"/item/%E5%8C%97%E4%BA%AC%E5%9C%B0%E9%93%814%E5%8F%B7%E7%BA%BF\" target=\"_blank\">北京地铁4号线</a></div>\n",
      "<div class=\"para\" label-module=\"para\"><a href=\"/item/%E5%8C%97%E4%BA%AC%E5%9C%B0%E9%93%8116%E5%8F%B7%E7%BA%BF\" target=\"_blank\"><i>北京地铁16号线</i></a><i>（2019）</i></div>\n",
      "</td></tr>, <tr><td align=\"right\" class=\"coloredcell\" colspan=\"7\" rowspan=\"1\" valign=\"middle\">截至2019年5月<sup class=\"sup--normal\" data-ctrmap=\":12,:13,:14,:15,:16,:17,:18,:19,:20,:21,:22,:23,:24,\" data-sup=\"12-24\">\n",
      "[12-24]</sup><a class=\"sup-anchor\" name=\"ref_[12-24]_393486\"> </a>\n",
      "<i><sup class=\"sup--normal\" data-ctrmap=\":25,\" data-sup=\"25\">\n",
      "[25]</sup><a class=\"sup-anchor\" name=\"ref_[25]_393486\"> </a>\n",
      "<i><sup class=\"sup--normal\" data-ctrmap=\":26,\" data-sup=\"26\">\n",
      "[26]</sup><a class=\"sup-anchor\" name=\"ref_[26]_393486\"> </a>\n",
      "<i><sup class=\"sup--normal\" data-ctrmap=\":25,\" data-sup=\"25\">\n",
      "[25]</sup><a class=\"sup-anchor\" name=\"ref_[25]_393486\"> </a>\n",
      "</i></i></i></td></tr>]\n"
     ]
    },
    {
     "ename": "IndexError",
     "evalue": "list index out of range",
     "output_type": "error",
     "traceback": [
      "\u001b[1;31m---------------------------------------------------------------------------\u001b[0m",
      "\u001b[1;31mIndexError\u001b[0m                                Traceback (most recent call last)",
      "\u001b[1;32m<ipython-input-56-e3c1b8f5b507>\u001b[0m in \u001b[0;36m<module>\u001b[1;34m\u001b[0m\n\u001b[0;32m     29\u001b[0m \u001b[0mnext_siblings\u001b[0m \u001b[1;33m=\u001b[0m \u001b[0mfind_station_list\u001b[0m\u001b[1;33m.\u001b[0m\u001b[0mnext_sibling\u001b[0m\u001b[1;33m.\u001b[0m\u001b[0mfind_all\u001b[0m\u001b[1;33m(\u001b[0m\u001b[1;34m\"tr\"\u001b[0m\u001b[1;33m)\u001b[0m\u001b[1;33m\u001b[0m\u001b[1;33m\u001b[0m\u001b[0m\n\u001b[0;32m     30\u001b[0m \u001b[0mprint\u001b[0m\u001b[1;33m(\u001b[0m\u001b[0mfind_station_list\u001b[0m\u001b[1;33m.\u001b[0m\u001b[0mtext\u001b[0m\u001b[1;33m)\u001b[0m\u001b[1;33m\u001b[0m\u001b[1;33m\u001b[0m\u001b[0m\n\u001b[1;32m---> 31\u001b[1;33m \u001b[0mtrain_station\u001b[0m\u001b[1;33m[\u001b[0m\u001b[0mfind_station_list\u001b[0m\u001b[1;33m.\u001b[0m\u001b[0mtext\u001b[0m\u001b[1;33m]\u001b[0m \u001b[1;33m=\u001b[0m \u001b[0mgetStations\u001b[0m\u001b[1;33m(\u001b[0m\u001b[0mnext_siblings\u001b[0m\u001b[1;33m)\u001b[0m\u001b[1;33m\u001b[0m\u001b[1;33m\u001b[0m\u001b[0m\n\u001b[0m\u001b[0;32m     32\u001b[0m \u001b[0mtrain_staion_location\u001b[0m \u001b[1;33m+=\u001b[0m \u001b[0mstation_lists\u001b[0m\u001b[1;33m\u001b[0m\u001b[1;33m\u001b[0m\u001b[0m\n",
      "\u001b[1;32m<ipython-input-55-72ca483f8861>\u001b[0m in \u001b[0;36mgetStations\u001b[1;34m(trs)\u001b[0m\n\u001b[0;32m     12\u001b[0m     \u001b[0mprint\u001b[0m\u001b[1;33m(\u001b[0m\u001b[0mtrs\u001b[0m\u001b[1;33m)\u001b[0m\u001b[1;33m\u001b[0m\u001b[1;33m\u001b[0m\u001b[0m\n\u001b[0;32m     13\u001b[0m     \u001b[1;32mfor\u001b[0m \u001b[0mtr\u001b[0m \u001b[1;32min\u001b[0m \u001b[0mtrs\u001b[0m\u001b[1;33m[\u001b[0m\u001b[1;36m1\u001b[0m\u001b[1;33m:\u001b[0m\u001b[1;33m]\u001b[0m\u001b[1;33m:\u001b[0m\u001b[1;33m\u001b[0m\u001b[1;33m\u001b[0m\u001b[0m\n\u001b[1;32m---> 14\u001b[1;33m         \u001b[0mres\u001b[0m \u001b[1;33m+=\u001b[0m \u001b[1;33m[\u001b[0m\u001b[0mtr\u001b[0m\u001b[1;33m.\u001b[0m\u001b[0mfind_all\u001b[0m\u001b[1;33m(\u001b[0m\u001b[1;34m\"td\"\u001b[0m\u001b[1;33m)\u001b[0m\u001b[1;33m[\u001b[0m\u001b[0mindex\u001b[0m\u001b[1;33m]\u001b[0m\u001b[1;33m.\u001b[0m\u001b[0mtext\u001b[0m\u001b[1;33m.\u001b[0m\u001b[0mstrip\u001b[0m\u001b[1;33m(\u001b[0m\u001b[1;33m)\u001b[0m\u001b[1;33m]\u001b[0m\u001b[1;33m\u001b[0m\u001b[1;33m\u001b[0m\u001b[0m\n\u001b[0m\u001b[0;32m     15\u001b[0m     \u001b[1;32mreturn\u001b[0m \u001b[0mres\u001b[0m\u001b[1;33m\u001b[0m\u001b[1;33m\u001b[0m\u001b[0m\n",
      "\u001b[1;31mIndexError\u001b[0m: list index out of range"
     ]
    }
   ],
   "source": [
    "common_link = \"https://baike.baidu.com\"\n",
    "url = 'https://baike.baidu.com/item/%E5%8C%97%E4%BA%AC%E5%9C%B0%E9%93%81/408485'\n",
    "headers = {\"User-Agent\": \"User-Agent:Mozilla/5.0 (compatible; MSIE 9.0; Windows NT 6.1; Trident/5.0;\"}\n",
    "response = requests.get(url, headers=headers, allow_redirects=False)\n",
    "# response.apparent_encoding  for getting 编码方式\n",
    "response.encoding = \"utf-8\"\n",
    "html = response.text\n",
    "soup = BeautifulSoup(html)\n",
    "caption = soup.find('caption')\n",
    "contents = caption.next_sibling.find_all('a')\n",
    "pattern = re.compile(r'href=\\\"(.*)\\\" ')\n",
    "temp = [''.join(pattern.findall(str(content))) for content in contents]\n",
    "router_links = sorted(list(set(temp)))\n",
    "\n",
    "train_staion_location = []\n",
    "train_station = defaultdict(list)\n",
    "pattern1 = re.compile(r'\\w+站')\n",
    "# for router_link in router_links:\n",
    "respond_link = requests.get(common_link + router_links[22], headers=headers, allow_redirects=False)\n",
    "respond_link.encoding = \"utf-8\"\n",
    "soup1 = BeautifulSoup(respond_link.text)\n",
    "for a in soup1.find_all(\"caption\"):\n",
    "    if re.findall(\"车站列表\", a.text):\n",
    "        find_station_list = a\n",
    "        break\n",
    "    elif re.findall(\"车站信息\", a.text):\n",
    "        find_station_list = a\n",
    "\n",
    "next_siblings = find_station_list.next_sibling.find_all(\"tr\")\n",
    "print(find_station_list.text)\n",
    "train_station[find_station_list.text] = getStations(next_siblings)\n",
    "train_staion_location += station_lists"
   ]
  },
  {
   "cell_type": "code",
   "execution_count": 55,
   "metadata": {},
   "outputs": [],
   "source": [
    "def getStations(trs):\n",
    "    res = []\n",
    "    title = trs[0].find_all('th')\n",
    "    if title[0].text == \"车站名称\":\n",
    "        print(\"test1\")\n",
    "        index = 0\n",
    "    elif title[1].text == \"车站名称\" and len(trs[1].find_all('th')) != 0:\n",
    "        print(\"test2\")\n",
    "        index = 0\n",
    "    else:\n",
    "        print(\"test3\")\n",
    "        index = 1\n",
    "    print(title[0].text)\n",
    "    print(index)\n",
    "    print(trs)\n",
    "    for tr in trs[1:]:\n",
    "        res += [tr.find_all(\"td\")[index].text.strip()]\n",
    "    return res"
   ]
  },
  {
   "cell_type": "code",
   "execution_count": 49,
   "metadata": {},
   "outputs": [
    {
     "data": {
      "text/plain": [
       "defaultdict(list,\n",
       "            {'车站信息\\u3000\\u3000': ['宋家庄站',\n",
       "              '肖村站',\n",
       "              '小红门站',\n",
       "              '旧宫站',\n",
       "              '亦庄桥站',\n",
       "              '亦庄文化园站',\n",
       "              '万源街站',\n",
       "              '荣京东街站',\n",
       "              '荣昌东街站',\n",
       "              '同济南路站',\n",
       "              '经海路站',\n",
       "              '次渠南站',\n",
       "              '次渠站',\n",
       "              '亦庄火车站']})"
      ]
     },
     "execution_count": 49,
     "metadata": {},
     "output_type": "execute_result"
    }
   ],
   "source": [
    "train_station"
   ]
  },
  {
   "cell_type": "code",
   "execution_count": null,
   "metadata": {},
   "outputs": [],
   "source": []
  }
 ],
 "metadata": {
  "kernelspec": {
   "display_name": "Python 3",
   "language": "python",
   "name": "python3"
  },
  "language_info": {
   "codemirror_mode": {
    "name": "ipython",
    "version": 3
   },
   "file_extension": ".py",
   "mimetype": "text/x-python",
   "name": "python",
   "nbconvert_exporter": "python",
   "pygments_lexer": "ipython3",
   "version": "3.7.1"
  }
 },
 "nbformat": 4,
 "nbformat_minor": 2
}
