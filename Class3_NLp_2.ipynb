{
 "cells": [
  {
   "cell_type": "code",
   "execution_count": 13,
   "metadata": {},
   "outputs": [],
   "source": [
    "from flask import Flask\n",
    "from flask import request\n",
    "app = Flask(__name__)"
   ]
  },
  {
   "cell_type": "code",
   "execution_count": 14,
   "metadata": {},
   "outputs": [
    {
     "name": "stdout",
     "output_type": "stream",
     "text": [
      " * Serving Flask app \"__main__\" (lazy loading)\n",
      " * Environment: production\n",
      "   WARNING: Do not use the development server in a production environment.\n",
      "   Use a production WSGI server instead.\n",
      " * Debug mode: off\n"
     ]
    },
    {
     "name": "stderr",
     "output_type": "stream",
     "text": [
      " * Running on http://127.0.0.1:5000/ (Press CTRL+C to quit)\n",
      "127.0.0.1 - - [17/Jul/2019 17:06:35] \"GET / HTTP/1.1\" 200 -\n",
      "127.0.0.1 - - [17/Jul/2019 17:06:44] \"GET /signin HTTP/1.1\" 200 -\n",
      "127.0.0.1 - - [17/Jul/2019 17:06:52] \"POST /signin HTTP/1.1\" 200 -\n",
      "127.0.0.1 - - [17/Jul/2019 17:06:58] \"GET /signin HTTP/1.1\" 200 -\n",
      "127.0.0.1 - - [17/Jul/2019 17:07:05] \"POST /signin HTTP/1.1\" 200 -\n",
      "127.0.0.1 - - [17/Jul/2019 17:07:13] \"GET /signin HTTP/1.1\" 200 -\n",
      "127.0.0.1 - - [17/Jul/2019 17:07:20] \"POST /signin HTTP/1.1\" 200 -\n",
      "127.0.0.1 - - [17/Jul/2019 17:53:32] \"GET / HTTP/1.1\" 200 -\n"
     ]
    }
   ],
   "source": [
    "@app.route('/', methods=['GET', 'POST'])\n",
    "def home():\n",
    "    return '<h1>home</h1>'\n",
    "\n",
    "@app.route('/signin', methods=['GET'])\n",
    "def signin_form():\n",
    "    return '''<form action=\"/signin\" method=\"post\">\n",
    "              <p><input name=\"username\"></p>\n",
    "              <p><input name=\"password\" type=\"password\"></p>\n",
    "              <p><button type=\"submit\">Sign In</button></p>\n",
    "              </form>'''\n",
    "\n",
    "@app.route('/signin', methods=['POST'])\n",
    "def signin():\n",
    "    # 需要从request对象读取表单内容：\n",
    "    if request.form['username']=='admin' and request.form['password']=='password':\n",
    "        return '<h3>Hello, admin!</h3>'\n",
    "    return '<h3>Bad username or password.</h3>'\n",
    "\n",
    "if __name__ == '__main__':\n",
    "    app.run()"
   ]
  },
  {
   "cell_type": "code",
   "execution_count": null,
   "metadata": {},
   "outputs": [],
   "source": []
  }
 ],
 "metadata": {
  "kernelspec": {
   "display_name": "Python 3",
   "language": "python",
   "name": "python3"
  },
  "language_info": {
   "codemirror_mode": {
    "name": "ipython",
    "version": 3
   },
   "file_extension": ".py",
   "mimetype": "text/x-python",
   "name": "python",
   "nbconvert_exporter": "python",
   "pygments_lexer": "ipython3",
   "version": "3.7.1"
  }
 },
 "nbformat": 4,
 "nbformat_minor": 2
}
