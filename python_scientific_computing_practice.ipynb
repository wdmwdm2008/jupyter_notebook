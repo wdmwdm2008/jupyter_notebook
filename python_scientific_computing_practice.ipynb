{
 "cells": [
  {
   "cell_type": "code",
   "execution_count": 1,
   "metadata": {},
   "outputs": [],
   "source": [
    "import numpy as np"
   ]
  },
  {
   "cell_type": "code",
   "execution_count": 17,
   "metadata": {},
   "outputs": [],
   "source": [
    "np.ndarray?"
   ]
  },
  {
   "cell_type": "code",
   "execution_count": 4,
   "metadata": {},
   "outputs": [],
   "source": [
    "np.array?"
   ]
  },
  {
   "cell_type": "code",
   "execution_count": 19,
   "metadata": {},
   "outputs": [],
   "source": [
    "do = np.array([[1,2],[3,4],[5,6]])"
   ]
  },
  {
   "cell_type": "code",
   "execution_count": 20,
   "metadata": {},
   "outputs": [
    {
     "data": {
      "text/plain": [
       "array([[1, 2],\n",
       "       [3, 4],\n",
       "       [5, 6]])"
      ]
     },
     "execution_count": 20,
     "metadata": {},
     "output_type": "execute_result"
    }
   ],
   "source": [
    "do"
   ]
  },
  {
   "cell_type": "code",
   "execution_count": 26,
   "metadata": {},
   "outputs": [
    {
     "data": {
      "text/plain": [
       "(numpy.ndarray, (3, 2), 6, 2, dtype('int32'), 24)"
      ]
     },
     "execution_count": 26,
     "metadata": {},
     "output_type": "execute_result"
    }
   ],
   "source": [
    "type(do), do.shape, do.size, do.ndim, do.dtype, do.nbytes"
   ]
  },
  {
   "cell_type": "code",
   "execution_count": 31,
   "metadata": {},
   "outputs": [],
   "source": [
    "ao = np.arange(10000)"
   ]
  },
  {
   "cell_type": "code",
   "execution_count": 29,
   "metadata": {},
   "outputs": [],
   "source": [
    "np.linspace?"
   ]
  },
  {
   "cell_type": "code",
   "execution_count": 32,
   "metadata": {},
   "outputs": [
    {
     "name": "stdout",
     "output_type": "stream",
     "text": [
      "14.4 ms ± 2.4 ms per loop (mean ± std. dev. of 7 runs, 100 loops each)\n"
     ]
    }
   ],
   "source": [
    "time0 = %timeit -o [a1 **2 for a1 in ao]"
   ]
  },
  {
   "cell_type": "code",
   "execution_count": 35,
   "metadata": {},
   "outputs": [
    {
     "name": "stdout",
     "output_type": "stream",
     "text": [
      "34.4 µs ± 183 ns per loop (mean ± std. dev. of 7 runs, 10000 loops each)\n"
     ]
    }
   ],
   "source": [
    "time1 = %timeit -o ao**2"
   ]
  },
  {
   "cell_type": "code",
   "execution_count": 36,
   "metadata": {},
   "outputs": [
    {
     "data": {
      "text/plain": [
       "9"
      ]
     },
     "execution_count": 36,
     "metadata": {},
     "output_type": "execute_result"
    }
   ],
   "source": [
    "3**2"
   ]
  },
  {
   "cell_type": "code",
   "execution_count": 37,
   "metadata": {},
   "outputs": [
    {
     "data": {
      "text/plain": [
       "353.2011488753376"
      ]
     },
     "execution_count": 37,
     "metadata": {},
     "output_type": "execute_result"
    }
   ],
   "source": [
    "time0.best/time1.best"
   ]
  },
  {
   "cell_type": "code",
   "execution_count": 38,
   "metadata": {},
   "outputs": [
    {
     "data": {
      "text/plain": [
       "array([[3.47739925e-081, 4.19796317e+175],\n",
       "       [6.59619323e-042, 2.25409854e+184],\n",
       "       [5.49156776e+170, 1.05700260e-307]])"
      ]
     },
     "execution_count": 38,
     "metadata": {},
     "output_type": "execute_result"
    }
   ],
   "source": [
    "np.ndarray((3,2))"
   ]
  },
  {
   "cell_type": "code",
   "execution_count": 40,
   "metadata": {},
   "outputs": [],
   "source": [
    "np.logspace?"
   ]
  },
  {
   "cell_type": "code",
   "execution_count": 45,
   "metadata": {},
   "outputs": [],
   "source": [
    "a = np.array([1,3], dtype=np.int64)"
   ]
  },
  {
   "cell_type": "code",
   "execution_count": 47,
   "metadata": {},
   "outputs": [
    {
     "data": {
      "text/plain": [
       "dtype('int64')"
      ]
     },
     "execution_count": 47,
     "metadata": {},
     "output_type": "execute_result"
    }
   ],
   "source": [
    "a.dtype"
   ]
  },
  {
   "cell_type": "code",
   "execution_count": 50,
   "metadata": {},
   "outputs": [
    {
     "data": {
      "text/plain": [
       "128"
      ]
     },
     "execution_count": 50,
     "metadata": {},
     "output_type": "execute_result"
    }
   ],
   "source": [
    "a.nbytes*8"
   ]
  },
  {
   "cell_type": "code",
   "execution_count": 49,
   "metadata": {},
   "outputs": [
    {
     "data": {
      "text/plain": [
       "array([1, 3], dtype=int64)"
      ]
     },
     "execution_count": 49,
     "metadata": {},
     "output_type": "execute_result"
    }
   ],
   "source": [
    "a"
   ]
  },
  {
   "cell_type": "code",
   "execution_count": 52,
   "metadata": {},
   "outputs": [],
   "source": [
    "a = a + 0.3"
   ]
  },
  {
   "cell_type": "code",
   "execution_count": 54,
   "metadata": {
    "scrolled": false
   },
   "outputs": [
    {
     "data": {
      "text/plain": [
       "(array([1.3, 3.3]), dtype('float64'))"
      ]
     },
     "execution_count": 54,
     "metadata": {},
     "output_type": "execute_result"
    }
   ],
   "source": [
    "a, a.dtype"
   ]
  },
  {
   "cell_type": "code",
   "execution_count": 55,
   "metadata": {},
   "outputs": [],
   "source": [
    "a[0] = 2.5"
   ]
  },
  {
   "cell_type": "code",
   "execution_count": 56,
   "metadata": {},
   "outputs": [
    {
     "data": {
      "text/plain": [
       "array([2.5, 3.3])"
      ]
     },
     "execution_count": 56,
     "metadata": {},
     "output_type": "execute_result"
    }
   ],
   "source": [
    "a"
   ]
  },
  {
   "cell_type": "code",
   "execution_count": 60,
   "metadata": {
    "scrolled": false
   },
   "outputs": [
    {
     "data": {
      "text/plain": [
       "array([0.+1.41421356j, 3.+0.j        ])"
      ]
     },
     "execution_count": 60,
     "metadata": {},
     "output_type": "execute_result"
    }
   ],
   "source": [
    "np.sqrt([-2,9], dtype=np.complex)"
   ]
  },
  {
   "cell_type": "code",
   "execution_count": 63,
   "metadata": {},
   "outputs": [],
   "source": [
    "np.sqrt?"
   ]
  },
  {
   "cell_type": "code",
   "execution_count": 100,
   "metadata": {},
   "outputs": [],
   "source": [
    "a = np.arange(8)"
   ]
  },
  {
   "cell_type": "code",
   "execution_count": 101,
   "metadata": {},
   "outputs": [
    {
     "data": {
      "text/plain": [
       "array([0, 1, 2, 3, 4, 5, 6, 7])"
      ]
     },
     "execution_count": 101,
     "metadata": {},
     "output_type": "execute_result"
    }
   ],
   "source": [
    "a"
   ]
  },
  {
   "cell_type": "code",
   "execution_count": 102,
   "metadata": {},
   "outputs": [],
   "source": [
    "a = a.reshape(2,4)"
   ]
  },
  {
   "cell_type": "code",
   "execution_count": 103,
   "metadata": {},
   "outputs": [
    {
     "data": {
      "text/plain": [
       "array([[0, 1, 2, 3],\n",
       "       [4, 5, 6, 7]])"
      ]
     },
     "execution_count": 103,
     "metadata": {},
     "output_type": "execute_result"
    }
   ],
   "source": [
    "a"
   ]
  },
  {
   "cell_type": "code",
   "execution_count": 104,
   "metadata": {},
   "outputs": [
    {
     "data": {
      "text/plain": [
       "((16, 4), dtype('int32'))"
      ]
     },
     "execution_count": 104,
     "metadata": {},
     "output_type": "execute_result"
    }
   ],
   "source": [
    "a.strides, a.dtype"
   ]
  },
  {
   "cell_type": "code",
   "execution_count": 115,
   "metadata": {},
   "outputs": [],
   "source": [
    "b = np.random.rand(3, 3)"
   ]
  },
  {
   "cell_type": "code",
   "execution_count": 119,
   "metadata": {},
   "outputs": [
    {
     "data": {
      "text/plain": [
       "(24, 8)"
      ]
     },
     "execution_count": 119,
     "metadata": {},
     "output_type": "execute_result"
    }
   ],
   "source": [
    "b.strides"
   ]
  },
  {
   "cell_type": "code",
   "execution_count": 118,
   "metadata": {},
   "outputs": [
    {
     "data": {
      "text/plain": [
       "(array([[0.64951111, 0.62220166, 0.99686452],\n",
       "        [0.47519219, 0.57192851, 0.70941554],\n",
       "        [0.10413732, 0.52509655, 0.35982141]]), dtype('float64'))"
      ]
     },
     "execution_count": 118,
     "metadata": {},
     "output_type": "execute_result"
    }
   ],
   "source": [
    "b, b.dtype"
   ]
  },
  {
   "cell_type": "code",
   "execution_count": 121,
   "metadata": {},
   "outputs": [
    {
     "data": {
      "text/plain": [
       "(24, 8)"
      ]
     },
     "execution_count": 121,
     "metadata": {},
     "output_type": "execute_result"
    }
   ],
   "source": [
    "b.strides"
   ]
  },
  {
   "cell_type": "code",
   "execution_count": 124,
   "metadata": {},
   "outputs": [
    {
     "data": {
      "text/plain": [
       "array([[0.64951111, 0.47519219, 0.10413732],\n",
       "       [0.62220166, 0.57192851, 0.52509655],\n",
       "       [0.99686452, 0.70941554, 0.35982141]])"
      ]
     },
     "execution_count": 124,
     "metadata": {},
     "output_type": "execute_result"
    }
   ],
   "source": [
    "b.transpose()"
   ]
  },
  {
   "cell_type": "code",
   "execution_count": 126,
   "metadata": {},
   "outputs": [
    {
     "data": {
      "text/plain": [
       "array([[0.64951111, 0.62220166, 0.99686452, 0.47519219, 0.57192851,\n",
       "        0.70941554, 0.10413732, 0.52509655, 0.35982141]])"
      ]
     },
     "execution_count": 126,
     "metadata": {},
     "output_type": "execute_result"
    }
   ],
   "source": [
    "b.reshape(1,9)"
   ]
  },
  {
   "cell_type": "code",
   "execution_count": 131,
   "metadata": {},
   "outputs": [],
   "source": [
    "c = np.ndarray((2,3))"
   ]
  },
  {
   "cell_type": "code",
   "execution_count": 137,
   "metadata": {},
   "outputs": [
    {
     "data": {
      "text/plain": [
       "(2, 3)"
      ]
     },
     "execution_count": 137,
     "metadata": {},
     "output_type": "execute_result"
    }
   ],
   "source": [
    "c.shape"
   ]
  },
  {
   "cell_type": "code",
   "execution_count": 141,
   "metadata": {},
   "outputs": [
    {
     "data": {
      "text/plain": [
       "array([[7, 7, 7, 7, 7],\n",
       "       [7, 7, 7, 7, 7],\n",
       "       [7, 7, 7, 7, 7]])"
      ]
     },
     "execution_count": 141,
     "metadata": {},
     "output_type": "execute_result"
    }
   ],
   "source": [
    "np.full((3,5),7)"
   ]
  },
  {
   "cell_type": "code",
   "execution_count": 142,
   "metadata": {},
   "outputs": [
    {
     "data": {
      "text/plain": [
       "array([[1., 0., 0.],\n",
       "       [0., 1., 0.],\n",
       "       [0., 0., 1.]])"
      ]
     },
     "execution_count": 142,
     "metadata": {},
     "output_type": "execute_result"
    }
   ],
   "source": [
    "np.eye(3)"
   ]
  },
  {
   "cell_type": "code",
   "execution_count": 147,
   "metadata": {},
   "outputs": [],
   "source": [
    "np.random.random?"
   ]
  },
  {
   "cell_type": "code",
   "execution_count": 155,
   "metadata": {},
   "outputs": [
    {
     "data": {
      "text/plain": [
       "array([[0, 0, 0],\n",
       "       [3, 0, 0],\n",
       "       [6, 7, 0]])"
      ]
     },
     "execution_count": 155,
     "metadata": {},
     "output_type": "execute_result"
    }
   ],
   "source": [
    "np.tril(np.arange(9).reshape(3,-1), -1)"
   ]
  },
  {
   "cell_type": "code",
   "execution_count": 153,
   "metadata": {},
   "outputs": [],
   "source": [
    "np.tril?"
   ]
  },
  {
   "cell_type": "code",
   "execution_count": 156,
   "metadata": {},
   "outputs": [],
   "source": [
    "np.savetxt?"
   ]
  },
  {
   "cell_type": "code",
   "execution_count": 157,
   "metadata": {},
   "outputs": [
    {
     "data": {
      "text/plain": [
       "[[0, 1, 2, 3, 4, 5],\n",
       " [10, 11, 12, 13, 14, 15],\n",
       " [20, 21, 22, 23, 24, 25],\n",
       " [30, 31, 32, 33, 34, 35],\n",
       " [40, 41, 42, 43, 44, 45],\n",
       " [50, 51, 52, 53, 54, 55]]"
      ]
     },
     "execution_count": 157,
     "metadata": {},
     "output_type": "execute_result"
    }
   ],
   "source": [
    "[[i+j for j in range(6)] for i in range(0,60,10)]"
   ]
  },
  {
   "cell_type": "code",
   "execution_count": 164,
   "metadata": {},
   "outputs": [],
   "source": [
    "x = np.array([[1,2,5],[3,4,6]])"
   ]
  },
  {
   "cell_type": "code",
   "execution_count": 168,
   "metadata": {},
   "outputs": [
    {
     "data": {
      "text/plain": [
       "array([[1, 2, 5],\n",
       "       [1, 2, 5],\n",
       "       [1, 2, 5],\n",
       "       [3, 4, 6],\n",
       "       [3, 4, 6],\n",
       "       [3, 4, 6],\n",
       "       [3, 4, 6]])"
      ]
     },
     "execution_count": 168,
     "metadata": {},
     "output_type": "execute_result"
    }
   ],
   "source": [
    "np.repeat(x, [3,4], axis=0)"
   ]
  },
  {
   "cell_type": "code",
   "execution_count": 169,
   "metadata": {},
   "outputs": [],
   "source": [
    "a = np.arange(10)"
   ]
  },
  {
   "cell_type": "code",
   "execution_count": 175,
   "metadata": {},
   "outputs": [],
   "source": [
    "b=a[::2]"
   ]
  },
  {
   "cell_type": "code",
   "execution_count": 177,
   "metadata": {},
   "outputs": [],
   "source": [
    "b1=a[5:]"
   ]
  },
  {
   "cell_type": "code",
   "execution_count": 179,
   "metadata": {},
   "outputs": [],
   "source": [
    "c=a.copy()"
   ]
  },
  {
   "cell_type": "code",
   "execution_count": 181,
   "metadata": {},
   "outputs": [
    {
     "data": {
      "text/plain": [
       "array([0, 1, 2, 3, 4, 5, 6, 7, 8, 9])"
      ]
     },
     "execution_count": 181,
     "metadata": {},
     "output_type": "execute_result"
    }
   ],
   "source": [
    "c"
   ]
  },
  {
   "cell_type": "code",
   "execution_count": 194,
   "metadata": {},
   "outputs": [
    {
     "data": {
      "text/plain": [
       "True"
      ]
     },
     "execution_count": 194,
     "metadata": {},
     "output_type": "execute_result"
    }
   ],
   "source": [
    "np.may_share_memory(a,b1)"
   ]
  },
  {
   "cell_type": "code",
   "execution_count": 195,
   "metadata": {},
   "outputs": [],
   "source": [
    "np.may_share_memory?"
   ]
  },
  {
   "cell_type": "code",
   "execution_count": 198,
   "metadata": {},
   "outputs": [
    {
     "data": {
      "text/plain": [
       "True"
      ]
     },
     "execution_count": 198,
     "metadata": {},
     "output_type": "execute_result"
    }
   ],
   "source": [
    "b1.base is a"
   ]
  },
  {
   "cell_type": "code",
   "execution_count": 197,
   "metadata": {
    "scrolled": true
   },
   "outputs": [
    {
     "data": {
      "text/plain": [
       "False"
      ]
     },
     "execution_count": 197,
     "metadata": {},
     "output_type": "execute_result"
    }
   ],
   "source": [
    "c.base is a"
   ]
  },
  {
   "cell_type": "code",
   "execution_count": 201,
   "metadata": {},
   "outputs": [],
   "source": [
    "c = a.flatten()"
   ]
  },
  {
   "cell_type": "code",
   "execution_count": 202,
   "metadata": {},
   "outputs": [
    {
     "data": {
      "text/plain": [
       "array([0, 1, 2, 3, 4, 5, 6, 7, 8, 9])"
      ]
     },
     "execution_count": 202,
     "metadata": {},
     "output_type": "execute_result"
    }
   ],
   "source": [
    "c"
   ]
  },
  {
   "cell_type": "code",
   "execution_count": 211,
   "metadata": {},
   "outputs": [
    {
     "data": {
      "text/plain": [
       "array([[0.95992033, 0.52310209, 0.65617823],\n",
       "       [0.64332776, 0.51383704, 0.43715563],\n",
       "       [0.5555748 , 0.01086255, 0.4542758 ],\n",
       "       [0.59304748, 0.46893894, 0.04148043],\n",
       "       [0.6691401 , 0.27485307, 0.26830693]])"
      ]
     },
     "execution_count": 211,
     "metadata": {},
     "output_type": "execute_result"
    }
   ],
   "source": [
    "a  = np.random.rand(5, 3)\n",
    "a"
   ]
  },
  {
   "cell_type": "code",
   "execution_count": 209,
   "metadata": {},
   "outputs": [],
   "source": [
    "c = a.flatten()"
   ]
  },
  {
   "cell_type": "code",
   "execution_count": 210,
   "metadata": {},
   "outputs": [
    {
     "data": {
      "text/plain": [
       "array([0.96325471, 0.31874008, 0.42121656, 0.47503257, 0.47207804,\n",
       "       0.93460342, 0.65140603, 0.61858218, 0.03352573, 0.84761407,\n",
       "       0.02967438, 0.72596146, 0.523989  , 0.18671868, 0.21306965])"
      ]
     },
     "execution_count": 210,
     "metadata": {},
     "output_type": "execute_result"
    }
   ],
   "source": [
    "c"
   ]
  },
  {
   "cell_type": "code",
   "execution_count": 214,
   "metadata": {},
   "outputs": [
    {
     "ename": "SyntaxError",
     "evalue": "invalid syntax (<ipython-input-214-075fbb1806a5>, line 1)",
     "output_type": "error",
     "traceback": [
      "\u001b[1;36m  File \u001b[1;32m\"<ipython-input-214-075fbb1806a5>\"\u001b[1;36m, line \u001b[1;32m1\u001b[0m\n\u001b[1;33m    flatten()?\u001b[0m\n\u001b[1;37m             ^\u001b[0m\n\u001b[1;31mSyntaxError\u001b[0m\u001b[1;31m:\u001b[0m invalid syntax\n"
     ]
    }
   ],
   "source": [
    "flatten?"
   ]
  },
  {
   "cell_type": "code",
   "execution_count": 215,
   "metadata": {},
   "outputs": [],
   "source": [
    "a = np.random.rand(10, 9, 7)"
   ]
  },
  {
   "cell_type": "code",
   "execution_count": 216,
   "metadata": {},
   "outputs": [
    {
     "data": {
      "text/plain": [
       "array([[[3.18882686e-03, 2.35636397e-01, 9.46800983e-01, 6.68828010e-01,\n",
       "         8.20105289e-01, 2.85738367e-01, 7.38728583e-01],\n",
       "        [5.92621448e-02, 9.39365485e-01, 4.06126664e-01, 4.85696350e-01,\n",
       "         1.63135603e-01, 7.75456209e-01, 2.77878208e-01],\n",
       "        [5.67697137e-01, 1.06212186e-01, 5.38871263e-01, 6.63500501e-01,\n",
       "         4.58328870e-01, 4.77093502e-01, 5.79331148e-01],\n",
       "        [8.74701815e-01, 7.98866264e-01, 9.70824473e-01, 2.85852851e-01,\n",
       "         8.33767455e-01, 3.99771147e-01, 5.92117975e-01],\n",
       "        [3.81941286e-01, 3.80006193e-01, 8.49104706e-01, 2.90059676e-01,\n",
       "         8.30968085e-01, 7.49359947e-01, 5.94364773e-01],\n",
       "        [9.76620328e-01, 3.63337338e-01, 8.04803749e-01, 5.12498942e-01,\n",
       "         8.13445864e-01, 2.09816217e-01, 6.54609215e-01],\n",
       "        [9.49729704e-01, 4.98086914e-01, 4.75764860e-01, 9.36643445e-01,\n",
       "         7.17651178e-01, 9.31357342e-02, 8.05631789e-01],\n",
       "        [1.57186867e-02, 8.28725399e-01, 8.62434582e-01, 9.35814762e-01,\n",
       "         9.63647588e-02, 5.77376485e-01, 5.59387942e-01],\n",
       "        [3.24787642e-01, 3.84380738e-01, 1.44810886e-01, 6.85063134e-01,\n",
       "         9.26299944e-01, 2.09648399e-01, 6.04878663e-02]],\n",
       "\n",
       "       [[6.94861700e-01, 7.01383846e-02, 7.24818217e-01, 2.62947000e-01,\n",
       "         7.47994140e-01, 6.71037310e-01, 4.52327777e-01],\n",
       "        [8.22861083e-01, 5.86893737e-01, 6.16655804e-01, 6.29918741e-01,\n",
       "         3.31023819e-01, 6.52038363e-01, 4.43676279e-01],\n",
       "        [8.18135321e-01, 9.17349401e-01, 1.32604069e-01, 9.44925387e-01,\n",
       "         9.17836203e-02, 1.14585532e-01, 4.38983935e-01],\n",
       "        [3.51148709e-01, 1.63668653e-01, 3.50726352e-01, 9.62905145e-01,\n",
       "         9.55502225e-01, 3.27473824e-02, 9.76850040e-02],\n",
       "        [1.12373973e-01, 1.41142184e-01, 4.63035944e-01, 8.40225401e-01,\n",
       "         2.26652455e-01, 8.63257298e-01, 8.83582103e-01],\n",
       "        [5.05752408e-01, 7.68677241e-01, 2.54692872e-01, 4.24451781e-01,\n",
       "         4.69480797e-01, 9.29812708e-01, 8.17970562e-01],\n",
       "        [8.97489803e-01, 4.66361115e-01, 3.70413874e-01, 9.71431728e-01,\n",
       "         1.87054250e-01, 7.19185196e-01, 7.09113504e-01],\n",
       "        [7.44755920e-01, 8.50368461e-01, 2.82502068e-01, 4.77355949e-01,\n",
       "         4.75178117e-01, 8.64258060e-01, 3.63968811e-01],\n",
       "        [3.82602927e-01, 4.84421431e-01, 6.41860196e-01, 9.38693150e-01,\n",
       "         8.84748325e-01, 1.06806223e-01, 4.80085149e-01]],\n",
       "\n",
       "       [[8.55122695e-01, 5.71555318e-01, 7.02352386e-01, 4.46074308e-01,\n",
       "         7.21696235e-01, 9.87318372e-01, 7.78819987e-01],\n",
       "        [7.97341534e-01, 9.30812338e-01, 6.75739215e-01, 7.46401948e-01,\n",
       "         6.44098965e-01, 3.64506127e-01, 9.09788312e-01],\n",
       "        [2.31246880e-01, 9.57639712e-01, 3.03210280e-01, 2.85847895e-01,\n",
       "         8.22821139e-01, 5.79455370e-01, 9.96123313e-01],\n",
       "        [1.22994583e-01, 3.36977352e-02, 8.30757624e-02, 5.25677107e-02,\n",
       "         8.03417536e-01, 1.12873996e-01, 5.26750150e-01],\n",
       "        [9.00400204e-01, 1.48465972e-01, 1.59198419e-01, 5.62301213e-01,\n",
       "         5.96726661e-01, 7.71494692e-01, 4.90143485e-01],\n",
       "        [5.79063540e-01, 2.98784872e-01, 6.85677911e-01, 6.87956379e-01,\n",
       "         7.97853268e-01, 6.00668742e-01, 8.49848445e-01],\n",
       "        [6.85173101e-01, 5.41059027e-01, 6.73344896e-01, 8.34898281e-02,\n",
       "         7.53049859e-01, 2.37557399e-01, 1.16295897e-01],\n",
       "        [8.99136060e-01, 2.25350760e-01, 5.55963309e-02, 9.52923391e-01,\n",
       "         7.23364119e-01, 5.50202012e-03, 1.06723810e-01],\n",
       "        [2.55852136e-01, 4.47918993e-01, 2.63909378e-01, 1.15239207e-02,\n",
       "         1.46741144e-01, 2.68064532e-01, 8.85520920e-01]],\n",
       "\n",
       "       [[4.68513152e-01, 9.07064291e-01, 2.84728868e-02, 3.95650033e-01,\n",
       "         3.21351143e-01, 5.59119809e-01, 3.39818370e-01],\n",
       "        [6.64415623e-02, 9.18628528e-01, 6.55038246e-01, 7.75765395e-01,\n",
       "         3.30553722e-01, 6.34342386e-01, 7.00119473e-01],\n",
       "        [3.59066002e-01, 9.14923789e-02, 9.12979566e-01, 7.89423379e-01,\n",
       "         4.65716373e-01, 6.55867116e-01, 3.49731533e-01],\n",
       "        [2.06954667e-01, 1.92826160e-01, 9.10919535e-01, 4.70862899e-01,\n",
       "         3.06454742e-01, 5.78043647e-01, 6.85976651e-01],\n",
       "        [5.77450444e-01, 5.31642373e-01, 8.62252316e-01, 6.87216115e-01,\n",
       "         7.31233717e-01, 6.03391134e-01, 5.54437002e-01],\n",
       "        [6.34777656e-01, 3.15607846e-01, 5.51521334e-01, 2.98224946e-01,\n",
       "         8.53256272e-01, 1.82371283e-02, 3.89921788e-01],\n",
       "        [1.69119815e-02, 1.14653808e-01, 9.27029107e-01, 6.31854165e-01,\n",
       "         8.97574340e-01, 2.26150499e-01, 8.31466295e-01],\n",
       "        [7.89867667e-01, 8.41387702e-01, 3.34565829e-02, 4.48188383e-01,\n",
       "         4.39481058e-01, 7.33758391e-01, 6.95089715e-01],\n",
       "        [4.29790606e-01, 1.31287423e-01, 6.81729413e-01, 3.71366665e-01,\n",
       "         9.23320935e-01, 4.54452325e-01, 3.20554188e-01]],\n",
       "\n",
       "       [[8.59075942e-01, 3.93434270e-01, 3.05398911e-01, 8.56924801e-01,\n",
       "         4.35918577e-01, 5.00355677e-01, 5.77995973e-01],\n",
       "        [6.21194082e-01, 3.55155860e-01, 9.13165059e-01, 6.40609167e-02,\n",
       "         1.00058694e-01, 4.90146444e-01, 1.68530976e-01],\n",
       "        [7.35132082e-01, 6.81608870e-01, 5.23528875e-01, 7.57592176e-02,\n",
       "         3.43846470e-01, 9.59952620e-01, 1.23710134e-01],\n",
       "        [9.35719269e-01, 6.00070743e-01, 4.22586966e-01, 4.58019263e-01,\n",
       "         8.21563648e-01, 5.39418479e-01, 3.15441034e-01],\n",
       "        [9.35525577e-01, 1.88011956e-01, 1.66327767e-01, 5.30986748e-01,\n",
       "         9.15836687e-01, 9.51827077e-01, 9.03005676e-01],\n",
       "        [9.30615331e-01, 8.75501586e-01, 6.06519895e-01, 6.53704299e-01,\n",
       "         1.14320057e-01, 6.59592251e-01, 8.39493058e-01],\n",
       "        [5.70201751e-01, 4.23863861e-01, 1.79743255e-01, 5.89617371e-01,\n",
       "         9.84326520e-01, 6.56955575e-01, 7.01342623e-01],\n",
       "        [7.85895425e-01, 8.03057809e-02, 7.34140444e-01, 9.08788350e-01,\n",
       "         1.44286414e-01, 2.06798038e-02, 3.10109785e-01],\n",
       "        [6.37490371e-01, 1.92752118e-01, 2.92312787e-02, 5.92475110e-01,\n",
       "         8.31566240e-01, 7.43696008e-01, 8.01274948e-01]],\n",
       "\n",
       "       [[5.19300204e-02, 3.61444201e-01, 3.35925624e-01, 1.34184103e-01,\n",
       "         1.04456125e-01, 3.11108780e-01, 7.65721835e-01],\n",
       "        [6.45532224e-01, 2.71403322e-01, 2.06363700e-01, 7.00379521e-01,\n",
       "         8.89618075e-01, 9.33858600e-02, 2.48993356e-03],\n",
       "        [1.94666184e-01, 8.31395306e-01, 7.70143682e-02, 2.20964586e-01,\n",
       "         8.64547406e-01, 7.63524756e-01, 7.83967542e-01],\n",
       "        [4.03731382e-01, 7.02109227e-01, 6.36256461e-01, 1.45334652e-01,\n",
       "         2.07946214e-01, 1.68479607e-01, 2.05417361e-01],\n",
       "        [4.27887761e-01, 7.22742330e-01, 3.39060668e-01, 5.88793877e-01,\n",
       "         4.17644542e-01, 9.85130174e-01, 6.60746592e-01],\n",
       "        [6.09596640e-01, 1.10453842e-01, 4.55311588e-01, 8.50289681e-01,\n",
       "         6.03563842e-02, 8.69733852e-01, 1.47028628e-02],\n",
       "        [3.03852496e-01, 3.82967004e-01, 6.22707146e-01, 1.07310962e-01,\n",
       "         4.65092303e-01, 7.75952000e-01, 7.56138343e-01],\n",
       "        [5.22362191e-01, 7.52914399e-01, 9.08196340e-01, 1.34364125e-01,\n",
       "         3.15343055e-01, 5.98162265e-03, 7.94684262e-01],\n",
       "        [8.61515610e-01, 6.83667812e-01, 4.03935399e-01, 5.86534603e-01,\n",
       "         1.60148340e-01, 6.02613505e-01, 9.66896831e-01]],\n",
       "\n",
       "       [[3.08680784e-01, 7.66571435e-01, 2.36251952e-01, 3.47669819e-01,\n",
       "         2.19370782e-01, 9.63770880e-01, 4.78801364e-01],\n",
       "        [8.98282184e-01, 5.87987193e-02, 3.31917469e-01, 4.01532219e-01,\n",
       "         4.65898918e-01, 8.60789490e-01, 7.91059010e-01],\n",
       "        [5.44485604e-03, 7.73240386e-01, 6.79066584e-01, 8.44652988e-01,\n",
       "         7.98789581e-01, 6.96454502e-02, 3.30682623e-01],\n",
       "        [6.56140762e-01, 7.21220536e-01, 5.62544275e-01, 3.06568415e-01,\n",
       "         9.13113598e-01, 6.23783827e-01, 9.73031793e-01],\n",
       "        [1.05399071e-01, 4.99873191e-02, 6.07968508e-01, 8.35803030e-01,\n",
       "         1.67409718e-01, 8.60927021e-01, 9.29275543e-01],\n",
       "        [4.98405276e-01, 4.25703381e-01, 5.58635434e-01, 8.10805901e-01,\n",
       "         6.14551004e-01, 6.85607685e-01, 8.80523644e-01],\n",
       "        [5.73174517e-01, 5.37064051e-05, 4.62183013e-02, 8.49682354e-01,\n",
       "         7.39413016e-01, 7.15615034e-02, 1.75935466e-01],\n",
       "        [3.50379886e-01, 5.37563554e-01, 6.64831590e-01, 4.85024827e-01,\n",
       "         3.04961731e-01, 6.39762720e-01, 9.46861913e-01],\n",
       "        [8.40619569e-01, 3.24807231e-01, 4.43669644e-01, 2.59862773e-01,\n",
       "         4.68046947e-01, 7.00204386e-01, 5.64244220e-02]],\n",
       "\n",
       "       [[5.69058033e-01, 5.75410363e-01, 4.91801230e-01, 1.60435282e-01,\n",
       "         1.19995751e-01, 6.14554162e-01, 6.16739862e-01],\n",
       "        [7.51046663e-01, 9.88472273e-01, 3.83305638e-01, 6.61079339e-01,\n",
       "         7.23376719e-01, 5.24761077e-01, 1.80289237e-02],\n",
       "        [6.06402702e-01, 7.34051616e-01, 5.91456968e-01, 5.42268307e-01,\n",
       "         2.07148354e-01, 1.36692164e-01, 5.14409277e-01],\n",
       "        [1.32494529e-01, 6.62236544e-01, 8.93326777e-01, 6.43005147e-01,\n",
       "         5.07148699e-01, 7.39103529e-01, 3.36031044e-01],\n",
       "        [4.49693862e-01, 4.42736262e-01, 8.54404703e-01, 6.99502334e-01,\n",
       "         9.74230340e-01, 6.49125188e-01, 5.72592662e-01],\n",
       "        [3.49131599e-01, 3.91654170e-01, 7.88474158e-01, 8.46513497e-01,\n",
       "         2.02416585e-01, 3.81429563e-01, 9.40493227e-01],\n",
       "        [9.85797149e-01, 6.40612681e-01, 6.98452160e-01, 5.55104248e-01,\n",
       "         2.55773858e-01, 1.62950177e-01, 8.94418130e-01],\n",
       "        [8.52325487e-02, 9.83419044e-01, 4.28682112e-01, 9.83600107e-01,\n",
       "         6.84034695e-01, 6.75705904e-01, 3.58927001e-01],\n",
       "        [1.30550233e-01, 2.12309648e-01, 7.03490075e-02, 8.16878726e-01,\n",
       "         8.66339324e-01, 9.26274776e-01, 9.90798286e-02]],\n",
       "\n",
       "       [[5.56526694e-01, 4.66613683e-01, 9.00183360e-01, 7.77277019e-01,\n",
       "         3.64474907e-01, 3.19879498e-01, 5.88685984e-02],\n",
       "        [5.97552268e-01, 8.15478652e-01, 6.15956156e-01, 7.73491487e-01,\n",
       "         3.44682017e-01, 6.12173111e-01, 7.18224338e-01],\n",
       "        [9.22373929e-01, 4.92738137e-01, 5.29543783e-01, 6.35464770e-01,\n",
       "         8.83574725e-01, 2.69524424e-01, 3.70616592e-01],\n",
       "        [8.52550338e-01, 1.55850490e-01, 1.54318180e-01, 8.48389486e-01,\n",
       "         8.49073395e-01, 9.81531448e-01, 5.31370815e-02],\n",
       "        [8.97680934e-01, 4.46007232e-01, 6.61435361e-01, 9.10818520e-01,\n",
       "         9.46389918e-01, 6.21599203e-01, 9.57405557e-01],\n",
       "        [8.87747524e-01, 9.89835816e-01, 5.24500118e-02, 9.11271463e-02,\n",
       "         8.48885705e-01, 5.54093427e-01, 5.78788192e-01],\n",
       "        [7.65671972e-01, 3.66621468e-01, 8.63586846e-01, 6.54083726e-01,\n",
       "         3.94184188e-01, 4.49162319e-01, 2.61737085e-01],\n",
       "        [8.14844531e-01, 8.44734004e-01, 2.45438548e-01, 6.40077670e-01,\n",
       "         1.80244940e-01, 1.25971816e-01, 9.18453053e-02],\n",
       "        [9.34429578e-01, 1.22294471e-01, 9.57327947e-02, 7.16190688e-01,\n",
       "         5.93775131e-01, 3.46420150e-01, 6.36816841e-01]],\n",
       "\n",
       "       [[4.64341128e-01, 7.20754412e-01, 4.50798527e-01, 1.89390956e-01,\n",
       "         2.13874616e-01, 2.60128248e-01, 9.06472505e-01],\n",
       "        [2.53570542e-01, 8.27694673e-01, 6.96823531e-01, 5.19658123e-01,\n",
       "         6.14359864e-01, 7.44633928e-01, 3.93199882e-01],\n",
       "        [9.18290890e-01, 3.69105203e-01, 7.82870044e-01, 3.65965901e-01,\n",
       "         6.28774354e-02, 5.43485398e-01, 3.75211147e-01],\n",
       "        [7.75386081e-01, 9.90080657e-02, 6.31999225e-01, 4.20008660e-02,\n",
       "         7.06701652e-01, 1.70534091e-01, 5.20712151e-01],\n",
       "        [7.74064277e-01, 6.19783051e-01, 3.56121598e-01, 7.03710132e-01,\n",
       "         1.86924567e-01, 2.31377309e-01, 1.55511774e-01],\n",
       "        [4.92555672e-01, 3.07765332e-01, 6.74052780e-01, 3.52648312e-01,\n",
       "         1.07882640e-02, 2.59261997e-01, 9.15505188e-01],\n",
       "        [8.49256507e-01, 7.71674905e-01, 1.40008944e-01, 5.05637070e-01,\n",
       "         9.41967919e-01, 1.59905407e-01, 7.11971632e-01],\n",
       "        [6.00689785e-01, 4.49461803e-01, 6.98951865e-01, 2.70847635e-02,\n",
       "         2.74563572e-01, 7.04726222e-01, 4.45993780e-01],\n",
       "        [1.25490716e-01, 4.92068806e-01, 2.06423341e-01, 6.22436532e-01,\n",
       "         2.04457331e-01, 7.77580026e-01, 3.78297708e-01]]])"
      ]
     },
     "execution_count": 216,
     "metadata": {},
     "output_type": "execute_result"
    }
   ],
   "source": [
    "a"
   ]
  },
  {
   "cell_type": "code",
   "execution_count": 223,
   "metadata": {},
   "outputs": [],
   "source": [
    "a = np.random.rand(10)"
   ]
  },
  {
   "cell_type": "code",
   "execution_count": 224,
   "metadata": {},
   "outputs": [
    {
     "data": {
      "text/plain": [
       "array([0.39837026, 0.30821851, 0.608576  , 0.98448765, 0.43816189,\n",
       "       0.73893848, 0.18516939, 0.73326884, 0.71617969, 0.46119525])"
      ]
     },
     "execution_count": 224,
     "metadata": {},
     "output_type": "execute_result"
    }
   ],
   "source": [
    "a"
   ]
  },
  {
   "cell_type": "code",
   "execution_count": 230,
   "metadata": {},
   "outputs": [
    {
     "data": {
      "text/plain": [
       "array([0.608576  , 0.98448765, 0.73893848, 0.73326884, 0.71617969])"
      ]
     },
     "execution_count": 230,
     "metadata": {},
     "output_type": "execute_result"
    }
   ],
   "source": [
    "a[a>0.5]"
   ]
  },
  {
   "cell_type": "code",
   "execution_count": 231,
   "metadata": {},
   "outputs": [
    {
     "data": {
      "text/plain": [
       "(array([2, 3, 5, 7, 8], dtype=int32),)"
      ]
     },
     "execution_count": 231,
     "metadata": {},
     "output_type": "execute_result"
    }
   ],
   "source": [
    "np.where(a>0.5)"
   ]
  },
  {
   "cell_type": "code",
   "execution_count": 232,
   "metadata": {},
   "outputs": [
    {
     "data": {
      "text/plain": [
       "array([0.39837026, 0.30821851, 0.608576  , 0.98448765, 0.43816189,\n",
       "       0.73893848, 0.73326884, 0.71617969, 0.46119525])"
      ]
     },
     "execution_count": 232,
     "metadata": {},
     "output_type": "execute_result"
    }
   ],
   "source": [
    "a[np.sin(a)>0.2]"
   ]
  },
  {
   "cell_type": "code",
   "execution_count": 237,
   "metadata": {},
   "outputs": [
    {
     "data": {
      "text/plain": [
       "array([0.        , 0.        , 0.        , 1.96897529, 0.        ,\n",
       "       0.        , 0.18516939, 0.        , 0.        , 0.        ])"
      ]
     },
     "execution_count": 237,
     "metadata": {},
     "output_type": "execute_result"
    }
   ],
   "source": [
    "np.select((a<0.3,a>0.8), (a, a*2))"
   ]
  },
  {
   "cell_type": "code",
   "execution_count": 235,
   "metadata": {},
   "outputs": [
    {
     "data": {
      "text/plain": [
       "array([0.39837026, 0.30821851, 0.608576  , 0.98448765, 0.43816189,\n",
       "       0.73893848, 0.18516939, 0.73326884, 0.71617969, 0.46119525])"
      ]
     },
     "execution_count": 235,
     "metadata": {},
     "output_type": "execute_result"
    }
   ],
   "source": [
    "a"
   ]
  },
  {
   "cell_type": "code",
   "execution_count": 245,
   "metadata": {},
   "outputs": [
    {
     "data": {
      "text/plain": [
       "array([[0.42581857, 0.        , 0.        ],\n",
       "       [0.48178625, 0.29548845, 0.        ],\n",
       "       [0.44503701, 0.25088665, 0.24714699]])"
      ]
     },
     "execution_count": 245,
     "metadata": {},
     "output_type": "execute_result"
    }
   ],
   "source": [
    "np.tril(np.random.random((3,3)))"
   ]
  },
  {
   "cell_type": "code",
   "execution_count": 244,
   "metadata": {},
   "outputs": [
    {
     "data": {
      "text/plain": [
       "array([[0.74861983, 0.80566896, 0.25112146],\n",
       "       [0.0817347 , 0.24395081, 0.12691199],\n",
       "       [0.48586112, 0.87695124, 0.67615923]])"
      ]
     },
     "execution_count": 244,
     "metadata": {},
     "output_type": "execute_result"
    }
   ],
   "source": [
    "np.random.random((3,3))"
   ]
  },
  {
   "cell_type": "code",
   "execution_count": 247,
   "metadata": {},
   "outputs": [
    {
     "data": {
      "text/plain": [
       "array([ 0, 10, 20, 30])"
      ]
     },
     "execution_count": 247,
     "metadata": {},
     "output_type": "execute_result"
    }
   ],
   "source": [
    "np.arange(0,40,10)"
   ]
  },
  {
   "cell_type": "code",
   "execution_count": 249,
   "metadata": {},
   "outputs": [],
   "source": [
    "np.repeat?"
   ]
  },
  {
   "cell_type": "code",
   "execution_count": 252,
   "metadata": {},
   "outputs": [],
   "source": [
    "a = np.tile(np.arange(0, 40, 10), (3, 1)).T"
   ]
  },
  {
   "cell_type": "code",
   "execution_count": 253,
   "metadata": {},
   "outputs": [],
   "source": [
    "b = np.array([0, 1, 2])"
   ]
  },
  {
   "cell_type": "code",
   "execution_count": 255,
   "metadata": {},
   "outputs": [],
   "source": [
    "c = np.empty_like(a)"
   ]
  },
  {
   "cell_type": "code",
   "execution_count": 258,
   "metadata": {},
   "outputs": [],
   "source": [
    "np.empty?"
   ]
  },
  {
   "cell_type": "code",
   "execution_count": 263,
   "metadata": {},
   "outputs": [
    {
     "data": {
      "text/plain": [
       "3"
      ]
     },
     "execution_count": 263,
     "metadata": {},
     "output_type": "execute_result"
    }
   ],
   "source": [
    "a.shape[1]"
   ]
  },
  {
   "cell_type": "code",
   "execution_count": null,
   "metadata": {},
   "outputs": [],
   "source": []
  }
 ],
 "metadata": {
  "kernelspec": {
   "display_name": "Python 3",
   "language": "python",
   "name": "python3"
  },
  "language_info": {
   "codemirror_mode": {
    "name": "ipython",
    "version": 3
   },
   "file_extension": ".py",
   "mimetype": "text/x-python",
   "name": "python",
   "nbconvert_exporter": "python",
   "pygments_lexer": "ipython3",
   "version": "3.7.1"
  }
 },
 "nbformat": 4,
 "nbformat_minor": 2
}
